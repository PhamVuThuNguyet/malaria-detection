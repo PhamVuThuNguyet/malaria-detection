{
 "cells": [
  {
   "cell_type": "markdown",
   "id": "9f71a0bf",
   "metadata": {},
   "source": [
    "# Import packages"
   ]
  },
  {
   "cell_type": "code",
   "execution_count": 14,
   "id": "3a40fc29",
   "metadata": {},
   "outputs": [],
   "source": [
    "import os\n",
    "import shutil\n",
    "from tqdm import tqdm\n",
    "\n",
    "import math\n",
    "\n",
    "import pandas as pd\n",
    "import numpy as np\n",
    "\n",
    "from sklearn.preprocessing import LabelEncoder\n",
    "\n",
    "import matplotlib.pyplot as plt\n",
    "from matplotlib import patches as patches\n",
    "import seaborn as sns\n",
    "import cv2\n",
    "from PIL import Image\n",
    "\n",
    "%matplotlib inline"
   ]
  },
  {
   "cell_type": "markdown",
   "id": "62676eeb",
   "metadata": {},
   "source": [
    "# Load data"
   ]
  },
  {
   "cell_type": "code",
   "execution_count": 15,
   "id": "848c84ae",
   "metadata": {},
   "outputs": [],
   "source": [
    "# extract bounding box information into separate col\n",
    "\n",
    "def extract_nested_list(it):\n",
    "    if isinstance(it, list):\n",
    "        for sub_it in it:\n",
    "            yield from extract_nested_list(sub_it)\n",
    "    elif isinstance(it, dict):\n",
    "        for value in it.values():\n",
    "            yield from extract_nested_list(value)\n",
    "    else:\n",
    "        yield it"
   ]
  },
  {
   "cell_type": "code",
   "execution_count": 16,
   "id": "fd34f1bd",
   "metadata": {},
   "outputs": [
    {
     "name": "stdout",
     "output_type": "stream",
     "text": [
      "(1208, 2) (120, 2)\n"
     ]
    }
   ],
   "source": [
    "# Load json files\n",
    "\n",
    "train_df = pd.read_json(\"../data/malaria_bbbc_80k/malaria/training.json\")\n",
    "test_df = pd.read_json(\"../data/malaria_bbbc_80k/malaria/test.json\")\n",
    "print(train_df.shape, test_df.shape)"
   ]
  },
  {
   "cell_type": "code",
   "execution_count": 17,
   "id": "0fe7e6b3",
   "metadata": {},
   "outputs": [
    {
     "data": {
      "text/html": [
       "<div>\n",
       "<style scoped>\n",
       "    .dataframe tbody tr th:only-of-type {\n",
       "        vertical-align: middle;\n",
       "    }\n",
       "\n",
       "    .dataframe tbody tr th {\n",
       "        vertical-align: top;\n",
       "    }\n",
       "\n",
       "    .dataframe thead th {\n",
       "        text-align: right;\n",
       "    }\n",
       "</style>\n",
       "<table border=\"1\" class=\"dataframe\">\n",
       "  <thead>\n",
       "    <tr style=\"text-align: right;\">\n",
       "      <th></th>\n",
       "      <th>image</th>\n",
       "      <th>objects</th>\n",
       "    </tr>\n",
       "  </thead>\n",
       "  <tbody>\n",
       "    <tr>\n",
       "      <th>0</th>\n",
       "      <td>{'checksum': 'eea3bfd6a929bcb06f9786667cd3fbb2...</td>\n",
       "      <td>[{'bounding_box': {'minimum': {'r': 576, 'c': ...</td>\n",
       "    </tr>\n",
       "    <tr>\n",
       "      <th>1</th>\n",
       "      <td>{'checksum': '2d85fc8ffdb875bb569878243437e4f5...</td>\n",
       "      <td>[{'bounding_box': {'minimum': {'r': 1048, 'c':...</td>\n",
       "    </tr>\n",
       "    <tr>\n",
       "      <th>2</th>\n",
       "      <td>{'checksum': 'f7c02b6247f3ccfcd4a22c1f06e0c72c...</td>\n",
       "      <td>[{'bounding_box': {'minimum': {'r': 979, 'c': ...</td>\n",
       "    </tr>\n",
       "    <tr>\n",
       "      <th>3</th>\n",
       "      <td>{'checksum': '50634ef166ae993b4562b96f315ff6db...</td>\n",
       "      <td>[{'bounding_box': {'minimum': {'r': 402, 'c': ...</td>\n",
       "    </tr>\n",
       "    <tr>\n",
       "      <th>4</th>\n",
       "      <td>{'checksum': '74dd777a74e5a4b24aaee574a99e1459...</td>\n",
       "      <td>[{'bounding_box': {'minimum': {'r': 314, 'c': ...</td>\n",
       "    </tr>\n",
       "  </tbody>\n",
       "</table>\n",
       "</div>"
      ],
      "text/plain": [
       "                                               image  \\\n",
       "0  {'checksum': 'eea3bfd6a929bcb06f9786667cd3fbb2...   \n",
       "1  {'checksum': '2d85fc8ffdb875bb569878243437e4f5...   \n",
       "2  {'checksum': 'f7c02b6247f3ccfcd4a22c1f06e0c72c...   \n",
       "3  {'checksum': '50634ef166ae993b4562b96f315ff6db...   \n",
       "4  {'checksum': '74dd777a74e5a4b24aaee574a99e1459...   \n",
       "\n",
       "                                             objects  \n",
       "0  [{'bounding_box': {'minimum': {'r': 576, 'c': ...  \n",
       "1  [{'bounding_box': {'minimum': {'r': 1048, 'c':...  \n",
       "2  [{'bounding_box': {'minimum': {'r': 979, 'c': ...  \n",
       "3  [{'bounding_box': {'minimum': {'r': 402, 'c': ...  \n",
       "4  [{'bounding_box': {'minimum': {'r': 314, 'c': ...  "
      ]
     },
     "execution_count": 17,
     "metadata": {},
     "output_type": "execute_result"
    }
   ],
   "source": [
    "test_df.head()"
   ]
  },
  {
   "cell_type": "code",
   "execution_count": 18,
   "id": "4ccf513b",
   "metadata": {},
   "outputs": [
    {
     "data": {
      "text/html": [
       "<div>\n",
       "<style scoped>\n",
       "    .dataframe tbody tr th:only-of-type {\n",
       "        vertical-align: middle;\n",
       "    }\n",
       "\n",
       "    .dataframe tbody tr th {\n",
       "        vertical-align: top;\n",
       "    }\n",
       "\n",
       "    .dataframe thead th {\n",
       "        text-align: right;\n",
       "    }\n",
       "</style>\n",
       "<table border=\"1\" class=\"dataframe\">\n",
       "  <thead>\n",
       "    <tr style=\"text-align: right;\">\n",
       "      <th></th>\n",
       "      <th>image</th>\n",
       "      <th>objects</th>\n",
       "      <th>checksum</th>\n",
       "      <th>pathname</th>\n",
       "      <th>shape</th>\n",
       "    </tr>\n",
       "  </thead>\n",
       "  <tbody>\n",
       "    <tr>\n",
       "      <th>0</th>\n",
       "      <td>{'checksum': '676bb8e86fc2dbf05dd97d51a64ac0af...</td>\n",
       "      <td>[{'bounding_box': {'minimum': {'r': 1057, 'c':...</td>\n",
       "      <td>676bb8e86fc2dbf05dd97d51a64ac0af</td>\n",
       "      <td>images/8d02117d-6c71-4e47-b50a-6cc8d5eb1d55.png</td>\n",
       "      <td>{'r': 1200, 'c': 1600, 'channels': 3}</td>\n",
       "    </tr>\n",
       "    <tr>\n",
       "      <th>1</th>\n",
       "      <td>{'checksum': '1225a18efce159eddf7b0e80e0ea642c...</td>\n",
       "      <td>[{'bounding_box': {'minimum': {'r': 734, 'c': ...</td>\n",
       "      <td>1225a18efce159eddf7b0e80e0ea642c</td>\n",
       "      <td>images/10be6380-cbbb-4886-8b9e-ff56b1710576.png</td>\n",
       "      <td>{'r': 1200, 'c': 1600, 'channels': 3}</td>\n",
       "    </tr>\n",
       "    <tr>\n",
       "      <th>2</th>\n",
       "      <td>{'checksum': '3eaf840523c30fdf38897ffa01e194eb...</td>\n",
       "      <td>[{'bounding_box': {'minimum': {'r': 724, 'c': ...</td>\n",
       "      <td>3eaf840523c30fdf38897ffa01e194eb</td>\n",
       "      <td>images/6b14c855-8561-417c-97a4-63fa552842fd.png</td>\n",
       "      <td>{'r': 1200, 'c': 1600, 'channels': 3}</td>\n",
       "    </tr>\n",
       "    <tr>\n",
       "      <th>3</th>\n",
       "      <td>{'checksum': '8a111dffacfa433029492780b9535091...</td>\n",
       "      <td>[{'bounding_box': {'minimum': {'r': 563, 'c': ...</td>\n",
       "      <td>8a111dffacfa433029492780b9535091</td>\n",
       "      <td>images/13099edb-35d9-438f-b093-2cf2ebf9d255.png</td>\n",
       "      <td>{'r': 1200, 'c': 1600, 'channels': 3}</td>\n",
       "    </tr>\n",
       "    <tr>\n",
       "      <th>4</th>\n",
       "      <td>{'checksum': 'ccef403e971460b86444cca669e68ca1...</td>\n",
       "      <td>[{'bounding_box': {'minimum': {'r': 618, 'c': ...</td>\n",
       "      <td>ccef403e971460b86444cca669e68ca1</td>\n",
       "      <td>images/2559636b-f01a-4414-93da-210c3b12d153.png</td>\n",
       "      <td>{'r': 1200, 'c': 1600, 'channels': 3}</td>\n",
       "    </tr>\n",
       "  </tbody>\n",
       "</table>\n",
       "</div>"
      ],
      "text/plain": [
       "                                               image  \\\n",
       "0  {'checksum': '676bb8e86fc2dbf05dd97d51a64ac0af...   \n",
       "1  {'checksum': '1225a18efce159eddf7b0e80e0ea642c...   \n",
       "2  {'checksum': '3eaf840523c30fdf38897ffa01e194eb...   \n",
       "3  {'checksum': '8a111dffacfa433029492780b9535091...   \n",
       "4  {'checksum': 'ccef403e971460b86444cca669e68ca1...   \n",
       "\n",
       "                                             objects  \\\n",
       "0  [{'bounding_box': {'minimum': {'r': 1057, 'c':...   \n",
       "1  [{'bounding_box': {'minimum': {'r': 734, 'c': ...   \n",
       "2  [{'bounding_box': {'minimum': {'r': 724, 'c': ...   \n",
       "3  [{'bounding_box': {'minimum': {'r': 563, 'c': ...   \n",
       "4  [{'bounding_box': {'minimum': {'r': 618, 'c': ...   \n",
       "\n",
       "                           checksum  \\\n",
       "0  676bb8e86fc2dbf05dd97d51a64ac0af   \n",
       "1  1225a18efce159eddf7b0e80e0ea642c   \n",
       "2  3eaf840523c30fdf38897ffa01e194eb   \n",
       "3  8a111dffacfa433029492780b9535091   \n",
       "4  ccef403e971460b86444cca669e68ca1   \n",
       "\n",
       "                                          pathname  \\\n",
       "0  images/8d02117d-6c71-4e47-b50a-6cc8d5eb1d55.png   \n",
       "1  images/10be6380-cbbb-4886-8b9e-ff56b1710576.png   \n",
       "2  images/6b14c855-8561-417c-97a4-63fa552842fd.png   \n",
       "3  images/13099edb-35d9-438f-b093-2cf2ebf9d255.png   \n",
       "4  images/2559636b-f01a-4414-93da-210c3b12d153.png   \n",
       "\n",
       "                                   shape  \n",
       "0  {'r': 1200, 'c': 1600, 'channels': 3}  \n",
       "1  {'r': 1200, 'c': 1600, 'channels': 3}  \n",
       "2  {'r': 1200, 'c': 1600, 'channels': 3}  \n",
       "3  {'r': 1200, 'c': 1600, 'channels': 3}  \n",
       "4  {'r': 1200, 'c': 1600, 'channels': 3}  "
      ]
     },
     "execution_count": 18,
     "metadata": {},
     "output_type": "execute_result"
    }
   ],
   "source": [
    "# Create new cols for attributes\n",
    "\n",
    "train_df[\"checksum\"] = train_df['image'].apply(lambda x: x[\"checksum\"])\n",
    "train_df[\"pathname\"] = train_df['image'].apply(lambda x: x[\"pathname\"][1:])\n",
    "train_df[\"shape\"] = train_df['image'].apply(lambda x: x[\"shape\"])\n",
    "train_df.head()"
   ]
  },
  {
   "cell_type": "code",
   "execution_count": 19,
   "id": "2ca04caa",
   "metadata": {},
   "outputs": [
    {
     "data": {
      "text/html": [
       "<div>\n",
       "<style scoped>\n",
       "    .dataframe tbody tr th:only-of-type {\n",
       "        vertical-align: middle;\n",
       "    }\n",
       "\n",
       "    .dataframe tbody tr th {\n",
       "        vertical-align: top;\n",
       "    }\n",
       "\n",
       "    .dataframe thead th {\n",
       "        text-align: right;\n",
       "    }\n",
       "</style>\n",
       "<table border=\"1\" class=\"dataframe\">\n",
       "  <thead>\n",
       "    <tr style=\"text-align: right;\">\n",
       "      <th></th>\n",
       "      <th>image</th>\n",
       "      <th>objects</th>\n",
       "      <th>checksum</th>\n",
       "      <th>pathname</th>\n",
       "      <th>shape</th>\n",
       "    </tr>\n",
       "  </thead>\n",
       "  <tbody>\n",
       "    <tr>\n",
       "      <th>0</th>\n",
       "      <td>{'checksum': 'eea3bfd6a929bcb06f9786667cd3fbb2...</td>\n",
       "      <td>[{'bounding_box': {'minimum': {'r': 576, 'c': ...</td>\n",
       "      <td>eea3bfd6a929bcb06f9786667cd3fbb2</td>\n",
       "      <td>images/41be1bd3-0d31-4881-bf1f-3ccdfa21ff12.jpg</td>\n",
       "      <td>{'r': 1383, 'c': 1944, 'channels': 3}</td>\n",
       "    </tr>\n",
       "    <tr>\n",
       "      <th>1</th>\n",
       "      <td>{'checksum': '2d85fc8ffdb875bb569878243437e4f5...</td>\n",
       "      <td>[{'bounding_box': {'minimum': {'r': 1048, 'c':...</td>\n",
       "      <td>2d85fc8ffdb875bb569878243437e4f5</td>\n",
       "      <td>images/64985a1e-16bb-4016-a01c-c21a5b86e572.jpg</td>\n",
       "      <td>{'r': 1383, 'c': 1944, 'channels': 3}</td>\n",
       "    </tr>\n",
       "    <tr>\n",
       "      <th>2</th>\n",
       "      <td>{'checksum': 'f7c02b6247f3ccfcd4a22c1f06e0c72c...</td>\n",
       "      <td>[{'bounding_box': {'minimum': {'r': 979, 'c': ...</td>\n",
       "      <td>f7c02b6247f3ccfcd4a22c1f06e0c72c</td>\n",
       "      <td>images/c70894fa-50e8-4eed-a5a8-159a20153a49.jpg</td>\n",
       "      <td>{'r': 1383, 'c': 1944, 'channels': 3}</td>\n",
       "    </tr>\n",
       "    <tr>\n",
       "      <th>3</th>\n",
       "      <td>{'checksum': '50634ef166ae993b4562b96f315ff6db...</td>\n",
       "      <td>[{'bounding_box': {'minimum': {'r': 402, 'c': ...</td>\n",
       "      <td>50634ef166ae993b4562b96f315ff6db</td>\n",
       "      <td>images/abb72ce2-4193-4dd3-a34c-61c2ee22ccff.jpg</td>\n",
       "      <td>{'r': 1383, 'c': 1944, 'channels': 3}</td>\n",
       "    </tr>\n",
       "    <tr>\n",
       "      <th>4</th>\n",
       "      <td>{'checksum': '74dd777a74e5a4b24aaee574a99e1459...</td>\n",
       "      <td>[{'bounding_box': {'minimum': {'r': 314, 'c': ...</td>\n",
       "      <td>74dd777a74e5a4b24aaee574a99e1459</td>\n",
       "      <td>images/8db76867-671a-4488-a7b6-991e4dd2e05f.jpg</td>\n",
       "      <td>{'r': 1383, 'c': 1944, 'channels': 3}</td>\n",
       "    </tr>\n",
       "  </tbody>\n",
       "</table>\n",
       "</div>"
      ],
      "text/plain": [
       "                                               image  \\\n",
       "0  {'checksum': 'eea3bfd6a929bcb06f9786667cd3fbb2...   \n",
       "1  {'checksum': '2d85fc8ffdb875bb569878243437e4f5...   \n",
       "2  {'checksum': 'f7c02b6247f3ccfcd4a22c1f06e0c72c...   \n",
       "3  {'checksum': '50634ef166ae993b4562b96f315ff6db...   \n",
       "4  {'checksum': '74dd777a74e5a4b24aaee574a99e1459...   \n",
       "\n",
       "                                             objects  \\\n",
       "0  [{'bounding_box': {'minimum': {'r': 576, 'c': ...   \n",
       "1  [{'bounding_box': {'minimum': {'r': 1048, 'c':...   \n",
       "2  [{'bounding_box': {'minimum': {'r': 979, 'c': ...   \n",
       "3  [{'bounding_box': {'minimum': {'r': 402, 'c': ...   \n",
       "4  [{'bounding_box': {'minimum': {'r': 314, 'c': ...   \n",
       "\n",
       "                           checksum  \\\n",
       "0  eea3bfd6a929bcb06f9786667cd3fbb2   \n",
       "1  2d85fc8ffdb875bb569878243437e4f5   \n",
       "2  f7c02b6247f3ccfcd4a22c1f06e0c72c   \n",
       "3  50634ef166ae993b4562b96f315ff6db   \n",
       "4  74dd777a74e5a4b24aaee574a99e1459   \n",
       "\n",
       "                                          pathname  \\\n",
       "0  images/41be1bd3-0d31-4881-bf1f-3ccdfa21ff12.jpg   \n",
       "1  images/64985a1e-16bb-4016-a01c-c21a5b86e572.jpg   \n",
       "2  images/c70894fa-50e8-4eed-a5a8-159a20153a49.jpg   \n",
       "3  images/abb72ce2-4193-4dd3-a34c-61c2ee22ccff.jpg   \n",
       "4  images/8db76867-671a-4488-a7b6-991e4dd2e05f.jpg   \n",
       "\n",
       "                                   shape  \n",
       "0  {'r': 1383, 'c': 1944, 'channels': 3}  \n",
       "1  {'r': 1383, 'c': 1944, 'channels': 3}  \n",
       "2  {'r': 1383, 'c': 1944, 'channels': 3}  \n",
       "3  {'r': 1383, 'c': 1944, 'channels': 3}  \n",
       "4  {'r': 1383, 'c': 1944, 'channels': 3}  "
      ]
     },
     "execution_count": 19,
     "metadata": {},
     "output_type": "execute_result"
    }
   ],
   "source": [
    "# Create new cols for attributes\n",
    "\n",
    "test_df[\"checksum\"] = test_df['image'].apply(lambda x: x[\"checksum\"])\n",
    "test_df[\"pathname\"] = test_df['image'].apply(lambda x: x[\"pathname\"][1:])\n",
    "test_df[\"shape\"] = test_df['image'].apply(lambda x: x[\"shape\"])\n",
    "test_df.head()"
   ]
  },
  {
   "cell_type": "code",
   "execution_count": 25,
   "id": "385ab7e1",
   "metadata": {},
   "outputs": [
    {
     "data": {
      "text/html": [
       "<div>\n",
       "<style scoped>\n",
       "    .dataframe tbody tr th:only-of-type {\n",
       "        vertical-align: middle;\n",
       "    }\n",
       "\n",
       "    .dataframe tbody tr th {\n",
       "        vertical-align: top;\n",
       "    }\n",
       "\n",
       "    .dataframe thead th {\n",
       "        text-align: right;\n",
       "    }\n",
       "</style>\n",
       "<table border=\"1\" class=\"dataframe\">\n",
       "  <thead>\n",
       "    <tr style=\"text-align: right;\">\n",
       "      <th></th>\n",
       "      <th>pathname</th>\n",
       "      <th>shape</th>\n",
       "      <th>checksum</th>\n",
       "      <th>bounding_box</th>\n",
       "      <th>category</th>\n",
       "    </tr>\n",
       "  </thead>\n",
       "  <tbody>\n",
       "    <tr>\n",
       "      <th>0</th>\n",
       "      <td>images/41be1bd3-0d31-4881-bf1f-3ccdfa21ff12.jpg</td>\n",
       "      <td>{'r': 1383, 'c': 1944, 'channels': 3}</td>\n",
       "      <td>eea3bfd6a929bcb06f9786667cd3fbb2</td>\n",
       "      <td>{'minimum': {'r': 576, 'c': 1744}, 'maximum': ...</td>\n",
       "      <td>red blood cell</td>\n",
       "    </tr>\n",
       "    <tr>\n",
       "      <th>1</th>\n",
       "      <td>images/41be1bd3-0d31-4881-bf1f-3ccdfa21ff12.jpg</td>\n",
       "      <td>{'r': 1383, 'c': 1944, 'channels': 3}</td>\n",
       "      <td>eea3bfd6a929bcb06f9786667cd3fbb2</td>\n",
       "      <td>{'minimum': {'r': 863, 'c': 1249}, 'maximum': ...</td>\n",
       "      <td>red blood cell</td>\n",
       "    </tr>\n",
       "    <tr>\n",
       "      <th>2</th>\n",
       "      <td>images/41be1bd3-0d31-4881-bf1f-3ccdfa21ff12.jpg</td>\n",
       "      <td>{'r': 1383, 'c': 1944, 'channels': 3}</td>\n",
       "      <td>eea3bfd6a929bcb06f9786667cd3fbb2</td>\n",
       "      <td>{'minimum': {'r': 210, 'c': 1573}, 'maximum': ...</td>\n",
       "      <td>red blood cell</td>\n",
       "    </tr>\n",
       "    <tr>\n",
       "      <th>3</th>\n",
       "      <td>images/41be1bd3-0d31-4881-bf1f-3ccdfa21ff12.jpg</td>\n",
       "      <td>{'r': 1383, 'c': 1944, 'channels': 3}</td>\n",
       "      <td>eea3bfd6a929bcb06f9786667cd3fbb2</td>\n",
       "      <td>{'minimum': {'r': 1017, 'c': 1124}, 'maximum':...</td>\n",
       "      <td>red blood cell</td>\n",
       "    </tr>\n",
       "    <tr>\n",
       "      <th>4</th>\n",
       "      <td>images/41be1bd3-0d31-4881-bf1f-3ccdfa21ff12.jpg</td>\n",
       "      <td>{'r': 1383, 'c': 1944, 'channels': 3}</td>\n",
       "      <td>eea3bfd6a929bcb06f9786667cd3fbb2</td>\n",
       "      <td>{'minimum': {'r': 572, 'c': 1655}, 'maximum': ...</td>\n",
       "      <td>red blood cell</td>\n",
       "    </tr>\n",
       "  </tbody>\n",
       "</table>\n",
       "</div>"
      ],
      "text/plain": [
       "                                          pathname  \\\n",
       "0  images/41be1bd3-0d31-4881-bf1f-3ccdfa21ff12.jpg   \n",
       "1  images/41be1bd3-0d31-4881-bf1f-3ccdfa21ff12.jpg   \n",
       "2  images/41be1bd3-0d31-4881-bf1f-3ccdfa21ff12.jpg   \n",
       "3  images/41be1bd3-0d31-4881-bf1f-3ccdfa21ff12.jpg   \n",
       "4  images/41be1bd3-0d31-4881-bf1f-3ccdfa21ff12.jpg   \n",
       "\n",
       "                                   shape                          checksum  \\\n",
       "0  {'r': 1383, 'c': 1944, 'channels': 3}  eea3bfd6a929bcb06f9786667cd3fbb2   \n",
       "1  {'r': 1383, 'c': 1944, 'channels': 3}  eea3bfd6a929bcb06f9786667cd3fbb2   \n",
       "2  {'r': 1383, 'c': 1944, 'channels': 3}  eea3bfd6a929bcb06f9786667cd3fbb2   \n",
       "3  {'r': 1383, 'c': 1944, 'channels': 3}  eea3bfd6a929bcb06f9786667cd3fbb2   \n",
       "4  {'r': 1383, 'c': 1944, 'channels': 3}  eea3bfd6a929bcb06f9786667cd3fbb2   \n",
       "\n",
       "                                        bounding_box        category  \n",
       "0  {'minimum': {'r': 576, 'c': 1744}, 'maximum': ...  red blood cell  \n",
       "1  {'minimum': {'r': 863, 'c': 1249}, 'maximum': ...  red blood cell  \n",
       "2  {'minimum': {'r': 210, 'c': 1573}, 'maximum': ...  red blood cell  \n",
       "3  {'minimum': {'r': 1017, 'c': 1124}, 'maximum':...  red blood cell  \n",
       "4  {'minimum': {'r': 572, 'c': 1655}, 'maximum': ...  red blood cell  "
      ]
     },
     "execution_count": 25,
     "metadata": {},
     "output_type": "execute_result"
    }
   ],
   "source": [
    "# create new dataframe with separate bounding boxes as row\n",
    "\n",
    "df = pd.DataFrame(\n",
    "    [\n",
    "     dict(pathname=row['pathname'], \n",
    "          shape=row['shape'],\n",
    "          checksum=row['checksum'],\n",
    "          **bb_info) \n",
    "     for _, row in test_df.iterrows() \n",
    "     for bb_info in row['objects']\n",
    "     ]\n",
    "     )\n",
    "\n",
    "df.head()"
   ]
  },
  {
   "cell_type": "code",
   "execution_count": 26,
   "id": "ac8e5404",
   "metadata": {},
   "outputs": [
    {
     "data": {
      "text/html": [
       "<div>\n",
       "<style scoped>\n",
       "    .dataframe tbody tr th:only-of-type {\n",
       "        vertical-align: middle;\n",
       "    }\n",
       "\n",
       "    .dataframe tbody tr th {\n",
       "        vertical-align: top;\n",
       "    }\n",
       "\n",
       "    .dataframe thead th {\n",
       "        text-align: right;\n",
       "    }\n",
       "</style>\n",
       "<table border=\"1\" class=\"dataframe\">\n",
       "  <thead>\n",
       "    <tr style=\"text-align: right;\">\n",
       "      <th></th>\n",
       "      <th>pathname</th>\n",
       "      <th>shape</th>\n",
       "      <th>checksum</th>\n",
       "      <th>category</th>\n",
       "      <th>x_min</th>\n",
       "      <th>y_min</th>\n",
       "      <th>x_max</th>\n",
       "      <th>y_max</th>\n",
       "      <th>w</th>\n",
       "      <th>h</th>\n",
       "      <th>x_center</th>\n",
       "      <th>y_center</th>\n",
       "    </tr>\n",
       "  </thead>\n",
       "  <tbody>\n",
       "    <tr>\n",
       "      <th>0</th>\n",
       "      <td>images/41be1bd3-0d31-4881-bf1f-3ccdfa21ff12.jpg</td>\n",
       "      <td>{'r': 1383, 'c': 1944, 'channels': 3}</td>\n",
       "      <td>eea3bfd6a929bcb06f9786667cd3fbb2</td>\n",
       "      <td>red blood cell</td>\n",
       "      <td>1744.0</td>\n",
       "      <td>576.0</td>\n",
       "      <td>1883.0</td>\n",
       "      <td>708.0</td>\n",
       "      <td>139.0</td>\n",
       "      <td>132.0</td>\n",
       "      <td>1813.5</td>\n",
       "      <td>642.0</td>\n",
       "    </tr>\n",
       "    <tr>\n",
       "      <th>1</th>\n",
       "      <td>images/41be1bd3-0d31-4881-bf1f-3ccdfa21ff12.jpg</td>\n",
       "      <td>{'r': 1383, 'c': 1944, 'channels': 3}</td>\n",
       "      <td>eea3bfd6a929bcb06f9786667cd3fbb2</td>\n",
       "      <td>red blood cell</td>\n",
       "      <td>1249.0</td>\n",
       "      <td>863.0</td>\n",
       "      <td>1373.0</td>\n",
       "      <td>977.0</td>\n",
       "      <td>124.0</td>\n",
       "      <td>114.0</td>\n",
       "      <td>1311.0</td>\n",
       "      <td>920.0</td>\n",
       "    </tr>\n",
       "    <tr>\n",
       "      <th>2</th>\n",
       "      <td>images/41be1bd3-0d31-4881-bf1f-3ccdfa21ff12.jpg</td>\n",
       "      <td>{'r': 1383, 'c': 1944, 'channels': 3}</td>\n",
       "      <td>eea3bfd6a929bcb06f9786667cd3fbb2</td>\n",
       "      <td>red blood cell</td>\n",
       "      <td>1573.0</td>\n",
       "      <td>210.0</td>\n",
       "      <td>1711.0</td>\n",
       "      <td>335.0</td>\n",
       "      <td>138.0</td>\n",
       "      <td>125.0</td>\n",
       "      <td>1642.0</td>\n",
       "      <td>272.5</td>\n",
       "    </tr>\n",
       "    <tr>\n",
       "      <th>3</th>\n",
       "      <td>images/41be1bd3-0d31-4881-bf1f-3ccdfa21ff12.jpg</td>\n",
       "      <td>{'r': 1383, 'c': 1944, 'channels': 3}</td>\n",
       "      <td>eea3bfd6a929bcb06f9786667cd3fbb2</td>\n",
       "      <td>red blood cell</td>\n",
       "      <td>1124.0</td>\n",
       "      <td>1017.0</td>\n",
       "      <td>1253.0</td>\n",
       "      <td>1142.0</td>\n",
       "      <td>129.0</td>\n",
       "      <td>125.0</td>\n",
       "      <td>1188.5</td>\n",
       "      <td>1079.5</td>\n",
       "    </tr>\n",
       "    <tr>\n",
       "      <th>4</th>\n",
       "      <td>images/41be1bd3-0d31-4881-bf1f-3ccdfa21ff12.jpg</td>\n",
       "      <td>{'r': 1383, 'c': 1944, 'channels': 3}</td>\n",
       "      <td>eea3bfd6a929bcb06f9786667cd3fbb2</td>\n",
       "      <td>red blood cell</td>\n",
       "      <td>1655.0</td>\n",
       "      <td>572.0</td>\n",
       "      <td>1763.0</td>\n",
       "      <td>695.0</td>\n",
       "      <td>108.0</td>\n",
       "      <td>123.0</td>\n",
       "      <td>1709.0</td>\n",
       "      <td>633.5</td>\n",
       "    </tr>\n",
       "  </tbody>\n",
       "</table>\n",
       "</div>"
      ],
      "text/plain": [
       "                                          pathname  \\\n",
       "0  images/41be1bd3-0d31-4881-bf1f-3ccdfa21ff12.jpg   \n",
       "1  images/41be1bd3-0d31-4881-bf1f-3ccdfa21ff12.jpg   \n",
       "2  images/41be1bd3-0d31-4881-bf1f-3ccdfa21ff12.jpg   \n",
       "3  images/41be1bd3-0d31-4881-bf1f-3ccdfa21ff12.jpg   \n",
       "4  images/41be1bd3-0d31-4881-bf1f-3ccdfa21ff12.jpg   \n",
       "\n",
       "                                   shape                          checksum  \\\n",
       "0  {'r': 1383, 'c': 1944, 'channels': 3}  eea3bfd6a929bcb06f9786667cd3fbb2   \n",
       "1  {'r': 1383, 'c': 1944, 'channels': 3}  eea3bfd6a929bcb06f9786667cd3fbb2   \n",
       "2  {'r': 1383, 'c': 1944, 'channels': 3}  eea3bfd6a929bcb06f9786667cd3fbb2   \n",
       "3  {'r': 1383, 'c': 1944, 'channels': 3}  eea3bfd6a929bcb06f9786667cd3fbb2   \n",
       "4  {'r': 1383, 'c': 1944, 'channels': 3}  eea3bfd6a929bcb06f9786667cd3fbb2   \n",
       "\n",
       "         category   x_min   y_min   x_max   y_max      w      h  x_center  \\\n",
       "0  red blood cell  1744.0   576.0  1883.0   708.0  139.0  132.0    1813.5   \n",
       "1  red blood cell  1249.0   863.0  1373.0   977.0  124.0  114.0    1311.0   \n",
       "2  red blood cell  1573.0   210.0  1711.0   335.0  138.0  125.0    1642.0   \n",
       "3  red blood cell  1124.0  1017.0  1253.0  1142.0  129.0  125.0    1188.5   \n",
       "4  red blood cell  1655.0   572.0  1763.0   695.0  108.0  123.0    1709.0   \n",
       "\n",
       "   y_center  \n",
       "0     642.0  \n",
       "1     920.0  \n",
       "2     272.5  \n",
       "3    1079.5  \n",
       "4     633.5  "
      ]
     },
     "execution_count": 26,
     "metadata": {},
     "output_type": "execute_result"
    }
   ],
   "source": [
    "# Extract bounding box info to separate cols\n",
    "\n",
    "df['x_min'] = -1\n",
    "df['y_min'] = -1\n",
    "df['x_max'] = -1\n",
    "df['y_max'] = -1\n",
    "\n",
    "df[['y_min', 'x_min', 'y_max', 'x_max']] = np.stack(df['bounding_box'].apply(lambda x: np.array(list(extract_nested_list(x)))))\n",
    "\n",
    "df['x_min'] = df['x_min'].astype(float)\n",
    "df['y_min'] = df['y_min'].astype(float)\n",
    "df['x_max'] = df['x_max'].astype(float)\n",
    "df['y_max'] = df['y_max'].astype(float)\n",
    "\n",
    "df['w'] = df['x_max'] - df['x_min']\n",
    "df['h'] = df['y_max'] - df['y_min']\n",
    "\n",
    "df['x_center'] = df['x_min'] + df['w'] / 2\n",
    "df['y_center'] = df['y_min'] + df['h'] / 2\n",
    "\n",
    "df.drop(columns=['bounding_box'], inplace=True)\n",
    "\n",
    "df.head()"
   ]
  },
  {
   "cell_type": "code",
   "execution_count": 27,
   "id": "6a0e5826",
   "metadata": {},
   "outputs": [
    {
     "data": {
      "text/html": [
       "<div>\n",
       "<style scoped>\n",
       "    .dataframe tbody tr th:only-of-type {\n",
       "        vertical-align: middle;\n",
       "    }\n",
       "\n",
       "    .dataframe tbody tr th {\n",
       "        vertical-align: top;\n",
       "    }\n",
       "\n",
       "    .dataframe thead th {\n",
       "        text-align: right;\n",
       "    }\n",
       "</style>\n",
       "<table border=\"1\" class=\"dataframe\">\n",
       "  <thead>\n",
       "    <tr style=\"text-align: right;\">\n",
       "      <th></th>\n",
       "      <th>pathname</th>\n",
       "      <th>checksum</th>\n",
       "      <th>category</th>\n",
       "      <th>x_min</th>\n",
       "      <th>y_min</th>\n",
       "      <th>x_max</th>\n",
       "      <th>y_max</th>\n",
       "      <th>w</th>\n",
       "      <th>h</th>\n",
       "      <th>x_center</th>\n",
       "      <th>y_center</th>\n",
       "      <th>img_width</th>\n",
       "      <th>img_height</th>\n",
       "      <th>channels</th>\n",
       "      <th>pixels</th>\n",
       "    </tr>\n",
       "  </thead>\n",
       "  <tbody>\n",
       "    <tr>\n",
       "      <th>0</th>\n",
       "      <td>images/41be1bd3-0d31-4881-bf1f-3ccdfa21ff12.jpg</td>\n",
       "      <td>eea3bfd6a929bcb06f9786667cd3fbb2</td>\n",
       "      <td>red blood cell</td>\n",
       "      <td>1744.0</td>\n",
       "      <td>576.0</td>\n",
       "      <td>1883.0</td>\n",
       "      <td>708.0</td>\n",
       "      <td>139.0</td>\n",
       "      <td>132.0</td>\n",
       "      <td>1813.5</td>\n",
       "      <td>642.0</td>\n",
       "      <td>1944</td>\n",
       "      <td>1383</td>\n",
       "      <td>3</td>\n",
       "      <td>8065656</td>\n",
       "    </tr>\n",
       "    <tr>\n",
       "      <th>1</th>\n",
       "      <td>images/41be1bd3-0d31-4881-bf1f-3ccdfa21ff12.jpg</td>\n",
       "      <td>eea3bfd6a929bcb06f9786667cd3fbb2</td>\n",
       "      <td>red blood cell</td>\n",
       "      <td>1249.0</td>\n",
       "      <td>863.0</td>\n",
       "      <td>1373.0</td>\n",
       "      <td>977.0</td>\n",
       "      <td>124.0</td>\n",
       "      <td>114.0</td>\n",
       "      <td>1311.0</td>\n",
       "      <td>920.0</td>\n",
       "      <td>1944</td>\n",
       "      <td>1383</td>\n",
       "      <td>3</td>\n",
       "      <td>8065656</td>\n",
       "    </tr>\n",
       "    <tr>\n",
       "      <th>2</th>\n",
       "      <td>images/41be1bd3-0d31-4881-bf1f-3ccdfa21ff12.jpg</td>\n",
       "      <td>eea3bfd6a929bcb06f9786667cd3fbb2</td>\n",
       "      <td>red blood cell</td>\n",
       "      <td>1573.0</td>\n",
       "      <td>210.0</td>\n",
       "      <td>1711.0</td>\n",
       "      <td>335.0</td>\n",
       "      <td>138.0</td>\n",
       "      <td>125.0</td>\n",
       "      <td>1642.0</td>\n",
       "      <td>272.5</td>\n",
       "      <td>1944</td>\n",
       "      <td>1383</td>\n",
       "      <td>3</td>\n",
       "      <td>8065656</td>\n",
       "    </tr>\n",
       "    <tr>\n",
       "      <th>3</th>\n",
       "      <td>images/41be1bd3-0d31-4881-bf1f-3ccdfa21ff12.jpg</td>\n",
       "      <td>eea3bfd6a929bcb06f9786667cd3fbb2</td>\n",
       "      <td>red blood cell</td>\n",
       "      <td>1124.0</td>\n",
       "      <td>1017.0</td>\n",
       "      <td>1253.0</td>\n",
       "      <td>1142.0</td>\n",
       "      <td>129.0</td>\n",
       "      <td>125.0</td>\n",
       "      <td>1188.5</td>\n",
       "      <td>1079.5</td>\n",
       "      <td>1944</td>\n",
       "      <td>1383</td>\n",
       "      <td>3</td>\n",
       "      <td>8065656</td>\n",
       "    </tr>\n",
       "    <tr>\n",
       "      <th>4</th>\n",
       "      <td>images/41be1bd3-0d31-4881-bf1f-3ccdfa21ff12.jpg</td>\n",
       "      <td>eea3bfd6a929bcb06f9786667cd3fbb2</td>\n",
       "      <td>red blood cell</td>\n",
       "      <td>1655.0</td>\n",
       "      <td>572.0</td>\n",
       "      <td>1763.0</td>\n",
       "      <td>695.0</td>\n",
       "      <td>108.0</td>\n",
       "      <td>123.0</td>\n",
       "      <td>1709.0</td>\n",
       "      <td>633.5</td>\n",
       "      <td>1944</td>\n",
       "      <td>1383</td>\n",
       "      <td>3</td>\n",
       "      <td>8065656</td>\n",
       "    </tr>\n",
       "  </tbody>\n",
       "</table>\n",
       "</div>"
      ],
      "text/plain": [
       "                                          pathname  \\\n",
       "0  images/41be1bd3-0d31-4881-bf1f-3ccdfa21ff12.jpg   \n",
       "1  images/41be1bd3-0d31-4881-bf1f-3ccdfa21ff12.jpg   \n",
       "2  images/41be1bd3-0d31-4881-bf1f-3ccdfa21ff12.jpg   \n",
       "3  images/41be1bd3-0d31-4881-bf1f-3ccdfa21ff12.jpg   \n",
       "4  images/41be1bd3-0d31-4881-bf1f-3ccdfa21ff12.jpg   \n",
       "\n",
       "                           checksum        category   x_min   y_min   x_max  \\\n",
       "0  eea3bfd6a929bcb06f9786667cd3fbb2  red blood cell  1744.0   576.0  1883.0   \n",
       "1  eea3bfd6a929bcb06f9786667cd3fbb2  red blood cell  1249.0   863.0  1373.0   \n",
       "2  eea3bfd6a929bcb06f9786667cd3fbb2  red blood cell  1573.0   210.0  1711.0   \n",
       "3  eea3bfd6a929bcb06f9786667cd3fbb2  red blood cell  1124.0  1017.0  1253.0   \n",
       "4  eea3bfd6a929bcb06f9786667cd3fbb2  red blood cell  1655.0   572.0  1763.0   \n",
       "\n",
       "    y_max      w      h  x_center  y_center  img_width  img_height  channels  \\\n",
       "0   708.0  139.0  132.0    1813.5     642.0       1944        1383         3   \n",
       "1   977.0  124.0  114.0    1311.0     920.0       1944        1383         3   \n",
       "2   335.0  138.0  125.0    1642.0     272.5       1944        1383         3   \n",
       "3  1142.0  129.0  125.0    1188.5    1079.5       1944        1383         3   \n",
       "4   695.0  108.0  123.0    1709.0     633.5       1944        1383         3   \n",
       "\n",
       "    pixels  \n",
       "0  8065656  \n",
       "1  8065656  \n",
       "2  8065656  \n",
       "3  8065656  \n",
       "4  8065656  "
      ]
     },
     "execution_count": 27,
     "metadata": {},
     "output_type": "execute_result"
    }
   ],
   "source": [
    "# Extract image shape info to separate cols\n",
    "\n",
    "df['img_width'] = -1\n",
    "df['img_height'] = -1\n",
    "df['channels'] = -1\n",
    "df['pixels'] = -1\n",
    "\n",
    "df[['img_height','img_width', 'channels']] = np.stack(df['shape'].apply(lambda x: np.array(list(extract_nested_list(x)))))\n",
    "df['pixels'] = df['img_width'] * df['img_height'] * df['channels']\n",
    "\n",
    "df.drop(columns=['shape'], inplace=True)\n",
    "\n",
    "df.head()"
   ]
  },
  {
   "cell_type": "code",
   "execution_count": 28,
   "id": "44e7b1b3",
   "metadata": {},
   "outputs": [
    {
     "data": {
      "text/html": [
       "<div>\n",
       "<style scoped>\n",
       "    .dataframe tbody tr th:only-of-type {\n",
       "        vertical-align: middle;\n",
       "    }\n",
       "\n",
       "    .dataframe tbody tr th {\n",
       "        vertical-align: top;\n",
       "    }\n",
       "\n",
       "    .dataframe thead th {\n",
       "        text-align: right;\n",
       "    }\n",
       "</style>\n",
       "<table border=\"1\" class=\"dataframe\">\n",
       "  <thead>\n",
       "    <tr style=\"text-align: right;\">\n",
       "      <th></th>\n",
       "      <th>pathname</th>\n",
       "      <th>checksum</th>\n",
       "      <th>category</th>\n",
       "      <th>x_min</th>\n",
       "      <th>y_min</th>\n",
       "      <th>x_max</th>\n",
       "      <th>y_max</th>\n",
       "      <th>w</th>\n",
       "      <th>h</th>\n",
       "      <th>x_center</th>\n",
       "      <th>y_center</th>\n",
       "      <th>img_width</th>\n",
       "      <th>img_height</th>\n",
       "      <th>channels</th>\n",
       "      <th>pixels</th>\n",
       "      <th>label</th>\n",
       "    </tr>\n",
       "  </thead>\n",
       "  <tbody>\n",
       "    <tr>\n",
       "      <th>0</th>\n",
       "      <td>images/41be1bd3-0d31-4881-bf1f-3ccdfa21ff12.jpg</td>\n",
       "      <td>eea3bfd6a929bcb06f9786667cd3fbb2</td>\n",
       "      <td>red blood cell</td>\n",
       "      <td>1744.0</td>\n",
       "      <td>576.0</td>\n",
       "      <td>1883.0</td>\n",
       "      <td>708.0</td>\n",
       "      <td>139.0</td>\n",
       "      <td>132.0</td>\n",
       "      <td>1813.5</td>\n",
       "      <td>642.0</td>\n",
       "      <td>1944</td>\n",
       "      <td>1383</td>\n",
       "      <td>3</td>\n",
       "      <td>8065656</td>\n",
       "      <td>3</td>\n",
       "    </tr>\n",
       "    <tr>\n",
       "      <th>1</th>\n",
       "      <td>images/41be1bd3-0d31-4881-bf1f-3ccdfa21ff12.jpg</td>\n",
       "      <td>eea3bfd6a929bcb06f9786667cd3fbb2</td>\n",
       "      <td>red blood cell</td>\n",
       "      <td>1249.0</td>\n",
       "      <td>863.0</td>\n",
       "      <td>1373.0</td>\n",
       "      <td>977.0</td>\n",
       "      <td>124.0</td>\n",
       "      <td>114.0</td>\n",
       "      <td>1311.0</td>\n",
       "      <td>920.0</td>\n",
       "      <td>1944</td>\n",
       "      <td>1383</td>\n",
       "      <td>3</td>\n",
       "      <td>8065656</td>\n",
       "      <td>3</td>\n",
       "    </tr>\n",
       "    <tr>\n",
       "      <th>2</th>\n",
       "      <td>images/41be1bd3-0d31-4881-bf1f-3ccdfa21ff12.jpg</td>\n",
       "      <td>eea3bfd6a929bcb06f9786667cd3fbb2</td>\n",
       "      <td>red blood cell</td>\n",
       "      <td>1573.0</td>\n",
       "      <td>210.0</td>\n",
       "      <td>1711.0</td>\n",
       "      <td>335.0</td>\n",
       "      <td>138.0</td>\n",
       "      <td>125.0</td>\n",
       "      <td>1642.0</td>\n",
       "      <td>272.5</td>\n",
       "      <td>1944</td>\n",
       "      <td>1383</td>\n",
       "      <td>3</td>\n",
       "      <td>8065656</td>\n",
       "      <td>3</td>\n",
       "    </tr>\n",
       "    <tr>\n",
       "      <th>3</th>\n",
       "      <td>images/41be1bd3-0d31-4881-bf1f-3ccdfa21ff12.jpg</td>\n",
       "      <td>eea3bfd6a929bcb06f9786667cd3fbb2</td>\n",
       "      <td>red blood cell</td>\n",
       "      <td>1124.0</td>\n",
       "      <td>1017.0</td>\n",
       "      <td>1253.0</td>\n",
       "      <td>1142.0</td>\n",
       "      <td>129.0</td>\n",
       "      <td>125.0</td>\n",
       "      <td>1188.5</td>\n",
       "      <td>1079.5</td>\n",
       "      <td>1944</td>\n",
       "      <td>1383</td>\n",
       "      <td>3</td>\n",
       "      <td>8065656</td>\n",
       "      <td>3</td>\n",
       "    </tr>\n",
       "    <tr>\n",
       "      <th>4</th>\n",
       "      <td>images/41be1bd3-0d31-4881-bf1f-3ccdfa21ff12.jpg</td>\n",
       "      <td>eea3bfd6a929bcb06f9786667cd3fbb2</td>\n",
       "      <td>red blood cell</td>\n",
       "      <td>1655.0</td>\n",
       "      <td>572.0</td>\n",
       "      <td>1763.0</td>\n",
       "      <td>695.0</td>\n",
       "      <td>108.0</td>\n",
       "      <td>123.0</td>\n",
       "      <td>1709.0</td>\n",
       "      <td>633.5</td>\n",
       "      <td>1944</td>\n",
       "      <td>1383</td>\n",
       "      <td>3</td>\n",
       "      <td>8065656</td>\n",
       "      <td>3</td>\n",
       "    </tr>\n",
       "  </tbody>\n",
       "</table>\n",
       "</div>"
      ],
      "text/plain": [
       "                                          pathname  \\\n",
       "0  images/41be1bd3-0d31-4881-bf1f-3ccdfa21ff12.jpg   \n",
       "1  images/41be1bd3-0d31-4881-bf1f-3ccdfa21ff12.jpg   \n",
       "2  images/41be1bd3-0d31-4881-bf1f-3ccdfa21ff12.jpg   \n",
       "3  images/41be1bd3-0d31-4881-bf1f-3ccdfa21ff12.jpg   \n",
       "4  images/41be1bd3-0d31-4881-bf1f-3ccdfa21ff12.jpg   \n",
       "\n",
       "                           checksum        category   x_min   y_min   x_max  \\\n",
       "0  eea3bfd6a929bcb06f9786667cd3fbb2  red blood cell  1744.0   576.0  1883.0   \n",
       "1  eea3bfd6a929bcb06f9786667cd3fbb2  red blood cell  1249.0   863.0  1373.0   \n",
       "2  eea3bfd6a929bcb06f9786667cd3fbb2  red blood cell  1573.0   210.0  1711.0   \n",
       "3  eea3bfd6a929bcb06f9786667cd3fbb2  red blood cell  1124.0  1017.0  1253.0   \n",
       "4  eea3bfd6a929bcb06f9786667cd3fbb2  red blood cell  1655.0   572.0  1763.0   \n",
       "\n",
       "    y_max      w      h  x_center  y_center  img_width  img_height  channels  \\\n",
       "0   708.0  139.0  132.0    1813.5     642.0       1944        1383         3   \n",
       "1   977.0  124.0  114.0    1311.0     920.0       1944        1383         3   \n",
       "2   335.0  138.0  125.0    1642.0     272.5       1944        1383         3   \n",
       "3  1142.0  129.0  125.0    1188.5    1079.5       1944        1383         3   \n",
       "4   695.0  108.0  123.0    1709.0     633.5       1944        1383         3   \n",
       "\n",
       "    pixels  label  \n",
       "0  8065656      3  \n",
       "1  8065656      3  \n",
       "2  8065656      3  \n",
       "3  8065656      3  \n",
       "4  8065656      3  "
      ]
     },
     "execution_count": 28,
     "metadata": {},
     "output_type": "execute_result"
    }
   ],
   "source": [
    "# Encoding label\n",
    "\n",
    "# lb = LabelEncoder()\n",
    "# lb.fit(df[\"category\"])\n",
    "df[\"label\"] = lb.transform(df[\"category\"])\n",
    "\n",
    "df.head()"
   ]
  },
  {
   "cell_type": "code",
   "execution_count": 29,
   "id": "478b640a",
   "metadata": {},
   "outputs": [
    {
     "data": {
      "text/plain": [
       "array(['difficult', 'gametocyte', 'leukocyte', 'red blood cell', 'ring',\n",
       "       'schizont', 'trophozoite'], dtype=object)"
      ]
     },
     "execution_count": 29,
     "metadata": {},
     "output_type": "execute_result"
    }
   ],
   "source": [
    "lb.classes_\n",
    "\n",
    "# 7 classes\n",
    "# difficult: 0, gametocyte: 1, leukocyte: 2, rbc: 3, ring: 4, schizont: 5, trophozoite: 6"
   ]
  },
  {
   "cell_type": "markdown",
   "id": "5b30697c",
   "metadata": {},
   "source": [
    "# Models"
   ]
  },
  {
   "cell_type": "markdown",
   "id": "aa09af36",
   "metadata": {},
   "source": [
    "## YOLO"
   ]
  },
  {
   "cell_type": "markdown",
   "id": "b5648af1",
   "metadata": {},
   "source": [
    "### Preprocessing"
   ]
  },
  {
   "cell_type": "code",
   "execution_count": 33,
   "id": "c6a21e17",
   "metadata": {},
   "outputs": [],
   "source": [
    "# convert bb-coordinates for yolo format (center and normalize bounding box coordinates)\n",
    "\n",
    "df['w_yolo'] = df[['w', 'img_width']].apply(lambda x: x[0] / x[1], axis=1)\n",
    "df['h_yolo'] = df[['h', 'img_height']].apply(lambda x: x[0] / x[1], axis=1)\n",
    "df['x_center_yolo'] = df[['x_center', 'img_width']].apply(lambda x: x[0] / x[1], axis=1)\n",
    "df['y_center_yolo'] = df[['y_center', 'img_height']].apply(lambda x: x[0] / x[1], axis=1)"
   ]
  },
  {
   "cell_type": "code",
   "execution_count": 34,
   "id": "9a2b8789",
   "metadata": {},
   "outputs": [
    {
     "data": {
      "text/html": [
       "<div>\n",
       "<style scoped>\n",
       "    .dataframe tbody tr th:only-of-type {\n",
       "        vertical-align: middle;\n",
       "    }\n",
       "\n",
       "    .dataframe tbody tr th {\n",
       "        vertical-align: top;\n",
       "    }\n",
       "\n",
       "    .dataframe thead th {\n",
       "        text-align: right;\n",
       "    }\n",
       "</style>\n",
       "<table border=\"1\" class=\"dataframe\">\n",
       "  <thead>\n",
       "    <tr style=\"text-align: right;\">\n",
       "      <th></th>\n",
       "      <th>pathname</th>\n",
       "      <th>checksum</th>\n",
       "      <th>category</th>\n",
       "      <th>x_min</th>\n",
       "      <th>y_min</th>\n",
       "      <th>x_max</th>\n",
       "      <th>y_max</th>\n",
       "      <th>w</th>\n",
       "      <th>h</th>\n",
       "      <th>x_center</th>\n",
       "      <th>...</th>\n",
       "      <th>img_width</th>\n",
       "      <th>img_height</th>\n",
       "      <th>channels</th>\n",
       "      <th>pixels</th>\n",
       "      <th>label</th>\n",
       "      <th>w_yolo</th>\n",
       "      <th>h_yolo</th>\n",
       "      <th>x_center_yolo</th>\n",
       "      <th>y_center_yolo</th>\n",
       "      <th>name</th>\n",
       "    </tr>\n",
       "  </thead>\n",
       "  <tbody>\n",
       "    <tr>\n",
       "      <th>0</th>\n",
       "      <td>images/41be1bd3-0d31-4881-bf1f-3ccdfa21ff12.jpg</td>\n",
       "      <td>eea3bfd6a929bcb06f9786667cd3fbb2</td>\n",
       "      <td>red blood cell</td>\n",
       "      <td>1744.0</td>\n",
       "      <td>576.0</td>\n",
       "      <td>1883.0</td>\n",
       "      <td>708.0</td>\n",
       "      <td>139.0</td>\n",
       "      <td>132.0</td>\n",
       "      <td>1813.5</td>\n",
       "      <td>...</td>\n",
       "      <td>1944</td>\n",
       "      <td>1383</td>\n",
       "      <td>3</td>\n",
       "      <td>8065656</td>\n",
       "      <td>3</td>\n",
       "      <td>0.071502</td>\n",
       "      <td>0.095445</td>\n",
       "      <td>0.932870</td>\n",
       "      <td>0.464208</td>\n",
       "      <td>41be1bd3-0d31-4881-bf1f-3ccdfa21ff12</td>\n",
       "    </tr>\n",
       "    <tr>\n",
       "      <th>1</th>\n",
       "      <td>images/41be1bd3-0d31-4881-bf1f-3ccdfa21ff12.jpg</td>\n",
       "      <td>eea3bfd6a929bcb06f9786667cd3fbb2</td>\n",
       "      <td>red blood cell</td>\n",
       "      <td>1249.0</td>\n",
       "      <td>863.0</td>\n",
       "      <td>1373.0</td>\n",
       "      <td>977.0</td>\n",
       "      <td>124.0</td>\n",
       "      <td>114.0</td>\n",
       "      <td>1311.0</td>\n",
       "      <td>...</td>\n",
       "      <td>1944</td>\n",
       "      <td>1383</td>\n",
       "      <td>3</td>\n",
       "      <td>8065656</td>\n",
       "      <td>3</td>\n",
       "      <td>0.063786</td>\n",
       "      <td>0.082430</td>\n",
       "      <td>0.674383</td>\n",
       "      <td>0.665221</td>\n",
       "      <td>41be1bd3-0d31-4881-bf1f-3ccdfa21ff12</td>\n",
       "    </tr>\n",
       "    <tr>\n",
       "      <th>2</th>\n",
       "      <td>images/41be1bd3-0d31-4881-bf1f-3ccdfa21ff12.jpg</td>\n",
       "      <td>eea3bfd6a929bcb06f9786667cd3fbb2</td>\n",
       "      <td>red blood cell</td>\n",
       "      <td>1573.0</td>\n",
       "      <td>210.0</td>\n",
       "      <td>1711.0</td>\n",
       "      <td>335.0</td>\n",
       "      <td>138.0</td>\n",
       "      <td>125.0</td>\n",
       "      <td>1642.0</td>\n",
       "      <td>...</td>\n",
       "      <td>1944</td>\n",
       "      <td>1383</td>\n",
       "      <td>3</td>\n",
       "      <td>8065656</td>\n",
       "      <td>3</td>\n",
       "      <td>0.070988</td>\n",
       "      <td>0.090383</td>\n",
       "      <td>0.844650</td>\n",
       "      <td>0.197035</td>\n",
       "      <td>41be1bd3-0d31-4881-bf1f-3ccdfa21ff12</td>\n",
       "    </tr>\n",
       "    <tr>\n",
       "      <th>3</th>\n",
       "      <td>images/41be1bd3-0d31-4881-bf1f-3ccdfa21ff12.jpg</td>\n",
       "      <td>eea3bfd6a929bcb06f9786667cd3fbb2</td>\n",
       "      <td>red blood cell</td>\n",
       "      <td>1124.0</td>\n",
       "      <td>1017.0</td>\n",
       "      <td>1253.0</td>\n",
       "      <td>1142.0</td>\n",
       "      <td>129.0</td>\n",
       "      <td>125.0</td>\n",
       "      <td>1188.5</td>\n",
       "      <td>...</td>\n",
       "      <td>1944</td>\n",
       "      <td>1383</td>\n",
       "      <td>3</td>\n",
       "      <td>8065656</td>\n",
       "      <td>3</td>\n",
       "      <td>0.066358</td>\n",
       "      <td>0.090383</td>\n",
       "      <td>0.611368</td>\n",
       "      <td>0.780550</td>\n",
       "      <td>41be1bd3-0d31-4881-bf1f-3ccdfa21ff12</td>\n",
       "    </tr>\n",
       "    <tr>\n",
       "      <th>4</th>\n",
       "      <td>images/41be1bd3-0d31-4881-bf1f-3ccdfa21ff12.jpg</td>\n",
       "      <td>eea3bfd6a929bcb06f9786667cd3fbb2</td>\n",
       "      <td>red blood cell</td>\n",
       "      <td>1655.0</td>\n",
       "      <td>572.0</td>\n",
       "      <td>1763.0</td>\n",
       "      <td>695.0</td>\n",
       "      <td>108.0</td>\n",
       "      <td>123.0</td>\n",
       "      <td>1709.0</td>\n",
       "      <td>...</td>\n",
       "      <td>1944</td>\n",
       "      <td>1383</td>\n",
       "      <td>3</td>\n",
       "      <td>8065656</td>\n",
       "      <td>3</td>\n",
       "      <td>0.055556</td>\n",
       "      <td>0.088937</td>\n",
       "      <td>0.879115</td>\n",
       "      <td>0.458062</td>\n",
       "      <td>41be1bd3-0d31-4881-bf1f-3ccdfa21ff12</td>\n",
       "    </tr>\n",
       "  </tbody>\n",
       "</table>\n",
       "<p>5 rows × 21 columns</p>\n",
       "</div>"
      ],
      "text/plain": [
       "                                          pathname  \\\n",
       "0  images/41be1bd3-0d31-4881-bf1f-3ccdfa21ff12.jpg   \n",
       "1  images/41be1bd3-0d31-4881-bf1f-3ccdfa21ff12.jpg   \n",
       "2  images/41be1bd3-0d31-4881-bf1f-3ccdfa21ff12.jpg   \n",
       "3  images/41be1bd3-0d31-4881-bf1f-3ccdfa21ff12.jpg   \n",
       "4  images/41be1bd3-0d31-4881-bf1f-3ccdfa21ff12.jpg   \n",
       "\n",
       "                           checksum        category   x_min   y_min   x_max  \\\n",
       "0  eea3bfd6a929bcb06f9786667cd3fbb2  red blood cell  1744.0   576.0  1883.0   \n",
       "1  eea3bfd6a929bcb06f9786667cd3fbb2  red blood cell  1249.0   863.0  1373.0   \n",
       "2  eea3bfd6a929bcb06f9786667cd3fbb2  red blood cell  1573.0   210.0  1711.0   \n",
       "3  eea3bfd6a929bcb06f9786667cd3fbb2  red blood cell  1124.0  1017.0  1253.0   \n",
       "4  eea3bfd6a929bcb06f9786667cd3fbb2  red blood cell  1655.0   572.0  1763.0   \n",
       "\n",
       "    y_max      w      h  x_center  ...  img_width  img_height  channels  \\\n",
       "0   708.0  139.0  132.0    1813.5  ...       1944        1383         3   \n",
       "1   977.0  124.0  114.0    1311.0  ...       1944        1383         3   \n",
       "2   335.0  138.0  125.0    1642.0  ...       1944        1383         3   \n",
       "3  1142.0  129.0  125.0    1188.5  ...       1944        1383         3   \n",
       "4   695.0  108.0  123.0    1709.0  ...       1944        1383         3   \n",
       "\n",
       "    pixels  label    w_yolo    h_yolo  x_center_yolo  y_center_yolo  \\\n",
       "0  8065656      3  0.071502  0.095445       0.932870       0.464208   \n",
       "1  8065656      3  0.063786  0.082430       0.674383       0.665221   \n",
       "2  8065656      3  0.070988  0.090383       0.844650       0.197035   \n",
       "3  8065656      3  0.066358  0.090383       0.611368       0.780550   \n",
       "4  8065656      3  0.055556  0.088937       0.879115       0.458062   \n",
       "\n",
       "                                   name  \n",
       "0  41be1bd3-0d31-4881-bf1f-3ccdfa21ff12  \n",
       "1  41be1bd3-0d31-4881-bf1f-3ccdfa21ff12  \n",
       "2  41be1bd3-0d31-4881-bf1f-3ccdfa21ff12  \n",
       "3  41be1bd3-0d31-4881-bf1f-3ccdfa21ff12  \n",
       "4  41be1bd3-0d31-4881-bf1f-3ccdfa21ff12  \n",
       "\n",
       "[5 rows x 21 columns]"
      ]
     },
     "execution_count": 34,
     "metadata": {},
     "output_type": "execute_result"
    }
   ],
   "source": [
    "# get file name\n",
    "\n",
    "yolov5_df = df.copy()\n",
    "yolov5_df = yolov5_df[yolov5_df[\"pathname\"].apply(lambda x: x[-4:] == '.jpg')].reset_index(drop=True)\n",
    "yolov5_df[\"name\"] = yolov5_df[\"pathname\"].apply(lambda x: x.split(\"/\")[-1].split(\".\")[0])\n",
    "yolov5_df.head()"
   ]
  },
  {
   "cell_type": "code",
   "execution_count": 35,
   "id": "41e4ed18",
   "metadata": {},
   "outputs": [
    {
     "data": {
      "text/plain": [
       "(5922, 21)"
      ]
     },
     "execution_count": 35,
     "metadata": {},
     "output_type": "execute_result"
    }
   ],
   "source": [
    "yolov5_df.shape"
   ]
  },
  {
   "cell_type": "code",
   "execution_count": 37,
   "id": "0430f20f",
   "metadata": {},
   "outputs": [
    {
     "data": {
      "text/plain": [
       "120"
      ]
     },
     "execution_count": 37,
     "metadata": {},
     "output_type": "execute_result"
    }
   ],
   "source": [
    "index = list(set(yolov5_df.name))\n",
    "len(index)"
   ]
  },
  {
   "cell_type": "code",
   "execution_count": 21,
   "id": "34c50128",
   "metadata": {},
   "outputs": [
    {
     "name": "stderr",
     "output_type": "stream",
     "text": [
      "  0%|▏                                                                                | 2/1208 [00:00<01:00, 19.95it/s]"
     ]
    },
    {
     "name": "stdout",
     "output_type": "stream",
     "text": [
      "002f20ad-2ace-499c-9335-c9080bc3e6b5\n",
      "003a89b0-a095-417a-8dd6-f408339bbc68\n",
      "003d1cdc-0aec-430b-90e0-f4d82135b1ac\n",
      "005e60b6-77b8-458c-b57c-bfe0c7e7df78\n",
      "00a02700-2ea2-4590-9e15-ffc9160fd3de\n",
      "00c8364b-8c85-4502-bcfe-64736fe76815\n"
     ]
    },
    {
     "name": "stderr",
     "output_type": "stream",
     "text": [
      "  1%|▋                                                                               | 10/1208 [00:00<00:43, 27.66it/s]"
     ]
    },
    {
     "name": "stdout",
     "output_type": "stream",
     "text": [
      "00d04a90-80e5-4bce-9511-1b64eabb7a47\n",
      "0154dd8e-72f8-4d78-a4dd-93e139577bd1\n",
      "01b38a56-13eb-447b-89ee-fc21cb40dcc1\n",
      "01b99da8-b66b-464b-a7ee-1cadab8db18b\n",
      "027ab174-e47a-44f8-b85b-372449eeb7d8\n",
      "02ea7aa8-c142-4a3d-939f-e77689741341\n",
      "02fb5e19-6f94-4787-bb78-e550a29a3cbd\n"
     ]
    },
    {
     "name": "stderr",
     "output_type": "stream",
     "text": [
      "  1%|█▏                                                                              | 17/1208 [00:00<00:43, 27.64it/s]"
     ]
    },
    {
     "name": "stdout",
     "output_type": "stream",
     "text": [
      "030f3421-ed3f-4bf1-8f27-4d02590bffbc\n",
      "03359d4d-69cb-4146-8286-ca7399366f97\n",
      "034c8d57-04d5-4786-93a4-6ae8fde2c258\n",
      "035f6c4b-0897-46ab-9c3b-5f3b0feff043\n",
      "036404d1-b9fc-497b-bbe1-f4d9c5ac3ce0\n",
      "036e008f-07a1-4e92-899d-1822dc390ccb\n"
     ]
    },
    {
     "name": "stderr",
     "output_type": "stream",
     "text": [
      "  2%|█▌                                                                              | 23/1208 [00:00<00:44, 26.71it/s]"
     ]
    },
    {
     "name": "stdout",
     "output_type": "stream",
     "text": [
      "03b9d6ad-39ca-4097-a98b-77f02b3c00a7\n",
      "03c8da48-04b9-4520-b674-44a0ecd35688\n",
      "03cbfcf2-8da6-462c-b30d-16d63357371f\n",
      "040112be-3c8d-49aa-93f1-522f94a592ff\n",
      "04018590-4e66-4cb9-ad2d-83570f1b29ae\n"
     ]
    },
    {
     "name": "stderr",
     "output_type": "stream",
     "text": [
      "\r",
      "  2%|█▋                                                                              | 26/1208 [00:00<00:45, 25.95it/s]"
     ]
    },
    {
     "name": "stdout",
     "output_type": "stream",
     "text": [
      "0403835d-43f4-4a97-abfc-b2ff915f6d7b\n",
      "04628a94-b674-469b-aff6-b476b70df87d\n",
      "04a567df-5463-4043-81f1-d726223c19a9\n",
      "04c07425-57c7-415c-a0bc-36857bbd4049\n",
      "04d21589-b777-43c2-86b5-038cbf8c3a4e\n"
     ]
    },
    {
     "name": "stderr",
     "output_type": "stream",
     "text": [
      "  3%|██                                                                              | 32/1208 [00:01<00:45, 25.86it/s]"
     ]
    },
    {
     "name": "stdout",
     "output_type": "stream",
     "text": [
      "04de27ff-0d36-4da3-a829-e93851d76981\n",
      "04de3a31-fc09-40be-9c2c-9830c57f809d\n",
      "04fb49a2-07b8-4cdf-b6f7-df5c3688e5f8\n",
      "0546d843-d778-4aca-b8b5-bfe23d7c87da\n",
      "05717db9-f1ef-4101-a9f7-7a007e83b1c9\n",
      "05804cf0-f854-4099-97c2-df287f7c8a8c\n"
     ]
    },
    {
     "name": "stderr",
     "output_type": "stream",
     "text": [
      "  3%|██▌                                                                             | 38/1208 [00:01<00:45, 25.52it/s]"
     ]
    },
    {
     "name": "stdout",
     "output_type": "stream",
     "text": [
      "05ac7b2a-6a77-4464-926b-8570f7c01693\n",
      "06401963-8b02-46c5-ab2a-3d70bd01623f\n",
      "064b84fe-bd21-4c27-b682-0a832272eac4\n",
      "065af549-320a-4862-b92a-8ef750d7b5fb\n",
      "06a3effb-996c-4767-afd2-6aa3b697cb4e\n"
     ]
    },
    {
     "name": "stderr",
     "output_type": "stream",
     "text": [
      "  4%|██▉                                                                             | 45/1208 [00:01<00:42, 27.07it/s]"
     ]
    },
    {
     "name": "stdout",
     "output_type": "stream",
     "text": [
      "06cd484f-e864-4fee-8819-688b45eed98e\n",
      "06df7bbe-60d4-4f7c-ba4a-5a42ac4be91b\n",
      "071901eb-4c3f-404b-a747-3d0b9d0a5158\n",
      "07346d2e-a6e6-4dc0-95f1-9f7d8d7e3f66\n",
      "073c10c9-5749-44b5-b08b-1be556a960f0\n"
     ]
    },
    {
     "name": "stderr",
     "output_type": "stream",
     "text": [
      "\r",
      "  4%|███▏                                                                            | 48/1208 [00:01<00:47, 24.63it/s]"
     ]
    },
    {
     "name": "stdout",
     "output_type": "stream",
     "text": [
      "07a80340-f65e-4f58-9317-94bb6ebd5a28\n",
      "07a96126-482e-4beb-b42a-0cb59e505372\n",
      "07d15855-eb9b-46a9-b894-7cfe4d097826\n",
      "082e1f81-4f49-44ad-b5bb-9dfc155b2ed8\n",
      "087f2c9c-188d-43cc-a94c-0eb8f10ac092\n"
     ]
    },
    {
     "name": "stderr",
     "output_type": "stream",
     "text": [
      "  4%|███▌                                                                            | 54/1208 [00:02<00:49, 23.12it/s]"
     ]
    },
    {
     "name": "stdout",
     "output_type": "stream",
     "text": [
      "089c9744-f906-41d8-908d-1e37919a8658\n",
      "08f5a524-0554-49c2-83a8-ae9a6d51e8fd\n",
      "0901f9d1-be4f-4c19-8e83-dd724dded9f5\n",
      "0906111b-bac7-4541-a6dc-da435c0724a8\n"
     ]
    },
    {
     "name": "stderr",
     "output_type": "stream",
     "text": [
      "\r",
      "  5%|███▊                                                                            | 57/1208 [00:02<00:52, 22.02it/s]"
     ]
    },
    {
     "name": "stdout",
     "output_type": "stream",
     "text": [
      "093a831a-bf71-4333-bc06-942ae70cb164\n",
      "09bcedaa-e007-4692-a13f-ab02c3f872c4\n",
      "09ecf7be-28e2-4531-b9e2-07e01c44097d\n",
      "0a747cb3-c720-4572-a661-ab5670a5c42e\n",
      "0a7bfa8a-ee52-4f7a-b9c5-2919ecfa93ef\n"
     ]
    },
    {
     "name": "stderr",
     "output_type": "stream",
     "text": [
      "  5%|████▏                                                                           | 63/1208 [00:02<00:52, 21.87it/s]"
     ]
    },
    {
     "name": "stdout",
     "output_type": "stream",
     "text": [
      "0ab56f9a-846d-49e2-a617-c6cc477fdfad\n",
      "0ac747cd-ff32-49bf-bc1a-3e9b7702ce9c\n",
      "0b04ec46-5119-4cda-8c35-c4e5b6f0eed0\n",
      "0b923ab7-ebff-4079-a4bb-af7da89f374e\n",
      "0ca25c88-457f-4f03-bbc1-98fb6663f1d1\n"
     ]
    },
    {
     "name": "stderr",
     "output_type": "stream",
     "text": [
      "\r",
      "  5%|████▎                                                                           | 66/1208 [00:02<00:53, 21.38it/s]"
     ]
    },
    {
     "name": "stdout",
     "output_type": "stream",
     "text": [
      "0ceb4539-5c4c-487d-9826-452a88b5d537\n",
      "0d095f3a-9243-472b-90b4-0ce8309e778c\n",
      "0d098413-6911-4535-b70a-3c3effd8cf49\n",
      "0d2aba33-6920-4001-bd54-59fe0bf9f50e\n"
     ]
    },
    {
     "name": "stderr",
     "output_type": "stream",
     "text": [
      "  6%|████▊                                                                           | 72/1208 [00:03<00:55, 20.33it/s]"
     ]
    },
    {
     "name": "stdout",
     "output_type": "stream",
     "text": [
      "0d3c2521-da55-4df5-bf06-56b3bd4fb2fc\n",
      "0d7bf56f-3b5a-40bd-971c-2ca33dd89b2c\n",
      "0da07970-3146-479c-8a07-f61ed32814a9\n",
      "0dcbf2c9-f959-4703-a72b-f6a81e66c2ea\n",
      "0dcca702-a4ef-4fb3-a940-9c0c140b21c7\n"
     ]
    },
    {
     "name": "stderr",
     "output_type": "stream",
     "text": [
      "\r",
      "  6%|████▉                                                                           | 75/1208 [00:03<01:01, 18.54it/s]"
     ]
    },
    {
     "name": "stdout",
     "output_type": "stream",
     "text": [
      "0ed416f9-7c20-4829-9016-559e4009568e\n",
      "0f0c949e-018a-4f3f-ab02-3704f49c7754\n",
      "0f26699f-a776-4424-b092-27da9a1d12e2\n"
     ]
    },
    {
     "name": "stderr",
     "output_type": "stream",
     "text": [
      "\r",
      "  6%|█████▏                                                                          | 78/1208 [00:03<00:58, 19.40it/s]"
     ]
    },
    {
     "name": "stdout",
     "output_type": "stream",
     "text": [
      "0f2a6cda-afec-437b-8803-8d3176b072c1\n",
      "0f735cca-051c-4048-a1fa-cb36f389e12f\n",
      "0fa5b35d-6c44-4207-b6f8-d5b355086b5f\n",
      "0fcd1ebe-ee4a-40a0-b787-29cee18bfa1b\n",
      "1012abf2-cb05-4337-86c5-513ec4ca904d\n"
     ]
    },
    {
     "name": "stderr",
     "output_type": "stream",
     "text": [
      "  7%|█████▍                                                                          | 83/1208 [00:03<01:01, 18.24it/s]"
     ]
    },
    {
     "name": "stdout",
     "output_type": "stream",
     "text": [
      "105af41b-13cc-4ad1-8a1f-8bc4d47cdd94\n",
      "10891eed-b0f2-4dd0-90cb-da185f6761b2\n",
      "109fbb82-bc3c-41ac-984d-e2da86202873\n",
      "10be6380-cbbb-4886-8b9e-ff56b1710576\n",
      "11b72c7b-5c52-44b7-adb7-21eacc25e441\n"
     ]
    },
    {
     "name": "stderr",
     "output_type": "stream",
     "text": [
      "  7%|█████▉                                                                          | 89/1208 [00:03<00:52, 21.17it/s]"
     ]
    },
    {
     "name": "stdout",
     "output_type": "stream",
     "text": [
      "11e517bf-943b-4928-929a-e9f72c097880\n",
      "12269960-075f-40ca-9630-49ea2ce78294\n",
      "13099edb-35d9-438f-b093-2cf2ebf9d255\n",
      "1315c2a4-0794-4dfa-a709-e2451723d2b6\n",
      "1345dc89-a3d9-4b71-8a75-b3bff01ba518\n",
      "137d540f-d71e-47e8-bd9b-6cd0a6433c33\n"
     ]
    },
    {
     "name": "stderr",
     "output_type": "stream",
     "text": [
      "  8%|██████▎                                                                         | 95/1208 [00:04<00:49, 22.69it/s]"
     ]
    },
    {
     "name": "stdout",
     "output_type": "stream",
     "text": [
      "1380f9b4-bf54-4492-90c3-743c7aa8898b\n",
      "13bab3c3-3f79-44d9-a287-0ae6d71eff31\n",
      "14005767-9296-4b48-8a9d-bbe9b2040005\n",
      "143f5959-5b6d-4f95-bcee-9e110450fc22\n",
      "1493d140-c9d5-4c3a-9caf-3eafb290a49b\n"
     ]
    },
    {
     "name": "stderr",
     "output_type": "stream",
     "text": [
      "\r",
      "  8%|██████▍                                                                         | 98/1208 [00:04<00:50, 22.14it/s]"
     ]
    },
    {
     "name": "stdout",
     "output_type": "stream",
     "text": [
      "14b68d86-ac7f-419d-b4a5-6b0b1d9aaa18\n",
      "14efbfc8-39f6-4599-9994-a8cc95605b9c\n",
      "1519257c-e3e5-4474-908f-8665b3cf1258\n",
      "151f3af5-5e6e-4bcd-9389-4974fc68813e\n"
     ]
    },
    {
     "name": "stderr",
     "output_type": "stream",
     "text": [
      "  9%|██████▊                                                                        | 104/1208 [00:04<00:53, 20.55it/s]"
     ]
    },
    {
     "name": "stdout",
     "output_type": "stream",
     "text": [
      "1574565f-f45b-4160-947e-25ce1a81aaca\n",
      "157ac97a-396e-4f6c-94c6-72a4d06ccc5f\n",
      "161978c3-3a05-47a5-9fee-be7d25693eae\n",
      "16244280-6c74-47d3-b544-9fd6831a6bf9\n",
      "169d541c-daed-468e-8b41-0f1abccdf319\n"
     ]
    },
    {
     "name": "stderr",
     "output_type": "stream",
     "text": [
      "  9%|███████▏                                                                       | 110/1208 [00:04<00:52, 20.87it/s]"
     ]
    },
    {
     "name": "stdout",
     "output_type": "stream",
     "text": [
      "16a51468-9f93-45df-9ae2-5a74c25c5a4b\n",
      "16ec6e1f-5020-40b3-ba26-51c340d03ee7\n",
      "177a3141-fa93-426a-9b52-7da71547ce44\n",
      "177f883a-f0f1-4b8e-b598-2ca4bab27381\n"
     ]
    },
    {
     "name": "stderr",
     "output_type": "stream",
     "text": [
      "\r",
      "  9%|███████▍                                                                       | 113/1208 [00:05<00:53, 20.63it/s]"
     ]
    },
    {
     "name": "stdout",
     "output_type": "stream",
     "text": [
      "17c06a23-bb77-49cb-9ffb-fbfc75fcc715\n",
      "17ef5841-bd19-4610-ba47-7d321231847b\n",
      "184b376b-03cb-4c2d-af51-fc1a62196293\n",
      "1863da5f-c595-4541-a8f4-21fe78678168\n"
     ]
    },
    {
     "name": "stderr",
     "output_type": "stream",
     "text": [
      "\r",
      " 10%|███████▌                                                                       | 116/1208 [00:05<00:51, 21.36it/s]"
     ]
    },
    {
     "name": "stdout",
     "output_type": "stream",
     "text": [
      "187f92b2-71ed-484a-9bd3-599ca0d2636f\n",
      "1893e0c5-88e9-4644-bd59-3e47bc53a88c\n",
      "18dbe7c4-89d2-42a6-a969-1e951ab313b1\n",
      "191071ab-6515-428c-9f05-8e4309542b75\n",
      "191f87a4-6f2d-49e7-bba0-08e3aa78ddaf\n"
     ]
    },
    {
     "name": "stderr",
     "output_type": "stream",
     "text": [
      " 10%|███████▉                                                                       | 122/1208 [00:05<00:49, 21.79it/s]"
     ]
    },
    {
     "name": "stdout",
     "output_type": "stream",
     "text": [
      "19370afd-f897-47d8-bfae-c0d257bbf795\n",
      "194aec70-41a5-4ac3-b22f-0b6eda91f730\n",
      "1976cd04-d24f-457c-b423-7e4cdb05de9e\n",
      "19979a60-df80-4111-bf69-81a7e9c4dd0b\n",
      "1a27ebe9-93a1-4898-af69-f276057d4012\n"
     ]
    },
    {
     "name": "stderr",
     "output_type": "stream",
     "text": [
      " 11%|████████▎                                                                      | 128/1208 [00:05<00:50, 21.25it/s]"
     ]
    },
    {
     "name": "stdout",
     "output_type": "stream",
     "text": [
      "1a332b2c-9d49-4ff2-810c-5633d2314527\n",
      "1a48cbc1-5423-47e5-8ca5-2ab4f83a05a5\n",
      "1b369bcf-ced4-4ae2-9196-2664bd2b1738\n",
      "1b7f47fc-26cd-4273-b848-88a7cbfd9f85\n",
      "1c406ce1-023b-47fc-a2cd-5ea2e255de65\n",
      "1c87b997-a8e6-48ca-bf40-19b9a7fd6a96\n"
     ]
    },
    {
     "name": "stderr",
     "output_type": "stream",
     "text": [
      " 11%|████████▊                                                                      | 134/1208 [00:05<00:46, 23.28it/s]"
     ]
    },
    {
     "name": "stdout",
     "output_type": "stream",
     "text": [
      "1c90231b-2830-42d9-884e-7301edb16933\n",
      "1d4cdf2e-79a0-41e9-aabe-e437a190dfc4\n",
      "1d4f06e1-9c9b-487e-84cd-e7e50cc754da\n",
      "1d9d4dac-66f9-4c87-b714-d723d5b15fa9\n",
      "1dd3e6dd-343f-4cc9-b0ed-e4d27fb36f0a\n",
      "1e86933d-6a5a-4a3c-a0f2-ca22afd767b3\n"
     ]
    },
    {
     "name": "stderr",
     "output_type": "stream",
     "text": [
      " 12%|█████████▏                                                                     | 140/1208 [00:06<00:45, 23.23it/s]"
     ]
    },
    {
     "name": "stdout",
     "output_type": "stream",
     "text": [
      "1e978dfa-d339-4025-809d-09cee76728ed\n",
      "1ecb0405-a6e9-4485-819e-2fbbf2b718aa\n",
      "1f337b61-1b0d-4539-91f9-73d4a0798a4a\n",
      "1f8edb2a-40bc-4beb-aa6b-884d2473df0f\n",
      "1f8f08ea-b5b3-4f68-94d4-3cc071b7dce8\n"
     ]
    },
    {
     "name": "stderr",
     "output_type": "stream",
     "text": [
      "\r",
      " 12%|█████████▎                                                                     | 143/1208 [00:06<00:47, 22.26it/s]"
     ]
    },
    {
     "name": "stdout",
     "output_type": "stream",
     "text": [
      "1fdf99d1-a494-4174-bcd7-efbe457ab899\n",
      "1fe1e118-adb8-4b10-a41e-1e5814e8f067\n",
      "205306da-0ed8-475a-ace6-f2f81d4be88a\n",
      "20d4f65e-6c63-433a-935c-d568d577967b\n",
      "2102e5d1-8bec-4ab6-ab35-2705485da1f8\n"
     ]
    },
    {
     "name": "stderr",
     "output_type": "stream",
     "text": [
      " 12%|█████████▋                                                                     | 149/1208 [00:06<00:46, 22.95it/s]"
     ]
    },
    {
     "name": "stdout",
     "output_type": "stream",
     "text": [
      "21417261-475a-456f-b03f-57ac85a6e106\n",
      "214f1d15-a081-476e-992d-6c3a77f03d59\n",
      "2165fe38-b474-467d-be11-d1d728085efd\n",
      "216f9d43-6869-4ba1-9106-4f5ea6aac223\n",
      "2196389c-45ec-46b5-bc6c-1f4a33df7f7c\n",
      "21a50e4c-b750-46b5-801f-5429ede7dea9\n"
     ]
    },
    {
     "name": "stderr",
     "output_type": "stream",
     "text": [
      " 13%|██████████▏                                                                    | 155/1208 [00:06<00:44, 23.85it/s]"
     ]
    },
    {
     "name": "stdout",
     "output_type": "stream",
     "text": [
      "21c2a8aa-407c-4569-8212-96fcafa84138\n",
      "21cc498b-8cb2-42ed-8f80-bfa27b86ef11\n",
      "21ea4841-8998-4c04-b345-bc99cd8ecee6\n",
      "21f001d6-f568-4ea4-82da-fab54c77c419\n",
      "2240b991-48f6-4c59-9b62-5a8b5e541fae\n"
     ]
    },
    {
     "name": "stderr",
     "output_type": "stream",
     "text": [
      " 13%|██████████▌                                                                    | 161/1208 [00:07<00:45, 23.23it/s]"
     ]
    },
    {
     "name": "stdout",
     "output_type": "stream",
     "text": [
      "22516db4-8687-4051-90c4-2bb1ca3204a5\n",
      "22a464ef-c3da-4d56-b37e-e22e95d945e7\n",
      "22cbf509-c9bf-46ec-bfce-f079c6b76c8c\n",
      "2374ae5b-c2df-4db5-afea-c54180aa22e3\n",
      "239f17eb-a2e2-47e9-82e3-fa0d9a70fb9f\n"
     ]
    },
    {
     "name": "stderr",
     "output_type": "stream",
     "text": [
      " 14%|██████████▉                                                                    | 167/1208 [00:07<00:48, 21.42it/s]"
     ]
    },
    {
     "name": "stdout",
     "output_type": "stream",
     "text": [
      "24115f58-a7d6-4022-a95a-86b515a78d3e\n",
      "24418314-f7a4-49fc-a03e-ec597ca6796e\n",
      "244ac6fa-8a92-4214-9cf4-ae0811d9ec7e\n",
      "24879caf-a327-464c-9cd9-e0f3d9161079\n",
      "25132962-ff5d-4737-995f-c54d8490539b\n"
     ]
    },
    {
     "name": "stderr",
     "output_type": "stream",
     "text": [
      "\r",
      " 14%|███████████                                                                    | 170/1208 [00:07<00:48, 21.33it/s]"
     ]
    },
    {
     "name": "stdout",
     "output_type": "stream",
     "text": [
      "2518f6e4-29cc-4ae4-a914-b215a4c56099\n",
      "252071ac-e9f2-41d2-abbb-87ef01b8a997\n",
      "2559636b-f01a-4414-93da-210c3b12d153\n",
      "255d5f0c-87fc-4337-bb51-07c440df4f1b\n",
      "2596eb32-1323-41e9-8c0f-64819abcfc73\n"
     ]
    },
    {
     "name": "stderr",
     "output_type": "stream",
     "text": [
      " 15%|███████████▌                                                                   | 176/1208 [00:07<00:45, 22.59it/s]"
     ]
    },
    {
     "name": "stdout",
     "output_type": "stream",
     "text": [
      "259da25f-40f3-4d37-bca9-a9c807af1547\n",
      "25c6cfb1-01d0-4864-87f9-02b7593683c7\n",
      "25cfca07-2101-484f-b312-a927395f2651\n",
      "25ddc1ca-d368-4fff-b1ad-1dbf1e7c97aa\n",
      "261562a8-ffd8-4e0e-919b-22e267000b74\n"
     ]
    },
    {
     "name": "stderr",
     "output_type": "stream",
     "text": [
      "\r",
      " 15%|███████████▋                                                                   | 179/1208 [00:07<00:46, 22.10it/s]"
     ]
    },
    {
     "name": "stdout",
     "output_type": "stream",
     "text": [
      "266180ed-77a3-4284-8292-50a49fc47fce\n",
      "26799d2b-a289-4eff-9218-0aad77e05e41\n",
      "27388ff2-4000-4c9a-a2e3-addc448a5f92\n",
      "27cdd837-e40f-491e-8adb-61e493189832\n",
      "27fab82c-5bf0-426f-aeb9-47da829b6629\n"
     ]
    },
    {
     "name": "stderr",
     "output_type": "stream",
     "text": [
      " 15%|████████████                                                                   | 185/1208 [00:08<00:45, 22.57it/s]"
     ]
    },
    {
     "name": "stdout",
     "output_type": "stream",
     "text": [
      "289ef1b7-02d5-42e9-a401-687688181306\n",
      "28bd16ba-2bcf-46af-b889-41b78d2a50c0\n",
      "28c96a4a-4549-4761-99e4-ace4ea7e7ac9\n",
      "29539cb0-1c52-46b2-9302-552f8349dc71\n",
      "29648565-fe28-4517-ba72-68df0c82c9c5\n"
     ]
    },
    {
     "name": "stderr",
     "output_type": "stream",
     "text": [
      " 16%|████████████▍                                                                  | 191/1208 [00:08<00:45, 22.33it/s]"
     ]
    },
    {
     "name": "stdout",
     "output_type": "stream",
     "text": [
      "29861cf9-9a1e-4733-8309-4bd10706b4a3\n",
      "29d40b60-cde1-45b5-b403-692437a77ac1\n",
      "29d4b75f-d400-4702-a9ac-e5a4ed1a1db1\n",
      "29dc8176-dfe1-40e0-8247-2dc3c530057e\n"
     ]
    },
    {
     "name": "stderr",
     "output_type": "stream",
     "text": [
      "\r",
      " 16%|████████████▋                                                                  | 194/1208 [00:08<00:53, 19.04it/s]"
     ]
    },
    {
     "name": "stdout",
     "output_type": "stream",
     "text": [
      "2a02cec2-a09b-483a-ad38-14359a763fa4\n",
      "2a6370b0-08f1-4c11-a639-265d4419c9a3\n",
      "2a91387a-d30f-418d-ac3a-f7cfa6836261\n"
     ]
    },
    {
     "name": "stderr",
     "output_type": "stream",
     "text": [
      "\r",
      " 16%|████████████▉                                                                  | 198/1208 [00:08<00:46, 21.81it/s]"
     ]
    },
    {
     "name": "stdout",
     "output_type": "stream",
     "text": [
      "2ac343e4-c889-47c1-8fe2-461b626def76\n",
      "2ae3e6e6-7482-4ab8-ad73-b530b5c2ee3b\n",
      "2aeb7b85-7df9-4a63-8d37-2eecaaa190e7\n",
      "2afe2750-c963-46f9-a1ad-9260e80679ca\n",
      "2b128a1a-95ed-408b-b9f8-8795cc814d80\n",
      "2b369d75-9c55-43e0-b352-d981aea544e3\n"
     ]
    },
    {
     "name": "stderr",
     "output_type": "stream",
     "text": [
      "\r",
      " 17%|█████████████▏                                                                 | 201/1208 [00:08<00:42, 23.45it/s]"
     ]
    },
    {
     "name": "stdout",
     "output_type": "stream",
     "text": [
      "2bd15b6e-fe2d-49f3-b394-940d024d1f91\n",
      "2bd26501-2fbc-4c1a-bef0-4ad57e02b4d0\n",
      "2bed2796-75a9-4d93-bb2d-e3ccbe1a5cbe\n"
     ]
    },
    {
     "name": "stderr",
     "output_type": "stream",
     "text": [
      " 17%|█████████████▍                                                                 | 206/1208 [00:09<01:08, 14.62it/s]"
     ]
    },
    {
     "name": "stdout",
     "output_type": "stream",
     "text": [
      "2c1eaf87-3fd3-4803-92b8-23bab40bf28c\n",
      "2c4d72f1-71a6-4bf1-b5d9-8023c7bbec74\n",
      "2cc3c4ad-670f-41b6-8910-0704cbc192ef\n",
      "2d0f600d-f94e-4907-b712-52fb37d9ed52\n",
      "2d2e81f3-e329-4765-9ba1-2c95f12dc9f3\n"
     ]
    },
    {
     "name": "stderr",
     "output_type": "stream",
     "text": [
      " 18%|█████████████▉                                                                 | 213/1208 [00:09<00:52, 18.88it/s]"
     ]
    },
    {
     "name": "stdout",
     "output_type": "stream",
     "text": [
      "2d857091-efcd-41c0-ba3f-226de90445c4\n",
      "2dbf6f69-e020-4948-9e49-4b33edb7cebd\n",
      "2e8d6a43-0110-4bf4-8e70-20567e513b81\n",
      "2f3ebec8-ef64-420d-9aa0-c2fcadc27d74\n",
      "2f6224be-50d0-4e85-94ef-88315df561b6\n",
      "2f68686f-1fe8-46e7-ad92-a08e3523ea79\n",
      "2f9f400d-2d67-4118-aaa1-9094bc4b0e47\n",
      "2fdbd9bc-bbaf-44c2-b40c-d193709639fa\n"
     ]
    },
    {
     "name": "stderr",
     "output_type": "stream",
     "text": [
      " 18%|██████████████▎                                                                | 219/1208 [00:10<00:54, 17.98it/s]"
     ]
    },
    {
     "name": "stdout",
     "output_type": "stream",
     "text": [
      "3003252a-2d2e-4687-ad30-9c38d68f1394\n",
      "3006096f-ceeb-42be-b69e-785179d7438b\n",
      "30167dc1-f739-4036-b5c4-5fad435c2c67\n",
      "3061aac0-cda3-47d1-8c48-6293e9ffdf36\n",
      "3090a362-1f3d-49e9-a76e-ce76ff9c2276\n"
     ]
    },
    {
     "name": "stderr",
     "output_type": "stream",
     "text": [
      "\r",
      " 18%|██████████████▌                                                                | 222/1208 [00:10<00:50, 19.63it/s]"
     ]
    },
    {
     "name": "stdout",
     "output_type": "stream",
     "text": [
      "30948737-0d0d-4b68-b9ab-50577e0fe026\n",
      "30ad83f1-a9b3-4a07-aea6-6c06b71e9ace\n",
      "3130f950-8345-4315-9711-92f7af3f5c14\n",
      "313ed8d9-3c00-4415-9de0-0eda07c60ad9\n"
     ]
    },
    {
     "name": "stderr",
     "output_type": "stream",
     "text": [
      " 19%|██████████████▉                                                                | 228/1208 [00:10<00:48, 20.06it/s]"
     ]
    },
    {
     "name": "stdout",
     "output_type": "stream",
     "text": [
      "31435107-c77d-42f8-a619-75cba6a5161b\n",
      "31653d0f-c4e6-4e12-8005-518c2de34687\n",
      "318de807-7232-4ab1-843e-a901547c0125\n",
      "319c9c52-f316-49f3-baad-4444ab19f85b\n",
      "31af9c31-7868-44a6-8eb4-82ce118af425\n"
     ]
    },
    {
     "name": "stderr",
     "output_type": "stream",
     "text": [
      "\r",
      " 19%|███████████████                                                                | 231/1208 [00:10<00:47, 20.47it/s]"
     ]
    },
    {
     "name": "stdout",
     "output_type": "stream",
     "text": [
      "31c749e8-18d1-4105-b7e6-8319cceddae0\n",
      "32700bc7-7a86-49d3-aded-ccaaed4ddc5c\n",
      "32a1ea24-b6b7-4253-ad3e-bdf99c2c9b9d\n",
      "33068c1a-48f7-470b-8e49-e2f0888042e9\n"
     ]
    },
    {
     "name": "stderr",
     "output_type": "stream",
     "text": [
      " 20%|███████████████▍                                                               | 237/1208 [00:11<00:46, 20.83it/s]"
     ]
    },
    {
     "name": "stdout",
     "output_type": "stream",
     "text": [
      "3317d733-ec0d-45e6-b631-40457392f343\n",
      "334bf865-e3fb-4200-bd53-d9ff5808ed9f\n",
      "33bdb7b5-ad5b-4a73-bbc2-3350f8c2ac0c\n",
      "340a1727-0df7-4e6f-9c0e-9c5deddbfca2\n",
      "345cb914-7583-49df-96e3-3cf19c2ba8f1\n"
     ]
    },
    {
     "name": "stderr",
     "output_type": "stream",
     "text": [
      "\r",
      " 20%|███████████████▋                                                               | 240/1208 [00:11<00:48, 20.02it/s]"
     ]
    },
    {
     "name": "stdout",
     "output_type": "stream",
     "text": [
      "34a70114-d3e3-4351-b8db-f6caab17e743\n",
      "34df8890-272d-423a-ae78-ff8d068d3306\n",
      "34e024a5-5698-42d4-972f-fee234b4bd64\n"
     ]
    },
    {
     "name": "stderr",
     "output_type": "stream",
     "text": [
      "\r",
      " 20%|███████████████▉                                                               | 243/1208 [00:11<01:04, 15.08it/s]"
     ]
    },
    {
     "name": "stdout",
     "output_type": "stream",
     "text": [
      "3612aa3b-2906-44a6-9c80-6144511a35ce\n",
      "361a3578-4cbb-422b-9e3c-b5e61395b12e\n",
      "36569710-a574-40be-ad42-897a6e74a128\n",
      "367663b2-5d09-4020-ab0a-c2200e7a1c8c\n"
     ]
    },
    {
     "name": "stderr",
     "output_type": "stream",
     "text": [
      " 21%|████████████████▎                                                              | 249/1208 [00:11<00:51, 18.79it/s]"
     ]
    },
    {
     "name": "stdout",
     "output_type": "stream",
     "text": [
      "370277f8-436b-4103-8210-b4feb5ab95ea\n",
      "3722d213-f2a9-46d5-aa76-9183b443e455\n",
      "3768c577-4e5e-4d70-8c4d-93d8aacd5baa\n",
      "37a94c0f-e5d4-46fc-b4f8-994d477995fd\n",
      "37e072a6-000d-4773-8d9f-d66b60ace668\n"
     ]
    },
    {
     "name": "stderr",
     "output_type": "stream",
     "text": [
      " 21%|████████████████▋                                                              | 255/1208 [00:11<00:45, 21.11it/s]"
     ]
    },
    {
     "name": "stdout",
     "output_type": "stream",
     "text": [
      "3850f2a5-ab62-49d3-8135-68d60baa676b\n",
      "3859deaf-6ae1-49a3-9051-898d0f0d7de6\n",
      "3892b776-f49a-4368-b0fa-7e855e76ccec\n",
      "38c69905-8a4f-451a-8d0a-b855dc88dd16\n",
      "38d1b930-dd97-4248-9160-e9389a1a8dd7\n"
     ]
    },
    {
     "name": "stderr",
     "output_type": "stream",
     "text": [
      "\r",
      " 21%|████████████████▉                                                              | 259/1208 [00:12<00:41, 22.78it/s]"
     ]
    },
    {
     "name": "stdout",
     "output_type": "stream",
     "text": [
      "390ad256-e1ed-476a-9f14-2dc34e0da632\n",
      "3911fcd2-4e26-4ad9-aaf0-d1c5bf41defc\n",
      "393df10a-5d64-476b-88f5-14ac56d6ed60\n",
      "397f37bc-a3a4-4257-9430-c8fc5716f8b1\n",
      "39cc33be-d752-40fe-b7a8-2e69a3517205\n",
      "3a8f468f-f9de-46a8-a7c8-f2be239fa207\n"
     ]
    },
    {
     "name": "stderr",
     "output_type": "stream",
     "text": [
      " 22%|█████████████████▎                                                             | 265/1208 [00:12<00:41, 22.77it/s]"
     ]
    },
    {
     "name": "stdout",
     "output_type": "stream",
     "text": [
      "3abbc4d3-1d7e-40c9-9963-33732da7cc50\n",
      "3af90874-59f3-4f0c-a7e6-cc889e80c605\n",
      "3b13e20f-ec0d-44ec-b2f4-eaebfa09150e\n",
      "3b4440f7-a69b-4042-a9d0-d6958abcdf4e\n",
      "3b55c42f-ad59-422f-ba99-4f4f4ca9cb2e\n"
     ]
    },
    {
     "name": "stderr",
     "output_type": "stream",
     "text": [
      "\r",
      " 22%|█████████████████▌                                                             | 268/1208 [00:12<00:41, 22.85it/s]"
     ]
    },
    {
     "name": "stdout",
     "output_type": "stream",
     "text": [
      "3b5a8060-dec6-4a83-b7f2-b604e4e69dfc\n",
      "3b601a1b-26d8-4873-afcf-fdd1b1e0010c\n",
      "3cdcb09b-6a8c-43ca-b1d0-c1a289202f65\n",
      "3d1429ed-4619-41f7-8ff3-d698ad28034c\n"
     ]
    },
    {
     "name": "stderr",
     "output_type": "stream",
     "text": [
      " 23%|█████████████████▉                                                             | 274/1208 [00:12<00:49, 18.79it/s]"
     ]
    },
    {
     "name": "stdout",
     "output_type": "stream",
     "text": [
      "3d1b889e-bb4a-4ee6-b899-974ee7d956a7\n",
      "3d302619-473d-4c5b-af43-8833ff94233f\n",
      "3d32a988-449d-4d58-b71f-abbfdc3f2fbc\n",
      "3d4d7ba7-6c7c-4ddd-b282-31fb5d80edb5\n",
      "3d8fb5bf-3315-48fb-8ab1-802eafd550bc\n"
     ]
    },
    {
     "name": "stderr",
     "output_type": "stream",
     "text": [
      " 23%|██████████████████▏                                                            | 279/1208 [00:13<00:49, 18.82it/s]"
     ]
    },
    {
     "name": "stdout",
     "output_type": "stream",
     "text": [
      "3dad6483-ac30-4d2b-b045-9f24fe6ff75e\n",
      "3dcd4f1b-ce43-4a34-b1ed-076bb42963b1\n",
      "3de03fa2-3ad3-43fc-8435-b2a80bdd7550\n",
      "3e33ee12-ef02-4287-8318-7ad3b284a617\n"
     ]
    },
    {
     "name": "stderr",
     "output_type": "stream",
     "text": [
      "\r",
      " 23%|██████████████████▍                                                            | 281/1208 [00:13<00:49, 18.76it/s]"
     ]
    },
    {
     "name": "stdout",
     "output_type": "stream",
     "text": [
      "3e36698f-8c09-4c8b-8948-737310bf97e5\n",
      "3e753a44-3264-438c-8389-a7822e4a84cc\n",
      "3e764461-22ee-44d3-925d-cd658ff7d154\n",
      "3eba916c-998b-40a7-993c-7ed916c2a04c\n"
     ]
    },
    {
     "name": "stderr",
     "output_type": "stream",
     "text": [
      " 24%|██████████████████▊                                                            | 287/1208 [00:13<00:49, 18.61it/s]"
     ]
    },
    {
     "name": "stdout",
     "output_type": "stream",
     "text": [
      "3f106606-9a21-40d5-b849-273866fe0f49\n",
      "3f26fbbc-deb1-494f-b71c-c7cb3d4819fb\n",
      "3f390b82-8859-4c27-bbfe-d1b242477f63\n",
      "3f8c5ae1-b9fd-464b-8e91-98143ddd8d29\n"
     ]
    },
    {
     "name": "stderr",
     "output_type": "stream",
     "text": [
      "\r",
      " 24%|██████████████████▉                                                            | 289/1208 [00:13<00:49, 18.42it/s]"
     ]
    },
    {
     "name": "stdout",
     "output_type": "stream",
     "text": [
      "3fa1a4e3-c80d-49da-8f7b-a1abb0424f48\n",
      "3ff98212-7c2a-46cd-afb7-34a2479bed07\n",
      "4063945d-03fc-4ce3-a04c-17435dce8f91\n",
      "406e05f0-4444-414c-bb40-f4cb08e75ac9\n"
     ]
    },
    {
     "name": "stderr",
     "output_type": "stream",
     "text": [
      "\r",
      " 24%|███████████████████                                                            | 292/1208 [00:13<00:46, 19.69it/s]"
     ]
    },
    {
     "name": "stdout",
     "output_type": "stream",
     "text": [
      "412c9fa5-fcf4-402b-b1e4-3271f775058e\n",
      "415409ac-97b3-4cd9-b203-11ef00662352\n",
      "4184a235-d209-4151-86e9-6c77e7938dab\n"
     ]
    },
    {
     "name": "stderr",
     "output_type": "stream",
     "text": [
      "\r",
      " 24%|███████████████████▎                                                           | 295/1208 [00:14<01:34,  9.67it/s]"
     ]
    },
    {
     "name": "stdout",
     "output_type": "stream",
     "text": [
      "419309ef-da3f-4424-93cf-01ff4c52b017\n",
      "41ebf9a1-24dc-454e-8bf8-508218f5ee57\n"
     ]
    },
    {
     "name": "stderr",
     "output_type": "stream",
     "text": [
      " 25%|███████████████████▌                                                           | 300/1208 [00:15<01:45,  8.64it/s]"
     ]
    },
    {
     "name": "stdout",
     "output_type": "stream",
     "text": [
      "4257342d-6d77-4671-a84b-1f0c36ccb367\n",
      "4272cbd7-5b0a-4bf7-b690-dee1c128f07b\n",
      "42845335-4ab2-4963-806d-0985d1382a31\n",
      "42e87148-a015-4148-923a-fb83016f64e7\n",
      "43072c64-4c08-47cd-ae8a-b74d31f80008\n",
      "43158031-a335-4533-9c20-48bebba90123\n"
     ]
    },
    {
     "name": "stderr",
     "output_type": "stream",
     "text": [
      " 25%|███████████████████▉                                                           | 305/1208 [00:15<01:20, 11.24it/s]"
     ]
    },
    {
     "name": "stdout",
     "output_type": "stream",
     "text": [
      "434523fd-d4d9-4961-a7c2-d71d6ae68e13\n",
      "4372709c-f356-4906-be17-415384d916e8\n",
      "43bc935a-f655-45e1-a64d-fcb8b78267a6\n",
      "4411fea2-d785-4eeb-80c6-c739ab6114c4\n"
     ]
    },
    {
     "name": "stderr",
     "output_type": "stream",
     "text": [
      " 26%|████████████████████▎                                                          | 311/1208 [00:15<00:55, 16.13it/s]"
     ]
    },
    {
     "name": "stdout",
     "output_type": "stream",
     "text": [
      "441d7843-b20b-4c10-84e3-e6d32621e880\n",
      "445d0db9-e830-4ceb-a845-b23d819e6097\n",
      "44b4a765-104e-4182-8871-e933c83c91ef\n",
      "452482bc-24a3-413e-ba03-fad4c9d61f3c\n",
      "452ab003-ced5-40cb-82d1-5495d9e068b1\n",
      "45651e76-4bd0-45e5-895b-edec65f51987\n"
     ]
    },
    {
     "name": "stderr",
     "output_type": "stream",
     "text": [
      " 26%|████████████████████▋                                                          | 317/1208 [00:15<00:43, 20.58it/s]"
     ]
    },
    {
     "name": "stdout",
     "output_type": "stream",
     "text": [
      "458cb2e9-5a7f-437c-ac5d-a56f98a3efdf\n",
      "45902b63-be9a-49ae-9ede-3a8015671bc4\n",
      "45ac9409-5537-44ed-90cd-5c8a1ae0e1e0\n",
      "45f18ac0-f097-4b20-a99d-8837cf488822\n",
      "461a3ed6-039f-4a70-97cf-c474ecf51ccd\n",
      "464055b6-3351-4636-a919-8be9840fb850\n"
     ]
    },
    {
     "name": "stderr",
     "output_type": "stream",
     "text": [
      " 27%|█████████████████████                                                          | 323/1208 [00:16<00:41, 21.45it/s]"
     ]
    },
    {
     "name": "stdout",
     "output_type": "stream",
     "text": [
      "468c261d-f5d8-423f-883e-48af2bbbc5d1\n",
      "46a03374-64c7-49ac-81c9-c3d62542bbf3\n",
      "46a2d369-4bea-4405-ac78-91bbe130b9a7\n",
      "46f5bd4f-8bea-48d1-a1da-4dea28e3b814\n"
     ]
    },
    {
     "name": "stderr",
     "output_type": "stream",
     "text": [
      "\r",
      " 27%|█████████████████████▎                                                         | 326/1208 [00:16<00:43, 20.37it/s]"
     ]
    },
    {
     "name": "stdout",
     "output_type": "stream",
     "text": [
      "471f75c6-bd5d-4c20-bcc1-258e836f4d69\n",
      "4736f545-1f1f-4d77-9241-d69cbf4dae35\n",
      "4748ba2b-6771-41d9-93a5-af9ccd559261\n",
      "4767bfcc-fe87-4962-8c40-6ce8d9363cdf\n",
      "477e541c-0519-4542-9b13-8ee7922644d3\n"
     ]
    },
    {
     "name": "stderr",
     "output_type": "stream",
     "text": [
      "\r",
      " 27%|█████████████████████▌                                                         | 330/1208 [00:16<00:38, 22.85it/s]"
     ]
    },
    {
     "name": "stdout",
     "output_type": "stream",
     "text": [
      "4811fdf2-d7e8-475e-a840-45dda5282bf3\n",
      "4823c1fe-a7f9-4b92-959f-0d9be09cd14b\n",
      "4849866a-73a2-4fcf-a407-2d0a25a09a89\n",
      "4876c9d0-b386-48fb-84e8-91bf87529161\n",
      "48e2f0bd-2164-40c3-af43-1f2708359978\n"
     ]
    },
    {
     "name": "stderr",
     "output_type": "stream",
     "text": [
      "\r",
      " 28%|█████████████████████▊                                                         | 333/1208 [00:16<00:48, 18.18it/s]"
     ]
    },
    {
     "name": "stdout",
     "output_type": "stream",
     "text": [
      "4903d9c7-de88-426a-b42d-a7e797e5ebcd\n",
      "49288109-80e9-4ec8-96d1-26a0166b8883\n"
     ]
    },
    {
     "name": "stderr",
     "output_type": "stream",
     "text": [
      " 28%|██████████████████████                                                         | 338/1208 [00:17<00:55, 15.55it/s]"
     ]
    },
    {
     "name": "stdout",
     "output_type": "stream",
     "text": [
      "4935818a-7e7a-4f44-a3b6-b361d1abfe16\n",
      "49b03a6e-6b26-4a96-a061-e05647a02138\n",
      "49c4dbd3-6269-4d4c-9648-a2146c57bab1\n",
      "49efc89d-9cba-44f7-8257-7f911b73f68a\n",
      "4a0a05e1-11ad-4bfc-bfa3-adf3b9bd0b56\n"
     ]
    },
    {
     "name": "stderr",
     "output_type": "stream",
     "text": [
      " 28%|██████████████████████▍                                                        | 343/1208 [00:17<00:50, 17.14it/s]"
     ]
    },
    {
     "name": "stdout",
     "output_type": "stream",
     "text": [
      "4a49841f-216c-4815-8140-b8762c4f6603\n",
      "4a717a39-80f8-4b75-a25e-c46d65d7dcd5\n",
      "4aad9589-6b32-4522-bcd7-ca04687a02ca\n",
      "4ab47131-c2ac-461f-b95c-ac19ce24edbd\n",
      "4adcaa26-aa1f-47b5-bdf0-18c9f814f576\n"
     ]
    },
    {
     "name": "stderr",
     "output_type": "stream",
     "text": [
      " 29%|██████████████████████▊                                                        | 349/1208 [00:17<00:44, 19.45it/s]"
     ]
    },
    {
     "name": "stdout",
     "output_type": "stream",
     "text": [
      "4b346035-b8c0-46ca-8fdb-a01b1421ee4a\n",
      "4b3a49bc-8536-4760-9553-440a6f64db37\n",
      "4c13e22e-dfd1-4fa1-b373-be9d0c272c0f\n",
      "4c460388-e0c1-4970-8527-c9e5b42bea49\n"
     ]
    },
    {
     "name": "stderr",
     "output_type": "stream",
     "text": [
      "\r",
      " 29%|███████████████████████                                                        | 352/1208 [00:17<00:42, 20.04it/s]"
     ]
    },
    {
     "name": "stdout",
     "output_type": "stream",
     "text": [
      "4c7d2382-a962-4237-a053-955eea3decd8\n",
      "4cccfcf0-cac9-46f0-870c-0eabfdc781ba\n",
      "4ce5a070-9ede-4bb1-9ca2-1bae5746776b\n",
      "4d0a1598-e4dd-45c4-8a90-dd7c780fe1da\n",
      "4d88e2d2-5aad-410c-9bbc-702ee9496995\n"
     ]
    },
    {
     "name": "stderr",
     "output_type": "stream",
     "text": [
      "\r",
      " 29%|███████████████████████▏                                                       | 355/1208 [00:18<00:55, 15.29it/s]"
     ]
    },
    {
     "name": "stdout",
     "output_type": "stream",
     "text": [
      "4d8a4ce8-0f9c-4f21-8844-4cf0e5514bbf\n",
      "4e2873dd-651e-4ecc-ac70-7335cf21a469\n"
     ]
    },
    {
     "name": "stderr",
     "output_type": "stream",
     "text": [
      "\r",
      " 30%|███████████████████████▎                                                       | 357/1208 [00:18<01:07, 12.66it/s]"
     ]
    },
    {
     "name": "stdout",
     "output_type": "stream",
     "text": [
      "4e43fc22-dc08-4cde-b3ce-ce8a4f377c47\n",
      "4f62b14e-c6f4-4155-8f50-881558f83fae\n",
      "4fac16e1-8e62-499b-a66b-c4c890372914\n"
     ]
    },
    {
     "name": "stderr",
     "output_type": "stream",
     "text": [
      " 30%|███████████████████████▋                                                       | 362/1208 [00:18<00:55, 15.15it/s]"
     ]
    },
    {
     "name": "stdout",
     "output_type": "stream",
     "text": [
      "4fb83278-adc5-4424-9f45-b6d0db2955b6\n",
      "4fc9a597-aaa8-43b0-ad1c-2eabbe442e84\n",
      "505355c9-23bf-4f90-8ebc-6a7ef50964d0\n",
      "50715879-2300-4dba-8f4a-3314ff8cfcce\n"
     ]
    },
    {
     "name": "stderr",
     "output_type": "stream",
     "text": [
      "\r",
      " 30%|███████████████████████▊                                                       | 365/1208 [00:18<00:50, 16.63it/s]"
     ]
    },
    {
     "name": "stdout",
     "output_type": "stream",
     "text": [
      "5077f87d-a19f-494c-b911-14ccb03bd230\n",
      "50d52637-f5e0-4d0d-aaee-4a29f044cf74\n",
      "50d7c6c9-3230-48fe-947c-7dcfd0aad710\n",
      "50d9fc90-8642-4bb6-91a7-0069a7e37392\n",
      "50f2f514-6c8e-4c79-b3b3-0be56dd0b78b\n"
     ]
    },
    {
     "name": "stderr",
     "output_type": "stream",
     "text": [
      " 31%|████████████████████████▎                                                      | 371/1208 [00:19<00:44, 18.76it/s]"
     ]
    },
    {
     "name": "stdout",
     "output_type": "stream",
     "text": [
      "5107dcb7-164f-4e10-bbff-822b39b76efc\n",
      "516bf1d5-5d00-4985-926c-3993e9bc3ff5\n",
      "51e86aa9-caa0-4297-94e8-34a57d7f7e36\n",
      "521a26aa-0a31-4c07-b4d0-fac08eb08344\n",
      "52767904-4cdc-4821-ba68-8cd0c28f9023\n"
     ]
    },
    {
     "name": "stderr",
     "output_type": "stream",
     "text": [
      " 31%|████████████████████████▋                                                      | 377/1208 [00:19<00:39, 21.11it/s]"
     ]
    },
    {
     "name": "stdout",
     "output_type": "stream",
     "text": [
      "530761d4-1931-44cd-b220-d60db0e228f9\n",
      "533c47c9-02a6-419b-961b-81797f022f6c\n",
      "5397d8e2-bb09-42e7-9861-65ffad0fe94e\n",
      "53afd70c-08a7-4b9a-b137-7003b2ecbeab\n",
      "540a5fee-175b-4b92-bf62-1ea9b59c86c6\n",
      "5487faad-24a7-46b6-92d8-479d3a8d229f\n",
      "550cf4ce-b641-44a3-8487-3e16d4049187\n"
     ]
    },
    {
     "name": "stderr",
     "output_type": "stream",
     "text": [
      " 32%|█████████████████████████                                                      | 383/1208 [00:19<00:53, 15.43it/s]"
     ]
    },
    {
     "name": "stdout",
     "output_type": "stream",
     "text": [
      "555c6ea2-c76c-4e71-af57-855d940c2b37\n",
      "55836297-fc8e-4e00-9767-0d12b86e4604\n",
      "55f8c052-8e49-4423-a4c4-365fc6afb6e1\n",
      "56077789-8580-41b4-89d6-deea227e5c60\n",
      "565513be-2c20-4ee3-94f3-093869515d3d\n"
     ]
    },
    {
     "name": "stderr",
     "output_type": "stream",
     "text": [
      "\r",
      " 32%|█████████████████████████▏                                                     | 385/1208 [00:20<00:51, 15.84it/s]"
     ]
    },
    {
     "name": "stdout",
     "output_type": "stream",
     "text": [
      "56551792-4aa1-4301-9f8f-8bfebcd20050\n",
      "56a57a8d-c9b9-432a-a3b0-32a09355806c\n",
      "56adbb1e-96a8-40a5-a5a2-243c97ea889b\n"
     ]
    },
    {
     "name": "stderr",
     "output_type": "stream",
     "text": [
      " 32%|█████████████████████████▌                                                     | 391/1208 [00:20<00:48, 16.87it/s]"
     ]
    },
    {
     "name": "stdout",
     "output_type": "stream",
     "text": [
      "56fbae44-4677-47f8-9c3a-22dac043c115\n",
      "5721e41b-90ef-4851-8587-8dc71227ef90\n",
      "57e1879e-4294-45e7-9c1b-627e8cca0271\n",
      "580210c2-a8ed-4720-b71c-a77945968abc\n",
      "58065a0c-d4c5-40fd-bcdc-037f61788482\n"
     ]
    },
    {
     "name": "stderr",
     "output_type": "stream",
     "text": [
      " 33%|█████████████████████████▉                                                     | 396/1208 [00:20<00:45, 17.95it/s]"
     ]
    },
    {
     "name": "stdout",
     "output_type": "stream",
     "text": [
      "582e4b8b-404e-4b30-9df3-66f2afb3cdb3\n",
      "5836500a-221e-40ca-a8be-caaa37f7d300\n",
      "584d62ed-4329-45dd-94ce-e929d8b2bb74\n",
      "58594235-0d32-4a4e-91cd-4c800eaaaa73\n"
     ]
    },
    {
     "name": "stderr",
     "output_type": "stream",
     "text": [
      "\r",
      " 33%|██████████████████████████                                                     | 399/1208 [00:20<00:42, 18.95it/s]"
     ]
    },
    {
     "name": "stdout",
     "output_type": "stream",
     "text": [
      "587e5464-d70b-4279-8562-010279f6efbd\n",
      "5893e081-04f2-4e33-9851-bed5f0e4d333\n",
      "58ced55c-bf0d-4204-b6b2-4f8992d92779\n",
      "58d75854-be99-484e-89f0-4ab208fe07e0\n"
     ]
    },
    {
     "name": "stderr",
     "output_type": "stream",
     "text": [
      " 33%|██████████████████████████▎                                                    | 403/1208 [00:21<00:53, 14.96it/s]"
     ]
    },
    {
     "name": "stdout",
     "output_type": "stream",
     "text": [
      "58f7e1da-3478-48f4-958c-e9b1cb8696aa\n",
      "592c941a-aa54-4971-b499-dc47356f80a3\n",
      "5939f341-a886-4f63-ae87-2219d000a1d4\n",
      "59542a24-b409-4c95-8608-d9691a741526\n"
     ]
    },
    {
     "name": "stderr",
     "output_type": "stream",
     "text": [
      " 34%|██████████████████████████▋                                                    | 409/1208 [00:21<00:44, 17.97it/s]"
     ]
    },
    {
     "name": "stdout",
     "output_type": "stream",
     "text": [
      "5955289d-19e5-45ef-a012-c8ea08ef45e2\n",
      "597bbff8-6592-41cf-8946-e59b0d1f289a\n",
      "59daa25e-85d6-42f2-8f39-cc9f9d5d252e\n",
      "59dc7da9-35d1-421e-a61b-1e9637bfbfa1\n"
     ]
    },
    {
     "name": "stderr",
     "output_type": "stream",
     "text": [
      "\r",
      " 34%|██████████████████████████▉                                                    | 412/1208 [00:21<00:40, 19.89it/s]"
     ]
    },
    {
     "name": "stdout",
     "output_type": "stream",
     "text": [
      "59f5699f-885f-4004-b783-a60060144e43\n",
      "5a043d69-f435-46d4-8691-395c1602a76a\n",
      "5a0628af-4c0a-4ba6-a935-4ec94c9c700e\n",
      "5a105b89-c592-4d78-b208-7db6c6572752\n",
      "5a386082-397f-4524-a6f9-c2b8efe5014d\n",
      "5a539312-6cfa-43e6-8d5d-db883f343ad9\n"
     ]
    },
    {
     "name": "stderr",
     "output_type": "stream",
     "text": [
      " 35%|███████████████████████████▎                                                   | 418/1208 [00:21<00:36, 21.58it/s]"
     ]
    },
    {
     "name": "stdout",
     "output_type": "stream",
     "text": [
      "5a631871-2fc7-4a68-9c39-f3b9a0bf4a04\n",
      "5bf91ff9-80df-49c0-9c3e-599357d95530\n",
      "5c037ffc-f515-48b3-b231-c110fbd2b8ca\n",
      "5c5b7965-1a44-44b8-aa43-660823e61821\n",
      "5c68070c-3391-4db6-8c01-94175105dbea\n"
     ]
    },
    {
     "name": "stderr",
     "output_type": "stream",
     "text": [
      " 35%|███████████████████████████▋                                                   | 424/1208 [00:22<00:36, 21.55it/s]"
     ]
    },
    {
     "name": "stdout",
     "output_type": "stream",
     "text": [
      "5c99cd97-39f6-4809-9528-9d380cc16b16\n",
      "5cac6ddf-c8c6-45de-bce0-a1db64b14fb5\n",
      "5ccca8ee-abea-458a-a891-bedd31c3ddc3\n",
      "5d1418d3-1559-4725-ad4a-9afb6eaecdfd\n",
      "5dec0204-af81-44ef-a942-8a173669c123\n",
      "5dec94a3-e3ca-4a58-9702-88e5a83ef612\n",
      "5e042380-6ef2-496f-8231-0ca550fbfa71\n"
     ]
    },
    {
     "name": "stderr",
     "output_type": "stream",
     "text": [
      " 36%|████████████████████████████                                                   | 429/1208 [00:22<00:56, 13.82it/s]"
     ]
    },
    {
     "name": "stdout",
     "output_type": "stream",
     "text": [
      "5e17f8e6-fd8d-426c-b444-1515d14f04b7\n",
      "5e2cea49-0823-49d1-83cf-8fd1559cdd93\n"
     ]
    },
    {
     "name": "stderr",
     "output_type": "stream",
     "text": [
      "\r",
      " 36%|████████████████████████████▎                                                  | 432/1208 [00:22<00:48, 15.89it/s]"
     ]
    },
    {
     "name": "stdout",
     "output_type": "stream",
     "text": [
      "5e4f7425-11e6-4f9e-be2d-5a27deb9d1b4\n",
      "5e974892-0ebe-4037-8427-ea8616d6d3b8\n",
      "5f17d2fb-22fa-4aa6-9dad-6a1d50c03815\n",
      "5f2b32bd-fdca-4d6f-b13a-ee9f83626c8d\n",
      "5f300fd1-7eec-41ac-bbd1-0f4a943c757c\n"
     ]
    },
    {
     "name": "stderr",
     "output_type": "stream",
     "text": [
      " 36%|████████████████████████████▌                                                  | 437/1208 [00:22<00:42, 18.23it/s]"
     ]
    },
    {
     "name": "stdout",
     "output_type": "stream",
     "text": [
      "5f491efd-a21c-4a80-aaba-70b8876238ac\n",
      "5f66d20c-fbfe-44ec-a01b-8a09da24807e\n",
      "5f742392-278d-461c-a848-08def2c28878\n",
      "5f783f43-0090-4f8a-bd75-9562f4aa2dd5\n",
      "5ff7c0c8-d208-4e7d-958d-ca3c2260ff39\n"
     ]
    },
    {
     "name": "stderr",
     "output_type": "stream",
     "text": [
      " 37%|████████████████████████████▉                                                  | 443/1208 [00:23<00:37, 20.60it/s]"
     ]
    },
    {
     "name": "stdout",
     "output_type": "stream",
     "text": [
      "6013bff0-dc4b-4bde-9409-0f6139c3495c\n",
      "612bdd3c-da43-4321-a76b-c73c614928d1\n",
      "6144887d-a1c1-46db-91a1-f7ff5bf8c8a5\n",
      "61575482-91e1-4db9-83c7-687b7ddbbfc4\n",
      "61cd8c7d-394d-42d3-9ed4-e09559110bed\n",
      "61dfc937-a428-44b4-94fb-d682bdb8dff0\n"
     ]
    },
    {
     "name": "stderr",
     "output_type": "stream",
     "text": [
      "\r",
      " 37%|█████████████████████████████▏                                                 | 446/1208 [00:23<00:35, 21.47it/s]"
     ]
    },
    {
     "name": "stdout",
     "output_type": "stream",
     "text": [
      "6231d81d-9e84-4a5a-8cb8-47c6a37a0176\n",
      "6274fe0d-0d71-40be-b61b-f0bd5b5df1e2\n",
      "627d6331-7bb9-4d1a-b20d-e6541af4d0f9\n",
      "6294153c-6db3-4f2b-a8ff-9c087225e737\n"
     ]
    },
    {
     "name": "stderr",
     "output_type": "stream",
     "text": [
      "\r",
      " 37%|█████████████████████████████▎                                                 | 449/1208 [00:23<01:09, 10.92it/s]"
     ]
    },
    {
     "name": "stdout",
     "output_type": "stream",
     "text": [
      "6303f964-98ef-47c6-bb2d-283aa393f918\n",
      "63055d1b-5221-4c80-8b39-37ac069a1b5c\n"
     ]
    },
    {
     "name": "stderr",
     "output_type": "stream",
     "text": [
      "\r",
      " 37%|█████████████████████████████▍                                                 | 451/1208 [00:24<01:12, 10.44it/s]"
     ]
    },
    {
     "name": "stdout",
     "output_type": "stream",
     "text": [
      "631340cc-cedf-4bca-a3d8-a0731a5482b4\n",
      "6315a55b-fed1-4355-88fa-8594538acf18\n"
     ]
    },
    {
     "name": "stderr",
     "output_type": "stream",
     "text": [
      " 38%|█████████████████████████████▊                                                 | 456/1208 [00:24<01:03, 11.77it/s]"
     ]
    },
    {
     "name": "stdout",
     "output_type": "stream",
     "text": [
      "6347dd6a-cfdf-4cb5-bc50-cff5403cfecb\n",
      "637957ef-df75-4a7b-86d5-9f6e9c042ca2\n",
      "6382976c-ee87-4916-b798-4ef1373b2df0\n",
      "6388e241-09a2-4fbe-a712-07d8fe714c51\n",
      "63d36d2c-43a9-49ac-9504-028b4968c860\n"
     ]
    },
    {
     "name": "stderr",
     "output_type": "stream",
     "text": [
      " 38%|██████████████████████████████▏                                                | 461/1208 [00:24<00:48, 15.47it/s]"
     ]
    },
    {
     "name": "stdout",
     "output_type": "stream",
     "text": [
      "63ed5931-d93e-4f9b-a6f3-152713cb560e\n",
      "640c4a52-3742-4f57-aee3-9e3dc0887622\n",
      "64113b22-03b1-4ab8-89ab-b2f32154fbbd\n",
      "645cd195-af50-409f-8da9-6e7c7f18ea09\n",
      "6473ddb6-ad56-48a2-81e8-c7cb45f06825\n"
     ]
    },
    {
     "name": "stderr",
     "output_type": "stream",
     "text": [
      "\r",
      " 38%|██████████████████████████████▎                                                | 463/1208 [00:24<00:53, 13.85it/s]"
     ]
    },
    {
     "name": "stdout",
     "output_type": "stream",
     "text": [
      "64a678d4-9048-4491-90c7-1924f38be19a\n",
      "64b0e49a-0e48-447d-8872-c1dd255e7a21\n"
     ]
    },
    {
     "name": "stderr",
     "output_type": "stream",
     "text": [
      " 39%|██████████████████████████████▌                                                | 467/1208 [00:26<02:08,  5.76it/s]"
     ]
    },
    {
     "name": "stdout",
     "output_type": "stream",
     "text": [
      "65054b19-5c6a-4870-99a9-eef994721d3a\n",
      "65e3d6a6-012c-4b40-9a42-83078eb85e31\n"
     ]
    },
    {
     "name": "stderr",
     "output_type": "stream",
     "text": [
      "\r",
      " 39%|██████████████████████████████▋                                                | 469/1208 [00:26<01:51,  6.66it/s]"
     ]
    },
    {
     "name": "stdout",
     "output_type": "stream",
     "text": [
      "65e865f3-acfb-4d01-a75f-ff5a535ffa6a\n",
      "65e8b0cd-05d1-4c8d-8efd-24bf71df3167\n"
     ]
    },
    {
     "name": "stderr",
     "output_type": "stream",
     "text": [
      "\r",
      " 39%|██████████████████████████████▊                                                | 472/1208 [00:26<01:21,  9.08it/s]"
     ]
    },
    {
     "name": "stdout",
     "output_type": "stream",
     "text": [
      "66183740-e1e5-43c9-8539-a87028bb3621\n",
      "664c570b-4822-413c-9724-11b1d91fac44\n",
      "66557580-fd38-4d4b-80d8-88611ecc78c6\n",
      "666601e7-608d-4d19-999f-8fc6ab373a55\n",
      "6695a204-e39c-4418-b904-3f080fdbe7e8\n",
      "672e4ecf-a56b-462e-b83b-76f4efaa6634\n"
     ]
    },
    {
     "name": "stderr",
     "output_type": "stream",
     "text": [
      " 40%|███████████████████████████████▎                                               | 478/1208 [00:27<01:03, 11.53it/s]"
     ]
    },
    {
     "name": "stdout",
     "output_type": "stream",
     "text": [
      "674b0fd3-f247-4b7f-97f7-3e6c57c9ba9e\n",
      "67582df6-bf13-4c83-a531-1214692b70de\n",
      "6795acae-e84d-4e97-b9a1-b4f4f0a72cfd\n",
      "679ae89f-4a02-4301-862e-1d844cc66cbf\n",
      "67a4fb91-6f38-4ca2-8f20-6b2f5f1b29a7\n"
     ]
    },
    {
     "name": "stderr",
     "output_type": "stream",
     "text": [
      "\r",
      " 40%|███████████████████████████████▍                                               | 481/1208 [00:27<00:53, 13.61it/s]"
     ]
    },
    {
     "name": "stdout",
     "output_type": "stream",
     "text": [
      "67abb826-9b70-4459-8764-da76ecf35bfe\n",
      "67acd5bc-4658-4c6e-a9b9-cd8ea3a03418\n",
      "67f5ca94-d84e-490e-bf0d-4ffba7bdbe30\n",
      "68442532-9cd2-4b42-9d4f-ddf8c13bb38c\n"
     ]
    },
    {
     "name": "stderr",
     "output_type": "stream",
     "text": [
      " 40%|███████████████████████████████▊                                               | 486/1208 [00:27<00:45, 16.03it/s]"
     ]
    },
    {
     "name": "stdout",
     "output_type": "stream",
     "text": [
      "686ed568-d5f8-475e-81ad-edab9dd473a0\n",
      "68e69cfb-1a07-48d2-8abe-46b46fe264ed\n",
      "68f34a9c-f73d-4238-8f55-4b05a8a2154c\n",
      "694222bb-cddf-469a-9526-f873c6fba58e\n"
     ]
    },
    {
     "name": "stderr",
     "output_type": "stream",
     "text": [
      "\r",
      " 40%|███████████████████████████████▉                                               | 488/1208 [00:27<00:53, 13.40it/s]"
     ]
    },
    {
     "name": "stdout",
     "output_type": "stream",
     "text": [
      "69565501-6e77-4f40-bd80-caa3dda34d8b\n",
      "69569ecf-cfa1-4ddd-9342-b22c23387fdb\n"
     ]
    },
    {
     "name": "stderr",
     "output_type": "stream",
     "text": [
      "\r",
      " 41%|████████████████████████████████                                               | 490/1208 [00:28<01:40,  7.13it/s]"
     ]
    },
    {
     "name": "stdout",
     "output_type": "stream",
     "text": [
      "697bdbc0-6e31-4e48-ac74-ba4ab5760d32\n",
      "69b5b3de-ec64-4e5d-bcc2-44f495e06e76\n"
     ]
    },
    {
     "name": "stderr",
     "output_type": "stream",
     "text": [
      " 41%|████████████████████████████████▎                                              | 494/1208 [00:29<01:52,  6.33it/s]"
     ]
    },
    {
     "name": "stdout",
     "output_type": "stream",
     "text": [
      "6ab870ba-b24b-49a9-9570-8eafe63aa74e\n",
      "6ad3efc9-4392-4cee-98a5-186564a96373\n",
      "6afb3717-f197-4668-929a-4fab389ae6e8\n",
      "6afd8203-d61a-4e9b-a4cf-dcb53a16b57c\n",
      "6b14c855-8561-417c-97a4-63fa552842fd\n"
     ]
    },
    {
     "name": "stderr",
     "output_type": "stream",
     "text": [
      " 41%|████████████████████████████████▋                                              | 500/1208 [00:29<01:00, 11.67it/s]"
     ]
    },
    {
     "name": "stdout",
     "output_type": "stream",
     "text": [
      "6b2ff7ca-c5b3-415c-9481-7b14efc6d7ef\n",
      "6b473806-e936-4b19-98cf-a2b94cac35ff\n",
      "6b4c79f5-b194-4586-be9f-e339c5af4188\n",
      "6b5ed184-cb15-4d54-93bb-9a3ca00184a1\n",
      "6b8048ed-ebd7-4789-ba87-c1ba94801481\n"
     ]
    },
    {
     "name": "stderr",
     "output_type": "stream",
     "text": [
      " 42%|█████████████████████████████████                                              | 506/1208 [00:29<00:44, 15.73it/s]"
     ]
    },
    {
     "name": "stdout",
     "output_type": "stream",
     "text": [
      "6ba5d0b8-cdc7-4266-9d78-db76faa312e9\n",
      "6bb4892c-27a9-4642-aba1-4b73f38f757c\n",
      "6bc7b53c-5a98-48ef-a9de-59a476707ea4\n",
      "6bfe6a90-8a69-4171-8e7f-42dc9417c6d9\n",
      "6c20abb2-c4bb-4de0-8774-03f4d30ce93d\n",
      "6c3f81d7-5670-46bd-9eaa-9b426413abb7\n"
     ]
    },
    {
     "name": "stderr",
     "output_type": "stream",
     "text": [
      "\r",
      " 42%|█████████████████████████████████▎                                             | 509/1208 [00:29<00:39, 17.57it/s]"
     ]
    },
    {
     "name": "stdout",
     "output_type": "stream",
     "text": [
      "6c7095cd-ab6b-4f53-bd94-905d0cc95840\n",
      "6d05ed67-43e2-43af-9d57-70c7a6eeef5e\n",
      "6d91d1f0-636b-4f5a-a526-7c17fc857190\n",
      "6dfafdf1-f588-4e80-8cf8-0126e1bf7af9\n"
     ]
    },
    {
     "name": "stderr",
     "output_type": "stream",
     "text": [
      " 43%|█████████████████████████████████▋                                             | 515/1208 [00:30<00:39, 17.49it/s]"
     ]
    },
    {
     "name": "stdout",
     "output_type": "stream",
     "text": [
      "6e39fb0a-aa41-4b16-b783-7589e97bf289\n",
      "6e7ed596-1b76-4998-8147-a846d53d91c5\n",
      "6e86206f-dafe-4c28-bacc-7b83b2d40f0c\n",
      "6f4ffe7b-395f-41ea-ad61-df5e0cbd531c\n",
      "6f67a66b-56ec-4c36-ae7c-f250d3b86a23\n"
     ]
    },
    {
     "name": "stderr",
     "output_type": "stream",
     "text": [
      " 43%|██████████████████████████████████                                             | 521/1208 [00:30<00:34, 19.65it/s]"
     ]
    },
    {
     "name": "stdout",
     "output_type": "stream",
     "text": [
      "6fa2b30f-9b89-46ac-9b79-c0bc105d4271\n",
      "6fb707b1-5c07-479f-8385-5404bf5747b0\n",
      "6fd30823-3b77-40c9-ba5d-e1eda9660674\n",
      "701206c5-aaac-4b99-9cc0-4a6854359457\n",
      "7029feb3-9ffe-46e4-9883-6a9df84f7b62\n"
     ]
    },
    {
     "name": "stderr",
     "output_type": "stream",
     "text": [
      "\r",
      " 43%|██████████████████████████████████▎                                            | 524/1208 [00:30<00:35, 19.08it/s]"
     ]
    },
    {
     "name": "stdout",
     "output_type": "stream",
     "text": [
      "7094c11a-1e62-4f98-894e-d17d138a88e9\n",
      "70a95e58-ba60-4c1f-adcd-49c198dc2ba0\n",
      "711f6b3f-cd63-46d1-834a-bc8e9aa9b43e\n",
      "71204a6d-814e-44b6-9cee-7b979f478021\n"
     ]
    },
    {
     "name": "stderr",
     "output_type": "stream",
     "text": [
      "\r",
      " 44%|██████████████████████████████████▍                                            | 527/1208 [00:30<00:45, 14.98it/s]"
     ]
    },
    {
     "name": "stdout",
     "output_type": "stream",
     "text": [
      "715761a2-745e-4743-9849-956a034ad3c4\n"
     ]
    },
    {
     "name": "stderr",
     "output_type": "stream",
     "text": [
      "\r",
      " 44%|██████████████████████████████████▋                                            | 530/1208 [00:31<00:41, 16.27it/s]"
     ]
    },
    {
     "name": "stdout",
     "output_type": "stream",
     "text": [
      "716273ea-19c4-49af-8604-df587b295eca\n",
      "71881a39-a30c-40c7-8c4a-9f64c93e79d9\n",
      "71925778-a26e-483e-a07c-f3aaf740122a\n",
      "71bbdc58-11af-41f2-9a93-3fe9257c5cf3\n",
      "71cf2467-77d3-4fac-ac6e-1d8767717c34\n"
     ]
    },
    {
     "name": "stderr",
     "output_type": "stream",
     "text": [
      "\r",
      " 44%|██████████████████████████████████▊                                            | 533/1208 [00:31<00:36, 18.50it/s]"
     ]
    },
    {
     "name": "stdout",
     "output_type": "stream",
     "text": [
      "72029aca-f0bc-477f-b790-f345f86228ce\n",
      "72088c26-d2dd-4906-b791-b8947fc7fbe4\n",
      "72105bb0-8e39-48be-b7f7-5b32f047b99e\n",
      "724e0c34-32cd-41f1-ae37-586038bc67ab\n"
     ]
    },
    {
     "name": "stderr",
     "output_type": "stream",
     "text": [
      " 45%|███████████████████████████████████▏                                           | 538/1208 [00:31<00:45, 14.66it/s]"
     ]
    },
    {
     "name": "stdout",
     "output_type": "stream",
     "text": [
      "72732579-a812-4496-b2dd-ea1556924337\n",
      "729733ff-a349-4a96-b636-ccabe7d7e167\n",
      "729a38d6-66db-48e5-a00d-7d90d224290f\n",
      "73dd09d3-2bff-4b5e-b996-9da0b8b54a8f\n"
     ]
    },
    {
     "name": "stderr",
     "output_type": "stream",
     "text": [
      " 45%|███████████████████████████████████▋                                           | 545/1208 [00:31<00:32, 20.12it/s]"
     ]
    },
    {
     "name": "stdout",
     "output_type": "stream",
     "text": [
      "74261741-4d6e-4dba-8ad4-4fbdf919c30f\n",
      "749df49e-5212-49ea-9e88-7d66f258f1df\n",
      "7521ec48-57b5-48a8-a5d6-8280ad5da19c\n",
      "75579b27-8191-4044-859b-268be969c42b\n",
      "755e5bf8-e8e1-492b-a32f-f7d87cccaa40\n"
     ]
    },
    {
     "name": "stderr",
     "output_type": "stream",
     "text": [
      "\r",
      " 45%|███████████████████████████████████▊                                           | 548/1208 [00:31<00:30, 21.76it/s]"
     ]
    },
    {
     "name": "stdout",
     "output_type": "stream",
     "text": [
      "75660b56-51c2-45a9-9c15-e18d12a3af8c\n",
      "75c243e2-610d-4d5a-bc5a-4c53d99d9ae9\n",
      "76021d69-8919-4688-95ef-7418eff620cc\n",
      "7624ac36-1cf9-42fb-844d-376078309553\n",
      "7625dfc4-858a-4c8e-907c-8943d665e9a7\n",
      "766d5547-8dd2-4c8d-b78e-3007f83932e8\n"
     ]
    },
    {
     "name": "stderr",
     "output_type": "stream",
     "text": [
      " 46%|████████████████████████████████████▏                                          | 554/1208 [00:32<00:28, 22.65it/s]"
     ]
    },
    {
     "name": "stdout",
     "output_type": "stream",
     "text": [
      "76a8a5f5-1328-4539-a131-baf877f40cf3\n",
      "76b24246-8571-4e7b-8815-b185414a2c51\n",
      "76dbce7f-dc3e-4a29-b1fe-ab9dce583080\n",
      "770b8ca4-8377-479b-9ad5-5455ec3b44f8\n",
      "77e76e62-2c71-4b52-9b21-0d1bcde9f9bf\n"
     ]
    },
    {
     "name": "stderr",
     "output_type": "stream",
     "text": [
      "\r",
      " 46%|████████████████████████████████████▍                                          | 557/1208 [00:32<00:28, 22.82it/s]"
     ]
    },
    {
     "name": "stdout",
     "output_type": "stream",
     "text": [
      "781d4bea-c6a9-4b36-ae10-ba9e328c87fe\n",
      "783ae4ad-6a35-4b3c-b19f-754974b67b2d\n",
      "787abd97-dd37-4212-8b43-61696eb3abc0\n",
      "78a5d1c3-44dd-44bc-ad5b-5e25bdcc4fae\n"
     ]
    },
    {
     "name": "stderr",
     "output_type": "stream",
     "text": [
      " 47%|████████████████████████████████████▊                                          | 563/1208 [00:32<00:27, 23.38it/s]"
     ]
    },
    {
     "name": "stdout",
     "output_type": "stream",
     "text": [
      "78ac1e98-7062-4e27-8d58-25c392cae889\n",
      "78c35732-7e31-4153-842e-55ab1cd656f6\n",
      "7942691b-6376-4c75-ae8a-ddf65454dcb2\n",
      "795d0331-da56-4d45-a58a-54803408ffd9\n",
      "79806898-0214-44bd-ba2c-b570e911be62\n"
     ]
    },
    {
     "name": "stderr",
     "output_type": "stream",
     "text": [
      "\r",
      " 47%|█████████████████████████████████████                                          | 566/1208 [00:32<00:35, 18.05it/s]"
     ]
    },
    {
     "name": "stdout",
     "output_type": "stream",
     "text": [
      "79b3a64f-2fb9-46e0-85d4-2bdd59c2075e\n",
      "79d7a014-21ff-40f1-9ac4-a69839390654\n",
      "79f2fbab-169d-4062-820d-3dfd12f062c8\n",
      "79f63258-24ce-4e69-a5cb-8529635a89a9\n"
     ]
    },
    {
     "name": "stderr",
     "output_type": "stream",
     "text": [
      " 47%|█████████████████████████████████████▍                                         | 572/1208 [00:33<00:34, 18.68it/s]"
     ]
    },
    {
     "name": "stdout",
     "output_type": "stream",
     "text": [
      "7aae78ce-ac97-478d-983c-c0ec290171df\n",
      "7abc0d26-dd66-4ef4-8c4e-4a661e589a7f\n",
      "7ba9db7e-9d3f-413c-b672-2bba5fb5b415\n",
      "7bcd3735-3134-46d1-8ca2-d4379f2d51c0\n"
     ]
    },
    {
     "name": "stderr",
     "output_type": "stream",
     "text": [
      " 48%|█████████████████████████████████████▋                                         | 576/1208 [00:33<00:41, 15.19it/s]"
     ]
    },
    {
     "name": "stdout",
     "output_type": "stream",
     "text": [
      "7bde7de1-889b-4218-b0e1-e2c04f6a7986\n",
      "7beee655-6156-43b8-b185-dbae0eaf7f45\n",
      "7c1cd7c7-7452-4428-a98e-dd7675c8ddea\n",
      "7c66d2fd-68ee-4628-b860-9d7ad25b2a80\n"
     ]
    },
    {
     "name": "stderr",
     "output_type": "stream",
     "text": [
      "\r",
      " 48%|█████████████████████████████████████▊                                         | 578/1208 [00:33<00:38, 16.16it/s]"
     ]
    },
    {
     "name": "stdout",
     "output_type": "stream",
     "text": [
      "7c68c343-a7d3-4d26-b330-a5bb97ab8d9c\n",
      "7c870293-2665-4a6b-a4fa-336959051dfc\n",
      "7d041c38-11f2-4186-8a24-29d7d0f5c3cf\n",
      "7d4c2160-317f-48d1-a60a-788ec300b3e8\n"
     ]
    },
    {
     "name": "stderr",
     "output_type": "stream",
     "text": [
      " 48%|██████████████████████████████████████▏                                        | 584/1208 [00:33<00:31, 19.67it/s]"
     ]
    },
    {
     "name": "stdout",
     "output_type": "stream",
     "text": [
      "7d4d0646-26b5-46fa-ab25-452d986e887b\n",
      "7d65d296-0f7b-41cc-9073-a547e24326c8\n",
      "7d9c1422-6332-44e9-b134-3ac94f07b0f0\n",
      "7db1373d-5bbf-47e6-ab40-30cba7678745\n",
      "7dcc84ce-e8b4-46c8-9506-7c8ebda5da2f\n",
      "7dfbfeaf-e3b1-4159-8dcd-d7f731280ac8\n"
     ]
    },
    {
     "name": "stderr",
     "output_type": "stream",
     "text": [
      "\r",
      " 49%|██████████████████████████████████████▍                                        | 587/1208 [00:33<00:31, 19.60it/s]"
     ]
    },
    {
     "name": "stdout",
     "output_type": "stream",
     "text": [
      "7e25ced3-5caf-47f8-ad0c-42946bd4468b\n",
      "7e837856-3519-4dc0-b357-4cdcfd30b4eb\n"
     ]
    },
    {
     "name": "stderr",
     "output_type": "stream",
     "text": [
      "\r",
      " 49%|██████████████████████████████████████▌                                        | 590/1208 [00:34<00:49, 12.45it/s]"
     ]
    },
    {
     "name": "stdout",
     "output_type": "stream",
     "text": [
      "7eae1169-e294-4594-8e03-1366d23ff2d1\n",
      "7eb95580-693f-41b6-9338-174be1430c23\n"
     ]
    },
    {
     "name": "stderr",
     "output_type": "stream",
     "text": [
      "\r",
      " 49%|██████████████████████████████████████▋                                        | 592/1208 [00:34<01:11,  8.62it/s]"
     ]
    },
    {
     "name": "stdout",
     "output_type": "stream",
     "text": [
      "7ef90770-6aeb-45eb-9744-49c5247dde30\n",
      "7f528918-27d4-421f-ab57-0cf9c693e697\n"
     ]
    },
    {
     "name": "stderr",
     "output_type": "stream",
     "text": [
      "\r",
      " 49%|██████████████████████████████████████▊                                        | 594/1208 [00:35<01:15,  8.18it/s]"
     ]
    },
    {
     "name": "stdout",
     "output_type": "stream",
     "text": [
      "7fd2d254-b062-4f3d-8970-687e73c5a00a\n",
      "7fdc8be8-7579-4a5c-b369-8a07ee0a8b7d\n"
     ]
    },
    {
     "name": "stderr",
     "output_type": "stream",
     "text": [
      " 50%|███████████████████████████████████████                                        | 598/1208 [00:35<00:58, 10.48it/s]"
     ]
    },
    {
     "name": "stdout",
     "output_type": "stream",
     "text": [
      "8002cb71-0f25-4fa4-a46f-b49e5aeded0c\n",
      "801296d9-3403-426f-859e-5c532858e025\n",
      "80da32ce-8c22-470e-9f35-558c5f7a5df9\n",
      "815bf40c-371a-4d34-aa41-c549c8221881\n",
      "8190ec37-9a5e-419f-89ed-fbfb079370db\n"
     ]
    },
    {
     "name": "stderr",
     "output_type": "stream",
     "text": [
      " 50%|███████████████████████████████████████▌                                       | 604/1208 [00:35<00:40, 14.89it/s]"
     ]
    },
    {
     "name": "stdout",
     "output_type": "stream",
     "text": [
      "81a2748d-51c9-4439-995d-f747871d6544\n",
      "81af1442-d835-46bf-b80b-a898dba3da1b\n",
      "81c3c8f0-d5a9-4dda-afd5-e86f6afd9424\n",
      "81edcae1-65bf-4752-b0e4-494376b71e49\n",
      "81fed4a1-9d48-4938-90c9-c8bf3f5e6b1f\n"
     ]
    },
    {
     "name": "stderr",
     "output_type": "stream",
     "text": [
      "\r",
      " 50%|███████████████████████████████████████▋                                       | 606/1208 [00:36<01:50,  5.46it/s]"
     ]
    },
    {
     "name": "stdout",
     "output_type": "stream",
     "text": [
      "820bbfea-3dae-46fc-b61a-3d0ed2ea01c2\n",
      "8271d0d8-9985-43eb-94b3-c702adca139f\n"
     ]
    },
    {
     "name": "stderr",
     "output_type": "stream",
     "text": [
      "\r",
      " 50%|███████████████████████████████████████▊                                       | 608/1208 [00:37<01:42,  5.83it/s]"
     ]
    },
    {
     "name": "stdout",
     "output_type": "stream",
     "text": [
      "833b1d3e-d389-4d0f-8638-6aca5b89f917\n",
      "834a30bb-26bf-4e60-9ea1-3250b926892e\n",
      "83d4e1fe-da84-4175-a9e2-8efc18782dcf\n"
     ]
    },
    {
     "name": "stderr",
     "output_type": "stream",
     "text": [
      "\r",
      " 50%|███████████████████████████████████████▉                                       | 610/1208 [00:37<01:31,  6.57it/s]"
     ]
    },
    {
     "name": "stdout",
     "output_type": "stream",
     "text": [
      "83ec1cb9-1714-4bf1-81f6-115fde84564d\n",
      "83ec8923-6232-40d7-ba1f-a1b8bf7cb66c\n"
     ]
    },
    {
     "name": "stderr",
     "output_type": "stream",
     "text": [
      " 51%|████████████████████████████████████████▏                                      | 614/1208 [00:37<01:14,  7.96it/s]"
     ]
    },
    {
     "name": "stdout",
     "output_type": "stream",
     "text": [
      "84041bf9-dace-4066-9fe0-52170d08f826\n",
      "8490c623-3d88-4532-baf5-0d266a45b16f\n",
      "84c88143-940d-4b62-bbd2-7acc4cadcb6b\n"
     ]
    },
    {
     "name": "stderr",
     "output_type": "stream",
     "text": [
      " 51%|████████████████████████████████████████▌                                      | 620/1208 [00:37<00:44, 13.29it/s]"
     ]
    },
    {
     "name": "stdout",
     "output_type": "stream",
     "text": [
      "84d7545e-c3a8-4b1f-9a39-36aab78c8699\n",
      "84ee2ea3-9edd-4672-a1b3-f09c607d833a\n",
      "85546330-4efd-43e2-87aa-d53a30220bfc\n",
      "85a4d82e-cfb7-4983-b272-626c9e8c7583\n",
      "861c3e06-aada-47a0-99ae-94fbc2772cc0\n"
     ]
    },
    {
     "name": "stderr",
     "output_type": "stream",
     "text": [
      "\r",
      " 52%|████████████████████████████████████████▋                                      | 623/1208 [00:38<00:38, 15.08it/s]"
     ]
    },
    {
     "name": "stdout",
     "output_type": "stream",
     "text": [
      "86495bbf-687b-429c-b9d3-6c2681ade7e2\n",
      "867f30da-2568-4480-9968-cece78c61c64\n",
      "8757be1e-b832-407a-8e95-62abae485b24\n",
      "877d5e7f-19b6-40e7-81bd-c92f25e72503\n",
      "87d6343b-70dd-4cdd-939f-d3ac0ca2e700\n"
     ]
    },
    {
     "name": "stderr",
     "output_type": "stream",
     "text": [
      " 52%|█████████████████████████████████████████▏                                     | 629/1208 [00:38<00:29, 19.41it/s]"
     ]
    },
    {
     "name": "stdout",
     "output_type": "stream",
     "text": [
      "882b91b7-5906-4091-bad4-688d4375eeb5\n",
      "883b726a-f61c-4382-9f1b-2fff302beba6\n",
      "883d9731-a04d-4f84-83c9-d3bef954759d\n",
      "8855c685-5a8c-4967-a356-942ed89e3471\n",
      "8939e14b-fcdf-48b1-acb9-6514a2fc2fc0\n"
     ]
    },
    {
     "name": "stderr",
     "output_type": "stream",
     "text": [
      "\r",
      " 52%|█████████████████████████████████████████▎                                     | 632/1208 [00:38<00:27, 20.94it/s]"
     ]
    },
    {
     "name": "stdout",
     "output_type": "stream",
     "text": [
      "89b276cc-cc8f-4378-a877-e01aff333373\n",
      "89b3d781-2f81-4d23-bed4-84da064df7f3\n",
      "89f10192-d3dd-4996-a571-4c851dbdc983\n",
      "8a4aadac-cf5c-4a79-b875-271b3fbfd230\n"
     ]
    },
    {
     "name": "stderr",
     "output_type": "stream",
     "text": [
      "\r",
      " 53%|█████████████████████████████████████████▌                                     | 635/1208 [00:38<00:48, 11.74it/s]"
     ]
    },
    {
     "name": "stdout",
     "output_type": "stream",
     "text": [
      "8a7deb24-d2b4-4acf-86c4-3aadd39157fa\n",
      "8ab5c462-045e-4b59-b53a-9b2bc3ed2487\n"
     ]
    },
    {
     "name": "stderr",
     "output_type": "stream",
     "text": [
      "\r",
      " 53%|█████████████████████████████████████████▋                                     | 637/1208 [00:39<00:51, 11.04it/s]"
     ]
    },
    {
     "name": "stdout",
     "output_type": "stream",
     "text": [
      "8ad7ba46-5db8-4ba9-b3e0-3cac52f7efc3\n",
      "8b494b40-cab5-49d3-893d-c805000fbe88\n"
     ]
    },
    {
     "name": "stderr",
     "output_type": "stream",
     "text": [
      "\r",
      " 53%|█████████████████████████████████████████▊                                     | 639/1208 [00:39<00:51, 11.08it/s]"
     ]
    },
    {
     "name": "stdout",
     "output_type": "stream",
     "text": [
      "8b89b3fc-95ef-4f2e-b94b-0291dbffe0f4\n",
      "8bd71314-e38a-4670-bb25-5cd6c9acb595\n",
      "8be185e7-2a1a-441c-a5c7-b50a9eb926cb\n",
      "8cc6fe77-5f2f-4670-b4ac-1b49550241a8\n"
     ]
    },
    {
     "name": "stderr",
     "output_type": "stream",
     "text": [
      " 53%|██████████████████████████████████████████▏                                    | 645/1208 [00:39<00:37, 14.88it/s]"
     ]
    },
    {
     "name": "stdout",
     "output_type": "stream",
     "text": [
      "8cca114a-ed05-4b87-95b7-fae02487f08c\n",
      "8d02117d-6c71-4e47-b50a-6cc8d5eb1d55\n",
      "8d56197c-21d7-4cb6-92df-80637efd129b\n",
      "8d5d5c22-2f75-4fe1-9ea3-03a3c7b92ea9\n",
      "8d989997-038c-4924-b2d3-d02629a7cdf5\n"
     ]
    },
    {
     "name": "stderr",
     "output_type": "stream",
     "text": [
      " 54%|██████████████████████████████████████████▌                                    | 651/1208 [00:39<00:28, 19.68it/s]"
     ]
    },
    {
     "name": "stdout",
     "output_type": "stream",
     "text": [
      "8dace03a-10c4-4d59-bcd9-a2c314c5df33\n",
      "8e078333-8fa0-45be-a46e-fa05708cb365\n",
      "8e0dfc1f-e3eb-4a3f-a1c4-249bdfbfaa27\n",
      "8e4bdd0d-1c72-4836-ae3e-05e2e50e4983\n",
      "8e69098c-fae0-47a3-8833-c2bfdfb1a416\n",
      "8e72e20e-e714-4db6-a1da-c05a409257d4\n",
      "8eeb378e-90f0-47ea-ac1c-2a201eb8d090\n"
     ]
    },
    {
     "name": "stderr",
     "output_type": "stream",
     "text": [
      " 54%|██████████████████████████████████████████▉                                    | 657/1208 [00:40<00:27, 20.02it/s]"
     ]
    },
    {
     "name": "stdout",
     "output_type": "stream",
     "text": [
      "8f84a2c9-ca38-4405-a488-12fcd101278b\n",
      "8f96ee1f-4ef7-4279-a610-316319bedcf9\n",
      "90171428-f208-428a-b40e-f57ee3bea457\n",
      "90246988-0d6d-4bf8-8a76-94107de4121e\n",
      "907650b5-edae-471d-bc54-a825be3d3fac\n"
     ]
    },
    {
     "name": "stderr",
     "output_type": "stream",
     "text": [
      "\r",
      " 55%|███████████████████████████████████████████▏                                   | 660/1208 [00:40<00:57,  9.50it/s]"
     ]
    },
    {
     "name": "stdout",
     "output_type": "stream",
     "text": [
      "90a82250-1f68-48c9-9af9-15f18bf8c974\n",
      "9106a6bb-1352-411f-ac26-0d6fe48c16a8\n",
      "913099c5-8085-4908-bf4b-1f098bbfcf66\n"
     ]
    },
    {
     "name": "stderr",
     "output_type": "stream",
     "text": [
      " 55%|███████████████████████████████████████████▍                                   | 664/1208 [00:41<01:24,  6.45it/s]"
     ]
    },
    {
     "name": "stdout",
     "output_type": "stream",
     "text": [
      "9147a21d-0de2-4c04-88da-b788311696ac\n",
      "9174f910-3859-4839-8e30-2c3b25269322\n",
      "91827f1a-9b04-4ef0-972c-12e90e60c516\n",
      "91e93160-eb8d-4de0-b6bc-b98ec33d1663\n",
      "9258fe22-6406-4d00-b6f0-3f9492925405\n"
     ]
    },
    {
     "name": "stderr",
     "output_type": "stream",
     "text": [
      " 55%|███████████████████████████████████████████▊                                   | 670/1208 [00:42<00:49, 10.97it/s]"
     ]
    },
    {
     "name": "stdout",
     "output_type": "stream",
     "text": [
      "92e4fd7b-79ef-49c2-a52b-9ef13dd720ef\n",
      "933e7e07-fc3d-42eb-be0c-6b1623ee60fa\n",
      "939ad732-d7c5-4339-b087-4335b49d6a3c\n",
      "93a306b8-594a-4c7f-8b4a-127fb6ad8f1a\n",
      "93b47b14-7f78-4b31-8897-d63a81fdab01\n"
     ]
    },
    {
     "name": "stderr",
     "output_type": "stream",
     "text": [
      " 56%|████████████████████████████████████████████▏                                  | 676/1208 [00:42<00:34, 15.26it/s]"
     ]
    },
    {
     "name": "stdout",
     "output_type": "stream",
     "text": [
      "93f40356-5676-45d3-8e83-8028708c93ba\n",
      "93f7e207-0d8e-47f8-8258-09a0e03dbdd6\n",
      "947348fe-4c70-468e-8009-3c14daeca69b\n",
      "948c94ad-395c-41f4-9a68-8a1dcb76888c\n",
      "94b5a9a1-1c88-4400-aca4-3d56f543fc4a\n"
     ]
    },
    {
     "name": "stderr",
     "output_type": "stream",
     "text": [
      "\r",
      " 56%|████████████████████████████████████████████▍                                  | 679/1208 [00:42<00:37, 14.29it/s]"
     ]
    },
    {
     "name": "stdout",
     "output_type": "stream",
     "text": [
      "94d9fa50-d3e4-4eaf-acfc-92e7f2ed9ea5\n",
      "95bea542-6cd0-41c5-82c5-509af8c3b505\n",
      "95d5e689-c1d1-4ae8-a659-cc20c62a99f0\n",
      "95fea6d8-413f-421e-b331-5d51c31df150\n",
      "9615ff33-b3fc-4d1e-9c05-0b8e3ef936df\n"
     ]
    },
    {
     "name": "stderr",
     "output_type": "stream",
     "text": [
      " 57%|████████████████████████████████████████████▊                                  | 685/1208 [00:42<00:29, 17.88it/s]"
     ]
    },
    {
     "name": "stdout",
     "output_type": "stream",
     "text": [
      "96596a68-8c95-43f3-b74e-e9506c235144\n",
      "9691c57a-ccf8-47f9-a8e9-9a324974585b\n",
      "97eff653-3908-4e66-931f-eab36bc336c8\n",
      "98175327-da9e-4e0c-8912-ee68490a4672\n",
      "9842445c-5899-4189-9f2e-3a3a179fdad3\n"
     ]
    },
    {
     "name": "stderr",
     "output_type": "stream",
     "text": [
      " 57%|█████████████████████████████████████████████▏                                 | 691/1208 [00:43<00:25, 19.94it/s]"
     ]
    },
    {
     "name": "stdout",
     "output_type": "stream",
     "text": [
      "984caf56-f400-4a29-be97-a4d6b9d1468d\n",
      "985627c9-7b85-40de-a106-eb9cc47b47cb\n",
      "98976666-9125-47fe-9601-43c41e58dfb4\n",
      "989d86a1-6d76-4089-85cf-2f2ca0a8456c\n",
      "98c25ffe-c329-420a-bc22-b082f565eac9\n",
      "98efca97-37d2-4459-aca6-375ecc0c4539\n"
     ]
    },
    {
     "name": "stderr",
     "output_type": "stream",
     "text": [
      "\r",
      " 57%|█████████████████████████████████████████████▍                                 | 694/1208 [00:43<00:24, 20.61it/s]"
     ]
    },
    {
     "name": "stdout",
     "output_type": "stream",
     "text": [
      "997eabd9-55bf-4683-83c4-4cee4673a4ef\n",
      "99a21c5c-f5a7-4c07-9cb6-5dda2d388f48\n",
      "99b13257-b9d9-422f-8262-802da0bdc510\n",
      "99d6a7e5-128e-4455-841d-8fbd1663905e\n"
     ]
    },
    {
     "name": "stderr",
     "output_type": "stream",
     "text": [
      " 58%|█████████████████████████████████████████████▊                                 | 700/1208 [00:43<00:22, 22.16it/s]"
     ]
    },
    {
     "name": "stdout",
     "output_type": "stream",
     "text": [
      "99e979d4-ee97-4d7f-9da6-00bead40db4d\n",
      "9a1cd456-310c-47b6-a1f8-0fbd8e33d1fd\n",
      "9a25f103-1683-47d1-8b07-ac20fe0b3ee9\n",
      "9acf303a-fcba-4e52-be3e-8d061aa5e72a\n",
      "9af1ee02-87fd-42bc-963e-fa9ac3eb45bb\n",
      "9af4b8ae-c912-41fd-b4c0-34864c75360f\n"
     ]
    },
    {
     "name": "stderr",
     "output_type": "stream",
     "text": [
      "\r",
      " 58%|█████████████████████████████████████████████▉                                 | 703/1208 [00:43<00:21, 23.43it/s]"
     ]
    },
    {
     "name": "stdout",
     "output_type": "stream",
     "text": [
      "9b3fd401-dab0-440f-8498-eb3cc9ffa970\n",
      "9b410534-3b70-4a88-9f93-205cf4e55a05\n",
      "9bd40bc6-4949-42d3-b38f-d60422932f65\n"
     ]
    },
    {
     "name": "stderr",
     "output_type": "stream",
     "text": [
      " 59%|██████████████████████████████████████████████▎                                | 709/1208 [00:44<00:25, 19.61it/s]"
     ]
    },
    {
     "name": "stdout",
     "output_type": "stream",
     "text": [
      "9c48fdf4-621d-4f40-bcd7-6a28cd530de7\n",
      "9c4cb048-d64a-4b7f-84ff-ca28a8084fc7\n",
      "9c5f48c0-0544-4c0c-92b4-59b7d7b7814c\n",
      "9ca20b10-e2fd-4bd2-93ef-78298f763ed5\n",
      "9cdee92c-6267-4188-a41e-125bc0abb9ae\n",
      "9d155086-acf5-4c86-a9e1-94b587c46e87\n"
     ]
    },
    {
     "name": "stderr",
     "output_type": "stream",
     "text": [
      " 59%|██████████████████████████████████████████████▊                                | 715/1208 [00:44<00:23, 20.69it/s]"
     ]
    },
    {
     "name": "stdout",
     "output_type": "stream",
     "text": [
      "9d819c89-4ea9-4e75-9b03-da87fa6c6f4d\n",
      "9dc6ed5d-6698-48cf-aab3-fd156673729c\n",
      "9e0e1928-d19a-4100-b093-0b962ac09e05\n",
      "9e1b0217-0926-4fd1-bb9e-a815c05deb59\n",
      "9e5437c6-b0d3-473b-b7c3-8f5afeb90c7a\n"
     ]
    },
    {
     "name": "stderr",
     "output_type": "stream",
     "text": [
      " 60%|███████████████████████████████████████████████▏                               | 721/1208 [00:44<00:23, 20.67it/s]"
     ]
    },
    {
     "name": "stdout",
     "output_type": "stream",
     "text": [
      "9e74feb8-017d-4d53-8896-9ebda4327dd1\n",
      "9e793460-d94c-47ac-b3a7-0d6ad86357da\n",
      "9e82c996-2cfa-418d-9482-8ee23e9d0a5d\n",
      "9eb66577-7857-43dc-a879-8f2c9d7f780f\n"
     ]
    },
    {
     "name": "stderr",
     "output_type": "stream",
     "text": [
      "\r",
      " 60%|███████████████████████████████████████████████▎                               | 724/1208 [00:44<00:22, 21.61it/s]"
     ]
    },
    {
     "name": "stdout",
     "output_type": "stream",
     "text": [
      "9ebd623d-5534-4dd9-bff8-cdedf322db35\n",
      "9ec1dcec-87c2-4aca-8e6b-0db3cd05509c\n",
      "9ecf2006-8d49-4ae8-a14b-ed8b3b14ee7c\n",
      "9edba799-e169-46cd-b100-c9f8fc7a8c7d\n",
      "9f33e0ea-065b-4703-9df9-15829b891860\n"
     ]
    },
    {
     "name": "stderr",
     "output_type": "stream",
     "text": [
      " 60%|███████████████████████████████████████████████▋                               | 730/1208 [00:45<00:21, 22.21it/s]"
     ]
    },
    {
     "name": "stdout",
     "output_type": "stream",
     "text": [
      "9f38055f-4fe6-47fd-a6dd-c0743db4eccf\n",
      "9f4bc3b4-abb0-4bcb-baa8-ec9f25e2b9c6\n",
      "9f959520-e15e-45c2-bc29-ef3c19154d1c\n",
      "9fbf38ab-44b9-4096-a818-603017a4300e\n",
      "9fe8bdc8-847d-434e-93e5-ae14ff3b45e1\n",
      "a054a8e2-55f2-4508-97df-207f76b89be2\n",
      "a065c50b-341d-4803-b4b0-0fe8f04fdbb5\n"
     ]
    },
    {
     "name": "stderr",
     "output_type": "stream",
     "text": [
      "\r",
      " 61%|███████████████████████████████████████████████▉                               | 733/1208 [00:45<00:29, 16.25it/s]"
     ]
    },
    {
     "name": "stdout",
     "output_type": "stream",
     "text": [
      "a0785022-e82b-4878-b9d4-19cb7b75213f\n",
      "a0b277cb-20bc-4921-a6bd-5ccd5b91d14f\n"
     ]
    },
    {
     "name": "stderr",
     "output_type": "stream",
     "text": [
      " 61%|████████████████████████████████████████████████▎                              | 738/1208 [00:45<00:30, 15.60it/s]"
     ]
    },
    {
     "name": "stdout",
     "output_type": "stream",
     "text": [
      "a0e2ef53-d39b-40cf-b8b6-4b148ac339ec\n",
      "a0eedcb9-b85c-4612-b945-7e8227f53c35\n",
      "a0eeeb10-d0cb-48d9-8c22-2c3a3c908d00\n",
      "a11ed7d0-12f6-468f-abad-5cba7d968123\n",
      "a15e0fa8-2620-4f66-896e-175115c9dc3d\n",
      "a1669b59-fe09-4fe6-ba9f-06bec6725502\n"
     ]
    },
    {
     "name": "stderr",
     "output_type": "stream",
     "text": [
      " 62%|████████████████████████████████████████████████▋                              | 744/1208 [00:45<00:24, 19.13it/s]"
     ]
    },
    {
     "name": "stdout",
     "output_type": "stream",
     "text": [
      "a18f122f-3a3e-4478-8ac4-91b83e050e65\n",
      "a1c140f9-75d7-42a3-b767-4c01a118892b\n",
      "a1ff36df-71df-4e6e-a65f-ced9a2b381c3\n",
      "a20d0b4b-6e2e-4507-bc22-f321dedc4ed9\n",
      "a23f5539-bfe6-4885-9a0e-dba972475ea9\n"
     ]
    },
    {
     "name": "stderr",
     "output_type": "stream",
     "text": [
      " 62%|█████████████████████████████████████████████████                              | 750/1208 [00:46<00:20, 22.28it/s]"
     ]
    },
    {
     "name": "stdout",
     "output_type": "stream",
     "text": [
      "a2754679-68b0-40f4-be01-bafad5ac1261\n",
      "a27858ef-6533-413e-bc75-cc54690261a2\n",
      "a27b451d-44a6-4740-861a-9e7e99915563\n",
      "a2a20600-f851-4db7-90f9-6f7be027c8b5\n",
      "a2ccbf70-e444-49a9-8b7e-9797a05220d8\n",
      "a2d07312-2f97-40d2-8b09-7f2aca7b16fb\n"
     ]
    },
    {
     "name": "stderr",
     "output_type": "stream",
     "text": [
      " 63%|█████████████████████████████████████████████████▍                             | 756/1208 [00:46<00:19, 22.98it/s]"
     ]
    },
    {
     "name": "stdout",
     "output_type": "stream",
     "text": [
      "a2de1248-7bc0-44dc-b508-70a357eedd68\n",
      "a2fc0093-8645-43c7-bdee-ec8ca9484815\n",
      "a302a6fa-f635-4ade-b72b-b6f3c2a34ec9\n",
      "a30da226-b452-408a-a556-bfae4d521464\n",
      "a3ada657-de00-44db-b1e2-54ba17e39983\n",
      "a3c0a876-be12-4ede-8aed-18b32a64401b\n",
      "a4409217-be11-4478-90a5-b406057d154d\n"
     ]
    },
    {
     "name": "stderr",
     "output_type": "stream",
     "text": [
      "\r",
      " 63%|█████████████████████████████████████████████████▋                             | 759/1208 [00:46<00:26, 17.03it/s]"
     ]
    },
    {
     "name": "stdout",
     "output_type": "stream",
     "text": [
      "a4851ed0-1499-4eae-9157-dcd34773254f\n"
     ]
    },
    {
     "name": "stderr",
     "output_type": "stream",
     "text": [
      "\r",
      " 63%|█████████████████████████████████████████████████▊                             | 761/1208 [00:47<00:37, 11.88it/s]"
     ]
    },
    {
     "name": "stdout",
     "output_type": "stream",
     "text": [
      "a4d7a7e1-5ae1-486d-b6ee-c9af1476ccad\n",
      "a4fbb9f2-9b75-4fdc-877d-2feaafac25b3\n",
      "a51d6c18-f9e8-4714-9dbb-38e1577445f2\n"
     ]
    },
    {
     "name": "stderr",
     "output_type": "stream",
     "text": [
      "\r",
      " 63%|█████████████████████████████████████████████████▉                             | 763/1208 [00:48<01:21,  5.46it/s]"
     ]
    },
    {
     "name": "stdout",
     "output_type": "stream",
     "text": [
      "a588091c-5e4c-4e61-914d-e96f3ee3e505\n",
      "a5c3b3f8-7ceb-4573-a400-a76b9479af46\n"
     ]
    },
    {
     "name": "stderr",
     "output_type": "stream",
     "text": [
      " 63%|██████████████████████████████████████████████████▏                            | 767/1208 [00:48<01:04,  6.80it/s]"
     ]
    },
    {
     "name": "stdout",
     "output_type": "stream",
     "text": [
      "a5e05ba8-0c19-41e3-92d5-10e42a03b85e\n",
      "a6391703-0820-4913-a7cd-e843ff0d84ba\n",
      "a63ce82f-f3d1-4818-9035-d3d230e5f686\n",
      "a63fa2c7-3ec8-4bb7-bde6-a39e09d2f806\n"
     ]
    },
    {
     "name": "stderr",
     "output_type": "stream",
     "text": [
      " 64%|██████████████████████████████████████████████████▍                            | 771/1208 [00:48<00:53,  8.24it/s]"
     ]
    },
    {
     "name": "stdout",
     "output_type": "stream",
     "text": [
      "a6526894-e290-482d-ac43-f1df34864817\n",
      "a6aa3b72-2970-4c78-b655-ea8dfe6e018c\n",
      "a6ba808f-ec60-42a5-ad91-7b32412ab708\n"
     ]
    },
    {
     "name": "stderr",
     "output_type": "stream",
     "text": [
      "\r",
      " 64%|██████████████████████████████████████████████████▌                            | 773/1208 [00:48<00:47,  9.07it/s]"
     ]
    },
    {
     "name": "stdout",
     "output_type": "stream",
     "text": [
      "a6d85204-24b8-4b23-a8b1-c3e8b93f9f22\n",
      "a6f8a029-44ee-4fe3-b807-38d137347729\n",
      "a6fe423a-5204-4378-bcfa-d6d298a3e9aa\n",
      "a72cd558-b7ac-4bf2-a344-2ce6c73a354e\n"
     ]
    },
    {
     "name": "stderr",
     "output_type": "stream",
     "text": [
      " 64%|██████████████████████████████████████████████████▉                            | 779/1208 [00:49<00:29, 14.45it/s]"
     ]
    },
    {
     "name": "stdout",
     "output_type": "stream",
     "text": [
      "a74b6d6a-7e04-40ac-9292-d62f13f7ded3\n",
      "a7688988-2bcc-4458-83d3-5e482da5f87b\n",
      "a777e78c-ad1f-4380-9ab2-b4f9f32b2d78\n",
      "a7b6894d-eeea-4ed5-bc0e-785d6c6da8df\n"
     ]
    },
    {
     "name": "stderr",
     "output_type": "stream",
     "text": [
      "\r",
      " 65%|███████████████████████████████████████████████████                            | 781/1208 [00:49<00:32, 12.97it/s]"
     ]
    },
    {
     "name": "stdout",
     "output_type": "stream",
     "text": [
      "a7c3c52f-3b40-4c92-a212-df9462cf25d8\n",
      "a7c91b63-b97c-4f4b-8d34-7ad2b08d7a17\n",
      "a7f1bbb1-6058-4642-bd66-cfb90dce762e\n"
     ]
    },
    {
     "name": "stderr",
     "output_type": "stream",
     "text": [
      "\r",
      " 65%|███████████████████████████████████████████████████▏                           | 783/1208 [00:49<00:34, 12.24it/s]"
     ]
    },
    {
     "name": "stdout",
     "output_type": "stream",
     "text": [
      "a824b499-3736-4581-bbdc-be1b3b4cf756\n",
      "a85cd1ae-0c94-4387-8305-84ab8d96d137\n"
     ]
    },
    {
     "name": "stderr",
     "output_type": "stream",
     "text": [
      " 65%|███████████████████████████████████████████████████▍                           | 787/1208 [00:50<00:41, 10.08it/s]"
     ]
    },
    {
     "name": "stdout",
     "output_type": "stream",
     "text": [
      "a86e0647-ae41-4b75-9d45-dd58f5ea65f5\n",
      "a88a48b6-f85c-45c1-b42f-79716c8463f1\n"
     ]
    },
    {
     "name": "stderr",
     "output_type": "stream",
     "text": [
      "\r",
      " 65%|███████████████████████████████████████████████████▋                           | 790/1208 [00:50<00:32, 12.99it/s]"
     ]
    },
    {
     "name": "stdout",
     "output_type": "stream",
     "text": [
      "a89cace5-c818-4f23-a432-052b3433b81e\n",
      "a8cb75ba-3f2f-40d8-8bc7-c79ebd1b9603\n",
      "a9159b11-ba49-4885-902e-00c8d5095b98\n",
      "a93c35ba-1690-4358-8837-669bcd850bb7\n",
      "a9daf82a-a46d-4296-bd72-2c374ed0a193\n",
      "a9feccda-18f2-405e-9aa1-409fa1f49fe4\n"
     ]
    },
    {
     "name": "stderr",
     "output_type": "stream",
     "text": [
      " 66%|████████████████████████████████████████████████████                           | 796/1208 [00:50<00:23, 17.20it/s]"
     ]
    },
    {
     "name": "stdout",
     "output_type": "stream",
     "text": [
      "aa2dfa24-2dc3-4279-a232-f84780ace190\n",
      "aa3ad405-828e-4986-8251-20fd981f34d3\n",
      "aa4a023b-55bd-4259-b15d-7086a9b491e0\n",
      "aaade430-4c49-4038-97b7-f8cdd937db57\n",
      "aabca37c-f9ef-4415-aab6-3246caa348e9\n"
     ]
    },
    {
     "name": "stderr",
     "output_type": "stream",
     "text": [
      " 66%|████████████████████████████████████████████████████▍                          | 802/1208 [00:50<00:19, 20.62it/s]"
     ]
    },
    {
     "name": "stdout",
     "output_type": "stream",
     "text": [
      "ab27173b-6e30-4957-bd68-29194328fd39\n",
      "ab59c9e4-3e50-48b9-874d-060d317410cc\n",
      "abb2f9d6-26fa-4328-983c-959ef6717c05\n",
      "abf4cf2a-4532-4772-9f0f-9e123cc1713d\n",
      "ac3358f1-ef9a-4ccc-b66c-da5e47e352e0\n"
     ]
    },
    {
     "name": "stderr",
     "output_type": "stream",
     "text": [
      "\r",
      " 67%|████████████████████████████████████████████████████▋                          | 805/1208 [00:50<00:19, 20.45it/s]"
     ]
    },
    {
     "name": "stdout",
     "output_type": "stream",
     "text": [
      "ac4d6507-d710-497b-ad7c-e0dd75c1d06d\n",
      "ac8df764-c8d8-4312-916d-70bfb37574b4\n",
      "acb16781-11ad-4327-874a-5c9c35dcb085\n",
      "acdc6e12-73d9-44ba-be8c-2a56aaffef4f\n",
      "ad36bd67-594b-4f63-93e3-886af0bc618e\n"
     ]
    },
    {
     "name": "stderr",
     "output_type": "stream",
     "text": [
      " 67%|█████████████████████████████████████████████████████                          | 811/1208 [00:51<00:18, 21.50it/s]"
     ]
    },
    {
     "name": "stdout",
     "output_type": "stream",
     "text": [
      "ad8731b7-0dae-4983-9dc6-dec31767d761\n",
      "adff132d-3af0-4cef-942c-58fc09729bee\n",
      "adff6e1d-ba9d-4c7b-a8fe-1ec458eaeeb8\n",
      "ae17a099-18b5-4a42-a901-850ea056423e\n",
      "ae779806-6d01-4dc6-89df-294c368db6bc\n"
     ]
    },
    {
     "name": "stderr",
     "output_type": "stream",
     "text": [
      "\r",
      " 67%|█████████████████████████████████████████████████████▏                         | 814/1208 [00:51<00:22, 17.65it/s]"
     ]
    },
    {
     "name": "stdout",
     "output_type": "stream",
     "text": [
      "af2e63a3-9fde-46aa-a867-81c5c259d1dc\n",
      "afa470d9-c74c-41cd-b4dc-7bf93fde8263\n",
      "afbb264e-ff60-443a-83f5-49d09be1b835\n"
     ]
    },
    {
     "name": "stderr",
     "output_type": "stream",
     "text": [
      " 68%|█████████████████████████████████████████████████████▍                         | 818/1208 [00:51<00:23, 16.37it/s]"
     ]
    },
    {
     "name": "stdout",
     "output_type": "stream",
     "text": [
      "afd39466-aafa-4d81-9520-483727418723\n",
      "affa429c-0315-4c18-a002-13bb3ecab259\n",
      "b02f6804-1697-4a5e-9be7-61931903ab55\n",
      "b10ea12f-cd36-4f2c-994a-67d1665269ab\n",
      "b1100ae1-0ac8-4fc2-b0ff-8819f7fbe724\n"
     ]
    },
    {
     "name": "stderr",
     "output_type": "stream",
     "text": [
      " 68%|█████████████████████████████████████████████████████▉                         | 824/1208 [00:51<00:19, 19.89it/s]"
     ]
    },
    {
     "name": "stdout",
     "output_type": "stream",
     "text": [
      "b1145408-feae-4637-b4cf-3e70b99cc62d\n",
      "b12ae3b1-613c-4c0e-9163-3c5cc314abf5\n",
      "b197093e-2928-46a4-8e35-fa5ea7ea6dac\n",
      "b2103776-9b32-4160-b4f0-0692deda19dc\n",
      "b21f6c6e-4b45-407a-b4c7-034a115f3ee4\n"
     ]
    },
    {
     "name": "stderr",
     "output_type": "stream",
     "text": [
      " 69%|██████████████████████████████████████████████████████▎                        | 830/1208 [00:52<00:18, 20.81it/s]"
     ]
    },
    {
     "name": "stdout",
     "output_type": "stream",
     "text": [
      "b234b6ea-b54d-470c-8461-ba7f4a024796\n",
      "b2e34f5f-904e-4473-9dc7-c6bc1ce12640\n",
      "b2f05937-b965-4c4b-b86e-f50e95d9d691\n",
      "b3058064-d817-47dd-a8c4-cdb1f62374f8\n"
     ]
    },
    {
     "name": "stderr",
     "output_type": "stream",
     "text": [
      "\r",
      " 69%|██████████████████████████████████████████████████████▍                        | 833/1208 [00:52<00:17, 21.18it/s]"
     ]
    },
    {
     "name": "stdout",
     "output_type": "stream",
     "text": [
      "b318889c-3c60-477c-b8f6-d18cb01a59df\n",
      "b338766f-19b9-4874-bcc5-ae22b3c533e6\n",
      "b34e65f6-c32e-42f1-a437-4a037c75a231\n",
      "b3606d0e-6fe5-478a-bb4b-64d7c4889d86\n",
      "b4261fa5-876d-48ea-b6da-ec7ca5b48fe2\n"
     ]
    },
    {
     "name": "stderr",
     "output_type": "stream",
     "text": [
      "\r",
      " 69%|██████████████████████████████████████████████████████▋                        | 836/1208 [00:52<00:16, 22.19it/s]"
     ]
    },
    {
     "name": "stdout",
     "output_type": "stream",
     "text": [
      "b426ef1d-4a59-4f90-b593-50226af60a60\n",
      "b4bde4e8-f48b-4ae2-be01-86d8c91d0af9\n",
      "b4c52960-bbee-439e-83dc-f89ddaade71b\n"
     ]
    },
    {
     "name": "stderr",
     "output_type": "stream",
     "text": [
      "\r",
      " 69%|██████████████████████████████████████████████████████▊                        | 839/1208 [00:52<00:20, 17.62it/s]"
     ]
    },
    {
     "name": "stdout",
     "output_type": "stream",
     "text": [
      "b4d22412-a495-43a9-bec0-73a2322f8dad\n",
      "b4dc3088-3fe2-4688-be24-70664a64e022\n",
      "b4e5e08d-6427-46f3-aca8-a4df165a151d\n"
     ]
    },
    {
     "name": "stderr",
     "output_type": "stream",
     "text": [
      "\r",
      " 70%|██████████████████████████████████████████████████████▉                        | 841/1208 [00:53<00:47,  7.78it/s]"
     ]
    },
    {
     "name": "stdout",
     "output_type": "stream",
     "text": [
      "b4f3b2a4-f4b9-48de-ac5d-0e681b77be27\n",
      "b5143aae-6e98-4dc6-b546-980cb472de67\n"
     ]
    },
    {
     "name": "stderr",
     "output_type": "stream",
     "text": [
      " 70%|███████████████████████████████████████████████████████▎                       | 845/1208 [00:53<00:41,  8.76it/s]"
     ]
    },
    {
     "name": "stdout",
     "output_type": "stream",
     "text": [
      "b523daee-317b-461d-bdc1-07b4add4d488\n",
      "b5246b58-6f40-4c9e-8024-f49b0ed6bdbd\n",
      "b5513d5b-46fc-4f44-a616-791087fbd608\n",
      "b59dc3a0-3d54-4e3b-a485-33b3e43966de\n"
     ]
    },
    {
     "name": "stderr",
     "output_type": "stream",
     "text": [
      " 70%|███████████████████████████████████████████████████████▌                       | 850/1208 [00:54<00:29, 12.20it/s]"
     ]
    },
    {
     "name": "stdout",
     "output_type": "stream",
     "text": [
      "b5acf759-1115-42f0-a753-656736192528\n",
      "b600b38d-225b-46a5-b6f8-b607430f6a10\n",
      "b618e87e-6059-496f-b0f6-e158f676a1fb\n",
      "b62d47f9-2ff5-4902-abdc-b3610acfc7ba\n",
      "b634137b-bc8b-4e88-b0e3-b536ad6e7e18\n",
      "b6364a57-72a9-43f3-8d02-9f53a992dc95\n"
     ]
    },
    {
     "name": "stderr",
     "output_type": "stream",
     "text": [
      " 71%|███████████████████████████████████████████████████████▉                       | 856/1208 [00:54<00:20, 16.99it/s]"
     ]
    },
    {
     "name": "stdout",
     "output_type": "stream",
     "text": [
      "b6573be3-9e04-49c3-9f48-6a145d065363\n",
      "b666fcc2-d0b2-441e-bc5a-c660345eeb5d\n",
      "b687c30d-cf15-445c-b3f6-5aca86584708\n",
      "b701b5c5-b922-4315-b12a-aac4ec65ee8b\n",
      "b78b88f0-154a-4b54-8aaf-85d37a42a0f9\n"
     ]
    },
    {
     "name": "stderr",
     "output_type": "stream",
     "text": [
      " 71%|████████████████████████████████████████████████████████▍                      | 863/1208 [00:54<00:16, 20.93it/s]"
     ]
    },
    {
     "name": "stdout",
     "output_type": "stream",
     "text": [
      "b78ba2c8-ecb3-45b2-9cda-2c8088fa95d1\n",
      "b7a0d235-2217-43b4-aeff-cde4ccaf6789\n",
      "b7d0ae11-a393-4aec-8f68-6ba07147f78a\n",
      "b7f1a1eb-c150-4456-9c47-e7db8a5cb77a\n",
      "b809b407-7b69-4334-873d-d6c49135f04a\n"
     ]
    },
    {
     "name": "stderr",
     "output_type": "stream",
     "text": [
      "\r",
      " 72%|████████████████████████████████████████████████████████▋                      | 866/1208 [00:54<00:15, 21.49it/s]"
     ]
    },
    {
     "name": "stdout",
     "output_type": "stream",
     "text": [
      "b8339d7b-85ec-48d0-83e8-c8f831070459\n",
      "b834cbf7-ff97-49d9-9561-566c9343735c\n",
      "b8410821-a42b-47d0-8bcf-c2fc82e4e2d5\n",
      "b85fc640-de49-4f7e-afc0-978ff020f2e2\n",
      "b87fb62d-2c36-4f68-aba9-37fcd7d46eef\n"
     ]
    },
    {
     "name": "stderr",
     "output_type": "stream",
     "text": [
      " 72%|█████████████████████████████████████████████████████████                      | 872/1208 [00:55<00:14, 23.81it/s]"
     ]
    },
    {
     "name": "stdout",
     "output_type": "stream",
     "text": [
      "b88fe674-fb9a-41d4-b100-cb1c86440d44\n",
      "b8a4d467-c40c-4ebf-91dd-1c19d0f2a7ae\n",
      "b8dd6125-5027-47e2-a283-14e199274c80\n",
      "b901c906-91be-48c4-88ec-2c527544a258\n",
      "b91b1641-ee06-44d8-94cc-24cdb583cc37\n",
      "b95ceeeb-8870-4492-9037-2091ff268c5a\n"
     ]
    },
    {
     "name": "stderr",
     "output_type": "stream",
     "text": [
      "\r",
      " 72%|█████████████████████████████████████████████████████████▏                     | 875/1208 [00:55<00:14, 23.06it/s]"
     ]
    },
    {
     "name": "stdout",
     "output_type": "stream",
     "text": [
      "b9c6db13-ca3a-4937-8ecf-e537047ed858\n",
      "b9ccf7ca-953f-4832-9575-5e70b2a8c224\n",
      "b9d65ef3-1adc-4479-abee-2e422f5a613a\n",
      "b9de8b1a-f96a-4eb5-bc05-84ad43a054f3\n"
     ]
    },
    {
     "name": "stderr",
     "output_type": "stream",
     "text": [
      "\r",
      " 73%|█████████████████████████████████████████████████████████▍                     | 878/1208 [00:56<00:46,  7.13it/s]"
     ]
    },
    {
     "name": "stdout",
     "output_type": "stream",
     "text": [
      "baa87bf8-786c-444c-81e8-9fa0a41d8149\n",
      "bb137718-20ba-457d-8ffe-4f9420ecaab6\n"
     ]
    },
    {
     "name": "stderr",
     "output_type": "stream",
     "text": [
      "\r",
      " 73%|█████████████████████████████████████████████████████████▌                     | 880/1208 [00:56<00:43,  7.53it/s]"
     ]
    },
    {
     "name": "stdout",
     "output_type": "stream",
     "text": [
      "bb2042c5-35e1-43cc-8171-7de81b764361\n",
      "bb337c84-f727-42a5-9c3d-934323a16c6a\n"
     ]
    },
    {
     "name": "stderr",
     "output_type": "stream",
     "text": [
      "\r",
      " 73%|█████████████████████████████████████████████████████████▋                     | 882/1208 [00:56<00:43,  7.42it/s]"
     ]
    },
    {
     "name": "stdout",
     "output_type": "stream",
     "text": [
      "bb3ae957-0f6d-4615-bfe5-24fbca50b459\n",
      "bb795ddf-ce72-42d5-9006-124db4d5cf1c\n"
     ]
    },
    {
     "name": "stderr",
     "output_type": "stream",
     "text": [
      " 73%|██████████████████████████████████████████████████████████                     | 887/1208 [00:57<00:30, 10.50it/s]"
     ]
    },
    {
     "name": "stdout",
     "output_type": "stream",
     "text": [
      "bbaa004f-05dc-4cb8-8768-e148085bb0f9\n",
      "bbe65c18-8a56-4dfe-875c-94e124a84125\n",
      "bbecf1a8-a728-4c83-87f8-4dfbac0a1e03\n",
      "bbedfcbe-9528-4ba9-9d86-4ebba7589ac5\n",
      "bbf687b5-c6f9-4821-b2e5-a25df1acba47\n",
      "bc1a58fd-736b-4812-a051-2c376cff50b7\n"
     ]
    },
    {
     "name": "stderr",
     "output_type": "stream",
     "text": [
      " 74%|██████████████████████████████████████████████████████████▍                    | 894/1208 [00:57<00:18, 17.25it/s]"
     ]
    },
    {
     "name": "stdout",
     "output_type": "stream",
     "text": [
      "bc377041-e098-45c4-9651-2b1ea90d1d7e\n",
      "bc832bde-d3ea-4a8e-be90-7a3329dcc314\n",
      "bca27923-b270-45df-a0bf-3e1a7d135b2c\n",
      "bcaefb02-682a-41b9-acc7-e6cc010f5b30\n",
      "bcb447c9-5d37-414f-a513-d7076b04a532\n",
      "bd432159-5956-457c-bdeb-1b5e702ba513\n",
      "bd7937db-fca2-44d0-8538-460110210927\n"
     ]
    },
    {
     "name": "stderr",
     "output_type": "stream",
     "text": [
      " 75%|██████████████████████████████████████████████████████████▉                    | 901/1208 [00:57<00:13, 22.31it/s]"
     ]
    },
    {
     "name": "stdout",
     "output_type": "stream",
     "text": [
      "bd856928-96ee-4fc4-a377-f2fc4e84448b\n",
      "bdb5d571-27bc-4a42-ae45-aa5a9af40a81\n",
      "be5bb7d0-7c3f-4bb9-8bb4-f8bc8d875943\n",
      "be6fe358-dee1-4dcf-9b0d-5d8612aba577\n",
      "be779f52-0bfa-4c01-a16f-b7f0bc92ed7c\n",
      "befe6182-266b-4f8a-ac82-3a4154f05f60\n"
     ]
    },
    {
     "name": "stderr",
     "output_type": "stream",
     "text": [
      " 75%|███████████████████████████████████████████████████████████▎                   | 907/1208 [00:57<00:13, 22.96it/s]"
     ]
    },
    {
     "name": "stdout",
     "output_type": "stream",
     "text": [
      "bf002a25-6535-4621-be19-56d468be5413\n",
      "bf20d04d-ff8a-4910-91d7-94054c267d1b\n",
      "bfc61c48-685d-470b-86b1-e4c7eb85c4fd\n",
      "bfe65b11-8aff-46aa-908b-1e989d25fdc4\n",
      "bfefa21c-11e1-4dab-ac5d-8ff6f046d65f\n"
     ]
    },
    {
     "name": "stderr",
     "output_type": "stream",
     "text": [
      "\r",
      " 75%|███████████████████████████████████████████████████████████▌                   | 910/1208 [00:58<00:15, 19.25it/s]"
     ]
    },
    {
     "name": "stdout",
     "output_type": "stream",
     "text": [
      "c03d9b87-e19b-402b-ad86-b30d6e8aeb59\n",
      "c0c3041f-78cd-46de-8e36-0a7dad0c04c4\n",
      "c10b125d-10c2-474a-9c6a-5249935c638e\n"
     ]
    },
    {
     "name": "stderr",
     "output_type": "stream",
     "text": [
      "\r",
      " 76%|███████████████████████████████████████████████████████████▋                   | 913/1208 [00:58<00:16, 17.37it/s]"
     ]
    },
    {
     "name": "stdout",
     "output_type": "stream",
     "text": [
      "c118ff18-f9f2-4617-bddb-dc4091fb8f5f\n",
      "c1423156-82b3-4dd3-8e74-08eb7ed8e1d6\n",
      "c147584d-4c61-412a-bdaf-b02b22c18708\n",
      "c17523c5-90a0-4a6b-9b33-2b4a6cf58d36\n"
     ]
    },
    {
     "name": "stderr",
     "output_type": "stream",
     "text": [
      " 76%|████████████████████████████████████████████████████████████                   | 919/1208 [00:58<00:14, 20.02it/s]"
     ]
    },
    {
     "name": "stdout",
     "output_type": "stream",
     "text": [
      "c186dcd1-af61-455f-9619-1fdd8c881b06\n",
      "c22f7031-9cf8-48ce-b03b-1b12d0db4951\n",
      "c244166d-12ca-445f-9ed9-a13d9caa412f\n",
      "c2ec116f-f091-422c-926c-70b548a8f6ef\n",
      "c3042130-a6e2-458f-9fde-bb012f68f5f2\n",
      "c3209548-7f7c-4afd-b47c-b42a72b1ebf7\n"
     ]
    },
    {
     "name": "stderr",
     "output_type": "stream",
     "text": [
      "\r",
      " 76%|████████████████████████████████████████████████████████████▎                  | 923/1208 [00:58<00:12, 22.35it/s]"
     ]
    },
    {
     "name": "stdout",
     "output_type": "stream",
     "text": [
      "c3215597-a032-46be-9058-d6de1e5191d7\n",
      "c32b8bb8-c89d-4ae9-9c77-5b9356ca35a1\n",
      "c35ee701-fde2-46b5-b178-1fe3f1ea7da2\n",
      "c3ae7090-fc68-41b4-85a1-8d9bce9825a7\n",
      "c3b07675-9d02-477c-91fe-f0737867049b\n"
     ]
    },
    {
     "name": "stderr",
     "output_type": "stream",
     "text": [
      " 77%|████████████████████████████████████████████████████████████▊                  | 929/1208 [00:58<00:12, 22.26it/s]"
     ]
    },
    {
     "name": "stdout",
     "output_type": "stream",
     "text": [
      "c415532c-4cce-4580-9fcd-623c172a1abd\n",
      "c442e2d6-aaf9-417a-9905-4737a1115f33\n",
      "c4494d4f-732f-431a-8a9d-62403f0b74fe\n",
      "c4c7ed75-dbdf-4bb6-b6ba-718903cf7264\n",
      "c4d34e35-4db2-41de-ba77-1a94aa9ef788\n"
     ]
    },
    {
     "name": "stderr",
     "output_type": "stream",
     "text": [
      " 77%|█████████████████████████████████████████████████████████████▏                 | 935/1208 [00:59<00:12, 22.43it/s]"
     ]
    },
    {
     "name": "stdout",
     "output_type": "stream",
     "text": [
      "c5084fb8-2b62-464c-8a77-1a07ea653266\n",
      "c52f8cc8-afd7-441c-9f1f-18b6e16d79cf\n",
      "c53fd511-31bd-4901-baac-3b44891f6744\n",
      "c54fcef1-0c51-4426-9a93-15ec5f2bf58a\n",
      "c5acd0ad-b0f2-478d-b0ad-5aa733aa7b32\n",
      "c5db0fc0-b96c-496e-90b4-f9fb1b85b28e\n",
      "c63f190a-e860-44fc-a2db-7980e1c80519\n"
     ]
    },
    {
     "name": "stderr",
     "output_type": "stream",
     "text": [
      "\r",
      " 78%|█████████████████████████████████████████████████████████████▎                 | 938/1208 [00:59<00:15, 17.94it/s]"
     ]
    },
    {
     "name": "stdout",
     "output_type": "stream",
     "text": [
      "c649e1cb-4029-4433-b231-d67d68f7391a\n",
      "c6530038-6d4e-49e1-8427-d1d3acc9fa21\n"
     ]
    },
    {
     "name": "stderr",
     "output_type": "stream",
     "text": [
      "\r",
      " 78%|█████████████████████████████████████████████████████████████▍                 | 940/1208 [00:59<00:18, 14.61it/s]"
     ]
    },
    {
     "name": "stdout",
     "output_type": "stream",
     "text": [
      "c6575e75-c8ce-4766-841f-1137b9e0956c\n",
      "c66a3e52-0f3f-4c81-bab9-0303499549f7\n"
     ]
    },
    {
     "name": "stderr",
     "output_type": "stream",
     "text": [
      "\r",
      " 78%|█████████████████████████████████████████████████████████████▌                 | 942/1208 [01:00<00:24, 10.65it/s]"
     ]
    },
    {
     "name": "stdout",
     "output_type": "stream",
     "text": [
      "c66cb6b2-1480-446a-a9d2-b8032a3de0d7\n",
      "c680004e-6ee2-43d7-877c-edc9b5ebeecc\n"
     ]
    },
    {
     "name": "stderr",
     "output_type": "stream",
     "text": [
      " 78%|█████████████████████████████████████████████████████████████▉                 | 947/1208 [01:00<00:20, 12.57it/s]"
     ]
    },
    {
     "name": "stdout",
     "output_type": "stream",
     "text": [
      "c691c8ef-d3c7-47b6-a941-f6a1089f21a9\n",
      "c6ab535c-30e5-4b6b-8273-1ec8d78cdd13\n",
      "c6d97845-8ad2-4ab7-b385-66613628df5b\n",
      "c7045ab6-230e-4c1e-a8e0-f624d41a00d9\n",
      "c742ee2c-6814-46cd-af56-ae87bb9972f4\n",
      "c776eb78-3323-4571-b39f-7ffc73ae63ce\n"
     ]
    },
    {
     "name": "stderr",
     "output_type": "stream",
     "text": [
      " 79%|██████████████████████████████████████████████████████████████▎                | 953/1208 [01:00<00:15, 16.97it/s]"
     ]
    },
    {
     "name": "stdout",
     "output_type": "stream",
     "text": [
      "c7a2d648-47cb-4b39-afa4-1b7fcfe51934\n",
      "c7c1b873-0548-4a73-9618-f60912e164df\n",
      "c7ec51d5-9f45-4209-8357-39e9a984a733\n",
      "c84edeb4-311c-4e82-88f9-ae0505b3ad13\n",
      "c890ee00-daa5-4b20-9cd5-930748ecc4e0\n"
     ]
    },
    {
     "name": "stderr",
     "output_type": "stream",
     "text": [
      " 79%|██████████████████████████████████████████████████████████████▋                | 959/1208 [01:00<00:13, 19.12it/s]"
     ]
    },
    {
     "name": "stdout",
     "output_type": "stream",
     "text": [
      "c8af0297-ce1f-40ea-bf44-9256dcdae4e9\n",
      "c8fd1336-dd0a-4f97-abbf-be2c18b91e02\n",
      "c94827ce-d619-4705-a68a-df63a2c95ffa\n",
      "c9499a06-fb31-4552-a9e2-fb4ebb440859\n",
      "c94a5851-b846-4fde-8c89-05bec3a8ac53\n",
      "c956e531-6805-4fe1-b61c-8b96a9815a77\n"
     ]
    },
    {
     "name": "stderr",
     "output_type": "stream",
     "text": [
      " 80%|███████████████████████████████████████████████████████████████                | 965/1208 [01:01<00:10, 22.29it/s]"
     ]
    },
    {
     "name": "stdout",
     "output_type": "stream",
     "text": [
      "c9ad92d4-b408-4506-916e-def47b2e6ed0\n",
      "ca16a5ad-b106-4e84-8a43-178710e854ba\n",
      "ca5e6a15-ba65-48ea-8913-2d986e71bf3a\n",
      "ca677c3c-083f-4d54-9dec-39f79f6a17d8\n",
      "ca734448-0d52-42fa-b41c-17b2939e58ae\n",
      "ca9626bc-21a4-46f4-ba94-e7ee7a4cf735\n",
      "caeb2d62-1166-43f0-8eac-5b8fc48f02eb\n"
     ]
    },
    {
     "name": "stderr",
     "output_type": "stream",
     "text": [
      " 80%|███████████████████████████████████████████████████████████████▍               | 970/1208 [01:01<00:16, 14.82it/s]"
     ]
    },
    {
     "name": "stdout",
     "output_type": "stream",
     "text": [
      "cb08956d-dd6a-4e13-817b-40a0a93068f1\n",
      "cb2fac19-90b0-48b4-bdc5-7dbbd58756d1\n",
      "cbb58718-6319-48db-b84b-78ac9b12ff89\n"
     ]
    },
    {
     "name": "stderr",
     "output_type": "stream",
     "text": [
      "\r",
      " 80%|███████████████████████████████████████████████████████████████▌               | 972/1208 [01:01<00:17, 13.32it/s]"
     ]
    },
    {
     "name": "stdout",
     "output_type": "stream",
     "text": [
      "cbde7f7e-2458-4dda-9db2-3d5ccf950ced\n",
      "cbec07ed-69d3-40e7-8b04-b3bd6680885b\n"
     ]
    },
    {
     "name": "stderr",
     "output_type": "stream",
     "text": [
      "\r",
      " 81%|███████████████████████████████████████████████████████████████▋               | 974/1208 [01:02<00:22, 10.61it/s]"
     ]
    },
    {
     "name": "stdout",
     "output_type": "stream",
     "text": [
      "cc275c45-7511-4070-84af-10b8ffebda53\n",
      "cc882eae-a341-4783-bd19-8bdedf798538\n"
     ]
    },
    {
     "name": "stderr",
     "output_type": "stream",
     "text": [
      " 81%|████████████████████████████████████████████████████████████████               | 979/1208 [01:02<00:16, 13.50it/s]"
     ]
    },
    {
     "name": "stdout",
     "output_type": "stream",
     "text": [
      "cc94eabb-a3dc-4cfc-9fff-55c76b5b4a71\n",
      "ccb4b13d-ab20-4222-892f-5adf70249aaa\n",
      "cd2774a0-dab2-4d68-aae9-7568b9f3d2a6\n",
      "cdb086a8-2bf8-4436-b1ef-96cdd801f247\n",
      "cecbf663-0751-4e7f-b298-770c88afc2c1\n",
      "cf90d82f-2814-4fb7-a3ff-a86b7c5efca7\n"
     ]
    },
    {
     "name": "stderr",
     "output_type": "stream",
     "text": [
      "\r",
      " 81%|████████████████████████████████████████████████████████████████▎              | 983/1208 [01:02<00:12, 17.58it/s]"
     ]
    },
    {
     "name": "stdout",
     "output_type": "stream",
     "text": [
      "cfab01d3-0616-4efb-9290-11f0fd8bf5a3\n",
      "cfe6086f-eb0b-4cb0-a430-8cd7de6556e2\n",
      "d0347b49-8f98-4632-a384-1a4f57ac6374\n",
      "d09eed76-e09b-4d90-b8f0-5a801beae41c\n",
      "d0d3ae45-b434-4869-a518-427320ebe62d\n"
     ]
    },
    {
     "name": "stderr",
     "output_type": "stream",
     "text": [
      " 82%|████████████████████████████████████████████████████████████████▌              | 988/1208 [01:02<00:12, 18.28it/s]"
     ]
    },
    {
     "name": "stdout",
     "output_type": "stream",
     "text": [
      "d1144956-5a0c-4bd2-b67d-8498c82d6a12\n",
      "d12c5f45-6b20-46d6-a66f-c5a4683c25b3\n",
      "d1617cf7-eb56-42ee-85af-66c4748753c0\n",
      "d1924af6-7512-4ccc-9c6b-adbbaa8db41f\n",
      "d1b48634-9ad5-46e8-b816-42d1d97c93cd\n"
     ]
    },
    {
     "name": "stderr",
     "output_type": "stream",
     "text": [
      " 82%|█████████████████████████████████████████████████████████████████              | 994/1208 [01:03<00:10, 20.66it/s]"
     ]
    },
    {
     "name": "stdout",
     "output_type": "stream",
     "text": [
      "d31dd2c0-ae8e-4499-86bb-7cabb6e438b9\n",
      "d32022fa-e492-4b31-a776-9435cfdef6d6\n",
      "d3283f5b-3b3a-40ea-800b-79960ca851cb\n",
      "d33bc9fc-3444-4f26-8082-307f9fccc52b\n",
      "d3b79739-aea2-4804-8c7a-183b7ed07de3\n",
      "d3dcdf92-9328-4796-adf4-918646877ba1\n"
     ]
    },
    {
     "name": "stderr",
     "output_type": "stream",
     "text": [
      "\r",
      " 83%|█████████████████████████████████████████████████████████████████▏             | 997/1208 [01:03<00:09, 21.61it/s]"
     ]
    },
    {
     "name": "stdout",
     "output_type": "stream",
     "text": [
      "d3ed519e-2152-4e30-838d-a3ea23be512f\n",
      "d47cd049-d78b-4ba3-a7d4-399be4dd1dde\n"
     ]
    },
    {
     "name": "stderr",
     "output_type": "stream",
     "text": [
      "\r",
      " 83%|████████████████████████████████████████████████████████████████▌             | 1000/1208 [01:03<00:15, 13.73it/s]"
     ]
    },
    {
     "name": "stdout",
     "output_type": "stream",
     "text": [
      "d4fef0c5-6597-48b6-97e9-32ed504488e6\n",
      "d5009906-bce1-4353-90b4-f4c79362f4cf\n",
      "d532e31c-10ce-4313-9a36-bd5e01230254\n"
     ]
    },
    {
     "name": "stderr",
     "output_type": "stream",
     "text": [
      " 83%|████████████████████████████████████████████████████████████████▉             | 1006/1208 [01:03<00:11, 17.10it/s]"
     ]
    },
    {
     "name": "stdout",
     "output_type": "stream",
     "text": [
      "d57b3894-c912-47e8-b00a-e1a2a7aba644\n",
      "d615b706-8f50-4d96-8de5-6858897528d0\n",
      "d6352a03-ef81-421d-915e-226499555d20\n",
      "d64cd75a-df26-44d5-ac25-69061a4e4d57\n",
      "d67398c5-8b0e-463f-a04e-8583c820786c\n"
     ]
    },
    {
     "name": "stderr",
     "output_type": "stream",
     "text": [
      " 84%|█████████████████████████████████████████████████████████████████▎            | 1012/1208 [01:04<00:09, 19.90it/s]"
     ]
    },
    {
     "name": "stdout",
     "output_type": "stream",
     "text": [
      "d67655e6-0a80-4a86-b552-1f5e85788377\n",
      "d67fb447-4dd7-4a82-a305-2b70927b69bb\n",
      "d6942996-5664-4370-ad87-2bdcbd49ac16\n",
      "d7581cb0-7a12-471d-a3d8-68dcea362213\n",
      "d75933ed-d26e-4d1f-bda3-96bc0d77fb36\n"
     ]
    },
    {
     "name": "stderr",
     "output_type": "stream",
     "text": [
      "\r",
      " 84%|█████████████████████████████████████████████████████████████████▌            | 1015/1208 [01:04<00:09, 21.36it/s]"
     ]
    },
    {
     "name": "stdout",
     "output_type": "stream",
     "text": [
      "d79b4e90-c45d-4f5d-a498-49c3e323c291\n",
      "d7c7eb2c-2acd-4f86-8a5a-09ab3dd02d16\n",
      "d82c657e-5678-41da-9a6e-3ad29430b759\n",
      "d8632217-ec33-4d0a-98e6-427824c58869\n",
      "d8f7e159-b7e3-49e4-86e8-aed8c5fbcd97\n",
      "d9345456-b76d-46cc-b81e-46d4a0a7b652\n"
     ]
    },
    {
     "name": "stderr",
     "output_type": "stream",
     "text": [
      " 85%|█████████████████████████████████████████████████████████████████▉            | 1021/1208 [01:04<00:08, 22.77it/s]"
     ]
    },
    {
     "name": "stdout",
     "output_type": "stream",
     "text": [
      "d997337e-e4a8-4ef0-b8ba-975e6c43b62c\n",
      "d9c9479e-f1ea-4d6e-861f-843ff9a90d19\n",
      "da111ca5-520f-4ea8-97ad-ae5fce58ee91\n",
      "da49db57-0c2f-4213-b322-c88c19fb9296\n",
      "dacf7e3f-1d8c-42a0-8539-3abe3971c956\n"
     ]
    },
    {
     "name": "stderr",
     "output_type": "stream",
     "text": [
      "\r",
      " 85%|██████████████████████████████████████████████████████████████████            | 1024/1208 [01:04<00:10, 17.17it/s]"
     ]
    },
    {
     "name": "stdout",
     "output_type": "stream",
     "text": [
      "daea4860-a296-4f6d-acef-996ab0882676\n",
      "db0a1123-0b35-48d7-8337-3b1ebd6af0cc\n",
      "db249e5a-4142-432c-8288-bacd10d7273d\n"
     ]
    },
    {
     "name": "stderr",
     "output_type": "stream",
     "text": [
      "\r",
      " 85%|██████████████████████████████████████████████████████████████████▏           | 1026/1208 [01:05<00:27,  6.54it/s]"
     ]
    },
    {
     "name": "stdout",
     "output_type": "stream",
     "text": [
      "db3f4098-02e4-45a3-a7af-5dda37ac1526\n",
      "db7c5ec1-fefe-4e9d-83c1-da8fb982f1e2\n"
     ]
    },
    {
     "name": "stderr",
     "output_type": "stream",
     "text": [
      "\r",
      " 85%|██████████████████████████████████████████████████████████████████▍           | 1028/1208 [01:05<00:27,  6.61it/s]"
     ]
    },
    {
     "name": "stdout",
     "output_type": "stream",
     "text": [
      "db871d17-28fd-4ceb-b421-e4e4afa0a7a0\n",
      "dbdfad64-110c-421f-a1c7-f68fd9e82d67\n"
     ]
    },
    {
     "name": "stderr",
     "output_type": "stream",
     "text": [
      " 85%|██████████████████████████████████████████████████████████████████▋           | 1032/1208 [01:06<00:24,  7.15it/s]"
     ]
    },
    {
     "name": "stdout",
     "output_type": "stream",
     "text": [
      "dc3bdfe9-1565-4cda-9c4e-0979846dab60\n",
      "dc4270fb-e5c2-414f-96e9-6769ba1d77e4\n"
     ]
    },
    {
     "name": "stderr",
     "output_type": "stream",
     "text": [
      "\r",
      " 86%|██████████████████████████████████████████████████████████████████▊           | 1035/1208 [01:06<00:17,  9.64it/s]"
     ]
    },
    {
     "name": "stdout",
     "output_type": "stream",
     "text": [
      "dc6ac71b-2616-431e-bfd5-4c38139e4ddd\n",
      "dca685a8-a609-45d8-93d7-da1e4165b9bd\n",
      "dcb21739-3c36-459d-b3cc-1be5871d6fe7\n",
      "dcc1a193-7b74-44f8-ad8d-813751d8fa6b\n",
      "dce55b59-c6c3-4693-aa75-6b348c8f52cd\n"
     ]
    },
    {
     "name": "stderr",
     "output_type": "stream",
     "text": [
      " 86%|███████████████████████████████████████████████████████████████████▏          | 1041/1208 [01:06<00:11, 14.86it/s]"
     ]
    },
    {
     "name": "stdout",
     "output_type": "stream",
     "text": [
      "dcf7a19a-ec3d-44ef-8d7c-33b1e91fb9af\n",
      "dd090806-e4ac-4a78-b2ee-55a30626369c\n",
      "dd60b6a7-c545-45b9-8250-d1633aa1ac75\n",
      "dd6f047e-af73-43df-9c46-354534fc20e0\n",
      "dd7142e4-2d86-4170-a41f-e825743e8907\n",
      "dd944a6b-c1d3-4f9f-bbdc-3709707984f7\n"
     ]
    },
    {
     "name": "stderr",
     "output_type": "stream",
     "text": [
      " 87%|███████████████████████████████████████████████████████████████████▌          | 1047/1208 [01:07<00:08, 18.37it/s]"
     ]
    },
    {
     "name": "stdout",
     "output_type": "stream",
     "text": [
      "de00f9a5-aa8b-4679-8ec6-85528a942d6f\n",
      "de0321fa-6f7d-4dd1-b96b-186701c3b1d9\n",
      "de2b8835-552c-4f01-98b7-67bc4910062e\n",
      "de5d19b7-e670-4ac7-843b-7ce7bcebdf45\n",
      "de6d3020-9347-473b-9146-8909627790f6\n",
      "de81bf7a-7a56-437f-a068-4d9c3e01134c\n"
     ]
    },
    {
     "name": "stderr",
     "output_type": "stream",
     "text": [
      " 87%|███████████████████████████████████████████████████████████████████▉          | 1053/1208 [01:07<00:07, 21.46it/s]"
     ]
    },
    {
     "name": "stdout",
     "output_type": "stream",
     "text": [
      "deaa1931-5f97-45bf-8c00-be6ddeb37b9a\n",
      "dec61ae1-5037-4c3a-8952-15371becca7d\n",
      "dedbb10c-43f1-45fb-bb40-3ce2fb874015\n",
      "deeaa5b3-3895-4aec-a2ce-ed6404862cdf\n",
      "df3d98b9-3dd7-4107-8d4a-ae1b7f247793\n",
      "df49578a-60d4-4a3b-9ee0-79d9d59bc72a\n",
      "dfac6c92-8f0f-429a-8caf-9b7732bf78da\n"
     ]
    },
    {
     "name": "stderr",
     "output_type": "stream",
     "text": [
      "\r",
      " 87%|████████████████████████████████████████████████████████████████████▏         | 1056/1208 [01:08<00:28,  5.40it/s]"
     ]
    },
    {
     "name": "stdout",
     "output_type": "stream",
     "text": [
      "dfc026a9-079f-4f45-8666-e0ccba5bb437\n",
      "e02edd82-c424-4dee-98a7-575640655d9b\n"
     ]
    },
    {
     "name": "stderr",
     "output_type": "stream",
     "text": [
      " 88%|████████████████████████████████████████████████████████████████████▍         | 1060/1208 [01:09<00:22,  6.68it/s]"
     ]
    },
    {
     "name": "stdout",
     "output_type": "stream",
     "text": [
      "e0e6b676-c39c-4542-8adf-de257a8e92e2\n",
      "e0ef520d-7b65-485d-9888-e6859f189f70\n",
      "e0ff3476-226f-4125-b182-8e524d5503dd\n",
      "e11515b4-9527-4c23-a0ba-43719bacca0d\n"
     ]
    },
    {
     "name": "stderr",
     "output_type": "stream",
     "text": [
      " 88%|████████████████████████████████████████████████████████████████████▊         | 1066/1208 [01:09<00:12, 11.47it/s]"
     ]
    },
    {
     "name": "stdout",
     "output_type": "stream",
     "text": [
      "e13f2327-fbf4-4d84-a8c1-09cb1e449c8c\n",
      "e16c0dab-780d-4035-872e-1bb91e49f9d2\n",
      "e1937e32-85d5-4cd8-bb4a-b9cf8ee7ceeb\n",
      "e234ce8b-4ec4-4d93-9068-d7854d77ddf4\n",
      "e2e68cb3-0588-40bb-95b4-356f9cacffc3\n"
     ]
    },
    {
     "name": "stderr",
     "output_type": "stream",
     "text": [
      "\r",
      " 88%|█████████████████████████████████████████████████████████████████████         | 1069/1208 [01:09<00:10, 13.42it/s]"
     ]
    },
    {
     "name": "stdout",
     "output_type": "stream",
     "text": [
      "e36cb882-c6d0-4467-812e-d18c169a9a47\n",
      "e3a4b3e7-9500-4b6c-a402-b6d3f45e714b\n",
      "e3ade58d-086c-47fa-9120-76beacb45395\n",
      "e3c1442a-717f-41dd-bf97-81e1233ac9fa\n",
      "e3e9c2de-0a24-4c7e-8a69-3d3093d5bdab\n"
     ]
    },
    {
     "name": "stderr",
     "output_type": "stream",
     "text": [
      " 89%|█████████████████████████████████████████████████████████████████████▍        | 1075/1208 [01:09<00:07, 17.54it/s]"
     ]
    },
    {
     "name": "stdout",
     "output_type": "stream",
     "text": [
      "e3ea07d7-884a-412e-874a-40fd6b856736\n",
      "e40000b4-1b26-42ce-909d-4715e04f0a6e\n",
      "e474a20b-2769-48f1-a520-4f6ef5a0dbf5\n",
      "e4827c85-311a-4df1-89c2-99dad0c3558c\n",
      "e4eea7ea-8989-46a9-9c98-25a178146b28\n",
      "e5731221-814c-4894-a44e-e46b71460fa4\n"
     ]
    },
    {
     "name": "stderr",
     "output_type": "stream",
     "text": [
      " 90%|█████████████████████████████████████████████████████████████████████▊        | 1082/1208 [01:10<00:05, 22.15it/s]"
     ]
    },
    {
     "name": "stdout",
     "output_type": "stream",
     "text": [
      "e597f7ce-46c6-4dce-9063-50a2703fdd45\n",
      "e5fd5949-4cd0-4cb6-837a-02c26a5eb87a\n",
      "e61e6af2-7f8b-47b0-bbe7-acb2ed0299ab\n",
      "e63e1607-f344-43d6-a0d8-e10cf2e5054a\n",
      "e640ae51-cbf1-4a84-b7cf-d38b17f59c2f\n",
      "e683144c-0465-43a2-86b1-3cf52599d5e0\n"
     ]
    },
    {
     "name": "stderr",
     "output_type": "stream",
     "text": [
      "\r",
      " 90%|██████████████████████████████████████████████████████████████████████        | 1085/1208 [01:10<00:05, 23.23it/s]"
     ]
    },
    {
     "name": "stdout",
     "output_type": "stream",
     "text": [
      "e6d7c5e1-43fc-4712-86d5-aa70252b978f\n",
      "e726dac6-f962-449c-acff-4dd56847b685\n",
      "e79bd81b-f878-4bee-9be2-d91a722c031e\n"
     ]
    },
    {
     "name": "stderr",
     "output_type": "stream",
     "text": [
      "\r",
      " 90%|██████████████████████████████████████████████████████████████████████▎       | 1088/1208 [01:10<00:06, 18.09it/s]"
     ]
    },
    {
     "name": "stdout",
     "output_type": "stream",
     "text": [
      "e8058bed-c362-4e1c-85dc-62f80f32938f\n",
      "e80bad38-66d0-473e-85dd-92142dba37e6\n",
      "e81bf478-27ff-458c-ac30-9e1f8480bc5c\n"
     ]
    },
    {
     "name": "stderr",
     "output_type": "stream",
     "text": [
      "\r",
      " 90%|██████████████████████████████████████████████████████████████████████▍       | 1091/1208 [01:10<00:06, 16.74it/s]"
     ]
    },
    {
     "name": "stdout",
     "output_type": "stream",
     "text": [
      "e871f52c-77a6-4813-80d4-95bd97985f1a\n",
      "e94a811d-3145-4313-ba42-2d5ed283179f\n"
     ]
    },
    {
     "name": "stderr",
     "output_type": "stream",
     "text": [
      " 91%|██████████████████████████████████████████████████████████████████████▊       | 1096/1208 [01:11<00:07, 15.48it/s]"
     ]
    },
    {
     "name": "stdout",
     "output_type": "stream",
     "text": [
      "e98baeb2-aa58-4cce-8c61-66685dd2b239\n",
      "e98ea067-82b5-4a0d-87bf-b4bbdc10ddab\n",
      "e9916e11-9be6-4dec-9df6-2e7d1a8e1735\n",
      "e9e78ff8-831b-46e9-9785-3eee9acbfcd8\n"
     ]
    },
    {
     "name": "stderr",
     "output_type": "stream",
     "text": [
      "\r",
      " 91%|██████████████████████████████████████████████████████████████████████▉       | 1099/1208 [01:11<00:06, 17.26it/s]"
     ]
    },
    {
     "name": "stdout",
     "output_type": "stream",
     "text": [
      "ea6b012a-3425-4bfc-a61d-88563aa2a264\n",
      "eaf4b781-b3aa-41ce-8c5e-287979b4e15a\n",
      "eb0173a3-7e5e-4f53-8124-03d9d6317844\n",
      "eb5f4f2f-2275-4a80-84a5-78a1eaf4ce4d\n",
      "eb6e8684-b84e-483d-b835-f59286d2516b\n",
      "eb77e4a9-acb0-4d83-8055-2c5fcaa54b45\n"
     ]
    },
    {
     "name": "stderr",
     "output_type": "stream",
     "text": [
      " 91%|███████████████████████████████████████████████████████████████████████▎      | 1105/1208 [01:11<00:04, 21.02it/s]"
     ]
    },
    {
     "name": "stdout",
     "output_type": "stream",
     "text": [
      "eb86033f-4f1c-4e8c-ae84-e8e4c7e08626\n",
      "eba73bff-fbe1-436d-9a5f-0a61331a0ea2\n",
      "ebfd9f67-138e-49f0-9cef-a0352069eedb\n",
      "ec301f62-1302-4407-96f9-fcfe45c150ae\n",
      "ec60ab26-3343-4c5f-9667-cdae999c7d86\n",
      "ecd68ba2-48af-4866-826a-7cd1c147c055\n"
     ]
    },
    {
     "name": "stderr",
     "output_type": "stream",
     "text": [
      "\r",
      " 92%|███████████████████████████████████████████████████████████████████████▌      | 1108/1208 [01:11<00:04, 21.59it/s]"
     ]
    },
    {
     "name": "stdout",
     "output_type": "stream",
     "text": [
      "ed0bee2f-05e0-4392-8357-19750cec577c\n",
      "ed0d8763-e734-4506-b61b-53fc32a8d8c9\n"
     ]
    },
    {
     "name": "stderr",
     "output_type": "stream",
     "text": [
      "\r",
      " 92%|███████████████████████████████████████████████████████████████████████▋      | 1111/1208 [01:11<00:05, 16.63it/s]"
     ]
    },
    {
     "name": "stdout",
     "output_type": "stream",
     "text": [
      "edcb4d77-a4d3-465d-9b59-eb3087766b1c\n",
      "edd09b2e-2673-4405-8ac0-e476e003e96a\n",
      "edd3862f-04e1-49cf-97dd-ca566d17e71a\n"
     ]
    },
    {
     "name": "stderr",
     "output_type": "stream",
     "text": [
      " 92%|████████████████████████████████████████████████████████████████████████      | 1116/1208 [01:12<00:05, 16.73it/s]"
     ]
    },
    {
     "name": "stdout",
     "output_type": "stream",
     "text": [
      "ee57e743-a876-4f69-9fe5-bf5d01b44689\n",
      "eeac81a5-9202-4965-b7de-35b12910cdf6\n",
      "eeb06e39-482b-443d-8cf6-b9b5c763df78\n",
      "eed298b3-35f2-4127-88ad-0c4a9062207b\n",
      "eef2ac0b-42de-4bc3-a3c3-d5fcd597fbe4\n"
     ]
    },
    {
     "name": "stderr",
     "output_type": "stream",
     "text": [
      " 93%|████████████████████████████████████████████████████████████████████████▍     | 1122/1208 [01:12<00:04, 20.52it/s]"
     ]
    },
    {
     "name": "stdout",
     "output_type": "stream",
     "text": [
      "ef1419e0-3a3a-458a-b3b2-7efddac50404\n",
      "ef1a9020-5e45-450d-a237-165114308592\n",
      "ef815e3a-02a6-4cf8-9262-45bc74c50b00\n",
      "ef83ed4c-2724-4d5f-8abe-1a18d25cea35\n",
      "ef8fcfa4-8466-4186-8c69-f5f4904eb489\n"
     ]
    },
    {
     "name": "stderr",
     "output_type": "stream",
     "text": [
      "\r",
      " 93%|████████████████████████████████████████████████████████████████████████▋     | 1125/1208 [01:12<00:03, 21.73it/s]"
     ]
    },
    {
     "name": "stdout",
     "output_type": "stream",
     "text": [
      "effd6334-516f-4d48-9f3c-5272a99780fb\n",
      "f01f6659-2114-4801-9d28-1f411432a589\n",
      "f05ffdca-dc3a-47bd-a231-2a0d9bd1d50e\n",
      "f06ba705-5509-479b-8067-127ffb37c5b6\n",
      "f0713bee-2a71-4ced-b953-4041ea99496a\n"
     ]
    },
    {
     "name": "stderr",
     "output_type": "stream",
     "text": [
      " 94%|█████████████████████████████████████████████████████████████████████████     | 1131/1208 [01:12<00:03, 23.29it/s]"
     ]
    },
    {
     "name": "stdout",
     "output_type": "stream",
     "text": [
      "f07174a5-f799-4286-ac43-5b0f5c5777ac\n",
      "f0804a5e-e7f5-4cf2-a5df-b65e66502bf1\n",
      "f09acb0c-b270-4e91-99f8-410adfa7f34a\n",
      "f0fe292d-85ae-4c3a-a676-037dde2594e6\n",
      "f11d05e4-538a-4024-8711-b08a4ce3c540\n"
     ]
    },
    {
     "name": "stderr",
     "output_type": "stream",
     "text": [
      "\r",
      " 94%|█████████████████████████████████████████████████████████████████████████▏    | 1134/1208 [01:12<00:03, 23.23it/s]"
     ]
    },
    {
     "name": "stdout",
     "output_type": "stream",
     "text": [
      "f1872d08-f8a6-4b21-aa29-f56bbf607883\n",
      "f1cda808-69a9-4d10-ba0a-6607c98e362d\n",
      "f1de7c7e-e7d3-45ae-a66c-58538bf6cac1\n",
      "f1f9df6d-c4cb-4b42-9ca2-8fb47b1b0e91\n",
      "f1faab5f-3033-45ea-9673-8b816fea5ce8\n"
     ]
    },
    {
     "name": "stderr",
     "output_type": "stream",
     "text": [
      "\r",
      " 94%|█████████████████████████████████████████████████████████████████████████▍    | 1138/1208 [01:13<00:03, 19.98it/s]"
     ]
    },
    {
     "name": "stdout",
     "output_type": "stream",
     "text": [
      "f20a4fcf-ea8e-4c14-883d-d26a9e08ce25\n",
      "f232eec3-02c0-43f9-bf32-3e60245397e2\n",
      "f234a2de-f3c8-4521-a306-8cfdf52dd597\n"
     ]
    },
    {
     "name": "stderr",
     "output_type": "stream",
     "text": [
      " 95%|█████████████████████████████████████████████████████████████████████████▊    | 1143/1208 [01:13<00:04, 15.13it/s]"
     ]
    },
    {
     "name": "stdout",
     "output_type": "stream",
     "text": [
      "f23ae29e-1bda-4784-b10c-d736757d39b8\n",
      "f24c8fe0-a534-44cf-9995-b2b314d945ba\n"
     ]
    },
    {
     "name": "stderr",
     "output_type": "stream",
     "text": [
      "\r",
      " 95%|█████████████████████████████████████████████████████████████████████████▉    | 1145/1208 [01:13<00:04, 13.68it/s]"
     ]
    },
    {
     "name": "stdout",
     "output_type": "stream",
     "text": [
      "f2574be3-81c6-4fc3-8a40-0230d1264f52\n",
      "f25a2ac8-cb6e-4e05-a0cd-cc00ac47718a\n"
     ]
    },
    {
     "name": "stderr",
     "output_type": "stream",
     "text": [
      "\r",
      " 95%|██████████████████████████████████████████████████████████████████████████    | 1147/1208 [01:13<00:04, 12.61it/s]"
     ]
    },
    {
     "name": "stdout",
     "output_type": "stream",
     "text": [
      "f274b784-b995-4a7e-a2c2-6cc31c24c4b4\n",
      "f28e6d66-af71-40c1-b30c-da71d7230a3f\n"
     ]
    },
    {
     "name": "stderr",
     "output_type": "stream",
     "text": [
      "\r",
      " 95%|██████████████████████████████████████████████████████████████████████████▏   | 1149/1208 [01:14<00:04, 12.28it/s]"
     ]
    },
    {
     "name": "stdout",
     "output_type": "stream",
     "text": [
      "f2a8a483-b254-43aa-817f-7d525adb8911\n",
      "f329e01b-fbd3-4fb5-9738-a7ff4c8622b8\n",
      "f32b21ae-5ca7-490b-bc40-6db9396d933c\n",
      "f39e2289-fedd-4d12-9e64-ffdafb89247e\n"
     ]
    },
    {
     "name": "stderr",
     "output_type": "stream",
     "text": [
      "\r",
      " 95%|██████████████████████████████████████████████████████████████████████████▍   | 1153/1208 [01:14<00:03, 15.99it/s]"
     ]
    },
    {
     "name": "stdout",
     "output_type": "stream",
     "text": [
      "f3bd0fcc-647d-4ca0-8c43-a16bd6ea3878\n",
      "f3d84be2-8af0-4d62-9f72-23d3dc08cbbe\n",
      "f4722a74-35e7-42bd-8ef6-dfff04b9cd22\n"
     ]
    },
    {
     "name": "stderr",
     "output_type": "stream",
     "text": [
      "\r",
      " 96%|██████████████████████████████████████████████████████████████████████████▌   | 1155/1208 [01:14<00:04, 11.54it/s]"
     ]
    },
    {
     "name": "stdout",
     "output_type": "stream",
     "text": [
      "f48bf825-13c4-42fc-8dd8-10cc4ae6b202\n",
      "f4a27dfd-4c52-459f-96b5-ee6b452a3395\n",
      "f4c00b8c-d675-4255-8277-ca65bd757f51\n"
     ]
    },
    {
     "name": "stderr",
     "output_type": "stream",
     "text": [
      " 96%|██████████████████████████████████████████████████████████████████████████▉   | 1160/1208 [01:14<00:03, 15.37it/s]"
     ]
    },
    {
     "name": "stdout",
     "output_type": "stream",
     "text": [
      "f4c2b43f-a2e7-4746-8034-0b34aebba8ee\n",
      "f5419bc0-4415-41b6-b832-5326cfcc534b\n",
      "f5869ba8-6253-426b-93f3-82af59a86144\n",
      "f5c395f1-f94c-440d-8221-cc656e52c0b1\n",
      "f5c51193-8a27-4ef3-83ad-771395d63caf\n"
     ]
    },
    {
     "name": "stderr",
     "output_type": "stream",
     "text": [
      " 97%|███████████████████████████████████████████████████████████████████████████▎  | 1166/1208 [01:15<00:02, 20.31it/s]"
     ]
    },
    {
     "name": "stdout",
     "output_type": "stream",
     "text": [
      "f5eb7c5e-bd77-4638-ba9f-58d42f87476b\n",
      "f62d4fb6-df7c-446c-94a8-d5aede0b1e0c\n",
      "f632981c-1330-4078-8a12-691beb2dab02\n",
      "f65a1633-9935-4984-a285-a60d30aa1707\n",
      "f68ae8e9-e760-4106-88e0-4bdef2785f06\n",
      "f6ab936d-924b-4038-aa47-71b07c26b4e2\n"
     ]
    },
    {
     "name": "stderr",
     "output_type": "stream",
     "text": [
      " 97%|███████████████████████████████████████████████████████████████████████████▋  | 1173/1208 [01:15<00:01, 23.48it/s]"
     ]
    },
    {
     "name": "stdout",
     "output_type": "stream",
     "text": [
      "f6f8a69a-3fd2-4684-ac77-3e83ea0fb36d\n",
      "f7231477-f2c1-439a-9c8b-204de07686a4\n",
      "f77d7469-d083-4c2d-a4ea-5a9ff162e3e2\n",
      "f7a4334a-4332-4de8-b39b-22da907976f2\n",
      "f7cced00-9b41-45ec-9fdf-fb9e1a74da90\n"
     ]
    },
    {
     "name": "stderr",
     "output_type": "stream",
     "text": [
      "\r",
      " 97%|███████████████████████████████████████████████████████████████████████████▉  | 1176/1208 [01:15<00:01, 24.46it/s]"
     ]
    },
    {
     "name": "stdout",
     "output_type": "stream",
     "text": [
      "f81806a8-5883-446c-be78-f0145b12dbdd\n",
      "f8242b97-b8d5-48b5-b808-0b0f75a5de97\n",
      "f8a8b148-60e4-4a5c-ae19-941b19ec0846\n",
      "f8b14fc4-dd6b-4ad0-a96d-c62845f48681\n",
      "f8b6a868-60e9-4569-ae69-638a0c39834d\n",
      "f91670db-be74-474c-bd72-68120aed4756\n"
     ]
    },
    {
     "name": "stderr",
     "output_type": "stream",
     "text": [
      "\r",
      " 98%|████████████████████████████████████████████████████████████████████████████▏ | 1179/1208 [01:15<00:01, 25.22it/s]"
     ]
    },
    {
     "name": "stdout",
     "output_type": "stream",
     "text": [
      "f939782b-f5a2-40a3-9c22-6c6d7e18edc3\n",
      "f97c7c87-5e27-45ea-9f93-3285d74091de\n",
      "fa1f9f89-cecb-4972-842c-d14c632f89a9\n"
     ]
    },
    {
     "name": "stderr",
     "output_type": "stream",
     "text": [
      "\r",
      " 98%|████████████████████████████████████████████████████████████████████████████▎ | 1182/1208 [01:15<00:01, 19.57it/s]"
     ]
    },
    {
     "name": "stdout",
     "output_type": "stream",
     "text": [
      "fa4f8d1a-cb3a-4722-a566-6c7072f30606\n",
      "fac4b0e2-6b52-4c0e-b762-4fa65d552856\n",
      "faead1c7-bb2c-4adf-bfce-9ff36cd2cf6a\n"
     ]
    },
    {
     "name": "stderr",
     "output_type": "stream",
     "text": [
      "\r",
      " 98%|████████████████████████████████████████████████████████████████████████████▌ | 1185/1208 [01:16<00:01, 17.20it/s]"
     ]
    },
    {
     "name": "stdout",
     "output_type": "stream",
     "text": [
      "fb05b297-180a-4171-b633-09d5616d7534\n",
      "fbb1b44c-d75a-4550-a6c0-0eb62b96bfce\n"
     ]
    },
    {
     "name": "stderr",
     "output_type": "stream",
     "text": [
      "\r",
      " 98%|████████████████████████████████████████████████████████████████████████████▋ | 1187/1208 [01:16<00:01, 12.82it/s]"
     ]
    },
    {
     "name": "stdout",
     "output_type": "stream",
     "text": [
      "fbc1f360-4382-48bb-a32e-3f5f2f9dbe57\n",
      "fbcb2ef0-3c97-4d7a-8b96-0147c73f3941\n"
     ]
    },
    {
     "name": "stderr",
     "output_type": "stream",
     "text": [
      " 99%|████████████████████████████████████████████████████████████████████████████▉ | 1192/1208 [01:16<00:01, 13.98it/s]"
     ]
    },
    {
     "name": "stdout",
     "output_type": "stream",
     "text": [
      "fc15659f-6264-4dd5-ab17-43d89fb297b9\n",
      "fc8df086-39e0-43f8-b0c7-2d23a349539b\n",
      "fcc2b245-f47f-447f-8527-275b0005677c\n",
      "fcdf6632-c03f-49a8-9fb3-42e87c99b9d0\n",
      "fd1302e2-3cd2-4a1a-9c13-00f810a9c41b\n"
     ]
    },
    {
     "name": "stderr",
     "output_type": "stream",
     "text": [
      " 99%|█████████████████████████████████████████████████████████████████████████████▎| 1198/1208 [01:16<00:00, 17.47it/s]"
     ]
    },
    {
     "name": "stdout",
     "output_type": "stream",
     "text": [
      "fd1c4c7a-24bc-43f2-b84f-fee182207aee\n",
      "fde0fd54-49cc-42e1-90c6-6b612cd062d8\n",
      "fe00fa09-d3c8-485b-9d0f-3cce556c9edd\n",
      "fe0c5e48-f65e-488c-9c3c-1ea7c7835c0c\n"
     ]
    },
    {
     "name": "stderr",
     "output_type": "stream",
     "text": [
      "\r",
      " 99%|█████████████████████████████████████████████████████████████████████████████▌| 1201/1208 [01:17<00:00, 19.67it/s]"
     ]
    },
    {
     "name": "stdout",
     "output_type": "stream",
     "text": [
      "fe1ee954-ba71-47b3-954a-d20ab940cd7b\n",
      "fe436c09-b680-4f4c-8faf-aa10a55a335b\n",
      "fe691faa-3bc7-475e-b558-aa8fe7b795bc\n",
      "fe851c88-692d-4199-87e0-d19d9c4eb591\n",
      "fed6ba05-36a5-45dc-a4e1-9baa7de2c622\n",
      "ff1b23d0-3cef-459b-b81f-39bfcdb6526f\n"
     ]
    },
    {
     "name": "stderr",
     "output_type": "stream",
     "text": [
      "100%|██████████████████████████████████████████████████████████████████████████████| 1208/1208 [01:17<00:00, 15.62it/s]\n"
     ]
    },
    {
     "name": "stdout",
     "output_type": "stream",
     "text": [
      "ff37dd9b-2e3c-444d-9d29-6db186cfa2fb\n",
      "ff3b9d4d-373c-48ef-a75a-d23e2c2ade87\n",
      "ffb7be9a-65df-4f0b-99ae-cfd34e81cd34\n",
      "ffd59802-46c6-4b58-80fe-e534e39781a7\n"
     ]
    },
    {
     "name": "stderr",
     "output_type": "stream",
     "text": [
      "  0%|▏                                                                                | 3/1208 [00:00<01:01, 19.71it/s]"
     ]
    },
    {
     "name": "stdout",
     "output_type": "stream",
     "text": [
      "002f20ad-2ace-499c-9335-c9080bc3e6b5\n",
      "003a89b0-a095-417a-8dd6-f408339bbc68\n",
      "003d1cdc-0aec-430b-90e0-f4d82135b1ac\n",
      "005e60b6-77b8-458c-b57c-bfe0c7e7df78\n",
      "00a02700-2ea2-4590-9e15-ffc9160fd3de\n",
      "00c8364b-8c85-4502-bcfe-64736fe76815\n"
     ]
    },
    {
     "name": "stderr",
     "output_type": "stream",
     "text": [
      "\r",
      "  0%|▍                                                                                | 6/1208 [00:00<01:08, 17.59it/s]"
     ]
    },
    {
     "name": "stdout",
     "output_type": "stream",
     "text": [
      "00d04a90-80e5-4bce-9511-1b64eabb7a47\n",
      "0154dd8e-72f8-4d78-a4dd-93e139577bd1\n"
     ]
    },
    {
     "name": "stderr",
     "output_type": "stream",
     "text": [
      "  1%|█▏                                                                              | 18/1208 [00:00<00:56, 21.15it/s]"
     ]
    },
    {
     "name": "stdout",
     "output_type": "stream",
     "text": [
      "01b38a56-13eb-447b-89ee-fc21cb40dcc1\n",
      "01b99da8-b66b-464b-a7ee-1cadab8db18b\n",
      "027ab174-e47a-44f8-b85b-372449eeb7d8\n",
      "02ea7aa8-c142-4a3d-939f-e77689741341\n",
      "02fb5e19-6f94-4787-bb78-e550a29a3cbd\n",
      "030f3421-ed3f-4bf1-8f27-4d02590bffbc\n",
      "03359d4d-69cb-4146-8286-ca7399366f97\n",
      "034c8d57-04d5-4786-93a4-6ae8fde2c258\n",
      "035f6c4b-0897-46ab-9c3b-5f3b0feff043\n",
      "036404d1-b9fc-497b-bbe1-f4d9c5ac3ce0\n"
     ]
    },
    {
     "name": "stderr",
     "output_type": "stream",
     "text": [
      "\r",
      "  2%|█▋                                                                              | 26/1208 [00:01<00:42, 27.71it/s]"
     ]
    },
    {
     "name": "stdout",
     "output_type": "stream",
     "text": [
      "036e008f-07a1-4e92-899d-1822dc390ccb\n",
      "03b9d6ad-39ca-4097-a98b-77f02b3c00a7\n",
      "03c8da48-04b9-4520-b674-44a0ecd35688\n",
      "03cbfcf2-8da6-462c-b30d-16d63357371f\n",
      "040112be-3c8d-49aa-93f1-522f94a592ff\n",
      "04018590-4e66-4cb9-ad2d-83570f1b29ae\n",
      "0403835d-43f4-4a97-abfc-b2ff915f6d7b\n",
      "04628a94-b674-469b-aff6-b476b70df87d\n",
      "04a567df-5463-4043-81f1-d726223c19a9\n",
      "04c07425-57c7-415c-a0bc-36857bbd4049\n"
     ]
    },
    {
     "name": "stderr",
     "output_type": "stream",
     "text": [
      "\r",
      "  2%|█▉                                                                              | 30/1208 [00:01<00:42, 27.43it/s]"
     ]
    },
    {
     "name": "stdout",
     "output_type": "stream",
     "text": [
      "04d21589-b777-43c2-86b5-038cbf8c3a4e\n",
      "04de27ff-0d36-4da3-a829-e93851d76981\n",
      "04de3a31-fc09-40be-9c2c-9830c57f809d\n",
      "04fb49a2-07b8-4cdf-b6f7-df5c3688e5f8\n",
      "0546d843-d778-4aca-b8b5-bfe23d7c87da\n",
      "05717db9-f1ef-4101-a9f7-7a007e83b1c9\n",
      "05804cf0-f854-4099-97c2-df287f7c8a8c\n",
      "05ac7b2a-6a77-4464-926b-8570f7c01693\n",
      "06401963-8b02-46c5-ab2a-3d70bd01623f\n",
      "064b84fe-bd21-4c27-b682-0a832272eac4\n",
      "065af549-320a-4862-b92a-8ef750d7b5fb\n",
      "06a3effb-996c-4767-afd2-6aa3b697cb4e\n",
      "06cd484f-e864-4fee-8819-688b45eed98e\n",
      "06df7bbe-60d4-4f7c-ba4a-5a42ac4be91b\n",
      "071901eb-4c3f-404b-a747-3d0b9d0a5158\n",
      "07346d2e-a6e6-4dc0-95f1-9f7d8d7e3f66\n",
      "073c10c9-5749-44b5-b08b-1be556a960f0\n",
      "07a80340-f65e-4f58-9317-94bb6ebd5a28\n",
      "07a96126-482e-4beb-b42a-0cb59e505372\n"
     ]
    },
    {
     "name": "stderr",
     "output_type": "stream",
     "text": [
      "  5%|████▎                                                                           | 66/1208 [00:01<00:13, 82.04it/s]"
     ]
    },
    {
     "name": "stdout",
     "output_type": "stream",
     "text": [
      "07d15855-eb9b-46a9-b894-7cfe4d097826\n",
      "082e1f81-4f49-44ad-b5bb-9dfc155b2ed8\n",
      "087f2c9c-188d-43cc-a94c-0eb8f10ac092\n",
      "089c9744-f906-41d8-908d-1e37919a8658\n",
      "08f5a524-0554-49c2-83a8-ae9a6d51e8fd\n",
      "0901f9d1-be4f-4c19-8e83-dd724dded9f5\n",
      "0906111b-bac7-4541-a6dc-da435c0724a8\n",
      "093a831a-bf71-4333-bc06-942ae70cb164\n",
      "09bcedaa-e007-4692-a13f-ab02c3f872c4\n",
      "09ecf7be-28e2-4531-b9e2-07e01c44097d\n",
      "0a747cb3-c720-4572-a661-ab5670a5c42e\n",
      "0a7bfa8a-ee52-4f7a-b9c5-2919ecfa93ef\n",
      "0ab56f9a-846d-49e2-a617-c6cc477fdfad\n",
      "0ac747cd-ff32-49bf-bc1a-3e9b7702ce9c\n",
      "0b04ec46-5119-4cda-8c35-c4e5b6f0eed0\n",
      "0b923ab7-ebff-4079-a4bb-af7da89f374e\n",
      "0ca25c88-457f-4f03-bbc1-98fb6663f1d1\n",
      "0ceb4539-5c4c-487d-9826-452a88b5d537\n",
      "0d095f3a-9243-472b-90b4-0ce8309e778c\n",
      "0d098413-6911-4535-b70a-3c3effd8cf49\n",
      "0d2aba33-6920-4001-bd54-59fe0bf9f50e\n",
      "0d3c2521-da55-4df5-bf06-56b3bd4fb2fc\n",
      "0d7bf56f-3b5a-40bd-971c-2ca33dd89b2c\n",
      "0da07970-3146-479c-8a07-f61ed32814a9\n",
      "0dcbf2c9-f959-4703-a72b-f6a81e66c2ea\n",
      "0dcca702-a4ef-4fb3-a940-9c0c140b21c7\n",
      "0ed416f9-7c20-4829-9016-559e4009568e\n",
      "0f0c949e-018a-4f3f-ab02-3704f49c7754\n",
      "0f26699f-a776-4424-b092-27da9a1d12e2\n",
      "0f2a6cda-afec-437b-8803-8d3176b072c1\n",
      "0f735cca-051c-4048-a1fa-cb36f389e12f\n",
      "0fa5b35d-6c44-4207-b6f8-d5b355086b5f\n",
      "0fcd1ebe-ee4a-40a0-b787-29cee18bfa1b\n",
      "1012abf2-cb05-4337-86c5-513ec4ca904d\n",
      "105af41b-13cc-4ad1-8a1f-8bc4d47cdd94\n",
      "10891eed-b0f2-4dd0-90cb-da185f6761b2\n",
      "109fbb82-bc3c-41ac-984d-e2da86202873\n",
      "10be6380-cbbb-4886-8b9e-ff56b1710576\n",
      "11b72c7b-5c52-44b7-adb7-21eacc25e441\n"
     ]
    },
    {
     "name": "stderr",
     "output_type": "stream",
     "text": [
      "  9%|██████▊                                                                       | 105/1208 [00:01<00:08, 127.28it/s]"
     ]
    },
    {
     "name": "stdout",
     "output_type": "stream",
     "text": [
      "11e517bf-943b-4928-929a-e9f72c097880\n",
      "12269960-075f-40ca-9630-49ea2ce78294\n",
      "13099edb-35d9-438f-b093-2cf2ebf9d255\n",
      "1315c2a4-0794-4dfa-a709-e2451723d2b6\n",
      "1345dc89-a3d9-4b71-8a75-b3bff01ba518\n",
      "137d540f-d71e-47e8-bd9b-6cd0a6433c33\n",
      "1380f9b4-bf54-4492-90c3-743c7aa8898b\n",
      "13bab3c3-3f79-44d9-a287-0ae6d71eff31\n",
      "14005767-9296-4b48-8a9d-bbe9b2040005\n",
      "143f5959-5b6d-4f95-bcee-9e110450fc22\n",
      "1493d140-c9d5-4c3a-9caf-3eafb290a49b\n",
      "14b68d86-ac7f-419d-b4a5-6b0b1d9aaa18\n",
      "14efbfc8-39f6-4599-9994-a8cc95605b9c\n",
      "1519257c-e3e5-4474-908f-8665b3cf1258\n",
      "151f3af5-5e6e-4bcd-9389-4974fc68813e\n",
      "1574565f-f45b-4160-947e-25ce1a81aaca\n",
      "157ac97a-396e-4f6c-94c6-72a4d06ccc5f\n",
      "161978c3-3a05-47a5-9fee-be7d25693eae\n",
      "16244280-6c74-47d3-b544-9fd6831a6bf9\n",
      "169d541c-daed-468e-8b41-0f1abccdf319\n",
      "16a51468-9f93-45df-9ae2-5a74c25c5a4b\n",
      "16ec6e1f-5020-40b3-ba26-51c340d03ee7\n",
      "177a3141-fa93-426a-9b52-7da71547ce44\n",
      "177f883a-f0f1-4b8e-b598-2ca4bab27381\n",
      "17c06a23-bb77-49cb-9ffb-fbfc75fcc715\n",
      "17ef5841-bd19-4610-ba47-7d321231847b\n",
      "184b376b-03cb-4c2d-af51-fc1a62196293\n",
      "1863da5f-c595-4541-a8f4-21fe78678168\n",
      "187f92b2-71ed-484a-9bd3-599ca0d2636f\n",
      "1893e0c5-88e9-4644-bd59-3e47bc53a88c\n",
      "18dbe7c4-89d2-42a6-a969-1e951ab313b1\n",
      "191071ab-6515-428c-9f05-8e4309542b75\n",
      "191f87a4-6f2d-49e7-bba0-08e3aa78ddaf\n",
      "19370afd-f897-47d8-bfae-c0d257bbf795\n",
      "194aec70-41a5-4ac3-b22f-0b6eda91f730\n"
     ]
    },
    {
     "name": "stderr",
     "output_type": "stream",
     "text": [
      " 11%|████████▉                                                                     | 138/1208 [00:01<00:07, 140.83it/s]"
     ]
    },
    {
     "name": "stdout",
     "output_type": "stream",
     "text": [
      "1976cd04-d24f-457c-b423-7e4cdb05de9e\n",
      "19979a60-df80-4111-bf69-81a7e9c4dd0b\n",
      "1a27ebe9-93a1-4898-af69-f276057d4012\n",
      "1a332b2c-9d49-4ff2-810c-5633d2314527\n",
      "1a48cbc1-5423-47e5-8ca5-2ab4f83a05a5\n",
      "1b369bcf-ced4-4ae2-9196-2664bd2b1738\n",
      "1b7f47fc-26cd-4273-b848-88a7cbfd9f85\n",
      "1c406ce1-023b-47fc-a2cd-5ea2e255de65\n",
      "1c87b997-a8e6-48ca-bf40-19b9a7fd6a96\n",
      "1c90231b-2830-42d9-884e-7301edb16933\n",
      "1d4cdf2e-79a0-41e9-aabe-e437a190dfc4\n",
      "1d4f06e1-9c9b-487e-84cd-e7e50cc754da\n",
      "1d9d4dac-66f9-4c87-b714-d723d5b15fa9\n",
      "1dd3e6dd-343f-4cc9-b0ed-e4d27fb36f0a\n",
      "1e86933d-6a5a-4a3c-a0f2-ca22afd767b3\n",
      "1e978dfa-d339-4025-809d-09cee76728ed\n",
      "1ecb0405-a6e9-4485-819e-2fbbf2b718aa\n",
      "1f337b61-1b0d-4539-91f9-73d4a0798a4a\n",
      "1f8edb2a-40bc-4beb-aa6b-884d2473df0f\n",
      "1f8f08ea-b5b3-4f68-94d4-3cc071b7dce8\n",
      "1fdf99d1-a494-4174-bcd7-efbe457ab899\n",
      "1fe1e118-adb8-4b10-a41e-1e5814e8f067\n",
      "205306da-0ed8-475a-ace6-f2f81d4be88a\n",
      "20d4f65e-6c63-433a-935c-d568d577967b\n",
      "2102e5d1-8bec-4ab6-ab35-2705485da1f8\n",
      "21417261-475a-456f-b03f-57ac85a6e106\n",
      "214f1d15-a081-476e-992d-6c3a77f03d59\n",
      "2165fe38-b474-467d-be11-d1d728085efd\n",
      "216f9d43-6869-4ba1-9106-4f5ea6aac223\n",
      "2196389c-45ec-46b5-bc6c-1f4a33df7f7c\n",
      "21a50e4c-b750-46b5-801f-5429ede7dea9\n",
      "21c2a8aa-407c-4569-8212-96fcafa84138\n",
      "21cc498b-8cb2-42ed-8f80-bfa27b86ef11\n",
      "21ea4841-8998-4c04-b345-bc99cd8ecee6\n"
     ]
    },
    {
     "name": "stderr",
     "output_type": "stream",
     "text": [
      " 14%|███████████▏                                                                  | 173/1208 [00:02<00:06, 153.08it/s]"
     ]
    },
    {
     "name": "stdout",
     "output_type": "stream",
     "text": [
      "21f001d6-f568-4ea4-82da-fab54c77c419\n",
      "2240b991-48f6-4c59-9b62-5a8b5e541fae\n",
      "22516db4-8687-4051-90c4-2bb1ca3204a5\n",
      "22a464ef-c3da-4d56-b37e-e22e95d945e7\n",
      "22cbf509-c9bf-46ec-bfce-f079c6b76c8c\n",
      "2374ae5b-c2df-4db5-afea-c54180aa22e3\n",
      "239f17eb-a2e2-47e9-82e3-fa0d9a70fb9f\n",
      "24115f58-a7d6-4022-a95a-86b515a78d3e\n",
      "24418314-f7a4-49fc-a03e-ec597ca6796e\n",
      "244ac6fa-8a92-4214-9cf4-ae0811d9ec7e\n",
      "24879caf-a327-464c-9cd9-e0f3d9161079\n",
      "25132962-ff5d-4737-995f-c54d8490539b\n",
      "2518f6e4-29cc-4ae4-a914-b215a4c56099\n",
      "252071ac-e9f2-41d2-abbb-87ef01b8a997\n",
      "2559636b-f01a-4414-93da-210c3b12d153\n",
      "255d5f0c-87fc-4337-bb51-07c440df4f1b\n",
      "2596eb32-1323-41e9-8c0f-64819abcfc73\n",
      "259da25f-40f3-4d37-bca9-a9c807af1547\n",
      "25c6cfb1-01d0-4864-87f9-02b7593683c7\n",
      "25cfca07-2101-484f-b312-a927395f2651\n",
      "25ddc1ca-d368-4fff-b1ad-1dbf1e7c97aa\n",
      "261562a8-ffd8-4e0e-919b-22e267000b74\n",
      "266180ed-77a3-4284-8292-50a49fc47fce\n",
      "26799d2b-a289-4eff-9218-0aad77e05e41\n",
      "27388ff2-4000-4c9a-a2e3-addc448a5f92\n",
      "27cdd837-e40f-491e-8adb-61e493189832\n",
      "27fab82c-5bf0-426f-aeb9-47da829b6629\n",
      "289ef1b7-02d5-42e9-a401-687688181306\n",
      "28bd16ba-2bcf-46af-b889-41b78d2a50c0\n",
      "28c96a4a-4549-4761-99e4-ace4ea7e7ac9\n",
      "29539cb0-1c52-46b2-9302-552f8349dc71\n",
      "29648565-fe28-4517-ba72-68df0c82c9c5\n",
      "29861cf9-9a1e-4733-8309-4bd10706b4a3\n"
     ]
    },
    {
     "name": "stderr",
     "output_type": "stream",
     "text": [
      " 17%|█████████████▎                                                                | 206/1208 [00:02<00:06, 156.02it/s]"
     ]
    },
    {
     "name": "stdout",
     "output_type": "stream",
     "text": [
      "29d40b60-cde1-45b5-b403-692437a77ac1\n",
      "29d4b75f-d400-4702-a9ac-e5a4ed1a1db1\n",
      "29dc8176-dfe1-40e0-8247-2dc3c530057e\n",
      "2a02cec2-a09b-483a-ad38-14359a763fa4\n",
      "2a6370b0-08f1-4c11-a639-265d4419c9a3\n",
      "2a91387a-d30f-418d-ac3a-f7cfa6836261\n",
      "2ac343e4-c889-47c1-8fe2-461b626def76\n",
      "2ae3e6e6-7482-4ab8-ad73-b530b5c2ee3b\n",
      "2aeb7b85-7df9-4a63-8d37-2eecaaa190e7\n",
      "2afe2750-c963-46f9-a1ad-9260e80679ca\n",
      "2b128a1a-95ed-408b-b9f8-8795cc814d80\n",
      "2b369d75-9c55-43e0-b352-d981aea544e3\n",
      "2bd15b6e-fe2d-49f3-b394-940d024d1f91\n",
      "2bd26501-2fbc-4c1a-bef0-4ad57e02b4d0\n",
      "2bed2796-75a9-4d93-bb2d-e3ccbe1a5cbe\n",
      "2c1eaf87-3fd3-4803-92b8-23bab40bf28c\n",
      "2c4d72f1-71a6-4bf1-b5d9-8023c7bbec74\n",
      "2cc3c4ad-670f-41b6-8910-0704cbc192ef\n",
      "2d0f600d-f94e-4907-b712-52fb37d9ed52\n",
      "2d2e81f3-e329-4765-9ba1-2c95f12dc9f3\n",
      "2d857091-efcd-41c0-ba3f-226de90445c4\n",
      "2dbf6f69-e020-4948-9e49-4b33edb7cebd\n",
      "2e8d6a43-0110-4bf4-8e70-20567e513b81\n",
      "2f3ebec8-ef64-420d-9aa0-c2fcadc27d74\n",
      "2f6224be-50d0-4e85-94ef-88315df561b6\n",
      "2f68686f-1fe8-46e7-ad92-a08e3523ea79\n",
      "2f9f400d-2d67-4118-aaa1-9094bc4b0e47\n",
      "2fdbd9bc-bbaf-44c2-b40c-d193709639fa\n"
     ]
    },
    {
     "name": "stderr",
     "output_type": "stream",
     "text": [
      "\r",
      " 18%|██████████████▌                                                                | 222/1208 [00:04<00:50, 19.51it/s]"
     ]
    },
    {
     "name": "stdout",
     "output_type": "stream",
     "text": [
      "3003252a-2d2e-4687-ad30-9c38d68f1394\n",
      "3006096f-ceeb-42be-b69e-785179d7438b\n",
      "30167dc1-f739-4036-b5c4-5fad435c2c67\n",
      "3061aac0-cda3-47d1-8c48-6293e9ffdf36\n",
      "3090a362-1f3d-49e9-a76e-ce76ff9c2276\n",
      "30948737-0d0d-4b68-b9ab-50577e0fe026\n",
      "30ad83f1-a9b3-4a07-aea6-6c06b71e9ace\n",
      "3130f950-8345-4315-9711-92f7af3f5c14\n",
      "313ed8d9-3c00-4415-9de0-0eda07c60ad9\n",
      "31435107-c77d-42f8-a619-75cba6a5161b\n",
      "31653d0f-c4e6-4e12-8005-518c2de34687\n",
      "318de807-7232-4ab1-843e-a901547c0125\n",
      "319c9c52-f316-49f3-baad-4444ab19f85b\n",
      "31af9c31-7868-44a6-8eb4-82ce118af425\n"
     ]
    },
    {
     "name": "stderr",
     "output_type": "stream",
     "text": [
      "\r",
      " 19%|███████████████▎                                                               | 234/1208 [00:05<00:43, 22.32it/s]"
     ]
    },
    {
     "name": "stdout",
     "output_type": "stream",
     "text": [
      "31c749e8-18d1-4105-b7e6-8319cceddae0\n",
      "32700bc7-7a86-49d3-aded-ccaaed4ddc5c\n",
      "32a1ea24-b6b7-4253-ad3e-bdf99c2c9b9d\n",
      "33068c1a-48f7-470b-8e49-e2f0888042e9\n",
      "3317d733-ec0d-45e6-b631-40457392f343\n",
      "334bf865-e3fb-4200-bd53-d9ff5808ed9f\n",
      "33bdb7b5-ad5b-4a73-bbc2-3350f8c2ac0c\n",
      "340a1727-0df7-4e6f-9c0e-9c5deddbfca2\n"
     ]
    },
    {
     "name": "stderr",
     "output_type": "stream",
     "text": [
      "\r",
      " 20%|███████████████▉                                                               | 244/1208 [00:05<00:38, 25.32it/s]"
     ]
    },
    {
     "name": "stdout",
     "output_type": "stream",
     "text": [
      "345cb914-7583-49df-96e3-3cf19c2ba8f1\n",
      "34a70114-d3e3-4351-b8db-f6caab17e743\n",
      "34df8890-272d-423a-ae78-ff8d068d3306\n",
      "34e024a5-5698-42d4-972f-fee234b4bd64\n",
      "3612aa3b-2906-44a6-9c80-6144511a35ce\n",
      "361a3578-4cbb-422b-9e3c-b5e61395b12e\n",
      "36569710-a574-40be-ad42-897a6e74a128\n",
      "367663b2-5d09-4020-ab0a-c2200e7a1c8c\n"
     ]
    },
    {
     "name": "stderr",
     "output_type": "stream",
     "text": [
      "\r",
      " 21%|████████████████▍                                                              | 252/1208 [00:05<00:37, 25.28it/s]"
     ]
    },
    {
     "name": "stdout",
     "output_type": "stream",
     "text": [
      "370277f8-436b-4103-8210-b4feb5ab95ea\n",
      "3722d213-f2a9-46d5-aa76-9183b443e455\n",
      "3768c577-4e5e-4d70-8c4d-93d8aacd5baa\n",
      "37a94c0f-e5d4-46fc-b4f8-994d477995fd\n",
      "37e072a6-000d-4773-8d9f-d66b60ace668\n",
      "3850f2a5-ab62-49d3-8135-68d60baa676b\n",
      "3859deaf-6ae1-49a3-9051-898d0f0d7de6\n",
      "3892b776-f49a-4368-b0fa-7e855e76ccec\n",
      "38c69905-8a4f-451a-8d0a-b855dc88dd16\n",
      "38d1b930-dd97-4248-9160-e9389a1a8dd7\n"
     ]
    },
    {
     "name": "stderr",
     "output_type": "stream",
     "text": [
      "\r",
      " 21%|████████████████▉                                                              | 259/1208 [00:07<01:13, 12.87it/s]"
     ]
    },
    {
     "name": "stdout",
     "output_type": "stream",
     "text": [
      "390ad256-e1ed-476a-9f14-2dc34e0da632\n",
      "3911fcd2-4e26-4ad9-aaf0-d1c5bf41defc\n",
      "393df10a-5d64-476b-88f5-14ac56d6ed60\n",
      "397f37bc-a3a4-4257-9430-c8fc5716f8b1\n",
      "39cc33be-d752-40fe-b7a8-2e69a3517205\n",
      "3a8f468f-f9de-46a8-a7c8-f2be239fa207\n",
      "3abbc4d3-1d7e-40c9-9963-33732da7cc50\n",
      "3af90874-59f3-4f0c-a7e6-cc889e80c605\n"
     ]
    },
    {
     "name": "stderr",
     "output_type": "stream",
     "text": [
      " 22%|█████████████████▌                                                             | 268/1208 [00:07<01:00, 15.44it/s]"
     ]
    },
    {
     "name": "stdout",
     "output_type": "stream",
     "text": [
      "3b13e20f-ec0d-44ec-b2f4-eaebfa09150e\n",
      "3b4440f7-a69b-4042-a9d0-d6958abcdf4e\n",
      "3b55c42f-ad59-422f-ba99-4f4f4ca9cb2e\n",
      "3b5a8060-dec6-4a83-b7f2-b604e4e69dfc\n",
      "3b601a1b-26d8-4873-afcf-fdd1b1e0010c\n",
      "3cdcb09b-6a8c-43ca-b1d0-c1a289202f65\n",
      "3d1429ed-4619-41f7-8ff3-d698ad28034c\n",
      "3d1b889e-bb4a-4ee6-b899-974ee7d956a7\n",
      "3d302619-473d-4c5b-af43-8833ff94233f\n",
      "3d32a988-449d-4d58-b71f-abbfdc3f2fbc\n"
     ]
    },
    {
     "name": "stderr",
     "output_type": "stream",
     "text": [
      "\r",
      " 23%|██████████████████                                                             | 276/1208 [00:07<00:47, 19.49it/s]"
     ]
    },
    {
     "name": "stdout",
     "output_type": "stream",
     "text": [
      "3d4d7ba7-6c7c-4ddd-b282-31fb5d80edb5\n",
      "3d8fb5bf-3315-48fb-8ab1-802eafd550bc\n",
      "3dad6483-ac30-4d2b-b045-9f24fe6ff75e\n",
      "3dcd4f1b-ce43-4a34-b1ed-076bb42963b1\n",
      "3de03fa2-3ad3-43fc-8435-b2a80bdd7550\n",
      "3e33ee12-ef02-4287-8318-7ad3b284a617\n",
      "3e36698f-8c09-4c8b-8948-737310bf97e5\n",
      "3e753a44-3264-438c-8389-a7822e4a84cc\n"
     ]
    },
    {
     "name": "stderr",
     "output_type": "stream",
     "text": [
      " 24%|██████████████████▊                                                            | 287/1208 [00:08<00:36, 25.43it/s]"
     ]
    },
    {
     "name": "stdout",
     "output_type": "stream",
     "text": [
      "3e764461-22ee-44d3-925d-cd658ff7d154\n",
      "3eba916c-998b-40a7-993c-7ed916c2a04c\n",
      "3f106606-9a21-40d5-b849-273866fe0f49\n",
      "3f26fbbc-deb1-494f-b71c-c7cb3d4819fb\n",
      "3f390b82-8859-4c27-bbfe-d1b242477f63\n",
      "3f8c5ae1-b9fd-464b-8e91-98143ddd8d29\n",
      "3fa1a4e3-c80d-49da-8f7b-a1abb0424f48\n",
      "3ff98212-7c2a-46cd-afb7-34a2479bed07\n",
      "4063945d-03fc-4ce3-a04c-17435dce8f91\n",
      "406e05f0-4444-414c-bb40-f4cb08e75ac9\n",
      "412c9fa5-fcf4-402b-b1e4-3271f775058e\n",
      "415409ac-97b3-4cd9-b203-11ef00662352\n"
     ]
    },
    {
     "name": "stderr",
     "output_type": "stream",
     "text": [
      " 25%|███████████████████▌                                                           | 299/1208 [00:08<00:29, 30.31it/s]"
     ]
    },
    {
     "name": "stdout",
     "output_type": "stream",
     "text": [
      "4184a235-d209-4151-86e9-6c77e7938dab\n",
      "419309ef-da3f-4424-93cf-01ff4c52b017\n",
      "41ebf9a1-24dc-454e-8bf8-508218f5ee57\n",
      "4257342d-6d77-4671-a84b-1f0c36ccb367\n",
      "4272cbd7-5b0a-4bf7-b690-dee1c128f07b\n",
      "42845335-4ab2-4963-806d-0985d1382a31\n",
      "42e87148-a015-4148-923a-fb83016f64e7\n",
      "43072c64-4c08-47cd-ae8a-b74d31f80008\n",
      "43158031-a335-4533-9c20-48bebba90123\n",
      "434523fd-d4d9-4961-a7c2-d71d6ae68e13\n"
     ]
    },
    {
     "name": "stderr",
     "output_type": "stream",
     "text": [
      "\r",
      " 25%|████████████████████                                                           | 306/1208 [00:08<00:26, 33.45it/s]"
     ]
    },
    {
     "name": "stdout",
     "output_type": "stream",
     "text": [
      "4372709c-f356-4906-be17-415384d916e8\n",
      "43bc935a-f655-45e1-a64d-fcb8b78267a6\n",
      "4411fea2-d785-4eeb-80c6-c739ab6114c4\n",
      "441d7843-b20b-4c10-84e3-e6d32621e880\n",
      "445d0db9-e830-4ceb-a845-b23d819e6097\n",
      "44b4a765-104e-4182-8871-e933c83c91ef\n",
      "452482bc-24a3-413e-ba03-fad4c9d61f3c\n",
      "452ab003-ced5-40cb-82d1-5495d9e068b1\n"
     ]
    },
    {
     "name": "stderr",
     "output_type": "stream",
     "text": [
      " 26%|████████████████████▋                                                          | 316/1208 [00:08<00:29, 30.36it/s]"
     ]
    },
    {
     "name": "stdout",
     "output_type": "stream",
     "text": [
      "45651e76-4bd0-45e5-895b-edec65f51987\n",
      "458cb2e9-5a7f-437c-ac5d-a56f98a3efdf\n",
      "45902b63-be9a-49ae-9ede-3a8015671bc4\n",
      "45ac9409-5537-44ed-90cd-5c8a1ae0e1e0\n"
     ]
    },
    {
     "name": "stderr",
     "output_type": "stream",
     "text": [
      "\r",
      " 27%|█████████████████████                                                          | 322/1208 [00:09<00:27, 32.66it/s]"
     ]
    },
    {
     "name": "stdout",
     "output_type": "stream",
     "text": [
      "45f18ac0-f097-4b20-a99d-8837cf488822\n",
      "461a3ed6-039f-4a70-97cf-c474ecf51ccd\n",
      "464055b6-3351-4636-a919-8be9840fb850\n",
      "468c261d-f5d8-423f-883e-48af2bbbc5d1\n",
      "46a03374-64c7-49ac-81c9-c3d62542bbf3\n",
      "46a2d369-4bea-4405-ac78-91bbe130b9a7\n",
      "46f5bd4f-8bea-48d1-a1da-4dea28e3b814\n",
      "471f75c6-bd5d-4c20-bcc1-258e836f4d69\n",
      "4736f545-1f1f-4d77-9241-d69cbf4dae35\n",
      "4748ba2b-6771-41d9-93a5-af9ccd559261\n",
      "4767bfcc-fe87-4962-8c40-6ce8d9363cdf\n",
      "477e541c-0519-4542-9b13-8ee7922644d3\n"
     ]
    },
    {
     "name": "stderr",
     "output_type": "stream",
     "text": [
      " 28%|█████████████████████▊                                                         | 334/1208 [00:09<00:25, 34.22it/s]"
     ]
    },
    {
     "name": "stdout",
     "output_type": "stream",
     "text": [
      "4811fdf2-d7e8-475e-a840-45dda5282bf3\n",
      "4823c1fe-a7f9-4b92-959f-0d9be09cd14b\n",
      "4849866a-73a2-4fcf-a407-2d0a25a09a89\n",
      "4876c9d0-b386-48fb-84e8-91bf87529161\n",
      "48e2f0bd-2164-40c3-af43-1f2708359978\n",
      "4903d9c7-de88-426a-b42d-a7e797e5ebcd\n",
      "49288109-80e9-4ec8-96d1-26a0166b8883\n",
      "4935818a-7e7a-4f44-a3b6-b361d1abfe16\n",
      "49b03a6e-6b26-4a96-a061-e05647a02138\n",
      "49c4dbd3-6269-4d4c-9648-a2146c57bab1\n"
     ]
    },
    {
     "name": "stderr",
     "output_type": "stream",
     "text": [
      "\r",
      " 28%|██████████████████████▏                                                        | 340/1208 [00:09<00:25, 34.23it/s]"
     ]
    },
    {
     "name": "stdout",
     "output_type": "stream",
     "text": [
      "49efc89d-9cba-44f7-8257-7f911b73f68a\n",
      "4a0a05e1-11ad-4bfc-bfa3-adf3b9bd0b56\n",
      "4a49841f-216c-4815-8140-b8762c4f6603\n",
      "4a717a39-80f8-4b75-a25e-c46d65d7dcd5\n",
      "4aad9589-6b32-4522-bcd7-ca04687a02ca\n",
      "4ab47131-c2ac-461f-b95c-ac19ce24edbd\n",
      "4adcaa26-aa1f-47b5-bdf0-18c9f814f576\n"
     ]
    },
    {
     "name": "stderr",
     "output_type": "stream",
     "text": [
      " 29%|██████████████████████▉                                                        | 351/1208 [00:09<00:25, 34.13it/s]"
     ]
    },
    {
     "name": "stdout",
     "output_type": "stream",
     "text": [
      "4b346035-b8c0-46ca-8fdb-a01b1421ee4a\n",
      "4b3a49bc-8536-4760-9553-440a6f64db37\n",
      "4c13e22e-dfd1-4fa1-b373-be9d0c272c0f\n",
      "4c460388-e0c1-4970-8527-c9e5b42bea49\n",
      "4c7d2382-a962-4237-a053-955eea3decd8\n",
      "4cccfcf0-cac9-46f0-870c-0eabfdc781ba\n",
      "4ce5a070-9ede-4bb1-9ca2-1bae5746776b\n",
      "4d0a1598-e4dd-45c4-8a90-dd7c780fe1da\n",
      "4d88e2d2-5aad-410c-9bbc-702ee9496995\n",
      "4d8a4ce8-0f9c-4f21-8844-4cf0e5514bbf\n"
     ]
    },
    {
     "name": "stderr",
     "output_type": "stream",
     "text": [
      " 30%|███████████████████████▌                                                       | 361/1208 [00:10<00:25, 32.67it/s]"
     ]
    },
    {
     "name": "stdout",
     "output_type": "stream",
     "text": [
      "4e2873dd-651e-4ecc-ac70-7335cf21a469\n",
      "4e43fc22-dc08-4cde-b3ce-ce8a4f377c47\n",
      "4f62b14e-c6f4-4155-8f50-881558f83fae\n",
      "4fac16e1-8e62-499b-a66b-c4c890372914\n",
      "4fb83278-adc5-4424-9f45-b6d0db2955b6\n",
      "4fc9a597-aaa8-43b0-ad1c-2eabbe442e84\n",
      "505355c9-23bf-4f90-8ebc-6a7ef50964d0\n",
      "50715879-2300-4dba-8f4a-3314ff8cfcce\n",
      "5077f87d-a19f-494c-b911-14ccb03bd230\n",
      "50d52637-f5e0-4d0d-aaee-4a29f044cf74\n"
     ]
    },
    {
     "name": "stderr",
     "output_type": "stream",
     "text": [
      " 31%|████████████████████████▎                                                      | 371/1208 [00:10<00:25, 32.50it/s]"
     ]
    },
    {
     "name": "stdout",
     "output_type": "stream",
     "text": [
      "50d7c6c9-3230-48fe-947c-7dcfd0aad710\n",
      "50d9fc90-8642-4bb6-91a7-0069a7e37392\n",
      "50f2f514-6c8e-4c79-b3b3-0be56dd0b78b\n",
      "5107dcb7-164f-4e10-bbff-822b39b76efc\n",
      "516bf1d5-5d00-4985-926c-3993e9bc3ff5\n",
      "51e86aa9-caa0-4297-94e8-34a57d7f7e36\n",
      "521a26aa-0a31-4c07-b4d0-fac08eb08344\n",
      "52767904-4cdc-4821-ba68-8cd0c28f9023\n",
      "530761d4-1931-44cd-b220-d60db0e228f9\n"
     ]
    },
    {
     "name": "stderr",
     "output_type": "stream",
     "text": [
      "\r",
      " 31%|████████████████████████▌                                                      | 375/1208 [00:10<00:27, 30.84it/s]"
     ]
    },
    {
     "name": "stdout",
     "output_type": "stream",
     "text": [
      "533c47c9-02a6-419b-961b-81797f022f6c\n",
      "5397d8e2-bb09-42e7-9861-65ffad0fe94e\n",
      "53afd70c-08a7-4b9a-b137-7003b2ecbeab\n",
      "540a5fee-175b-4b92-bf62-1ea9b59c86c6\n",
      "5487faad-24a7-46b6-92d8-479d3a8d229f\n",
      "550cf4ce-b641-44a3-8487-3e16d4049187\n",
      "555c6ea2-c76c-4e71-af57-855d940c2b37\n"
     ]
    },
    {
     "name": "stderr",
     "output_type": "stream",
     "text": [
      " 35%|███████████████████████████▎                                                   | 417/1208 [00:11<00:08, 88.34it/s]"
     ]
    },
    {
     "name": "stdout",
     "output_type": "stream",
     "text": [
      "55836297-fc8e-4e00-9767-0d12b86e4604\n",
      "55f8c052-8e49-4423-a4c4-365fc6afb6e1\n",
      "56077789-8580-41b4-89d6-deea227e5c60\n",
      "565513be-2c20-4ee3-94f3-093869515d3d\n",
      "56551792-4aa1-4301-9f8f-8bfebcd20050\n",
      "56a57a8d-c9b9-432a-a3b0-32a09355806c\n",
      "56adbb1e-96a8-40a5-a5a2-243c97ea889b\n",
      "56fbae44-4677-47f8-9c3a-22dac043c115\n",
      "5721e41b-90ef-4851-8587-8dc71227ef90\n",
      "57e1879e-4294-45e7-9c1b-627e8cca0271\n",
      "580210c2-a8ed-4720-b71c-a77945968abc\n",
      "58065a0c-d4c5-40fd-bcdc-037f61788482\n",
      "582e4b8b-404e-4b30-9df3-66f2afb3cdb3\n",
      "5836500a-221e-40ca-a8be-caaa37f7d300\n",
      "584d62ed-4329-45dd-94ce-e929d8b2bb74\n",
      "58594235-0d32-4a4e-91cd-4c800eaaaa73\n",
      "587e5464-d70b-4279-8562-010279f6efbd\n",
      "5893e081-04f2-4e33-9851-bed5f0e4d333\n",
      "58ced55c-bf0d-4204-b6b2-4f8992d92779\n",
      "58d75854-be99-484e-89f0-4ab208fe07e0\n",
      "58f7e1da-3478-48f4-958c-e9b1cb8696aa\n",
      "592c941a-aa54-4971-b499-dc47356f80a3\n",
      "5939f341-a886-4f63-ae87-2219d000a1d4\n",
      "59542a24-b409-4c95-8608-d9691a741526\n",
      "5955289d-19e5-45ef-a012-c8ea08ef45e2\n",
      "597bbff8-6592-41cf-8946-e59b0d1f289a\n",
      "59daa25e-85d6-42f2-8f39-cc9f9d5d252e\n",
      "59dc7da9-35d1-421e-a61b-1e9637bfbfa1\n",
      "59f5699f-885f-4004-b783-a60060144e43\n",
      "5a043d69-f435-46d4-8691-395c1602a76a\n",
      "5a0628af-4c0a-4ba6-a935-4ec94c9c700e\n",
      "5a105b89-c592-4d78-b208-7db6c6572752\n",
      "5a386082-397f-4524-a6f9-c2b8efe5014d\n",
      "5a539312-6cfa-43e6-8d5d-db883f343ad9\n",
      "5a631871-2fc7-4a68-9c39-f3b9a0bf4a04\n",
      "5bf91ff9-80df-49c0-9c3e-599357d95530\n"
     ]
    },
    {
     "name": "stderr",
     "output_type": "stream",
     "text": [
      " 37%|████████████████████████████▊                                                 | 446/1208 [00:11<00:06, 111.89it/s]"
     ]
    },
    {
     "name": "stdout",
     "output_type": "stream",
     "text": [
      "5c037ffc-f515-48b3-b231-c110fbd2b8ca\n",
      "5c5b7965-1a44-44b8-aa43-660823e61821\n",
      "5c68070c-3391-4db6-8c01-94175105dbea\n",
      "5c99cd97-39f6-4809-9528-9d380cc16b16\n",
      "5cac6ddf-c8c6-45de-bce0-a1db64b14fb5\n",
      "5ccca8ee-abea-458a-a891-bedd31c3ddc3\n",
      "5d1418d3-1559-4725-ad4a-9afb6eaecdfd\n",
      "5dec0204-af81-44ef-a942-8a173669c123\n",
      "5dec94a3-e3ca-4a58-9702-88e5a83ef612\n",
      "5e042380-6ef2-496f-8231-0ca550fbfa71\n",
      "5e17f8e6-fd8d-426c-b444-1515d14f04b7\n",
      "5e2cea49-0823-49d1-83cf-8fd1559cdd93\n",
      "5e4f7425-11e6-4f9e-be2d-5a27deb9d1b4\n",
      "5e974892-0ebe-4037-8427-ea8616d6d3b8\n",
      "5f17d2fb-22fa-4aa6-9dad-6a1d50c03815\n",
      "5f2b32bd-fdca-4d6f-b13a-ee9f83626c8d\n",
      "5f300fd1-7eec-41ac-bbd1-0f4a943c757c\n",
      "5f491efd-a21c-4a80-aaba-70b8876238ac\n",
      "5f66d20c-fbfe-44ec-a01b-8a09da24807e\n",
      "5f742392-278d-461c-a848-08def2c28878\n",
      "5f783f43-0090-4f8a-bd75-9562f4aa2dd5\n",
      "5ff7c0c8-d208-4e7d-958d-ca3c2260ff39\n",
      "6013bff0-dc4b-4bde-9409-0f6139c3495c\n",
      "612bdd3c-da43-4321-a76b-c73c614928d1\n",
      "6144887d-a1c1-46db-91a1-f7ff5bf8c8a5\n",
      "61575482-91e1-4db9-83c7-687b7ddbbfc4\n",
      "61cd8c7d-394d-42d3-9ed4-e09559110bed\n",
      "61dfc937-a428-44b4-94fb-d682bdb8dff0\n",
      "6231d81d-9e84-4a5a-8cb8-47c6a37a0176\n",
      "6274fe0d-0d71-40be-b61b-f0bd5b5df1e2\n",
      "627d6331-7bb9-4d1a-b20d-e6541af4d0f9\n",
      "6294153c-6db3-4f2b-a8ff-9c087225e737\n",
      "6303f964-98ef-47c6-bb2d-283aa393f918\n",
      "63055d1b-5221-4c80-8b39-37ac069a1b5c\n",
      "631340cc-cedf-4bca-a3d8-a0731a5482b4\n",
      "6315a55b-fed1-4355-88fa-8594538acf18\n",
      "6347dd6a-cfdf-4cb5-bc50-cff5403cfecb\n",
      "637957ef-df75-4a7b-86d5-9f6e9c042ca2\n",
      "6382976c-ee87-4916-b798-4ef1373b2df0\n",
      "6388e241-09a2-4fbe-a712-07d8fe714c51\n"
     ]
    },
    {
     "name": "stderr",
     "output_type": "stream",
     "text": [
      "\r",
      " 38%|██████████████████████████████                                                 | 459/1208 [00:11<00:10, 71.16it/s]"
     ]
    },
    {
     "name": "stdout",
     "output_type": "stream",
     "text": [
      "63d36d2c-43a9-49ac-9504-028b4968c860\n",
      "63ed5931-d93e-4f9b-a6f3-152713cb560e\n",
      "640c4a52-3742-4f57-aee3-9e3dc0887622\n",
      "64113b22-03b1-4ab8-89ab-b2f32154fbbd\n",
      "645cd195-af50-409f-8da9-6e7c7f18ea09\n",
      "6473ddb6-ad56-48a2-81e8-c7cb45f06825\n",
      "64a678d4-9048-4491-90c7-1924f38be19a\n",
      "64b0e49a-0e48-447d-8872-c1dd255e7a21\n",
      "65054b19-5c6a-4870-99a9-eef994721d3a\n",
      "65e3d6a6-012c-4b40-9a42-83078eb85e31\n",
      "65e865f3-acfb-4d01-a75f-ff5a535ffa6a\n"
     ]
    },
    {
     "name": "stderr",
     "output_type": "stream",
     "text": [
      "\r",
      " 39%|██████████████████████████████▋                                                | 469/1208 [00:11<00:13, 54.84it/s]"
     ]
    },
    {
     "name": "stdout",
     "output_type": "stream",
     "text": [
      "65e8b0cd-05d1-4c8d-8efd-24bf71df3167\n",
      "66183740-e1e5-43c9-8539-a87028bb3621\n",
      "664c570b-4822-413c-9724-11b1d91fac44\n",
      "66557580-fd38-4d4b-80d8-88611ecc78c6\n",
      "666601e7-608d-4d19-999f-8fc6ab373a55\n",
      "6695a204-e39c-4418-b904-3f080fdbe7e8\n"
     ]
    },
    {
     "name": "stderr",
     "output_type": "stream",
     "text": [
      "\r",
      " 39%|███████████████████████████████▏                                               | 477/1208 [00:12<00:14, 51.81it/s]"
     ]
    },
    {
     "name": "stdout",
     "output_type": "stream",
     "text": [
      "672e4ecf-a56b-462e-b83b-76f4efaa6634\n",
      "674b0fd3-f247-4b7f-97f7-3e6c57c9ba9e\n",
      "67582df6-bf13-4c83-a531-1214692b70de\n",
      "6795acae-e84d-4e97-b9a1-b4f4f0a72cfd\n",
      "679ae89f-4a02-4301-862e-1d844cc66cbf\n",
      "67a4fb91-6f38-4ca2-8f20-6b2f5f1b29a7\n",
      "67abb826-9b70-4459-8764-da76ecf35bfe\n",
      "67acd5bc-4658-4c6e-a9b9-cd8ea3a03418\n"
     ]
    },
    {
     "name": "stderr",
     "output_type": "stream",
     "text": [
      "\r",
      " 40%|███████████████████████████████▋                                               | 484/1208 [00:12<00:17, 40.86it/s]"
     ]
    },
    {
     "name": "stdout",
     "output_type": "stream",
     "text": [
      "67f5ca94-d84e-490e-bf0d-4ffba7bdbe30\n",
      "68442532-9cd2-4b42-9d4f-ddf8c13bb38c\n",
      "686ed568-d5f8-475e-81ad-edab9dd473a0\n",
      "68e69cfb-1a07-48d2-8abe-46b46fe264ed\n",
      "68f34a9c-f73d-4238-8f55-4b05a8a2154c\n",
      "694222bb-cddf-469a-9526-f873c6fba58e\n",
      "69565501-6e77-4f40-bd80-caa3dda34d8b\n",
      "69569ecf-cfa1-4ddd-9342-b22c23387fdb\n"
     ]
    },
    {
     "name": "stderr",
     "output_type": "stream",
     "text": [
      " 41%|████████████████████████████████▌                                              | 498/1208 [00:12<00:17, 41.36it/s]"
     ]
    },
    {
     "name": "stdout",
     "output_type": "stream",
     "text": [
      "697bdbc0-6e31-4e48-ac74-ba4ab5760d32\n",
      "69b5b3de-ec64-4e5d-bcc2-44f495e06e76\n",
      "6ab870ba-b24b-49a9-9570-8eafe63aa74e\n",
      "6ad3efc9-4392-4cee-98a5-186564a96373\n",
      "6afb3717-f197-4668-929a-4fab389ae6e8\n",
      "6afd8203-d61a-4e9b-a4cf-dcb53a16b57c\n",
      "6b14c855-8561-417c-97a4-63fa552842fd\n",
      "6b2ff7ca-c5b3-415c-9481-7b14efc6d7ef\n",
      "6b473806-e936-4b19-98cf-a2b94cac35ff\n",
      "6b4c79f5-b194-4586-be9f-e339c5af4188\n",
      "6b5ed184-cb15-4d54-93bb-9a3ca00184a1\n",
      "6b8048ed-ebd7-4789-ba87-c1ba94801481\n"
     ]
    },
    {
     "name": "stderr",
     "output_type": "stream",
     "text": [
      "\r",
      " 42%|████████████████████████████████▉                                              | 504/1208 [00:12<00:17, 40.33it/s]"
     ]
    },
    {
     "name": "stdout",
     "output_type": "stream",
     "text": [
      "6ba5d0b8-cdc7-4266-9d78-db76faa312e9\n",
      "6bb4892c-27a9-4642-aba1-4b73f38f757c\n",
      "6bc7b53c-5a98-48ef-a9de-59a476707ea4\n",
      "6bfe6a90-8a69-4171-8e7f-42dc9417c6d9\n",
      "6c20abb2-c4bb-4de0-8774-03f4d30ce93d\n",
      "6c3f81d7-5670-46bd-9eaa-9b426413abb7\n",
      "6c7095cd-ab6b-4f53-bd94-905d0cc95840\n",
      "6d05ed67-43e2-43af-9d57-70c7a6eeef5e\n"
     ]
    },
    {
     "name": "stderr",
     "output_type": "stream",
     "text": [
      " 43%|█████████████████████████████████▋                                             | 515/1208 [00:13<00:19, 36.35it/s]"
     ]
    },
    {
     "name": "stdout",
     "output_type": "stream",
     "text": [
      "6d91d1f0-636b-4f5a-a526-7c17fc857190\n",
      "6dfafdf1-f588-4e80-8cf8-0126e1bf7af9\n",
      "6e39fb0a-aa41-4b16-b783-7589e97bf289\n",
      "6e7ed596-1b76-4998-8147-a846d53d91c5\n",
      "6e86206f-dafe-4c28-bacc-7b83b2d40f0c\n",
      "6f4ffe7b-395f-41ea-ad61-df5e0cbd531c\n",
      "6f67a66b-56ec-4c36-ae7c-f250d3b86a23\n"
     ]
    },
    {
     "name": "stderr",
     "output_type": "stream",
     "text": [
      "\r",
      " 43%|█████████████████████████████████▉                                             | 519/1208 [00:13<00:20, 32.90it/s]"
     ]
    },
    {
     "name": "stdout",
     "output_type": "stream",
     "text": [
      "6fa2b30f-9b89-46ac-9b79-c0bc105d4271\n",
      "6fb707b1-5c07-479f-8385-5404bf5747b0\n",
      "6fd30823-3b77-40c9-ba5d-e1eda9660674\n"
     ]
    },
    {
     "name": "stderr",
     "output_type": "stream",
     "text": [
      " 44%|██████████████████████████████████▍                                            | 526/1208 [00:14<00:36, 18.62it/s]"
     ]
    },
    {
     "name": "stdout",
     "output_type": "stream",
     "text": [
      "701206c5-aaac-4b99-9cc0-4a6854359457\n",
      "7029feb3-9ffe-46e4-9883-6a9df84f7b62\n",
      "7094c11a-1e62-4f98-894e-d17d138a88e9\n",
      "70a95e58-ba60-4c1f-adcd-49c198dc2ba0\n",
      "711f6b3f-cd63-46d1-834a-bc8e9aa9b43e\n",
      "71204a6d-814e-44b6-9cee-7b979f478021\n"
     ]
    },
    {
     "name": "stderr",
     "output_type": "stream",
     "text": [
      "\r",
      " 44%|██████████████████████████████████▊                                            | 532/1208 [00:14<00:29, 23.08it/s]"
     ]
    },
    {
     "name": "stdout",
     "output_type": "stream",
     "text": [
      "715761a2-745e-4743-9849-956a034ad3c4\n",
      "716273ea-19c4-49af-8604-df587b295eca\n",
      "71881a39-a30c-40c7-8c4a-9f64c93e79d9\n",
      "71925778-a26e-483e-a07c-f3aaf740122a\n",
      "71bbdc58-11af-41f2-9a93-3fe9257c5cf3\n",
      "71cf2467-77d3-4fac-ac6e-1d8767717c34\n",
      "72029aca-f0bc-477f-b790-f345f86228ce\n",
      "72088c26-d2dd-4906-b791-b8947fc7fbe4\n",
      "72105bb0-8e39-48be-b7f7-5b32f047b99e\n",
      "724e0c34-32cd-41f1-ae37-586038bc67ab\n",
      "72732579-a812-4496-b2dd-ea1556924337\n"
     ]
    },
    {
     "name": "stderr",
     "output_type": "stream",
     "text": [
      "\r",
      " 45%|███████████████████████████████████▏                                           | 538/1208 [00:14<00:24, 27.08it/s]"
     ]
    },
    {
     "name": "stdout",
     "output_type": "stream",
     "text": [
      "729733ff-a349-4a96-b636-ccabe7d7e167\n",
      "729a38d6-66db-48e5-a00d-7d90d224290f\n",
      "73dd09d3-2bff-4b5e-b996-9da0b8b54a8f\n",
      "74261741-4d6e-4dba-8ad4-4fbdf919c30f\n",
      "749df49e-5212-49ea-9e88-7d66f258f1df\n",
      "7521ec48-57b5-48a8-a5d6-8280ad5da19c\n",
      "75579b27-8191-4044-859b-268be969c42b\n",
      "755e5bf8-e8e1-492b-a32f-f7d87cccaa40\n",
      "75660b56-51c2-45a9-9c15-e18d12a3af8c\n"
     ]
    },
    {
     "name": "stderr",
     "output_type": "stream",
     "text": [
      " 46%|████████████████████████████████████                                           | 552/1208 [00:14<00:19, 33.50it/s]"
     ]
    },
    {
     "name": "stdout",
     "output_type": "stream",
     "text": [
      "75c243e2-610d-4d5a-bc5a-4c53d99d9ae9\n",
      "76021d69-8919-4688-95ef-7418eff620cc\n",
      "7624ac36-1cf9-42fb-844d-376078309553\n",
      "7625dfc4-858a-4c8e-907c-8943d665e9a7\n",
      "766d5547-8dd2-4c8d-b78e-3007f83932e8\n",
      "76a8a5f5-1328-4539-a131-baf877f40cf3\n",
      "76b24246-8571-4e7b-8815-b185414a2c51\n",
      "76dbce7f-dc3e-4a29-b1fe-ab9dce583080\n",
      "770b8ca4-8377-479b-9ad5-5455ec3b44f8\n",
      "77e76e62-2c71-4b52-9b21-0d1bcde9f9bf\n",
      "781d4bea-c6a9-4b36-ae10-ba9e328c87fe\n",
      "783ae4ad-6a35-4b3c-b19f-754974b67b2d\n"
     ]
    },
    {
     "name": "stderr",
     "output_type": "stream",
     "text": [
      " 47%|████████████████████████████████████▉                                          | 564/1208 [00:15<00:18, 34.89it/s]"
     ]
    },
    {
     "name": "stdout",
     "output_type": "stream",
     "text": [
      "787abd97-dd37-4212-8b43-61696eb3abc0\n",
      "78a5d1c3-44dd-44bc-ad5b-5e25bdcc4fae\n",
      "78ac1e98-7062-4e27-8d58-25c392cae889\n",
      "78c35732-7e31-4153-842e-55ab1cd656f6\n",
      "7942691b-6376-4c75-ae8a-ddf65454dcb2\n",
      "795d0331-da56-4d45-a58a-54803408ffd9\n",
      "79806898-0214-44bd-ba2c-b570e911be62\n",
      "79b3a64f-2fb9-46e0-85d4-2bdd59c2075e\n",
      "79d7a014-21ff-40f1-9ac4-a69839390654\n",
      "79f2fbab-169d-4062-820d-3dfd12f062c8\n",
      "79f63258-24ce-4e69-a5cb-8529635a89a9\n",
      "7aae78ce-ac97-478d-983c-c0ec290171df\n",
      "7abc0d26-dd66-4ef4-8c4e-4a661e589a7f\n"
     ]
    },
    {
     "name": "stderr",
     "output_type": "stream",
     "text": [
      " 50%|███████████████████████████████████████                                        | 598/1208 [00:15<00:07, 84.22it/s]"
     ]
    },
    {
     "name": "stdout",
     "output_type": "stream",
     "text": [
      "7ba9db7e-9d3f-413c-b672-2bba5fb5b415\n",
      "7bcd3735-3134-46d1-8ca2-d4379f2d51c0\n",
      "7bde7de1-889b-4218-b0e1-e2c04f6a7986\n",
      "7beee655-6156-43b8-b185-dbae0eaf7f45\n",
      "7c1cd7c7-7452-4428-a98e-dd7675c8ddea\n",
      "7c66d2fd-68ee-4628-b860-9d7ad25b2a80\n",
      "7c68c343-a7d3-4d26-b330-a5bb97ab8d9c\n",
      "7c870293-2665-4a6b-a4fa-336959051dfc\n",
      "7d041c38-11f2-4186-8a24-29d7d0f5c3cf\n",
      "7d4c2160-317f-48d1-a60a-788ec300b3e8\n",
      "7d4d0646-26b5-46fa-ab25-452d986e887b\n",
      "7d65d296-0f7b-41cc-9073-a547e24326c8\n",
      "7d9c1422-6332-44e9-b134-3ac94f07b0f0\n",
      "7db1373d-5bbf-47e6-ab40-30cba7678745\n",
      "7dcc84ce-e8b4-46c8-9506-7c8ebda5da2f\n",
      "7dfbfeaf-e3b1-4159-8dcd-d7f731280ac8\n",
      "7e25ced3-5caf-47f8-ad0c-42946bd4468b\n",
      "7e837856-3519-4dc0-b357-4cdcfd30b4eb\n",
      "7eae1169-e294-4594-8e03-1366d23ff2d1\n",
      "7eb95580-693f-41b6-9338-174be1430c23\n",
      "7ef90770-6aeb-45eb-9744-49c5247dde30\n",
      "7f528918-27d4-421f-ab57-0cf9c693e697\n",
      "7fd2d254-b062-4f3d-8970-687e73c5a00a\n",
      "7fdc8be8-7579-4a5c-b369-8a07ee0a8b7d\n",
      "8002cb71-0f25-4fa4-a46f-b49e5aeded0c\n",
      "801296d9-3403-426f-859e-5c532858e025\n",
      "80da32ce-8c22-470e-9f35-558c5f7a5df9\n",
      "815bf40c-371a-4d34-aa41-c549c8221881\n",
      "8190ec37-9a5e-419f-89ed-fbfb079370db\n",
      "81a2748d-51c9-4439-995d-f747871d6544\n",
      "81af1442-d835-46bf-b80b-a898dba3da1b\n",
      "81c3c8f0-d5a9-4dda-afd5-e86f6afd9424\n",
      "81edcae1-65bf-4752-b0e4-494376b71e49\n"
     ]
    },
    {
     "name": "stderr",
     "output_type": "stream",
     "text": [
      "\r",
      " 51%|███████████████████████████████████████▋                                      | 614/1208 [00:15<00:05, 101.08it/s]"
     ]
    },
    {
     "name": "stdout",
     "output_type": "stream",
     "text": [
      "81fed4a1-9d48-4938-90c9-c8bf3f5e6b1f\n",
      "820bbfea-3dae-46fc-b61a-3d0ed2ea01c2\n",
      "8271d0d8-9985-43eb-94b3-c702adca139f\n",
      "833b1d3e-d389-4d0f-8638-6aca5b89f917\n",
      "834a30bb-26bf-4e60-9ea1-3250b926892e\n",
      "83d4e1fe-da84-4175-a9e2-8efc18782dcf\n",
      "83ec1cb9-1714-4bf1-81f6-115fde84564d\n",
      "83ec8923-6232-40d7-ba1f-a1b8bf7cb66c\n",
      "84041bf9-dace-4066-9fe0-52170d08f826\n",
      "8490c623-3d88-4532-baf5-0d266a45b16f\n",
      "84c88143-940d-4b62-bbd2-7acc4cadcb6b\n",
      "84d7545e-c3a8-4b1f-9a39-36aab78c8699\n",
      "84ee2ea3-9edd-4672-a1b3-f09c607d833a\n",
      "85546330-4efd-43e2-87aa-d53a30220bfc\n",
      "85a4d82e-cfb7-4983-b272-626c9e8c7583\n",
      "861c3e06-aada-47a0-99ae-94fbc2772cc0\n"
     ]
    },
    {
     "name": "stderr",
     "output_type": "stream",
     "text": [
      "\r",
      " 52%|████████████████████████████████████████▉                                      | 626/1208 [00:15<00:08, 67.83it/s]"
     ]
    },
    {
     "name": "stdout",
     "output_type": "stream",
     "text": [
      "86495bbf-687b-429c-b9d3-6c2681ade7e2\n",
      "867f30da-2568-4480-9968-cece78c61c64\n",
      "8757be1e-b832-407a-8e95-62abae485b24\n",
      "877d5e7f-19b6-40e7-81bd-c92f25e72503\n",
      "87d6343b-70dd-4cdd-939f-d3ac0ca2e700\n",
      "882b91b7-5906-4091-bad4-688d4375eeb5\n",
      "883b726a-f61c-4382-9f1b-2fff302beba6\n",
      "883d9731-a04d-4f84-83c9-d3bef954759d\n",
      "8855c685-5a8c-4967-a356-942ed89e3471\n",
      "8939e14b-fcdf-48b1-acb9-6514a2fc2fc0\n"
     ]
    },
    {
     "name": "stderr",
     "output_type": "stream",
     "text": [
      "\r",
      " 53%|█████████████████████████████████████████▌                                     | 636/1208 [00:15<00:09, 62.09it/s]"
     ]
    },
    {
     "name": "stdout",
     "output_type": "stream",
     "text": [
      "89b276cc-cc8f-4378-a877-e01aff333373\n",
      "89b3d781-2f81-4d23-bed4-84da064df7f3\n",
      "89f10192-d3dd-4996-a571-4c851dbdc983\n",
      "8a4aadac-cf5c-4a79-b875-271b3fbfd230\n",
      "8a7deb24-d2b4-4acf-86c4-3aadd39157fa\n",
      "8ab5c462-045e-4b59-b53a-9b2bc3ed2487\n",
      "8ad7ba46-5db8-4ba9-b3e0-3cac52f7efc3\n"
     ]
    },
    {
     "name": "stderr",
     "output_type": "stream",
     "text": [
      "\r",
      " 53%|██████████████████████████████████████████                                     | 644/1208 [00:16<00:11, 49.48it/s]"
     ]
    },
    {
     "name": "stdout",
     "output_type": "stream",
     "text": [
      "8b494b40-cab5-49d3-893d-c805000fbe88\n",
      "8b89b3fc-95ef-4f2e-b94b-0291dbffe0f4\n",
      "8bd71314-e38a-4670-bb25-5cd6c9acb595\n",
      "8be185e7-2a1a-441c-a5c7-b50a9eb926cb\n",
      "8cc6fe77-5f2f-4670-b4ac-1b49550241a8\n",
      "8cca114a-ed05-4b87-95b7-fae02487f08c\n",
      "8d02117d-6c71-4e47-b50a-6cc8d5eb1d55\n",
      "8d56197c-21d7-4cb6-92df-80637efd129b\n",
      "8d5d5c22-2f75-4fe1-9ea3-03a3c7b92ea9\n",
      "8d989997-038c-4924-b2d3-d02629a7cdf5\n",
      "8dace03a-10c4-4d59-bcd9-a2c314c5df33\n",
      "8e078333-8fa0-45be-a46e-fa05708cb365\n",
      "8e0dfc1f-e3eb-4a3f-a1c4-249bdfbfaa27\n",
      "8e4bdd0d-1c72-4836-ae3e-05e2e50e4983\n"
     ]
    },
    {
     "name": "stderr",
     "output_type": "stream",
     "text": [
      " 55%|███████████████████████████████████████████                                    | 659/1208 [00:16<00:10, 49.99it/s]"
     ]
    },
    {
     "name": "stdout",
     "output_type": "stream",
     "text": [
      "8e69098c-fae0-47a3-8833-c2bfdfb1a416\n",
      "8e72e20e-e714-4db6-a1da-c05a409257d4\n",
      "8eeb378e-90f0-47ea-ac1c-2a201eb8d090\n",
      "8f84a2c9-ca38-4405-a488-12fcd101278b\n",
      "8f96ee1f-4ef7-4279-a610-316319bedcf9\n",
      "90171428-f208-428a-b40e-f57ee3bea457\n",
      "90246988-0d6d-4bf8-8a76-94107de4121e\n",
      "907650b5-edae-471d-bc54-a825be3d3fac\n",
      "90a82250-1f68-48c9-9af9-15f18bf8c974\n",
      "9106a6bb-1352-411f-ac26-0d6fe48c16a8\n",
      "913099c5-8085-4908-bf4b-1f098bbfcf66\n",
      "9147a21d-0de2-4c04-88da-b788311696ac\n"
     ]
    },
    {
     "name": "stderr",
     "output_type": "stream",
     "text": [
      "\r",
      " 55%|███████████████████████████████████████████▍                                   | 665/1208 [00:16<00:11, 47.72it/s]"
     ]
    },
    {
     "name": "stdout",
     "output_type": "stream",
     "text": [
      "9174f910-3859-4839-8e30-2c3b25269322\n",
      "91827f1a-9b04-4ef0-972c-12e90e60c516\n",
      "91e93160-eb8d-4de0-b6bc-b98ec33d1663\n",
      "9258fe22-6406-4d00-b6f0-3f9492925405\n",
      "92e4fd7b-79ef-49c2-a52b-9ef13dd720ef\n",
      "933e7e07-fc3d-42eb-be0c-6b1623ee60fa\n",
      "939ad732-d7c5-4339-b087-4335b49d6a3c\n",
      "93a306b8-594a-4c7f-8b4a-127fb6ad8f1a\n"
     ]
    },
    {
     "name": "stderr",
     "output_type": "stream",
     "text": [
      " 56%|████████████████████████████████████████████▏                                  | 676/1208 [00:16<00:12, 41.47it/s]"
     ]
    },
    {
     "name": "stdout",
     "output_type": "stream",
     "text": [
      "93b47b14-7f78-4b31-8897-d63a81fdab01\n",
      "93f40356-5676-45d3-8e83-8028708c93ba\n",
      "93f7e207-0d8e-47f8-8258-09a0e03dbdd6\n",
      "947348fe-4c70-468e-8009-3c14daeca69b\n",
      "948c94ad-395c-41f4-9a68-8a1dcb76888c\n",
      "94b5a9a1-1c88-4400-aca4-3d56f543fc4a\n"
     ]
    },
    {
     "name": "stderr",
     "output_type": "stream",
     "text": [
      "\r",
      " 56%|████████████████████████████████████████████▌                                  | 681/1208 [00:17<00:25, 20.35it/s]"
     ]
    },
    {
     "name": "stdout",
     "output_type": "stream",
     "text": [
      "94d9fa50-d3e4-4eaf-acfc-92e7f2ed9ea5\n",
      "95bea542-6cd0-41c5-82c5-509af8c3b505\n",
      "95d5e689-c1d1-4ae8-a659-cc20c62a99f0\n",
      "95fea6d8-413f-421e-b331-5d51c31df150\n",
      "9615ff33-b3fc-4d1e-9c05-0b8e3ef936df\n",
      "96596a68-8c95-43f3-b74e-e9506c235144\n"
     ]
    },
    {
     "name": "stderr",
     "output_type": "stream",
     "text": [
      "\r",
      " 57%|████████████████████████████████████████████▊                                  | 685/1208 [00:17<00:24, 21.33it/s]"
     ]
    },
    {
     "name": "stdout",
     "output_type": "stream",
     "text": [
      "9691c57a-ccf8-47f9-a8e9-9a324974585b\n",
      "97eff653-3908-4e66-931f-eab36bc336c8\n",
      "98175327-da9e-4e0c-8912-ee68490a4672\n",
      "9842445c-5899-4189-9f2e-3a3a179fdad3\n"
     ]
    },
    {
     "name": "stderr",
     "output_type": "stream",
     "text": [
      "\r",
      " 57%|█████████████████████████████████████████████                                  | 689/1208 [00:18<00:54,  9.45it/s]"
     ]
    },
    {
     "name": "stdout",
     "output_type": "stream",
     "text": [
      "984caf56-f400-4a29-be97-a4d6b9d1468d\n",
      "985627c9-7b85-40de-a106-eb9cc47b47cb\n",
      "98976666-9125-47fe-9601-43c41e58dfb4\n",
      "989d86a1-6d76-4089-85cf-2f2ca0a8456c\n",
      "98c25ffe-c329-420a-bc22-b082f565eac9\n",
      "98efca97-37d2-4459-aca6-375ecc0c4539\n",
      "997eabd9-55bf-4683-83c4-4cee4673a4ef\n",
      "99a21c5c-f5a7-4c07-9cb6-5dda2d388f48\n"
     ]
    },
    {
     "name": "stderr",
     "output_type": "stream",
     "text": [
      " 58%|█████████████████████████████████████████████▋                                 | 699/1208 [00:19<00:35, 14.43it/s]"
     ]
    },
    {
     "name": "stdout",
     "output_type": "stream",
     "text": [
      "99b13257-b9d9-422f-8262-802da0bdc510\n",
      "99d6a7e5-128e-4455-841d-8fbd1663905e\n",
      "99e979d4-ee97-4d7f-9da6-00bead40db4d\n",
      "9a1cd456-310c-47b6-a1f8-0fbd8e33d1fd\n",
      "9a25f103-1683-47d1-8b07-ac20fe0b3ee9\n",
      "9acf303a-fcba-4e52-be3e-8d061aa5e72a\n",
      "9af1ee02-87fd-42bc-963e-fa9ac3eb45bb\n"
     ]
    },
    {
     "name": "stderr",
     "output_type": "stream",
     "text": [
      " 58%|██████████████████████████████████████████████▏                                | 706/1208 [00:19<00:27, 18.28it/s]"
     ]
    },
    {
     "name": "stdout",
     "output_type": "stream",
     "text": [
      "9af4b8ae-c912-41fd-b4c0-34864c75360f\n",
      "9b3fd401-dab0-440f-8498-eb3cc9ffa970\n",
      "9b410534-3b70-4a88-9f93-205cf4e55a05\n",
      "9bd40bc6-4949-42d3-b38f-d60422932f65\n",
      "9c48fdf4-621d-4f40-bcd7-6a28cd530de7\n",
      "9c4cb048-d64a-4b7f-84ff-ca28a8084fc7\n",
      "9c5f48c0-0544-4c0c-92b4-59b7d7b7814c\n",
      "9ca20b10-e2fd-4bd2-93ef-78298f763ed5\n"
     ]
    },
    {
     "name": "stderr",
     "output_type": "stream",
     "text": [
      " 59%|██████████████████████████████████████████████▊                                | 716/1208 [00:19<00:19, 24.93it/s]"
     ]
    },
    {
     "name": "stdout",
     "output_type": "stream",
     "text": [
      "9cdee92c-6267-4188-a41e-125bc0abb9ae\n",
      "9d155086-acf5-4c86-a9e1-94b587c46e87\n",
      "9d819c89-4ea9-4e75-9b03-da87fa6c6f4d\n",
      "9dc6ed5d-6698-48cf-aab3-fd156673729c\n",
      "9e0e1928-d19a-4100-b093-0b962ac09e05\n",
      "9e1b0217-0926-4fd1-bb9e-a815c05deb59\n",
      "9e5437c6-b0d3-473b-b7c3-8f5afeb90c7a\n",
      "9e74feb8-017d-4d53-8896-9ebda4327dd1\n",
      "9e793460-d94c-47ac-b3a7-0d6ad86357da\n",
      "9e82c996-2cfa-418d-9482-8ee23e9d0a5d\n",
      "9eb66577-7857-43dc-a879-8f2c9d7f780f\n",
      "9ebd623d-5534-4dd9-bff8-cdedf322db35\n"
     ]
    },
    {
     "name": "stderr",
     "output_type": "stream",
     "text": [
      " 60%|███████████████████████████████████████████████▌                               | 728/1208 [00:20<00:15, 31.26it/s]"
     ]
    },
    {
     "name": "stdout",
     "output_type": "stream",
     "text": [
      "9ec1dcec-87c2-4aca-8e6b-0db3cd05509c\n",
      "9ecf2006-8d49-4ae8-a14b-ed8b3b14ee7c\n",
      "9edba799-e169-46cd-b100-c9f8fc7a8c7d\n",
      "9f33e0ea-065b-4703-9df9-15829b891860\n",
      "9f38055f-4fe6-47fd-a6dd-c0743db4eccf\n",
      "9f4bc3b4-abb0-4bcb-baa8-ec9f25e2b9c6\n",
      "9f959520-e15e-45c2-bc29-ef3c19154d1c\n",
      "9fbf38ab-44b9-4096-a818-603017a4300e\n",
      "9fe8bdc8-847d-434e-93e5-ae14ff3b45e1\n",
      "a054a8e2-55f2-4508-97df-207f76b89be2\n",
      "a065c50b-341d-4803-b4b0-0fe8f04fdbb5\n",
      "a0785022-e82b-4878-b9d4-19cb7b75213f\n"
     ]
    },
    {
     "name": "stderr",
     "output_type": "stream",
     "text": [
      " 61%|████████████████████████████████████████████████▍                              | 740/1208 [00:20<00:13, 34.78it/s]"
     ]
    },
    {
     "name": "stdout",
     "output_type": "stream",
     "text": [
      "a0b277cb-20bc-4921-a6bd-5ccd5b91d14f\n",
      "a0e2ef53-d39b-40cf-b8b6-4b148ac339ec\n",
      "a0eedcb9-b85c-4612-b945-7e8227f53c35\n",
      "a0eeeb10-d0cb-48d9-8c22-2c3a3c908d00\n",
      "a11ed7d0-12f6-468f-abad-5cba7d968123\n",
      "a15e0fa8-2620-4f66-896e-175115c9dc3d\n",
      "a1669b59-fe09-4fe6-ba9f-06bec6725502\n",
      "a18f122f-3a3e-4478-8ac4-91b83e050e65\n",
      "a1c140f9-75d7-42a3-b767-4c01a118892b\n",
      "a1ff36df-71df-4e6e-a65f-ced9a2b381c3\n",
      "a20d0b4b-6e2e-4507-bc22-f321dedc4ed9\n"
     ]
    },
    {
     "name": "stderr",
     "output_type": "stream",
     "text": [
      " 62%|████████████████████████████████████████████████▉                              | 749/1208 [00:20<00:14, 32.76it/s]"
     ]
    },
    {
     "name": "stdout",
     "output_type": "stream",
     "text": [
      "a23f5539-bfe6-4885-9a0e-dba972475ea9\n",
      "a2754679-68b0-40f4-be01-bafad5ac1261\n",
      "a27858ef-6533-413e-bc75-cc54690261a2\n",
      "a27b451d-44a6-4740-861a-9e7e99915563\n",
      "a2a20600-f851-4db7-90f9-6f7be027c8b5\n",
      "a2ccbf70-e444-49a9-8b7e-9797a05220d8\n",
      "a2d07312-2f97-40d2-8b09-7f2aca7b16fb\n"
     ]
    },
    {
     "name": "stderr",
     "output_type": "stream",
     "text": [
      "\r",
      " 62%|█████████████████████████████████████████████████▏                             | 753/1208 [00:20<00:14, 30.35it/s]"
     ]
    },
    {
     "name": "stdout",
     "output_type": "stream",
     "text": [
      "a2de1248-7bc0-44dc-b508-70a357eedd68\n",
      "a2fc0093-8645-43c7-bdee-ec8ca9484815\n",
      "a302a6fa-f635-4ade-b72b-b6f3c2a34ec9\n",
      "a30da226-b452-408a-a556-bfae4d521464\n",
      "a3ada657-de00-44db-b1e2-54ba17e39983\n",
      "a3c0a876-be12-4ede-8aed-18b32a64401b\n",
      "a4409217-be11-4478-90a5-b406057d154d\n"
     ]
    },
    {
     "name": "stderr",
     "output_type": "stream",
     "text": [
      " 65%|███████████████████████████████████████████████████▌                           | 788/1208 [00:21<00:05, 77.58it/s]"
     ]
    },
    {
     "name": "stdout",
     "output_type": "stream",
     "text": [
      "a4851ed0-1499-4eae-9157-dcd34773254f\n",
      "a4d7a7e1-5ae1-486d-b6ee-c9af1476ccad\n",
      "a4fbb9f2-9b75-4fdc-877d-2feaafac25b3\n",
      "a51d6c18-f9e8-4714-9dbb-38e1577445f2\n",
      "a588091c-5e4c-4e61-914d-e96f3ee3e505\n",
      "a5c3b3f8-7ceb-4573-a400-a76b9479af46\n",
      "a5e05ba8-0c19-41e3-92d5-10e42a03b85e\n",
      "a6391703-0820-4913-a7cd-e843ff0d84ba\n",
      "a63ce82f-f3d1-4818-9035-d3d230e5f686\n",
      "a63fa2c7-3ec8-4bb7-bde6-a39e09d2f806\n",
      "a6526894-e290-482d-ac43-f1df34864817\n",
      "a6aa3b72-2970-4c78-b655-ea8dfe6e018c\n",
      "a6ba808f-ec60-42a5-ad91-7b32412ab708\n",
      "a6d85204-24b8-4b23-a8b1-c3e8b93f9f22\n",
      "a6f8a029-44ee-4fe3-b807-38d137347729\n",
      "a6fe423a-5204-4378-bcfa-d6d298a3e9aa\n",
      "a72cd558-b7ac-4bf2-a344-2ce6c73a354e\n",
      "a74b6d6a-7e04-40ac-9292-d62f13f7ded3\n",
      "a7688988-2bcc-4458-83d3-5e482da5f87b\n",
      "a777e78c-ad1f-4380-9ab2-b4f9f32b2d78\n",
      "a7b6894d-eeea-4ed5-bc0e-785d6c6da8df\n",
      "a7c3c52f-3b40-4c92-a212-df9462cf25d8\n",
      "a7c91b63-b97c-4f4b-8d34-7ad2b08d7a17\n",
      "a7f1bbb1-6058-4642-bd66-cfb90dce762e\n",
      "a824b499-3736-4581-bbdc-be1b3b4cf756\n",
      "a85cd1ae-0c94-4387-8305-84ab8d96d137\n",
      "a86e0647-ae41-4b75-9d45-dd58f5ea65f5\n",
      "a88a48b6-f85c-45c1-b42f-79716c8463f1\n",
      "a89cace5-c818-4f23-a432-052b3433b81e\n"
     ]
    },
    {
     "name": "stderr",
     "output_type": "stream",
     "text": [
      " 68%|████████████████████████████████████████████████████▊                         | 818/1208 [00:21<00:03, 108.71it/s]"
     ]
    },
    {
     "name": "stdout",
     "output_type": "stream",
     "text": [
      "a8cb75ba-3f2f-40d8-8bc7-c79ebd1b9603\n",
      "a9159b11-ba49-4885-902e-00c8d5095b98\n",
      "a93c35ba-1690-4358-8837-669bcd850bb7\n",
      "a9daf82a-a46d-4296-bd72-2c374ed0a193\n",
      "a9feccda-18f2-405e-9aa1-409fa1f49fe4\n",
      "aa2dfa24-2dc3-4279-a232-f84780ace190\n",
      "aa3ad405-828e-4986-8251-20fd981f34d3\n",
      "aa4a023b-55bd-4259-b15d-7086a9b491e0\n",
      "aaade430-4c49-4038-97b7-f8cdd937db57\n",
      "aabca37c-f9ef-4415-aab6-3246caa348e9\n",
      "ab27173b-6e30-4957-bd68-29194328fd39\n",
      "ab59c9e4-3e50-48b9-874d-060d317410cc\n",
      "abb2f9d6-26fa-4328-983c-959ef6717c05\n",
      "abf4cf2a-4532-4772-9f0f-9e123cc1713d\n",
      "ac3358f1-ef9a-4ccc-b66c-da5e47e352e0\n",
      "ac4d6507-d710-497b-ad7c-e0dd75c1d06d\n",
      "ac8df764-c8d8-4312-916d-70bfb37574b4\n",
      "acb16781-11ad-4327-874a-5c9c35dcb085\n",
      "acdc6e12-73d9-44ba-be8c-2a56aaffef4f\n",
      "ad36bd67-594b-4f63-93e3-886af0bc618e\n",
      "ad8731b7-0dae-4983-9dc6-dec31767d761\n",
      "adff132d-3af0-4cef-942c-58fc09729bee\n",
      "adff6e1d-ba9d-4c7b-a8fe-1ec458eaeeb8\n",
      "ae17a099-18b5-4a42-a901-850ea056423e\n",
      "ae779806-6d01-4dc6-89df-294c368db6bc\n",
      "af2e63a3-9fde-46aa-a867-81c5c259d1dc\n",
      "afa470d9-c74c-41cd-b4dc-7bf93fde8263\n",
      "afbb264e-ff60-443a-83f5-49d09be1b835\n",
      "afd39466-aafa-4d81-9520-483727418723\n",
      "affa429c-0315-4c18-a002-13bb3ecab259\n"
     ]
    },
    {
     "name": "stderr",
     "output_type": "stream",
     "text": [
      "\r",
      " 69%|█████████████████████████████████████████████████████▋                        | 831/1208 [00:21<00:03, 111.97it/s]"
     ]
    },
    {
     "name": "stdout",
     "output_type": "stream",
     "text": [
      "b02f6804-1697-4a5e-9be7-61931903ab55\n",
      "b10ea12f-cd36-4f2c-994a-67d1665269ab\n",
      "b1100ae1-0ac8-4fc2-b0ff-8819f7fbe724\n",
      "b1145408-feae-4637-b4cf-3e70b99cc62d\n",
      "b12ae3b1-613c-4c0e-9163-3c5cc314abf5\n",
      "b197093e-2928-46a4-8e35-fa5ea7ea6dac\n",
      "b2103776-9b32-4160-b4f0-0692deda19dc\n",
      "b21f6c6e-4b45-407a-b4c7-034a115f3ee4\n",
      "b234b6ea-b54d-470c-8461-ba7f4a024796\n",
      "b2e34f5f-904e-4473-9dc7-c6bc1ce12640\n",
      "b2f05937-b965-4c4b-b86e-f50e95d9d691\n",
      "b3058064-d817-47dd-a8c4-cdb1f62374f8\n",
      "b318889c-3c60-477c-b8f6-d18cb01a59df\n",
      "b338766f-19b9-4874-bcc5-ae22b3c533e6\n",
      "b34e65f6-c32e-42f1-a437-4a037c75a231\n",
      "b3606d0e-6fe5-478a-bb4b-64d7c4889d86\n",
      "b4261fa5-876d-48ea-b6da-ec7ca5b48fe2\n",
      "b426ef1d-4a59-4f90-b593-50226af60a60\n",
      "b4bde4e8-f48b-4ae2-be01-86d8c91d0af9\n",
      "b4c52960-bbee-439e-83dc-f89ddaade71b\n",
      "b4d22412-a495-43a9-bec0-73a2322f8dad\n",
      "b4dc3088-3fe2-4688-be24-70664a64e022\n"
     ]
    },
    {
     "name": "stderr",
     "output_type": "stream",
     "text": [
      "\r",
      " 70%|███████████████████████████████████████████████████████▏                       | 843/1208 [00:22<00:10, 34.30it/s]"
     ]
    },
    {
     "name": "stdout",
     "output_type": "stream",
     "text": [
      "b4e5e08d-6427-46f3-aca8-a4df165a151d\n",
      "b4f3b2a4-f4b9-48de-ac5d-0e681b77be27\n",
      "b5143aae-6e98-4dc6-b546-980cb472de67\n",
      "b523daee-317b-461d-bdc1-07b4add4d488\n",
      "b5246b58-6f40-4c9e-8024-f49b0ed6bdbd\n",
      "b5513d5b-46fc-4f44-a616-791087fbd608\n",
      "b59dc3a0-3d54-4e3b-a485-33b3e43966de\n",
      "b5acf759-1115-42f0-a753-656736192528\n",
      "b600b38d-225b-46a5-b6f8-b607430f6a10\n",
      "b618e87e-6059-496f-b0f6-e158f676a1fb\n",
      "b62d47f9-2ff5-4902-abdc-b3610acfc7ba\n"
     ]
    },
    {
     "name": "stderr",
     "output_type": "stream",
     "text": [
      "\r",
      " 71%|███████████████████████████████████████████████████████▋                       | 852/1208 [00:22<00:09, 36.63it/s]"
     ]
    },
    {
     "name": "stdout",
     "output_type": "stream",
     "text": [
      "b634137b-bc8b-4e88-b0e3-b536ad6e7e18\n",
      "b6364a57-72a9-43f3-8d02-9f53a992dc95\n",
      "b6573be3-9e04-49c3-9f48-6a145d065363\n",
      "b666fcc2-d0b2-441e-bc5a-c660345eeb5d\n",
      "b687c30d-cf15-445c-b3f6-5aca86584708\n",
      "b701b5c5-b922-4315-b12a-aac4ec65ee8b\n",
      "b78b88f0-154a-4b54-8aaf-85d37a42a0f9\n",
      "b78ba2c8-ecb3-45b2-9cda-2c8088fa95d1\n",
      "b7a0d235-2217-43b4-aeff-cde4ccaf6789\n"
     ]
    },
    {
     "name": "stderr",
     "output_type": "stream",
     "text": [
      " 72%|████████████████████████████████████████████████████████▉                      | 870/1208 [00:24<00:17, 19.36it/s]"
     ]
    },
    {
     "name": "stdout",
     "output_type": "stream",
     "text": [
      "b7d0ae11-a393-4aec-8f68-6ba07147f78a\n",
      "b7f1a1eb-c150-4456-9c47-e7db8a5cb77a\n",
      "b809b407-7b69-4334-873d-d6c49135f04a\n",
      "b8339d7b-85ec-48d0-83e8-c8f831070459\n",
      "b834cbf7-ff97-49d9-9561-566c9343735c\n",
      "b8410821-a42b-47d0-8bcf-c2fc82e4e2d5\n",
      "b85fc640-de49-4f7e-afc0-978ff020f2e2\n",
      "b87fb62d-2c36-4f68-aba9-37fcd7d46eef\n",
      "b88fe674-fb9a-41d4-b100-cb1c86440d44\n",
      "b8a4d467-c40c-4ebf-91dd-1c19d0f2a7ae\n",
      "b8dd6125-5027-47e2-a283-14e199274c80\n",
      "b901c906-91be-48c4-88ec-2c527544a258\n",
      "b91b1641-ee06-44d8-94cc-24cdb583cc37\n",
      "b95ceeeb-8870-4492-9037-2091ff268c5a\n",
      "b9c6db13-ca3a-4937-8ecf-e537047ed858\n",
      "b9ccf7ca-953f-4832-9575-5e70b2a8c224\n",
      "b9d65ef3-1adc-4479-abee-2e422f5a613a\n"
     ]
    },
    {
     "name": "stderr",
     "output_type": "stream",
     "text": [
      " 73%|█████████████████████████████████████████████████████████▋                     | 883/1208 [00:24<00:13, 24.30it/s]"
     ]
    },
    {
     "name": "stdout",
     "output_type": "stream",
     "text": [
      "b9de8b1a-f96a-4eb5-bc05-84ad43a054f3\n",
      "baa87bf8-786c-444c-81e8-9fa0a41d8149\n",
      "bb137718-20ba-457d-8ffe-4f9420ecaab6\n",
      "bb2042c5-35e1-43cc-8171-7de81b764361\n",
      "bb337c84-f727-42a5-9c3d-934323a16c6a\n",
      "bb3ae957-0f6d-4615-bfe5-24fbca50b459\n",
      "bb795ddf-ce72-42d5-9006-124db4d5cf1c\n",
      "bbaa004f-05dc-4cb8-8768-e148085bb0f9\n",
      "bbe65c18-8a56-4dfe-875c-94e124a84125\n",
      "bbecf1a8-a728-4c83-87f8-4dfbac0a1e03\n"
     ]
    },
    {
     "name": "stderr",
     "output_type": "stream",
     "text": [
      " 74%|██████████████████████████████████████████████████████████▍                    | 893/1208 [00:25<00:11, 27.05it/s]"
     ]
    },
    {
     "name": "stdout",
     "output_type": "stream",
     "text": [
      "bbedfcbe-9528-4ba9-9d86-4ebba7589ac5\n",
      "bbf687b5-c6f9-4821-b2e5-a25df1acba47\n",
      "bc1a58fd-736b-4812-a051-2c376cff50b7\n",
      "bc377041-e098-45c4-9651-2b1ea90d1d7e\n",
      "bc832bde-d3ea-4a8e-be90-7a3329dcc314\n",
      "bca27923-b270-45df-a0bf-3e1a7d135b2c\n",
      "bcaefb02-682a-41b9-acc7-e6cc010f5b30\n",
      "bcb447c9-5d37-414f-a513-d7076b04a532\n",
      "bd432159-5956-457c-bdeb-1b5e702ba513\n",
      "bd7937db-fca2-44d0-8538-460110210927\n",
      "bd856928-96ee-4fc4-a377-f2fc4e84448b\n",
      "bdb5d571-27bc-4a42-ae45-aa5a9af40a81\n"
     ]
    },
    {
     "name": "stderr",
     "output_type": "stream",
     "text": [
      " 75%|███████████████████████████████████████████████████████████▎                   | 906/1208 [00:25<00:09, 32.32it/s]"
     ]
    },
    {
     "name": "stdout",
     "output_type": "stream",
     "text": [
      "be5bb7d0-7c3f-4bb9-8bb4-f8bc8d875943\n",
      "be6fe358-dee1-4dcf-9b0d-5d8612aba577\n",
      "be779f52-0bfa-4c01-a16f-b7f0bc92ed7c\n",
      "befe6182-266b-4f8a-ac82-3a4154f05f60\n",
      "bf002a25-6535-4621-be19-56d468be5413\n",
      "bf20d04d-ff8a-4910-91d7-94054c267d1b\n",
      "bfc61c48-685d-470b-86b1-e4c7eb85c4fd\n",
      "bfe65b11-8aff-46aa-908b-1e989d25fdc4\n",
      "bfefa21c-11e1-4dab-ac5d-8ff6f046d65f\n",
      "c03d9b87-e19b-402b-ad86-b30d6e8aeb59\n",
      "c0c3041f-78cd-46de-8e36-0a7dad0c04c4\n"
     ]
    },
    {
     "name": "stderr",
     "output_type": "stream",
     "text": [
      " 76%|███████████████████████████████████████████████████████████▉                   | 916/1208 [00:25<00:09, 30.63it/s]"
     ]
    },
    {
     "name": "stdout",
     "output_type": "stream",
     "text": [
      "c10b125d-10c2-474a-9c6a-5249935c638e\n",
      "c118ff18-f9f2-4617-bddb-dc4091fb8f5f\n",
      "c1423156-82b3-4dd3-8e74-08eb7ed8e1d6\n",
      "c147584d-4c61-412a-bdaf-b02b22c18708\n",
      "c17523c5-90a0-4a6b-9b33-2b4a6cf58d36\n",
      "c186dcd1-af61-455f-9619-1fdd8c881b06\n"
     ]
    },
    {
     "name": "stderr",
     "output_type": "stream",
     "text": [
      "\r",
      " 76%|████████████████████████████████████████████████████████████▎                  | 923/1208 [00:25<00:08, 32.50it/s]"
     ]
    },
    {
     "name": "stdout",
     "output_type": "stream",
     "text": [
      "c22f7031-9cf8-48ce-b03b-1b12d0db4951\n",
      "c244166d-12ca-445f-9ed9-a13d9caa412f\n",
      "c2ec116f-f091-422c-926c-70b548a8f6ef\n",
      "c3042130-a6e2-458f-9fde-bb012f68f5f2\n",
      "c3209548-7f7c-4afd-b47c-b42a72b1ebf7\n",
      "c3215597-a032-46be-9058-d6de1e5191d7\n",
      "c32b8bb8-c89d-4ae9-9c77-5b9356ca35a1\n"
     ]
    },
    {
     "name": "stderr",
     "output_type": "stream",
     "text": [
      "\r",
      " 77%|████████████████████████████████████████████████████████████▌                  | 927/1208 [00:26<00:08, 33.08it/s]"
     ]
    },
    {
     "name": "stdout",
     "output_type": "stream",
     "text": [
      "c35ee701-fde2-46b5-b178-1fe3f1ea7da2\n",
      "c3ae7090-fc68-41b4-85a1-8d9bce9825a7\n",
      "c3b07675-9d02-477c-91fe-f0737867049b\n",
      "c415532c-4cce-4580-9fcd-623c172a1abd\n",
      "c442e2d6-aaf9-417a-9905-4737a1115f33\n",
      "c4494d4f-732f-431a-8a9d-62403f0b74fe\n"
     ]
    },
    {
     "name": "stderr",
     "output_type": "stream",
     "text": [
      "\r",
      " 77%|████████████████████████████████████████████████████████████▉                  | 931/1208 [00:26<00:10, 27.18it/s]"
     ]
    },
    {
     "name": "stdout",
     "output_type": "stream",
     "text": [
      "c4c7ed75-dbdf-4bb6-b6ba-718903cf7264\n",
      "c4d34e35-4db2-41de-ba77-1a94aa9ef788\n",
      "c5084fb8-2b62-464c-8a77-1a07ea653266\n",
      "c52f8cc8-afd7-441c-9f1f-18b6e16d79cf\n",
      "c53fd511-31bd-4901-baac-3b44891f6744\n",
      "c54fcef1-0c51-4426-9a93-15ec5f2bf58a\n"
     ]
    },
    {
     "name": "stderr",
     "output_type": "stream",
     "text": [
      "\r",
      " 77%|█████████████████████████████████████████████████████████████▏                 | 936/1208 [00:26<00:08, 31.45it/s]"
     ]
    },
    {
     "name": "stdout",
     "output_type": "stream",
     "text": [
      "c5acd0ad-b0f2-478d-b0ad-5aa733aa7b32\n",
      "c5db0fc0-b96c-496e-90b4-f9fb1b85b28e\n",
      "c63f190a-e860-44fc-a2db-7980e1c80519\n",
      "c649e1cb-4029-4433-b231-d67d68f7391a\n",
      "c6530038-6d4e-49e1-8427-d1d3acc9fa21\n"
     ]
    },
    {
     "name": "stderr",
     "output_type": "stream",
     "text": [
      " 78%|█████████████████████████████████████████████████████████████▊                 | 946/1208 [00:26<00:10, 25.41it/s]"
     ]
    },
    {
     "name": "stdout",
     "output_type": "stream",
     "text": [
      "c6575e75-c8ce-4766-841f-1137b9e0956c\n",
      "c66a3e52-0f3f-4c81-bab9-0303499549f7\n",
      "c66cb6b2-1480-446a-a9d2-b8032a3de0d7\n",
      "c680004e-6ee2-43d7-877c-edc9b5ebeecc\n",
      "c691c8ef-d3c7-47b6-a941-f6a1089f21a9\n",
      "c6ab535c-30e5-4b6b-8273-1ec8d78cdd13\n",
      "c6d97845-8ad2-4ab7-b385-66613628df5b\n",
      "c7045ab6-230e-4c1e-a8e0-f624d41a00d9\n",
      "c742ee2c-6814-46cd-af56-ae87bb9972f4\n",
      "c776eb78-3323-4571-b39f-7ffc73ae63ce\n"
     ]
    },
    {
     "name": "stderr",
     "output_type": "stream",
     "text": [
      "\r",
      " 79%|██████████████████████████████████████████████████████████████▏                | 951/1208 [00:27<00:09, 26.89it/s]"
     ]
    },
    {
     "name": "stdout",
     "output_type": "stream",
     "text": [
      "c7a2d648-47cb-4b39-afa4-1b7fcfe51934\n",
      "c7c1b873-0548-4a73-9618-f60912e164df\n",
      "c7ec51d5-9f45-4209-8357-39e9a984a733\n",
      "c84edeb4-311c-4e82-88f9-ae0505b3ad13\n",
      "c890ee00-daa5-4b20-9cd5-930748ecc4e0\n",
      "c8af0297-ce1f-40ea-bf44-9256dcdae4e9\n",
      "c8fd1336-dd0a-4f97-abbf-be2c18b91e02\n"
     ]
    },
    {
     "name": "stderr",
     "output_type": "stream",
     "text": [
      " 80%|███████████████████████████████████████████████████████████████                | 964/1208 [00:27<00:07, 33.34it/s]"
     ]
    },
    {
     "name": "stdout",
     "output_type": "stream",
     "text": [
      "c94827ce-d619-4705-a68a-df63a2c95ffa\n",
      "c9499a06-fb31-4552-a9e2-fb4ebb440859\n",
      "c94a5851-b846-4fde-8c89-05bec3a8ac53\n",
      "c956e531-6805-4fe1-b61c-8b96a9815a77\n",
      "c9ad92d4-b408-4506-916e-def47b2e6ed0\n",
      "ca16a5ad-b106-4e84-8a43-178710e854ba\n",
      "ca5e6a15-ba65-48ea-8913-2d986e71bf3a\n",
      "ca677c3c-083f-4d54-9dec-39f79f6a17d8\n",
      "ca734448-0d52-42fa-b41c-17b2939e58ae\n",
      "ca9626bc-21a4-46f4-ba94-e7ee7a4cf735\n",
      "caeb2d62-1166-43f0-8eac-5b8fc48f02eb\n"
     ]
    },
    {
     "name": "stderr",
     "output_type": "stream",
     "text": [
      "\r",
      " 80%|███████████████████████████████████████████████████████████████▍               | 970/1208 [00:27<00:07, 32.58it/s]"
     ]
    },
    {
     "name": "stdout",
     "output_type": "stream",
     "text": [
      "cb08956d-dd6a-4e13-817b-40a0a93068f1\n",
      "cb2fac19-90b0-48b4-bdc5-7dbbd58756d1\n",
      "cbb58718-6319-48db-b84b-78ac9b12ff89\n",
      "cbde7f7e-2458-4dda-9db2-3d5ccf950ced\n",
      "cbec07ed-69d3-40e7-8b04-b3bd6680885b\n",
      "cc275c45-7511-4070-84af-10b8ffebda53\n"
     ]
    },
    {
     "name": "stderr",
     "output_type": "stream",
     "text": [
      "\r",
      " 81%|███████████████████████████████████████████████████████████████▊               | 976/1208 [00:27<00:07, 32.10it/s]"
     ]
    },
    {
     "name": "stdout",
     "output_type": "stream",
     "text": [
      "cc882eae-a341-4783-bd19-8bdedf798538\n",
      "cc94eabb-a3dc-4cfc-9fff-55c76b5b4a71\n",
      "ccb4b13d-ab20-4222-892f-5adf70249aaa\n",
      "cd2774a0-dab2-4d68-aae9-7568b9f3d2a6\n",
      "cdb086a8-2bf8-4436-b1ef-96cdd801f247\n",
      "cecbf663-0751-4e7f-b298-770c88afc2c1\n",
      "cf90d82f-2814-4fb7-a3ff-a86b7c5efca7\n",
      "cfab01d3-0616-4efb-9290-11f0fd8bf5a3\n"
     ]
    },
    {
     "name": "stderr",
     "output_type": "stream",
     "text": [
      " 82%|████████████████████████████████████████████████████████████████▌              | 987/1208 [00:28<00:09, 24.09it/s]"
     ]
    },
    {
     "name": "stdout",
     "output_type": "stream",
     "text": [
      "cfe6086f-eb0b-4cb0-a430-8cd7de6556e2\n",
      "d0347b49-8f98-4632-a384-1a4f57ac6374\n",
      "d09eed76-e09b-4d90-b8f0-5a801beae41c\n",
      "d0d3ae45-b434-4869-a518-427320ebe62d\n",
      "d1144956-5a0c-4bd2-b67d-8498c82d6a12\n",
      "d12c5f45-6b20-46d6-a66f-c5a4683c25b3\n",
      "d1617cf7-eb56-42ee-85af-66c4748753c0\n",
      "d1924af6-7512-4ccc-9c6b-adbbaa8db41f\n",
      "d1b48634-9ad5-46e8-b816-42d1d97c93cd\n",
      "d31dd2c0-ae8e-4499-86bb-7cabb6e438b9\n",
      "d32022fa-e492-4b31-a776-9435cfdef6d6\n"
     ]
    },
    {
     "name": "stderr",
     "output_type": "stream",
     "text": [
      " 83%|█████████████████████████████████████████████████████████████████▎             | 999/1208 [00:28<00:06, 30.08it/s]"
     ]
    },
    {
     "name": "stdout",
     "output_type": "stream",
     "text": [
      "d3283f5b-3b3a-40ea-800b-79960ca851cb\n",
      "d33bc9fc-3444-4f26-8082-307f9fccc52b\n",
      "d3b79739-aea2-4804-8c7a-183b7ed07de3\n",
      "d3dcdf92-9328-4796-adf4-918646877ba1\n",
      "d3ed519e-2152-4e30-838d-a3ea23be512f\n",
      "d47cd049-d78b-4ba3-a7d4-399be4dd1dde\n",
      "d4fef0c5-6597-48b6-97e9-32ed504488e6\n",
      "d5009906-bce1-4353-90b4-f4c79362f4cf\n",
      "d532e31c-10ce-4313-9a36-bd5e01230254\n",
      "d57b3894-c912-47e8-b00a-e1a2a7aba644\n"
     ]
    },
    {
     "name": "stderr",
     "output_type": "stream",
     "text": [
      "\r",
      " 83%|████████████████████████████████████████████████████████████████▉             | 1005/1208 [00:28<00:06, 32.19it/s]"
     ]
    },
    {
     "name": "stdout",
     "output_type": "stream",
     "text": [
      "d615b706-8f50-4d96-8de5-6858897528d0\n",
      "d6352a03-ef81-421d-915e-226499555d20\n",
      "d64cd75a-df26-44d5-ac25-69061a4e4d57\n",
      "d67398c5-8b0e-463f-a04e-8583c820786c\n",
      "d67655e6-0a80-4a86-b552-1f5e85788377\n",
      "d67fb447-4dd7-4a82-a305-2b70927b69bb\n"
     ]
    },
    {
     "name": "stderr",
     "output_type": "stream",
     "text": [
      " 84%|█████████████████████████████████████████████████████████████████▍            | 1013/1208 [00:29<00:06, 28.53it/s]"
     ]
    },
    {
     "name": "stdout",
     "output_type": "stream",
     "text": [
      "d6942996-5664-4370-ad87-2bdcbd49ac16\n",
      "d7581cb0-7a12-471d-a3d8-68dcea362213\n",
      "d75933ed-d26e-4d1f-bda3-96bc0d77fb36\n",
      "d79b4e90-c45d-4f5d-a498-49c3e323c291\n",
      "d7c7eb2c-2acd-4f86-8a5a-09ab3dd02d16\n",
      "d82c657e-5678-41da-9a6e-3ad29430b759\n"
     ]
    },
    {
     "name": "stderr",
     "output_type": "stream",
     "text": [
      "\r",
      " 84%|█████████████████████████████████████████████████████████████████▋            | 1017/1208 [00:29<00:14, 13.32it/s]"
     ]
    },
    {
     "name": "stdout",
     "output_type": "stream",
     "text": [
      "d8632217-ec33-4d0a-98e6-427824c58869\n",
      "d8f7e159-b7e3-49e4-86e8-aed8c5fbcd97\n",
      "d9345456-b76d-46cc-b81e-46d4a0a7b652\n",
      "d997337e-e4a8-4ef0-b8ba-975e6c43b62c\n",
      "d9c9479e-f1ea-4d6e-861f-843ff9a90d19\n"
     ]
    },
    {
     "name": "stderr",
     "output_type": "stream",
     "text": [
      " 85%|██████████████████████████████████████████████████████████████████            | 1023/1208 [00:30<00:12, 15.28it/s]"
     ]
    },
    {
     "name": "stdout",
     "output_type": "stream",
     "text": [
      "da111ca5-520f-4ea8-97ad-ae5fce58ee91\n",
      "da49db57-0c2f-4213-b322-c88c19fb9296\n",
      "dacf7e3f-1d8c-42a0-8539-3abe3971c956\n",
      "daea4860-a296-4f6d-acef-996ab0882676\n",
      "db0a1123-0b35-48d7-8337-3b1ebd6af0cc\n",
      "db249e5a-4142-432c-8288-bacd10d7273d\n",
      "db3f4098-02e4-45a3-a7af-5dda37ac1526\n",
      "db7c5ec1-fefe-4e9d-83c1-da8fb982f1e2\n",
      "db871d17-28fd-4ceb-b421-e4e4afa0a7a0\n",
      "dbdfad64-110c-421f-a1c7-f68fd9e82d67\n"
     ]
    },
    {
     "name": "stderr",
     "output_type": "stream",
     "text": [
      " 87%|███████████████████████████████████████████████████████████████████▋          | 1048/1208 [00:30<00:03, 46.58it/s]"
     ]
    },
    {
     "name": "stdout",
     "output_type": "stream",
     "text": [
      "dc3bdfe9-1565-4cda-9c4e-0979846dab60\n",
      "dc4270fb-e5c2-414f-96e9-6769ba1d77e4\n",
      "dc6ac71b-2616-431e-bfd5-4c38139e4ddd\n",
      "dca685a8-a609-45d8-93d7-da1e4165b9bd\n",
      "dcb21739-3c36-459d-b3cc-1be5871d6fe7\n",
      "dcc1a193-7b74-44f8-ad8d-813751d8fa6b\n",
      "dce55b59-c6c3-4693-aa75-6b348c8f52cd\n",
      "dcf7a19a-ec3d-44ef-8d7c-33b1e91fb9af\n",
      "dd090806-e4ac-4a78-b2ee-55a30626369c\n",
      "dd60b6a7-c545-45b9-8250-d1633aa1ac75\n",
      "dd6f047e-af73-43df-9c46-354534fc20e0\n",
      "dd7142e4-2d86-4170-a41f-e825743e8907\n",
      "dd944a6b-c1d3-4f9f-bbdc-3709707984f7\n",
      "de00f9a5-aa8b-4679-8ec6-85528a942d6f\n",
      "de0321fa-6f7d-4dd1-b96b-186701c3b1d9\n",
      "de2b8835-552c-4f01-98b7-67bc4910062e\n",
      "de5d19b7-e670-4ac7-843b-7ce7bcebdf45\n",
      "de6d3020-9347-473b-9146-8909627790f6\n",
      "de81bf7a-7a56-437f-a068-4d9c3e01134c\n",
      "deaa1931-5f97-45bf-8c00-be6ddeb37b9a\n",
      "dec61ae1-5037-4c3a-8952-15371becca7d\n",
      "dedbb10c-43f1-45fb-bb40-3ce2fb874015\n",
      "deeaa5b3-3895-4aec-a2ce-ed6404862cdf\n"
     ]
    },
    {
     "name": "stderr",
     "output_type": "stream",
     "text": [
      " 88%|█████████████████████████████████████████████████████████████████████         | 1069/1208 [00:30<00:02, 67.78it/s]"
     ]
    },
    {
     "name": "stdout",
     "output_type": "stream",
     "text": [
      "df3d98b9-3dd7-4107-8d4a-ae1b7f247793\n",
      "df49578a-60d4-4a3b-9ee0-79d9d59bc72a\n",
      "dfac6c92-8f0f-429a-8caf-9b7732bf78da\n",
      "dfc026a9-079f-4f45-8666-e0ccba5bb437\n",
      "e02edd82-c424-4dee-98a7-575640655d9b\n",
      "e0e6b676-c39c-4542-8adf-de257a8e92e2\n",
      "e0ef520d-7b65-485d-9888-e6859f189f70\n",
      "e0ff3476-226f-4125-b182-8e524d5503dd\n",
      "e11515b4-9527-4c23-a0ba-43719bacca0d\n",
      "e13f2327-fbf4-4d84-a8c1-09cb1e449c8c\n",
      "e16c0dab-780d-4035-872e-1bb91e49f9d2\n",
      "e1937e32-85d5-4cd8-bb4a-b9cf8ee7ceeb\n",
      "e234ce8b-4ec4-4d93-9068-d7854d77ddf4\n",
      "e2e68cb3-0588-40bb-95b4-356f9cacffc3\n",
      "e36cb882-c6d0-4467-812e-d18c169a9a47\n",
      "e3a4b3e7-9500-4b6c-a402-b6d3f45e714b\n",
      "e3ade58d-086c-47fa-9120-76beacb45395\n",
      "e3c1442a-717f-41dd-bf97-81e1233ac9fa\n",
      "e3e9c2de-0a24-4c7e-8a69-3d3093d5bdab\n",
      "e3ea07d7-884a-412e-874a-40fd6b856736\n",
      "e40000b4-1b26-42ce-909d-4715e04f0a6e\n",
      "e474a20b-2769-48f1-a520-4f6ef5a0dbf5\n",
      "e4827c85-311a-4df1-89c2-99dad0c3558c\n"
     ]
    },
    {
     "name": "stderr",
     "output_type": "stream",
     "text": [
      " 90%|██████████████████████████████████████████████████████████████████████▎       | 1088/1208 [00:30<00:01, 76.99it/s]"
     ]
    },
    {
     "name": "stdout",
     "output_type": "stream",
     "text": [
      "e4eea7ea-8989-46a9-9c98-25a178146b28\n",
      "e5731221-814c-4894-a44e-e46b71460fa4\n",
      "e597f7ce-46c6-4dce-9063-50a2703fdd45\n",
      "e5fd5949-4cd0-4cb6-837a-02c26a5eb87a\n",
      "e61e6af2-7f8b-47b0-bbe7-acb2ed0299ab\n",
      "e63e1607-f344-43d6-a0d8-e10cf2e5054a\n",
      "e640ae51-cbf1-4a84-b7cf-d38b17f59c2f\n",
      "e683144c-0465-43a2-86b1-3cf52599d5e0\n",
      "e6d7c5e1-43fc-4712-86d5-aa70252b978f\n",
      "e726dac6-f962-449c-acff-4dd56847b685\n",
      "e79bd81b-f878-4bee-9be2-d91a722c031e\n",
      "e8058bed-c362-4e1c-85dc-62f80f32938f\n",
      "e80bad38-66d0-473e-85dd-92142dba37e6\n",
      "e81bf478-27ff-458c-ac30-9e1f8480bc5c\n",
      "e871f52c-77a6-4813-80d4-95bd97985f1a\n",
      "e94a811d-3145-4313-ba42-2d5ed283179f\n",
      "e98baeb2-aa58-4cce-8c61-66685dd2b239\n",
      "e98ea067-82b5-4a0d-87bf-b4bbdc10ddab\n",
      "e9916e11-9be6-4dec-9df6-2e7d1a8e1735\n"
     ]
    },
    {
     "name": "stderr",
     "output_type": "stream",
     "text": [
      "\r",
      " 91%|██████████████████████████████████████████████████████████████████████▉       | 1099/1208 [00:30<00:01, 82.26it/s]"
     ]
    },
    {
     "name": "stdout",
     "output_type": "stream",
     "text": [
      "e9e78ff8-831b-46e9-9785-3eee9acbfcd8\n",
      "ea6b012a-3425-4bfc-a61d-88563aa2a264\n",
      "eaf4b781-b3aa-41ce-8c5e-287979b4e15a\n",
      "eb0173a3-7e5e-4f53-8124-03d9d6317844\n",
      "eb5f4f2f-2275-4a80-84a5-78a1eaf4ce4d\n",
      "eb6e8684-b84e-483d-b835-f59286d2516b\n",
      "eb77e4a9-acb0-4d83-8055-2c5fcaa54b45\n",
      "eb86033f-4f1c-4e8c-ae84-e8e4c7e08626\n",
      "eba73bff-fbe1-436d-9a5f-0a61331a0ea2\n"
     ]
    },
    {
     "name": "stderr",
     "output_type": "stream",
     "text": [
      "\r",
      " 92%|███████████████████████████████████████████████████████████████████████▌      | 1108/1208 [00:31<00:01, 52.72it/s]"
     ]
    },
    {
     "name": "stdout",
     "output_type": "stream",
     "text": [
      "ebfd9f67-138e-49f0-9cef-a0352069eedb\n",
      "ec301f62-1302-4407-96f9-fcfe45c150ae\n",
      "ec60ab26-3343-4c5f-9667-cdae999c7d86\n",
      "ecd68ba2-48af-4866-826a-7cd1c147c055\n",
      "ed0bee2f-05e0-4392-8357-19750cec577c\n",
      "ed0d8763-e734-4506-b61b-53fc32a8d8c9\n",
      "edcb4d77-a4d3-465d-9b59-eb3087766b1c\n",
      "edd09b2e-2673-4405-8ac0-e476e003e96a\n"
     ]
    },
    {
     "name": "stderr",
     "output_type": "stream",
     "text": [
      "\r",
      " 92%|████████████████████████████████████████████████████████████████████████      | 1116/1208 [00:32<00:04, 18.90it/s]"
     ]
    },
    {
     "name": "stdout",
     "output_type": "stream",
     "text": [
      "edd3862f-04e1-49cf-97dd-ca566d17e71a\n",
      "ee57e743-a876-4f69-9fe5-bf5d01b44689\n",
      "eeac81a5-9202-4965-b7de-35b12910cdf6\n",
      "eeb06e39-482b-443d-8cf6-b9b5c763df78\n"
     ]
    },
    {
     "name": "stderr",
     "output_type": "stream",
     "text": [
      "\r",
      " 93%|████████████████████████████████████████████████████████████████████████▍     | 1122/1208 [00:32<00:03, 22.21it/s]"
     ]
    },
    {
     "name": "stdout",
     "output_type": "stream",
     "text": [
      "eed298b3-35f2-4127-88ad-0c4a9062207b\n",
      "eef2ac0b-42de-4bc3-a3c3-d5fcd597fbe4\n",
      "ef1419e0-3a3a-458a-b3b2-7efddac50404\n",
      "ef1a9020-5e45-450d-a237-165114308592\n",
      "ef815e3a-02a6-4cf8-9262-45bc74c50b00\n",
      "ef83ed4c-2724-4d5f-8abe-1a18d25cea35\n",
      "ef8fcfa4-8466-4186-8c69-f5f4904eb489\n",
      "effd6334-516f-4d48-9f3c-5272a99780fb\n",
      "f01f6659-2114-4801-9d28-1f411432a589\n",
      "f05ffdca-dc3a-47bd-a231-2a0d9bd1d50e\n",
      "f06ba705-5509-479b-8067-127ffb37c5b6\n",
      "f0713bee-2a71-4ced-b953-4041ea99496a\n"
     ]
    },
    {
     "name": "stderr",
     "output_type": "stream",
     "text": [
      " 94%|█████████████████████████████████████████████████████████████████████████▎    | 1136/1208 [00:32<00:02, 31.27it/s]"
     ]
    },
    {
     "name": "stdout",
     "output_type": "stream",
     "text": [
      "f07174a5-f799-4286-ac43-5b0f5c5777ac\n",
      "f0804a5e-e7f5-4cf2-a5df-b65e66502bf1\n",
      "f09acb0c-b270-4e91-99f8-410adfa7f34a\n",
      "f0fe292d-85ae-4c3a-a676-037dde2594e6\n",
      "f11d05e4-538a-4024-8711-b08a4ce3c540\n",
      "f1872d08-f8a6-4b21-aa29-f56bbf607883\n",
      "f1cda808-69a9-4d10-ba0a-6607c98e362d\n",
      "f1de7c7e-e7d3-45ae-a66c-58538bf6cac1\n",
      "f1f9df6d-c4cb-4b42-9ca2-8fb47b1b0e91\n",
      "f1faab5f-3033-45ea-9673-8b816fea5ce8\n",
      "f20a4fcf-ea8e-4c14-883d-d26a9e08ce25\n",
      "f232eec3-02c0-43f9-bf32-3e60245397e2\n",
      "f234a2de-f3c8-4521-a306-8cfdf52dd597\n"
     ]
    },
    {
     "name": "stderr",
     "output_type": "stream",
     "text": [
      "\r",
      " 95%|█████████████████████████████████████████████████████████████████████████▋    | 1142/1208 [00:32<00:01, 35.18it/s]"
     ]
    },
    {
     "name": "stdout",
     "output_type": "stream",
     "text": [
      "f23ae29e-1bda-4784-b10c-d736757d39b8\n",
      "f24c8fe0-a534-44cf-9995-b2b314d945ba\n",
      "f2574be3-81c6-4fc3-8a40-0230d1264f52\n",
      "f25a2ac8-cb6e-4e05-a0cd-cc00ac47718a\n",
      "f274b784-b995-4a7e-a2c2-6cc31c24c4b4\n",
      "f28e6d66-af71-40c1-b30c-da71d7230a3f\n"
     ]
    },
    {
     "name": "stderr",
     "output_type": "stream",
     "text": [
      " 95%|██████████████████████████████████████████████████████████████████████████▍   | 1153/1208 [00:33<00:02, 20.17it/s]"
     ]
    },
    {
     "name": "stdout",
     "output_type": "stream",
     "text": [
      "f2a8a483-b254-43aa-817f-7d525adb8911\n",
      "f329e01b-fbd3-4fb5-9738-a7ff4c8622b8\n",
      "f32b21ae-5ca7-490b-bc40-6db9396d933c\n",
      "f39e2289-fedd-4d12-9e64-ffdafb89247e\n",
      "f3bd0fcc-647d-4ca0-8c43-a16bd6ea3878\n",
      "f3d84be2-8af0-4d62-9f72-23d3dc08cbbe\n",
      "f4722a74-35e7-42bd-8ef6-dfff04b9cd22\n",
      "f48bf825-13c4-42fc-8dd8-10cc4ae6b202\n"
     ]
    },
    {
     "name": "stderr",
     "output_type": "stream",
     "text": [
      " 96%|██████████████████████████████████████████████████████████████████████████▉   | 1161/1208 [00:34<00:02, 22.64it/s]"
     ]
    },
    {
     "name": "stdout",
     "output_type": "stream",
     "text": [
      "f4a27dfd-4c52-459f-96b5-ee6b452a3395\n",
      "f4c00b8c-d675-4255-8277-ca65bd757f51\n",
      "f4c2b43f-a2e7-4746-8034-0b34aebba8ee\n",
      "f5419bc0-4415-41b6-b832-5326cfcc534b\n",
      "f5869ba8-6253-426b-93f3-82af59a86144\n",
      "f5c395f1-f94c-440d-8221-cc656e52c0b1\n",
      "f5c51193-8a27-4ef3-83ad-771395d63caf\n",
      "f5eb7c5e-bd77-4638-ba9f-58d42f87476b\n",
      "f62d4fb6-df7c-446c-94a8-d5aede0b1e0c\n",
      "f632981c-1330-4078-8a12-691beb2dab02\n"
     ]
    },
    {
     "name": "stderr",
     "output_type": "stream",
     "text": [
      " 97%|███████████████████████████████████████████████████████████████████████████▌  | 1170/1208 [00:34<00:01, 26.14it/s]"
     ]
    },
    {
     "name": "stdout",
     "output_type": "stream",
     "text": [
      "f65a1633-9935-4984-a285-a60d30aa1707\n",
      "f68ae8e9-e760-4106-88e0-4bdef2785f06\n",
      "f6ab936d-924b-4038-aa47-71b07c26b4e2\n",
      "f6f8a69a-3fd2-4684-ac77-3e83ea0fb36d\n",
      "f7231477-f2c1-439a-9c8b-204de07686a4\n",
      "f77d7469-d083-4c2d-a4ea-5a9ff162e3e2\n",
      "f7a4334a-4332-4de8-b39b-22da907976f2\n",
      "f7cced00-9b41-45ec-9fdf-fb9e1a74da90\n",
      "f81806a8-5883-446c-be78-f0145b12dbdd\n"
     ]
    },
    {
     "name": "stderr",
     "output_type": "stream",
     "text": [
      "\r",
      " 97%|███████████████████████████████████████████████████████████████████████████▉  | 1176/1208 [00:34<00:01, 28.87it/s]"
     ]
    },
    {
     "name": "stdout",
     "output_type": "stream",
     "text": [
      "f8242b97-b8d5-48b5-b808-0b0f75a5de97\n",
      "f8a8b148-60e4-4a5c-ae19-941b19ec0846\n",
      "f8b14fc4-dd6b-4ad0-a96d-c62845f48681\n",
      "f8b6a868-60e9-4569-ae69-638a0c39834d\n",
      "f91670db-be74-474c-bd72-68120aed4756\n",
      "f939782b-f5a2-40a3-9c22-6c6d7e18edc3\n",
      "f97c7c87-5e27-45ea-9f93-3285d74091de\n",
      "fa1f9f89-cecb-4972-842c-d14c632f89a9\n"
     ]
    },
    {
     "name": "stderr",
     "output_type": "stream",
     "text": [
      " 98%|████████████████████████████████████████████████████████████████████████████▋ | 1188/1208 [00:35<00:00, 29.16it/s]"
     ]
    },
    {
     "name": "stdout",
     "output_type": "stream",
     "text": [
      "fa4f8d1a-cb3a-4722-a566-6c7072f30606\n",
      "fac4b0e2-6b52-4c0e-b762-4fa65d552856\n",
      "faead1c7-bb2c-4adf-bfce-9ff36cd2cf6a\n",
      "fb05b297-180a-4171-b633-09d5616d7534\n",
      "fbb1b44c-d75a-4550-a6c0-0eb62b96bfce\n",
      "fbc1f360-4382-48bb-a32e-3f5f2f9dbe57\n",
      "fbcb2ef0-3c97-4d7a-8b96-0147c73f3941\n",
      "fc15659f-6264-4dd5-ab17-43d89fb297b9\n"
     ]
    },
    {
     "name": "stderr",
     "output_type": "stream",
     "text": [
      "\r",
      " 99%|████████████████████████████████████████████████████████████████████████████▉ | 1192/1208 [00:35<00:00, 28.54it/s]"
     ]
    },
    {
     "name": "stdout",
     "output_type": "stream",
     "text": [
      "fc8df086-39e0-43f8-b0c7-2d23a349539b\n",
      "fcc2b245-f47f-447f-8527-275b0005677c\n",
      "fcdf6632-c03f-49a8-9fb3-42e87c99b9d0\n",
      "fd1302e2-3cd2-4a1a-9c13-00f810a9c41b\n",
      "fd1c4c7a-24bc-43f2-b84f-fee182207aee\n",
      "fde0fd54-49cc-42e1-90c6-6b612cd062d8\n",
      "fe00fa09-d3c8-485b-9d0f-3cce556c9edd\n",
      "fe0c5e48-f65e-488c-9c3c-1ea7c7835c0c\n",
      "fe1ee954-ba71-47b3-954a-d20ab940cd7b\n",
      "fe436c09-b680-4f4c-8faf-aa10a55a335b\n"
     ]
    },
    {
     "name": "stderr",
     "output_type": "stream",
     "text": [
      "100%|██████████████████████████████████████████████████████████████████████████████| 1208/1208 [00:35<00:00, 33.97it/s]\n"
     ]
    },
    {
     "name": "stdout",
     "output_type": "stream",
     "text": [
      "fe691faa-3bc7-475e-b558-aa8fe7b795bc\n",
      "fe851c88-692d-4199-87e0-d19d9c4eb591\n",
      "fed6ba05-36a5-45dc-a4e1-9baa7de2c622\n",
      "ff1b23d0-3cef-459b-b81f-39bfcdb6526f\n",
      "ff37dd9b-2e3c-444d-9d29-6db186cfa2fb\n",
      "ff3b9d4d-373c-48ef-a75a-d23e2c2ade87\n",
      "ffb7be9a-65df-4f0b-99ae-cfd34e81cd34\n",
      "ffd59802-46c6-4b58-80fe-e534e39781a7\n"
     ]
    },
    {
     "name": "stderr",
     "output_type": "stream",
     "text": [
      "  0%|                                                                                 | 1/1208 [00:00<02:31,  7.96it/s]"
     ]
    },
    {
     "name": "stdout",
     "output_type": "stream",
     "text": [
      "002f20ad-2ace-499c-9335-c9080bc3e6b5\n",
      "003a89b0-a095-417a-8dd6-f408339bbc68\n",
      "003d1cdc-0aec-430b-90e0-f4d82135b1ac\n",
      "005e60b6-77b8-458c-b57c-bfe0c7e7df78\n",
      "00a02700-2ea2-4590-9e15-ffc9160fd3de\n",
      "00c8364b-8c85-4502-bcfe-64736fe76815\n",
      "00d04a90-80e5-4bce-9511-1b64eabb7a47\n"
     ]
    },
    {
     "name": "stderr",
     "output_type": "stream",
     "text": [
      "  3%|██▋                                                                             | 41/1208 [00:00<00:11, 99.38it/s]"
     ]
    },
    {
     "name": "stdout",
     "output_type": "stream",
     "text": [
      "0154dd8e-72f8-4d78-a4dd-93e139577bd1\n",
      "01b38a56-13eb-447b-89ee-fc21cb40dcc1\n",
      "01b99da8-b66b-464b-a7ee-1cadab8db18b\n",
      "027ab174-e47a-44f8-b85b-372449eeb7d8\n",
      "02ea7aa8-c142-4a3d-939f-e77689741341\n",
      "02fb5e19-6f94-4787-bb78-e550a29a3cbd\n",
      "030f3421-ed3f-4bf1-8f27-4d02590bffbc\n",
      "03359d4d-69cb-4146-8286-ca7399366f97\n",
      "034c8d57-04d5-4786-93a4-6ae8fde2c258\n",
      "035f6c4b-0897-46ab-9c3b-5f3b0feff043\n",
      "036404d1-b9fc-497b-bbe1-f4d9c5ac3ce0\n",
      "036e008f-07a1-4e92-899d-1822dc390ccb\n",
      "03b9d6ad-39ca-4097-a98b-77f02b3c00a7\n",
      "03c8da48-04b9-4520-b674-44a0ecd35688\n",
      "03cbfcf2-8da6-462c-b30d-16d63357371f\n",
      "040112be-3c8d-49aa-93f1-522f94a592ff\n",
      "04018590-4e66-4cb9-ad2d-83570f1b29ae\n",
      "0403835d-43f4-4a97-abfc-b2ff915f6d7b\n",
      "04628a94-b674-469b-aff6-b476b70df87d\n",
      "04a567df-5463-4043-81f1-d726223c19a9\n",
      "04c07425-57c7-415c-a0bc-36857bbd4049\n",
      "04d21589-b777-43c2-86b5-038cbf8c3a4e\n",
      "04de27ff-0d36-4da3-a829-e93851d76981\n",
      "04de3a31-fc09-40be-9c2c-9830c57f809d\n",
      "04fb49a2-07b8-4cdf-b6f7-df5c3688e5f8\n",
      "0546d843-d778-4aca-b8b5-bfe23d7c87da\n",
      "05717db9-f1ef-4101-a9f7-7a007e83b1c9\n",
      "05804cf0-f854-4099-97c2-df287f7c8a8c\n",
      "05ac7b2a-6a77-4464-926b-8570f7c01693\n",
      "06401963-8b02-46c5-ab2a-3d70bd01623f\n",
      "064b84fe-bd21-4c27-b682-0a832272eac4\n",
      "065af549-320a-4862-b92a-8ef750d7b5fb\n",
      "06a3effb-996c-4767-afd2-6aa3b697cb4e\n",
      "06cd484f-e864-4fee-8819-688b45eed98e\n"
     ]
    },
    {
     "name": "stderr",
     "output_type": "stream",
     "text": [
      "\r",
      "  5%|███▋                                                                           | 57/1208 [00:00<00:10, 114.07it/s]"
     ]
    },
    {
     "name": "stdout",
     "output_type": "stream",
     "text": [
      "06df7bbe-60d4-4f7c-ba4a-5a42ac4be91b\n",
      "071901eb-4c3f-404b-a747-3d0b9d0a5158\n",
      "07346d2e-a6e6-4dc0-95f1-9f7d8d7e3f66\n",
      "073c10c9-5749-44b5-b08b-1be556a960f0\n",
      "07a80340-f65e-4f58-9317-94bb6ebd5a28\n",
      "07a96126-482e-4beb-b42a-0cb59e505372\n",
      "07d15855-eb9b-46a9-b894-7cfe4d097826\n",
      "082e1f81-4f49-44ad-b5bb-9dfc155b2ed8\n",
      "087f2c9c-188d-43cc-a94c-0eb8f10ac092\n",
      "089c9744-f906-41d8-908d-1e37919a8658\n",
      "08f5a524-0554-49c2-83a8-ae9a6d51e8fd\n",
      "0901f9d1-be4f-4c19-8e83-dd724dded9f5\n",
      "0906111b-bac7-4541-a6dc-da435c0724a8\n",
      "093a831a-bf71-4333-bc06-942ae70cb164\n",
      "09bcedaa-e007-4692-a13f-ab02c3f872c4\n",
      "09ecf7be-28e2-4531-b9e2-07e01c44097d\n",
      "0a747cb3-c720-4572-a661-ab5670a5c42e\n",
      "0a7bfa8a-ee52-4f7a-b9c5-2919ecfa93ef\n",
      "0ab56f9a-846d-49e2-a617-c6cc477fdfad\n",
      "0ac747cd-ff32-49bf-bc1a-3e9b7702ce9c\n",
      "0b04ec46-5119-4cda-8c35-c4e5b6f0eed0\n",
      "0b923ab7-ebff-4079-a4bb-af7da89f374e\n",
      "0ca25c88-457f-4f03-bbc1-98fb6663f1d1\n",
      "0ceb4539-5c4c-487d-9826-452a88b5d537\n",
      "0d095f3a-9243-472b-90b4-0ce8309e778c\n",
      "0d098413-6911-4535-b70a-3c3effd8cf49\n",
      "0d2aba33-6920-4001-bd54-59fe0bf9f50e\n",
      "0d3c2521-da55-4df5-bf06-56b3bd4fb2fc\n",
      "0d7bf56f-3b5a-40bd-971c-2ca33dd89b2c\n"
     ]
    },
    {
     "name": "stderr",
     "output_type": "stream",
     "text": [
      "\r",
      "  6%|████▋                                                                          | 71/1208 [00:00<00:09, 119.54it/s]"
     ]
    },
    {
     "name": "stdout",
     "output_type": "stream",
     "text": [
      "0da07970-3146-479c-8a07-f61ed32814a9\n",
      "0dcbf2c9-f959-4703-a72b-f6a81e66c2ea\n",
      "0dcca702-a4ef-4fb3-a940-9c0c140b21c7\n",
      "0ed416f9-7c20-4829-9016-559e4009568e\n",
      "0f0c949e-018a-4f3f-ab02-3704f49c7754\n",
      "0f26699f-a776-4424-b092-27da9a1d12e2\n",
      "0f2a6cda-afec-437b-8803-8d3176b072c1\n",
      "0f735cca-051c-4048-a1fa-cb36f389e12f\n"
     ]
    },
    {
     "name": "stderr",
     "output_type": "stream",
     "text": [
      "\r",
      "  7%|█████▌                                                                          | 84/1208 [00:01<00:18, 59.43it/s]"
     ]
    },
    {
     "name": "stdout",
     "output_type": "stream",
     "text": [
      "0fa5b35d-6c44-4207-b6f8-d5b355086b5f\n",
      "0fcd1ebe-ee4a-40a0-b787-29cee18bfa1b\n",
      "1012abf2-cb05-4337-86c5-513ec4ca904d\n",
      "105af41b-13cc-4ad1-8a1f-8bc4d47cdd94\n",
      "10891eed-b0f2-4dd0-90cb-da185f6761b2\n",
      "109fbb82-bc3c-41ac-984d-e2da86202873\n",
      "10be6380-cbbb-4886-8b9e-ff56b1710576\n",
      "11b72c7b-5c52-44b7-adb7-21eacc25e441\n",
      "11e517bf-943b-4928-929a-e9f72c097880\n"
     ]
    },
    {
     "name": "stderr",
     "output_type": "stream",
     "text": [
      "\r",
      "  8%|██████▏                                                                         | 94/1208 [00:01<00:19, 56.71it/s]"
     ]
    },
    {
     "name": "stdout",
     "output_type": "stream",
     "text": [
      "12269960-075f-40ca-9630-49ea2ce78294\n",
      "13099edb-35d9-438f-b093-2cf2ebf9d255\n",
      "1315c2a4-0794-4dfa-a709-e2451723d2b6\n",
      "1345dc89-a3d9-4b71-8a75-b3bff01ba518\n",
      "137d540f-d71e-47e8-bd9b-6cd0a6433c33\n",
      "1380f9b4-bf54-4492-90c3-743c7aa8898b\n",
      "13bab3c3-3f79-44d9-a287-0ae6d71eff31\n",
      "14005767-9296-4b48-8a9d-bbe9b2040005\n",
      "143f5959-5b6d-4f95-bcee-9e110450fc22\n",
      "1493d140-c9d5-4c3a-9caf-3eafb290a49b\n",
      "14b68d86-ac7f-419d-b4a5-6b0b1d9aaa18\n",
      "14efbfc8-39f6-4599-9994-a8cc95605b9c\n",
      "1519257c-e3e5-4474-908f-8665b3cf1258\n",
      "151f3af5-5e6e-4bcd-9389-4974fc68813e\n",
      "1574565f-f45b-4160-947e-25ce1a81aaca\n",
      "157ac97a-396e-4f6c-94c6-72a4d06ccc5f\n"
     ]
    },
    {
     "name": "stderr",
     "output_type": "stream",
     "text": [
      "\r",
      "  9%|██████▋                                                                        | 103/1208 [00:01<00:24, 45.31it/s]"
     ]
    },
    {
     "name": "stdout",
     "output_type": "stream",
     "text": [
      "161978c3-3a05-47a5-9fee-be7d25693eae\n",
      "16244280-6c74-47d3-b544-9fd6831a6bf9\n",
      "169d541c-daed-468e-8b41-0f1abccdf319\n",
      "16a51468-9f93-45df-9ae2-5a74c25c5a4b\n",
      "16ec6e1f-5020-40b3-ba26-51c340d03ee7\n"
     ]
    },
    {
     "name": "stderr",
     "output_type": "stream",
     "text": [
      " 10%|███████▌                                                                       | 116/1208 [00:02<00:28, 38.70it/s]"
     ]
    },
    {
     "name": "stdout",
     "output_type": "stream",
     "text": [
      "177a3141-fa93-426a-9b52-7da71547ce44\n",
      "177f883a-f0f1-4b8e-b598-2ca4bab27381\n",
      "17c06a23-bb77-49cb-9ffb-fbfc75fcc715\n",
      "17ef5841-bd19-4610-ba47-7d321231847b\n",
      "184b376b-03cb-4c2d-af51-fc1a62196293\n",
      "1863da5f-c595-4541-a8f4-21fe78678168\n",
      "187f92b2-71ed-484a-9bd3-599ca0d2636f\n",
      "1893e0c5-88e9-4644-bd59-3e47bc53a88c\n",
      "18dbe7c4-89d2-42a6-a969-1e951ab313b1\n"
     ]
    },
    {
     "name": "stderr",
     "output_type": "stream",
     "text": [
      "\r",
      " 10%|███████▉                                                                       | 121/1208 [00:02<00:50, 21.58it/s]"
     ]
    },
    {
     "name": "stdout",
     "output_type": "stream",
     "text": [
      "191071ab-6515-428c-9f05-8e4309542b75\n",
      "191f87a4-6f2d-49e7-bba0-08e3aa78ddaf\n",
      "19370afd-f897-47d8-bfae-c0d257bbf795\n",
      "194aec70-41a5-4ac3-b22f-0b6eda91f730\n",
      "1976cd04-d24f-457c-b423-7e4cdb05de9e\n",
      "19979a60-df80-4111-bf69-81a7e9c4dd0b\n",
      "1a27ebe9-93a1-4898-af69-f276057d4012\n",
      "1a332b2c-9d49-4ff2-810c-5633d2314527\n"
     ]
    },
    {
     "name": "stderr",
     "output_type": "stream",
     "text": [
      " 11%|████████▋                                                                      | 133/1208 [00:03<00:40, 26.48it/s]"
     ]
    },
    {
     "name": "stdout",
     "output_type": "stream",
     "text": [
      "1a48cbc1-5423-47e5-8ca5-2ab4f83a05a5\n",
      "1b369bcf-ced4-4ae2-9196-2664bd2b1738\n",
      "1b7f47fc-26cd-4273-b848-88a7cbfd9f85\n",
      "1c406ce1-023b-47fc-a2cd-5ea2e255de65\n",
      "1c87b997-a8e6-48ca-bf40-19b9a7fd6a96\n",
      "1c90231b-2830-42d9-884e-7301edb16933\n",
      "1d4cdf2e-79a0-41e9-aabe-e437a190dfc4\n",
      "1d4f06e1-9c9b-487e-84cd-e7e50cc754da\n"
     ]
    },
    {
     "name": "stderr",
     "output_type": "stream",
     "text": [
      "\r",
      " 11%|█████████                                                                      | 138/1208 [00:03<00:38, 27.85it/s]"
     ]
    },
    {
     "name": "stdout",
     "output_type": "stream",
     "text": [
      "1d9d4dac-66f9-4c87-b714-d723d5b15fa9\n",
      "1dd3e6dd-343f-4cc9-b0ed-e4d27fb36f0a\n",
      "1e86933d-6a5a-4a3c-a0f2-ca22afd767b3\n",
      "1e978dfa-d339-4025-809d-09cee76728ed\n",
      "1ecb0405-a6e9-4485-819e-2fbbf2b718aa\n",
      "1f337b61-1b0d-4539-91f9-73d4a0798a4a\n",
      "1f8edb2a-40bc-4beb-aa6b-884d2473df0f\n",
      "1f8f08ea-b5b3-4f68-94d4-3cc071b7dce8\n",
      "1fdf99d1-a494-4174-bcd7-efbe457ab899\n",
      "1fe1e118-adb8-4b10-a41e-1e5814e8f067\n"
     ]
    },
    {
     "name": "stderr",
     "output_type": "stream",
     "text": [
      "\r",
      " 12%|█████████▎                                                                     | 143/1208 [00:03<01:05, 16.35it/s]"
     ]
    },
    {
     "name": "stdout",
     "output_type": "stream",
     "text": [
      "205306da-0ed8-475a-ace6-f2f81d4be88a\n",
      "20d4f65e-6c63-433a-935c-d568d577967b\n",
      "2102e5d1-8bec-4ab6-ab35-2705485da1f8\n",
      "21417261-475a-456f-b03f-57ac85a6e106\n",
      "214f1d15-a081-476e-992d-6c3a77f03d59\n"
     ]
    },
    {
     "name": "stderr",
     "output_type": "stream",
     "text": [
      " 13%|██████████                                                                     | 153/1208 [00:04<00:51, 20.34it/s]"
     ]
    },
    {
     "name": "stdout",
     "output_type": "stream",
     "text": [
      "2165fe38-b474-467d-be11-d1d728085efd\n",
      "216f9d43-6869-4ba1-9106-4f5ea6aac223\n",
      "2196389c-45ec-46b5-bc6c-1f4a33df7f7c\n",
      "21a50e4c-b750-46b5-801f-5429ede7dea9\n",
      "21c2a8aa-407c-4569-8212-96fcafa84138\n",
      "21cc498b-8cb2-42ed-8f80-bfa27b86ef11\n",
      "21ea4841-8998-4c04-b345-bc99cd8ecee6\n",
      "21f001d6-f568-4ea4-82da-fab54c77c419\n",
      "2240b991-48f6-4c59-9b62-5a8b5e541fae\n"
     ]
    },
    {
     "name": "stderr",
     "output_type": "stream",
     "text": [
      "\r",
      " 13%|██████████▍                                                                    | 159/1208 [00:04<00:44, 23.47it/s]"
     ]
    },
    {
     "name": "stdout",
     "output_type": "stream",
     "text": [
      "22516db4-8687-4051-90c4-2bb1ca3204a5\n",
      "22a464ef-c3da-4d56-b37e-e22e95d945e7\n",
      "22cbf509-c9bf-46ec-bfce-f079c6b76c8c\n",
      "2374ae5b-c2df-4db5-afea-c54180aa22e3\n",
      "239f17eb-a2e2-47e9-82e3-fa0d9a70fb9f\n",
      "24115f58-a7d6-4022-a95a-86b515a78d3e\n",
      "24418314-f7a4-49fc-a03e-ec597ca6796e\n",
      "244ac6fa-8a92-4214-9cf4-ae0811d9ec7e\n"
     ]
    },
    {
     "name": "stderr",
     "output_type": "stream",
     "text": [
      "\r",
      " 14%|██████████▊                                                                    | 165/1208 [00:04<00:40, 25.95it/s]"
     ]
    },
    {
     "name": "stdout",
     "output_type": "stream",
     "text": [
      "24879caf-a327-464c-9cd9-e0f3d9161079\n",
      "25132962-ff5d-4737-995f-c54d8490539b\n"
     ]
    },
    {
     "name": "stderr",
     "output_type": "stream",
     "text": [
      "\r",
      " 14%|███████████                                                                    | 169/1208 [00:05<01:28, 11.78it/s]"
     ]
    },
    {
     "name": "stdout",
     "output_type": "stream",
     "text": [
      "2518f6e4-29cc-4ae4-a914-b215a4c56099\n",
      "252071ac-e9f2-41d2-abbb-87ef01b8a997\n",
      "2559636b-f01a-4414-93da-210c3b12d153\n"
     ]
    },
    {
     "name": "stderr",
     "output_type": "stream",
     "text": [
      " 14%|███████████▍                                                                   | 175/1208 [00:06<01:17, 13.31it/s]"
     ]
    },
    {
     "name": "stdout",
     "output_type": "stream",
     "text": [
      "255d5f0c-87fc-4337-bb51-07c440df4f1b\n",
      "2596eb32-1323-41e9-8c0f-64819abcfc73\n",
      "259da25f-40f3-4d37-bca9-a9c807af1547\n",
      "25c6cfb1-01d0-4864-87f9-02b7593683c7\n",
      "25cfca07-2101-484f-b312-a927395f2651\n",
      "25ddc1ca-d368-4fff-b1ad-1dbf1e7c97aa\n",
      "261562a8-ffd8-4e0e-919b-22e267000b74\n",
      "266180ed-77a3-4284-8292-50a49fc47fce\n",
      "26799d2b-a289-4eff-9218-0aad77e05e41\n",
      "27388ff2-4000-4c9a-a2e3-addc448a5f92\n"
     ]
    },
    {
     "name": "stderr",
     "output_type": "stream",
     "text": [
      " 15%|████████████                                                                   | 184/1208 [00:06<00:55, 18.58it/s]"
     ]
    },
    {
     "name": "stdout",
     "output_type": "stream",
     "text": [
      "27cdd837-e40f-491e-8adb-61e493189832\n",
      "27fab82c-5bf0-426f-aeb9-47da829b6629\n",
      "289ef1b7-02d5-42e9-a401-687688181306\n",
      "28bd16ba-2bcf-46af-b889-41b78d2a50c0\n",
      "28c96a4a-4549-4761-99e4-ace4ea7e7ac9\n",
      "29539cb0-1c52-46b2-9302-552f8349dc71\n",
      "29648565-fe28-4517-ba72-68df0c82c9c5\n",
      "29861cf9-9a1e-4733-8309-4bd10706b4a3\n",
      "29d40b60-cde1-45b5-b403-692437a77ac1\n"
     ]
    },
    {
     "name": "stderr",
     "output_type": "stream",
     "text": [
      " 16%|████████████▊                                                                  | 195/1208 [00:06<00:38, 26.55it/s]"
     ]
    },
    {
     "name": "stdout",
     "output_type": "stream",
     "text": [
      "29d4b75f-d400-4702-a9ac-e5a4ed1a1db1\n",
      "29dc8176-dfe1-40e0-8247-2dc3c530057e\n",
      "2a02cec2-a09b-483a-ad38-14359a763fa4\n",
      "2a6370b0-08f1-4c11-a639-265d4419c9a3\n",
      "2a91387a-d30f-418d-ac3a-f7cfa6836261\n",
      "2ac343e4-c889-47c1-8fe2-461b626def76\n",
      "2ae3e6e6-7482-4ab8-ad73-b530b5c2ee3b\n",
      "2aeb7b85-7df9-4a63-8d37-2eecaaa190e7\n",
      "2afe2750-c963-46f9-a1ad-9260e80679ca\n",
      "2b128a1a-95ed-408b-b9f8-8795cc814d80\n",
      "2b369d75-9c55-43e0-b352-d981aea544e3\n",
      "2bd15b6e-fe2d-49f3-b394-940d024d1f91\n",
      "2bd26501-2fbc-4c1a-bef0-4ad57e02b4d0\n"
     ]
    },
    {
     "name": "stderr",
     "output_type": "stream",
     "text": [
      " 17%|█████████████▋                                                                 | 210/1208 [00:06<00:27, 36.28it/s]"
     ]
    },
    {
     "name": "stdout",
     "output_type": "stream",
     "text": [
      "2bed2796-75a9-4d93-bb2d-e3ccbe1a5cbe\n",
      "2c1eaf87-3fd3-4803-92b8-23bab40bf28c\n",
      "2c4d72f1-71a6-4bf1-b5d9-8023c7bbec74\n",
      "2cc3c4ad-670f-41b6-8910-0704cbc192ef\n",
      "2d0f600d-f94e-4907-b712-52fb37d9ed52\n",
      "2d2e81f3-e329-4765-9ba1-2c95f12dc9f3\n",
      "2d857091-efcd-41c0-ba3f-226de90445c4\n",
      "2dbf6f69-e020-4948-9e49-4b33edb7cebd\n",
      "2e8d6a43-0110-4bf4-8e70-20567e513b81\n",
      "2f3ebec8-ef64-420d-9aa0-c2fcadc27d74\n",
      "2f6224be-50d0-4e85-94ef-88315df561b6\n",
      "2f68686f-1fe8-46e7-ad92-a08e3523ea79\n",
      "2f9f400d-2d67-4118-aaa1-9094bc4b0e47\n",
      "2fdbd9bc-bbaf-44c2-b40c-d193709639fa\n",
      "3003252a-2d2e-4687-ad30-9c38d68f1394\n",
      "3006096f-ceeb-42be-b69e-785179d7438b\n"
     ]
    },
    {
     "name": "stderr",
     "output_type": "stream",
     "text": [
      " 20%|███████████████▍                                                               | 237/1208 [00:07<00:22, 42.30it/s]"
     ]
    },
    {
     "name": "stdout",
     "output_type": "stream",
     "text": [
      "30167dc1-f739-4036-b5c4-5fad435c2c67\n",
      "3061aac0-cda3-47d1-8c48-6293e9ffdf36\n",
      "3090a362-1f3d-49e9-a76e-ce76ff9c2276\n",
      "30948737-0d0d-4b68-b9ab-50577e0fe026\n",
      "30ad83f1-a9b3-4a07-aea6-6c06b71e9ace\n",
      "3130f950-8345-4315-9711-92f7af3f5c14\n",
      "313ed8d9-3c00-4415-9de0-0eda07c60ad9\n",
      "31435107-c77d-42f8-a619-75cba6a5161b\n",
      "31653d0f-c4e6-4e12-8005-518c2de34687\n",
      "318de807-7232-4ab1-843e-a901547c0125\n",
      "319c9c52-f316-49f3-baad-4444ab19f85b\n",
      "31af9c31-7868-44a6-8eb4-82ce118af425\n",
      "31c749e8-18d1-4105-b7e6-8319cceddae0\n",
      "32700bc7-7a86-49d3-aded-ccaaed4ddc5c\n",
      "32a1ea24-b6b7-4253-ad3e-bdf99c2c9b9d\n",
      "33068c1a-48f7-470b-8e49-e2f0888042e9\n",
      "3317d733-ec0d-45e6-b631-40457392f343\n",
      "334bf865-e3fb-4200-bd53-d9ff5808ed9f\n",
      "33bdb7b5-ad5b-4a73-bbc2-3350f8c2ac0c\n",
      "340a1727-0df7-4e6f-9c0e-9c5deddbfca2\n",
      "345cb914-7583-49df-96e3-3cf19c2ba8f1\n",
      "34a70114-d3e3-4351-b8db-f6caab17e743\n",
      "34df8890-272d-423a-ae78-ff8d068d3306\n",
      "34e024a5-5698-42d4-972f-fee234b4bd64\n",
      "3612aa3b-2906-44a6-9c80-6144511a35ce\n",
      "361a3578-4cbb-422b-9e3c-b5e61395b12e\n",
      "36569710-a574-40be-ad42-897a6e74a128\n",
      "367663b2-5d09-4020-ab0a-c2200e7a1c8c\n",
      "370277f8-436b-4103-8210-b4feb5ab95ea\n",
      "3722d213-f2a9-46d5-aa76-9183b443e455\n",
      "3768c577-4e5e-4d70-8c4d-93d8aacd5baa\n",
      "37a94c0f-e5d4-46fc-b4f8-994d477995fd\n",
      "37e072a6-000d-4773-8d9f-d66b60ace668\n",
      "3850f2a5-ab62-49d3-8135-68d60baa676b\n",
      "3859deaf-6ae1-49a3-9051-898d0f0d7de6\n",
      "3892b776-f49a-4368-b0fa-7e855e76ccec\n",
      "38c69905-8a4f-451a-8d0a-b855dc88dd16\n"
     ]
    },
    {
     "name": "stderr",
     "output_type": "stream",
     "text": [
      " 23%|█████████████████▉                                                             | 274/1208 [00:07<00:11, 83.15it/s]"
     ]
    },
    {
     "name": "stdout",
     "output_type": "stream",
     "text": [
      "38d1b930-dd97-4248-9160-e9389a1a8dd7\n",
      "390ad256-e1ed-476a-9f14-2dc34e0da632\n",
      "3911fcd2-4e26-4ad9-aaf0-d1c5bf41defc\n",
      "393df10a-5d64-476b-88f5-14ac56d6ed60\n",
      "397f37bc-a3a4-4257-9430-c8fc5716f8b1\n",
      "39cc33be-d752-40fe-b7a8-2e69a3517205\n",
      "3a8f468f-f9de-46a8-a7c8-f2be239fa207\n",
      "3abbc4d3-1d7e-40c9-9963-33732da7cc50\n",
      "3af90874-59f3-4f0c-a7e6-cc889e80c605\n",
      "3b13e20f-ec0d-44ec-b2f4-eaebfa09150e\n",
      "3b4440f7-a69b-4042-a9d0-d6958abcdf4e\n",
      "3b55c42f-ad59-422f-ba99-4f4f4ca9cb2e\n",
      "3b5a8060-dec6-4a83-b7f2-b604e4e69dfc\n",
      "3b601a1b-26d8-4873-afcf-fdd1b1e0010c\n",
      "3cdcb09b-6a8c-43ca-b1d0-c1a289202f65\n",
      "3d1429ed-4619-41f7-8ff3-d698ad28034c\n",
      "3d1b889e-bb4a-4ee6-b899-974ee7d956a7\n",
      "3d302619-473d-4c5b-af43-8833ff94233f\n",
      "3d32a988-449d-4d58-b71f-abbfdc3f2fbc\n",
      "3d4d7ba7-6c7c-4ddd-b282-31fb5d80edb5\n",
      "3d8fb5bf-3315-48fb-8ab1-802eafd550bc\n",
      "3dad6483-ac30-4d2b-b045-9f24fe6ff75e\n",
      "3dcd4f1b-ce43-4a34-b1ed-076bb42963b1\n",
      "3de03fa2-3ad3-43fc-8435-b2a80bdd7550\n",
      "3e33ee12-ef02-4287-8318-7ad3b284a617\n",
      "3e36698f-8c09-4c8b-8948-737310bf97e5\n",
      "3e753a44-3264-438c-8389-a7822e4a84cc\n",
      "3e764461-22ee-44d3-925d-cd658ff7d154\n",
      "3eba916c-998b-40a7-993c-7ed916c2a04c\n",
      "3f106606-9a21-40d5-b849-273866fe0f49\n",
      "3f26fbbc-deb1-494f-b71c-c7cb3d4819fb\n",
      "3f390b82-8859-4c27-bbfe-d1b242477f63\n",
      "3f8c5ae1-b9fd-464b-8e91-98143ddd8d29\n",
      "3fa1a4e3-c80d-49da-8f7b-a1abb0424f48\n",
      "3ff98212-7c2a-46cd-afb7-34a2479bed07\n",
      "4063945d-03fc-4ce3-a04c-17435dce8f91\n"
     ]
    },
    {
     "name": "stderr",
     "output_type": "stream",
     "text": [
      "\r",
      " 24%|███████████████████                                                            | 291/1208 [00:07<00:09, 99.29it/s]"
     ]
    },
    {
     "name": "stdout",
     "output_type": "stream",
     "text": [
      "406e05f0-4444-414c-bb40-f4cb08e75ac9\n",
      "412c9fa5-fcf4-402b-b1e4-3271f775058e\n",
      "415409ac-97b3-4cd9-b203-11ef00662352\n",
      "4184a235-d209-4151-86e9-6c77e7938dab\n",
      "419309ef-da3f-4424-93cf-01ff4c52b017\n",
      "41ebf9a1-24dc-454e-8bf8-508218f5ee57\n",
      "4257342d-6d77-4671-a84b-1f0c36ccb367\n",
      "4272cbd7-5b0a-4bf7-b690-dee1c128f07b\n",
      "42845335-4ab2-4963-806d-0985d1382a31\n",
      "42e87148-a015-4148-923a-fb83016f64e7\n"
     ]
    },
    {
     "name": "stderr",
     "output_type": "stream",
     "text": [
      "\r",
      " 25%|███████████████████▉                                                           | 305/1208 [00:08<00:13, 69.42it/s]"
     ]
    },
    {
     "name": "stdout",
     "output_type": "stream",
     "text": [
      "43072c64-4c08-47cd-ae8a-b74d31f80008\n",
      "43158031-a335-4533-9c20-48bebba90123\n",
      "434523fd-d4d9-4961-a7c2-d71d6ae68e13\n",
      "4372709c-f356-4906-be17-415384d916e8\n",
      "43bc935a-f655-45e1-a64d-fcb8b78267a6\n",
      "4411fea2-d785-4eeb-80c6-c739ab6114c4\n",
      "441d7843-b20b-4c10-84e3-e6d32621e880\n",
      "445d0db9-e830-4ceb-a845-b23d819e6097\n",
      "44b4a765-104e-4182-8871-e933c83c91ef\n",
      "452482bc-24a3-413e-ba03-fad4c9d61f3c\n",
      "452ab003-ced5-40cb-82d1-5495d9e068b1\n",
      "45651e76-4bd0-45e5-895b-edec65f51987\n",
      "458cb2e9-5a7f-437c-ac5d-a56f98a3efdf\n",
      "45902b63-be9a-49ae-9ede-3a8015671bc4\n"
     ]
    },
    {
     "name": "stderr",
     "output_type": "stream",
     "text": [
      "\r",
      " 26%|████████████████████▋                                                          | 316/1208 [00:08<00:17, 50.79it/s]"
     ]
    },
    {
     "name": "stdout",
     "output_type": "stream",
     "text": [
      "45ac9409-5537-44ed-90cd-5c8a1ae0e1e0\n",
      "45f18ac0-f097-4b20-a99d-8837cf488822\n",
      "461a3ed6-039f-4a70-97cf-c474ecf51ccd\n",
      "464055b6-3351-4636-a919-8be9840fb850\n",
      "468c261d-f5d8-423f-883e-48af2bbbc5d1\n",
      "46a03374-64c7-49ac-81c9-c3d62542bbf3\n",
      "46a2d369-4bea-4405-ac78-91bbe130b9a7\n",
      "46f5bd4f-8bea-48d1-a1da-4dea28e3b814\n",
      "471f75c6-bd5d-4c20-bcc1-258e836f4d69\n"
     ]
    },
    {
     "name": "stderr",
     "output_type": "stream",
     "text": [
      " 27%|█████████████████████▋                                                         | 332/1208 [00:09<00:19, 45.86it/s]"
     ]
    },
    {
     "name": "stdout",
     "output_type": "stream",
     "text": [
      "4736f545-1f1f-4d77-9241-d69cbf4dae35\n",
      "4748ba2b-6771-41d9-93a5-af9ccd559261\n",
      "4767bfcc-fe87-4962-8c40-6ce8d9363cdf\n",
      "477e541c-0519-4542-9b13-8ee7922644d3\n",
      "4811fdf2-d7e8-475e-a840-45dda5282bf3\n",
      "4823c1fe-a7f9-4b92-959f-0d9be09cd14b\n",
      "4849866a-73a2-4fcf-a407-2d0a25a09a89\n",
      "4876c9d0-b386-48fb-84e8-91bf87529161\n",
      "48e2f0bd-2164-40c3-af43-1f2708359978\n",
      "4903d9c7-de88-426a-b42d-a7e797e5ebcd\n",
      "49288109-80e9-4ec8-96d1-26a0166b8883\n",
      "4935818a-7e7a-4f44-a3b6-b361d1abfe16\n",
      "49b03a6e-6b26-4a96-a061-e05647a02138\n",
      "49c4dbd3-6269-4d4c-9648-a2146c57bab1\n"
     ]
    },
    {
     "name": "stderr",
     "output_type": "stream",
     "text": [
      "\r",
      " 28%|██████████████████████▏                                                        | 340/1208 [00:09<00:19, 44.87it/s]"
     ]
    },
    {
     "name": "stdout",
     "output_type": "stream",
     "text": [
      "49efc89d-9cba-44f7-8257-7f911b73f68a\n",
      "4a0a05e1-11ad-4bfc-bfa3-adf3b9bd0b56\n",
      "4a49841f-216c-4815-8140-b8762c4f6603\n",
      "4a717a39-80f8-4b75-a25e-c46d65d7dcd5\n",
      "4aad9589-6b32-4522-bcd7-ca04687a02ca\n",
      "4ab47131-c2ac-461f-b95c-ac19ce24edbd\n",
      "4adcaa26-aa1f-47b5-bdf0-18c9f814f576\n"
     ]
    },
    {
     "name": "stderr",
     "output_type": "stream",
     "text": [
      "\r",
      " 29%|██████████████████████▋                                                        | 346/1208 [00:10<00:41, 20.86it/s]"
     ]
    },
    {
     "name": "stdout",
     "output_type": "stream",
     "text": [
      "4b346035-b8c0-46ca-8fdb-a01b1421ee4a\n",
      "4b3a49bc-8536-4760-9553-440a6f64db37\n",
      "4c13e22e-dfd1-4fa1-b373-be9d0c272c0f\n",
      "4c460388-e0c1-4970-8527-c9e5b42bea49\n",
      "4c7d2382-a962-4237-a053-955eea3decd8\n",
      "4cccfcf0-cac9-46f0-870c-0eabfdc781ba\n"
     ]
    },
    {
     "name": "stderr",
     "output_type": "stream",
     "text": [
      " 29%|███████████████████████▏                                                       | 355/1208 [00:11<01:04, 13.30it/s]"
     ]
    },
    {
     "name": "stdout",
     "output_type": "stream",
     "text": [
      "4ce5a070-9ede-4bb1-9ca2-1bae5746776b\n",
      "4d0a1598-e4dd-45c4-8a90-dd7c780fe1da\n",
      "4d88e2d2-5aad-410c-9bbc-702ee9496995\n",
      "4d8a4ce8-0f9c-4f21-8844-4cf0e5514bbf\n",
      "4e2873dd-651e-4ecc-ac70-7335cf21a469\n",
      "4e43fc22-dc08-4cde-b3ce-ce8a4f377c47\n",
      "4f62b14e-c6f4-4155-8f50-881558f83fae\n",
      "4fac16e1-8e62-499b-a66b-c4c890372914\n"
     ]
    },
    {
     "name": "stderr",
     "output_type": "stream",
     "text": [
      "\r",
      " 30%|███████████████████████▍                                                       | 359/1208 [00:11<00:57, 14.73it/s]"
     ]
    },
    {
     "name": "stdout",
     "output_type": "stream",
     "text": [
      "4fb83278-adc5-4424-9f45-b6d0db2955b6\n",
      "4fc9a597-aaa8-43b0-ad1c-2eabbe442e84\n",
      "505355c9-23bf-4f90-8ebc-6a7ef50964d0\n",
      "50715879-2300-4dba-8f4a-3314ff8cfcce\n"
     ]
    },
    {
     "name": "stderr",
     "output_type": "stream",
     "text": [
      " 30%|████████████████████████                                                       | 367/1208 [00:12<01:21, 10.27it/s]"
     ]
    },
    {
     "name": "stdout",
     "output_type": "stream",
     "text": [
      "5077f87d-a19f-494c-b911-14ccb03bd230\n",
      "50d52637-f5e0-4d0d-aaee-4a29f044cf74\n",
      "50d7c6c9-3230-48fe-947c-7dcfd0aad710\n",
      "50d9fc90-8642-4bb6-91a7-0069a7e37392\n",
      "50f2f514-6c8e-4c79-b3b3-0be56dd0b78b\n",
      "5107dcb7-164f-4e10-bbff-822b39b76efc\n"
     ]
    },
    {
     "name": "stderr",
     "output_type": "stream",
     "text": [
      "\r",
      " 31%|████████████████████████▏                                                      | 370/1208 [00:13<02:02,  6.82it/s]"
     ]
    },
    {
     "name": "stdout",
     "output_type": "stream",
     "text": [
      "516bf1d5-5d00-4985-926c-3993e9bc3ff5\n",
      "51e86aa9-caa0-4297-94e8-34a57d7f7e36\n",
      "521a26aa-0a31-4c07-b4d0-fac08eb08344\n",
      "52767904-4cdc-4821-ba68-8cd0c28f9023\n",
      "530761d4-1931-44cd-b220-d60db0e228f9\n",
      "533c47c9-02a6-419b-961b-81797f022f6c\n"
     ]
    },
    {
     "name": "stderr",
     "output_type": "stream",
     "text": [
      " 31%|████████████████████████▊                                                      | 379/1208 [00:14<01:15, 11.03it/s]"
     ]
    },
    {
     "name": "stdout",
     "output_type": "stream",
     "text": [
      "5397d8e2-bb09-42e7-9861-65ffad0fe94e\n",
      "53afd70c-08a7-4b9a-b137-7003b2ecbeab\n",
      "540a5fee-175b-4b92-bf62-1ea9b59c86c6\n",
      "5487faad-24a7-46b6-92d8-479d3a8d229f\n",
      "550cf4ce-b641-44a3-8487-3e16d4049187\n"
     ]
    },
    {
     "name": "stderr",
     "output_type": "stream",
     "text": [
      "\r",
      " 32%|████████████████████████▉                                                      | 382/1208 [00:14<01:09, 11.84it/s]"
     ]
    },
    {
     "name": "stdout",
     "output_type": "stream",
     "text": [
      "555c6ea2-c76c-4e71-af57-855d940c2b37\n",
      "55836297-fc8e-4e00-9767-0d12b86e4604\n",
      "55f8c052-8e49-4423-a4c4-365fc6afb6e1\n",
      "56077789-8580-41b4-89d6-deea227e5c60\n"
     ]
    },
    {
     "name": "stderr",
     "output_type": "stream",
     "text": [
      "\r",
      " 32%|█████████████████████████▏                                                     | 386/1208 [00:14<01:00, 13.50it/s]"
     ]
    },
    {
     "name": "stdout",
     "output_type": "stream",
     "text": [
      "565513be-2c20-4ee3-94f3-093869515d3d\n",
      "56551792-4aa1-4301-9f8f-8bfebcd20050\n",
      "56a57a8d-c9b9-432a-a3b0-32a09355806c\n",
      "56adbb1e-96a8-40a5-a5a2-243c97ea889b\n",
      "56fbae44-4677-47f8-9c3a-22dac043c115\n",
      "5721e41b-90ef-4851-8587-8dc71227ef90\n"
     ]
    },
    {
     "name": "stderr",
     "output_type": "stream",
     "text": [
      " 33%|█████████████████████████▋                                                     | 393/1208 [00:14<00:49, 16.63it/s]"
     ]
    },
    {
     "name": "stdout",
     "output_type": "stream",
     "text": [
      "57e1879e-4294-45e7-9c1b-627e8cca0271\n",
      "580210c2-a8ed-4720-b71c-a77945968abc\n",
      "58065a0c-d4c5-40fd-bcdc-037f61788482\n",
      "582e4b8b-404e-4b30-9df3-66f2afb3cdb3\n",
      "5836500a-221e-40ca-a8be-caaa37f7d300\n"
     ]
    },
    {
     "name": "stderr",
     "output_type": "stream",
     "text": [
      " 33%|██████████████████████████                                                     | 399/1208 [00:15<00:45, 17.94it/s]"
     ]
    },
    {
     "name": "stdout",
     "output_type": "stream",
     "text": [
      "584d62ed-4329-45dd-94ce-e929d8b2bb74\n",
      "58594235-0d32-4a4e-91cd-4c800eaaaa73\n",
      "587e5464-d70b-4279-8562-010279f6efbd\n",
      "5893e081-04f2-4e33-9851-bed5f0e4d333\n",
      "58ced55c-bf0d-4204-b6b2-4f8992d92779\n",
      "58d75854-be99-484e-89f0-4ab208fe07e0\n",
      "58f7e1da-3478-48f4-958c-e9b1cb8696aa\n",
      "592c941a-aa54-4971-b499-dc47356f80a3\n"
     ]
    },
    {
     "name": "stderr",
     "output_type": "stream",
     "text": [
      " 34%|███████████████████████████▏                                                   | 416/1208 [00:15<00:20, 39.43it/s]"
     ]
    },
    {
     "name": "stdout",
     "output_type": "stream",
     "text": [
      "5939f341-a886-4f63-ae87-2219d000a1d4\n",
      "59542a24-b409-4c95-8608-d9691a741526\n",
      "5955289d-19e5-45ef-a012-c8ea08ef45e2\n",
      "597bbff8-6592-41cf-8946-e59b0d1f289a\n",
      "59daa25e-85d6-42f2-8f39-cc9f9d5d252e\n",
      "59dc7da9-35d1-421e-a61b-1e9637bfbfa1\n",
      "59f5699f-885f-4004-b783-a60060144e43\n",
      "5a043d69-f435-46d4-8691-395c1602a76a\n",
      "5a0628af-4c0a-4ba6-a935-4ec94c9c700e\n",
      "5a105b89-c592-4d78-b208-7db6c6572752\n",
      "5a386082-397f-4524-a6f9-c2b8efe5014d\n",
      "5a539312-6cfa-43e6-8d5d-db883f343ad9\n",
      "5a631871-2fc7-4a68-9c39-f3b9a0bf4a04\n",
      "5bf91ff9-80df-49c0-9c3e-599357d95530\n",
      "5c037ffc-f515-48b3-b231-c110fbd2b8ca\n",
      "5c5b7965-1a44-44b8-aa43-660823e61821\n",
      "5c68070c-3391-4db6-8c01-94175105dbea\n",
      "5c99cd97-39f6-4809-9528-9d380cc16b16\n",
      "5cac6ddf-c8c6-45de-bce0-a1db64b14fb5\n",
      "5ccca8ee-abea-458a-a891-bedd31c3ddc3\n",
      "5d1418d3-1559-4725-ad4a-9afb6eaecdfd\n"
     ]
    },
    {
     "name": "stderr",
     "output_type": "stream",
     "text": [
      " 36%|████████████████████████████                                                   | 430/1208 [00:15<00:16, 48.04it/s]"
     ]
    },
    {
     "name": "stdout",
     "output_type": "stream",
     "text": [
      "5dec0204-af81-44ef-a942-8a173669c123\n",
      "5dec94a3-e3ca-4a58-9702-88e5a83ef612\n",
      "5e042380-6ef2-496f-8231-0ca550fbfa71\n",
      "5e17f8e6-fd8d-426c-b444-1515d14f04b7\n",
      "5e2cea49-0823-49d1-83cf-8fd1559cdd93\n",
      "5e4f7425-11e6-4f9e-be2d-5a27deb9d1b4\n",
      "5e974892-0ebe-4037-8427-ea8616d6d3b8\n",
      "5f17d2fb-22fa-4aa6-9dad-6a1d50c03815\n",
      "5f2b32bd-fdca-4d6f-b13a-ee9f83626c8d\n",
      "5f300fd1-7eec-41ac-bbd1-0f4a943c757c\n",
      "5f491efd-a21c-4a80-aaba-70b8876238ac\n",
      "5f66d20c-fbfe-44ec-a01b-8a09da24807e\n",
      "5f742392-278d-461c-a848-08def2c28878\n",
      "5f783f43-0090-4f8a-bd75-9562f4aa2dd5\n",
      "5ff7c0c8-d208-4e7d-958d-ca3c2260ff39\n",
      "6013bff0-dc4b-4bde-9409-0f6139c3495c\n",
      "612bdd3c-da43-4321-a76b-c73c614928d1\n",
      "6144887d-a1c1-46db-91a1-f7ff5bf8c8a5\n",
      "61575482-91e1-4db9-83c7-687b7ddbbfc4\n",
      "61cd8c7d-394d-42d3-9ed4-e09559110bed\n"
     ]
    },
    {
     "name": "stderr",
     "output_type": "stream",
     "text": [
      "\r",
      " 37%|█████████████████████████████                                                  | 444/1208 [00:15<00:11, 68.27it/s]"
     ]
    },
    {
     "name": "stdout",
     "output_type": "stream",
     "text": [
      "61dfc937-a428-44b4-94fb-d682bdb8dff0\n",
      "6231d81d-9e84-4a5a-8cb8-47c6a37a0176\n"
     ]
    },
    {
     "name": "stderr",
     "output_type": "stream",
     "text": [
      "\r",
      " 37%|█████████████████████████████▌                                                 | 452/1208 [00:16<00:26, 28.10it/s]"
     ]
    },
    {
     "name": "stdout",
     "output_type": "stream",
     "text": [
      "6274fe0d-0d71-40be-b61b-f0bd5b5df1e2\n",
      "627d6331-7bb9-4d1a-b20d-e6541af4d0f9\n",
      "6294153c-6db3-4f2b-a8ff-9c087225e737\n",
      "6303f964-98ef-47c6-bb2d-283aa393f918\n",
      "63055d1b-5221-4c80-8b39-37ac069a1b5c\n",
      "631340cc-cedf-4bca-a3d8-a0731a5482b4\n",
      "6315a55b-fed1-4355-88fa-8594538acf18\n",
      "6347dd6a-cfdf-4cb5-bc50-cff5403cfecb\n",
      "637957ef-df75-4a7b-86d5-9f6e9c042ca2\n",
      "6382976c-ee87-4916-b798-4ef1373b2df0\n",
      "6388e241-09a2-4fbe-a712-07d8fe714c51\n"
     ]
    },
    {
     "name": "stderr",
     "output_type": "stream",
     "text": [
      " 38%|██████████████████████████████▎                                                | 464/1208 [00:16<00:23, 31.18it/s]"
     ]
    },
    {
     "name": "stdout",
     "output_type": "stream",
     "text": [
      "63d36d2c-43a9-49ac-9504-028b4968c860\n",
      "63ed5931-d93e-4f9b-a6f3-152713cb560e\n",
      "640c4a52-3742-4f57-aee3-9e3dc0887622\n",
      "64113b22-03b1-4ab8-89ab-b2f32154fbbd\n",
      "645cd195-af50-409f-8da9-6e7c7f18ea09\n",
      "6473ddb6-ad56-48a2-81e8-c7cb45f06825\n",
      "64a678d4-9048-4491-90c7-1924f38be19a\n",
      "64b0e49a-0e48-447d-8872-c1dd255e7a21\n",
      "65054b19-5c6a-4870-99a9-eef994721d3a\n",
      "65e3d6a6-012c-4b40-9a42-83078eb85e31\n",
      "65e865f3-acfb-4d01-a75f-ff5a535ffa6a\n"
     ]
    },
    {
     "name": "stderr",
     "output_type": "stream",
     "text": [
      "\r",
      " 39%|██████████████████████████████▋                                                | 469/1208 [00:17<00:23, 31.21it/s]"
     ]
    },
    {
     "name": "stdout",
     "output_type": "stream",
     "text": [
      "65e8b0cd-05d1-4c8d-8efd-24bf71df3167\n",
      "66183740-e1e5-43c9-8539-a87028bb3621\n",
      "664c570b-4822-413c-9724-11b1d91fac44\n",
      "66557580-fd38-4d4b-80d8-88611ecc78c6\n",
      "666601e7-608d-4d19-999f-8fc6ab373a55\n",
      "6695a204-e39c-4418-b904-3f080fdbe7e8\n"
     ]
    },
    {
     "name": "stderr",
     "output_type": "stream",
     "text": [
      "\r",
      " 39%|███████████████████████████████                                                | 475/1208 [00:17<00:23, 31.30it/s]"
     ]
    },
    {
     "name": "stdout",
     "output_type": "stream",
     "text": [
      "672e4ecf-a56b-462e-b83b-76f4efaa6634\n",
      "674b0fd3-f247-4b7f-97f7-3e6c57c9ba9e\n",
      "67582df6-bf13-4c83-a531-1214692b70de\n",
      "6795acae-e84d-4e97-b9a1-b4f4f0a72cfd\n",
      "679ae89f-4a02-4301-862e-1d844cc66cbf\n"
     ]
    },
    {
     "name": "stderr",
     "output_type": "stream",
     "text": [
      " 40%|███████████████████████████████▊                                               | 486/1208 [00:17<00:22, 32.09it/s]"
     ]
    },
    {
     "name": "stdout",
     "output_type": "stream",
     "text": [
      "67a4fb91-6f38-4ca2-8f20-6b2f5f1b29a7\n",
      "67abb826-9b70-4459-8764-da76ecf35bfe\n",
      "67acd5bc-4658-4c6e-a9b9-cd8ea3a03418\n",
      "67f5ca94-d84e-490e-bf0d-4ffba7bdbe30\n",
      "68442532-9cd2-4b42-9d4f-ddf8c13bb38c\n",
      "686ed568-d5f8-475e-81ad-edab9dd473a0\n",
      "68e69cfb-1a07-48d2-8abe-46b46fe264ed\n"
     ]
    },
    {
     "name": "stderr",
     "output_type": "stream",
     "text": [
      "\r",
      " 41%|████████████████████████████████▎                                              | 494/1208 [00:17<00:20, 35.08it/s]"
     ]
    },
    {
     "name": "stdout",
     "output_type": "stream",
     "text": [
      "68f34a9c-f73d-4238-8f55-4b05a8a2154c\n",
      "694222bb-cddf-469a-9526-f873c6fba58e\n",
      "69565501-6e77-4f40-bd80-caa3dda34d8b\n",
      "69569ecf-cfa1-4ddd-9342-b22c23387fdb\n",
      "697bdbc0-6e31-4e48-ac74-ba4ab5760d32\n",
      "69b5b3de-ec64-4e5d-bcc2-44f495e06e76\n",
      "6ab870ba-b24b-49a9-9570-8eafe63aa74e\n",
      "6ad3efc9-4392-4cee-98a5-186564a96373\n"
     ]
    },
    {
     "name": "stderr",
     "output_type": "stream",
     "text": [
      "\r",
      " 41%|████████████████████████████████▋                                              | 500/1208 [00:18<00:20, 35.13it/s]"
     ]
    },
    {
     "name": "stdout",
     "output_type": "stream",
     "text": [
      "6afb3717-f197-4668-929a-4fab389ae6e8\n",
      "6afd8203-d61a-4e9b-a4cf-dcb53a16b57c\n",
      "6b14c855-8561-417c-97a4-63fa552842fd\n",
      "6b2ff7ca-c5b3-415c-9481-7b14efc6d7ef\n",
      "6b473806-e936-4b19-98cf-a2b94cac35ff\n",
      "6b4c79f5-b194-4586-be9f-e339c5af4188\n",
      "6b5ed184-cb15-4d54-93bb-9a3ca00184a1\n",
      "6b8048ed-ebd7-4789-ba87-c1ba94801481\n",
      "6ba5d0b8-cdc7-4266-9d78-db76faa312e9\n",
      "6bb4892c-27a9-4642-aba1-4b73f38f757c\n"
     ]
    },
    {
     "name": "stderr",
     "output_type": "stream",
     "text": [
      "\r",
      " 42%|█████████████████████████████████                                              | 506/1208 [00:18<00:19, 36.41it/s]"
     ]
    },
    {
     "name": "stdout",
     "output_type": "stream",
     "text": [
      "6bc7b53c-5a98-48ef-a9de-59a476707ea4\n",
      "6bfe6a90-8a69-4171-8e7f-42dc9417c6d9\n",
      "6c20abb2-c4bb-4de0-8774-03f4d30ce93d\n",
      "6c3f81d7-5670-46bd-9eaa-9b426413abb7\n",
      "6c7095cd-ab6b-4f53-bd94-905d0cc95840\n",
      "6d05ed67-43e2-43af-9d57-70c7a6eeef5e\n",
      "6d91d1f0-636b-4f5a-a526-7c17fc857190\n",
      "6dfafdf1-f588-4e80-8cf8-0126e1bf7af9\n",
      "6e39fb0a-aa41-4b16-b783-7589e97bf289\n",
      "6e7ed596-1b76-4998-8147-a846d53d91c5\n"
     ]
    },
    {
     "name": "stderr",
     "output_type": "stream",
     "text": [
      "\r",
      " 43%|█████████████████████████████████▌                                             | 514/1208 [00:18<00:18, 36.98it/s]"
     ]
    },
    {
     "name": "stdout",
     "output_type": "stream",
     "text": [
      "6e86206f-dafe-4c28-bacc-7b83b2d40f0c\n",
      "6f4ffe7b-395f-41ea-ad61-df5e0cbd531c\n",
      "6f67a66b-56ec-4c36-ae7c-f250d3b86a23\n",
      "6fa2b30f-9b89-46ac-9b79-c0bc105d4271\n",
      "6fb707b1-5c07-479f-8385-5404bf5747b0\n",
      "6fd30823-3b77-40c9-ba5d-e1eda9660674\n"
     ]
    },
    {
     "name": "stderr",
     "output_type": "stream",
     "text": [
      " 44%|██████████████████████████████████▍                                            | 526/1208 [00:19<00:26, 26.11it/s]"
     ]
    },
    {
     "name": "stdout",
     "output_type": "stream",
     "text": [
      "701206c5-aaac-4b99-9cc0-4a6854359457\n",
      "7029feb3-9ffe-46e4-9883-6a9df84f7b62\n",
      "7094c11a-1e62-4f98-894e-d17d138a88e9\n",
      "70a95e58-ba60-4c1f-adcd-49c198dc2ba0\n",
      "711f6b3f-cd63-46d1-834a-bc8e9aa9b43e\n",
      "71204a6d-814e-44b6-9cee-7b979f478021\n",
      "715761a2-745e-4743-9849-956a034ad3c4\n",
      "716273ea-19c4-49af-8604-df587b295eca\n",
      "71881a39-a30c-40c7-8c4a-9f64c93e79d9\n",
      "71925778-a26e-483e-a07c-f3aaf740122a\n",
      "71bbdc58-11af-41f2-9a93-3fe9257c5cf3\n"
     ]
    },
    {
     "name": "stderr",
     "output_type": "stream",
     "text": [
      "\r",
      " 44%|██████████████████████████████████▊                                            | 532/1208 [00:19<00:23, 28.61it/s]"
     ]
    },
    {
     "name": "stdout",
     "output_type": "stream",
     "text": [
      "71cf2467-77d3-4fac-ac6e-1d8767717c34\n",
      "72029aca-f0bc-477f-b790-f345f86228ce\n",
      "72088c26-d2dd-4906-b791-b8947fc7fbe4\n",
      "72105bb0-8e39-48be-b7f7-5b32f047b99e\n",
      "724e0c34-32cd-41f1-ae37-586038bc67ab\n",
      "72732579-a812-4496-b2dd-ea1556924337\n"
     ]
    },
    {
     "name": "stderr",
     "output_type": "stream",
     "text": [
      " 45%|███████████████████████████████████▌                                           | 543/1208 [00:19<00:21, 31.17it/s]"
     ]
    },
    {
     "name": "stdout",
     "output_type": "stream",
     "text": [
      "729733ff-a349-4a96-b636-ccabe7d7e167\n",
      "729a38d6-66db-48e5-a00d-7d90d224290f\n",
      "73dd09d3-2bff-4b5e-b996-9da0b8b54a8f\n",
      "74261741-4d6e-4dba-8ad4-4fbdf919c30f\n",
      "749df49e-5212-49ea-9e88-7d66f258f1df\n",
      "7521ec48-57b5-48a8-a5d6-8280ad5da19c\n",
      "75579b27-8191-4044-859b-268be969c42b\n",
      "755e5bf8-e8e1-492b-a32f-f7d87cccaa40\n",
      "75660b56-51c2-45a9-9c15-e18d12a3af8c\n",
      "75c243e2-610d-4d5a-bc5a-4c53d99d9ae9\n"
     ]
    },
    {
     "name": "stderr",
     "output_type": "stream",
     "text": [
      "\r",
      " 45%|███████████████████████████████████▉                                           | 549/1208 [00:19<00:20, 32.24it/s]"
     ]
    },
    {
     "name": "stdout",
     "output_type": "stream",
     "text": [
      "76021d69-8919-4688-95ef-7418eff620cc\n",
      "7624ac36-1cf9-42fb-844d-376078309553\n",
      "7625dfc4-858a-4c8e-907c-8943d665e9a7\n",
      "766d5547-8dd2-4c8d-b78e-3007f83932e8\n",
      "76a8a5f5-1328-4539-a131-baf877f40cf3\n",
      "76b24246-8571-4e7b-8815-b185414a2c51\n",
      "76dbce7f-dc3e-4a29-b1fe-ab9dce583080\n"
     ]
    },
    {
     "name": "stderr",
     "output_type": "stream",
     "text": [
      " 47%|████████████████████████████████████▊                                          | 562/1208 [00:20<00:17, 36.23it/s]"
     ]
    },
    {
     "name": "stdout",
     "output_type": "stream",
     "text": [
      "770b8ca4-8377-479b-9ad5-5455ec3b44f8\n",
      "77e76e62-2c71-4b52-9b21-0d1bcde9f9bf\n",
      "781d4bea-c6a9-4b36-ae10-ba9e328c87fe\n",
      "783ae4ad-6a35-4b3c-b19f-754974b67b2d\n",
      "787abd97-dd37-4212-8b43-61696eb3abc0\n",
      "78a5d1c3-44dd-44bc-ad5b-5e25bdcc4fae\n",
      "78ac1e98-7062-4e27-8d58-25c392cae889\n",
      "78c35732-7e31-4153-842e-55ab1cd656f6\n",
      "7942691b-6376-4c75-ae8a-ddf65454dcb2\n"
     ]
    },
    {
     "name": "stderr",
     "output_type": "stream",
     "text": [
      "\r",
      " 47%|█████████████████████████████████████▏                                         | 568/1208 [00:20<00:17, 36.72it/s]"
     ]
    },
    {
     "name": "stdout",
     "output_type": "stream",
     "text": [
      "795d0331-da56-4d45-a58a-54803408ffd9\n",
      "79806898-0214-44bd-ba2c-b570e911be62\n",
      "79b3a64f-2fb9-46e0-85d4-2bdd59c2075e\n",
      "79d7a014-21ff-40f1-9ac4-a69839390654\n",
      "79f2fbab-169d-4062-820d-3dfd12f062c8\n",
      "79f63258-24ce-4e69-a5cb-8529635a89a9\n",
      "7aae78ce-ac97-478d-983c-c0ec290171df\n",
      "7abc0d26-dd66-4ef4-8c4e-4a661e589a7f\n",
      "7ba9db7e-9d3f-413c-b672-2bba5fb5b415\n"
     ]
    },
    {
     "name": "stderr",
     "output_type": "stream",
     "text": [
      "\r",
      " 48%|█████████████████████████████████████▌                                         | 574/1208 [00:20<00:18, 34.27it/s]"
     ]
    },
    {
     "name": "stdout",
     "output_type": "stream",
     "text": [
      "7bcd3735-3134-46d1-8ca2-d4379f2d51c0\n",
      "7bde7de1-889b-4218-b0e1-e2c04f6a7986\n",
      "7beee655-6156-43b8-b185-dbae0eaf7f45\n",
      "7c1cd7c7-7452-4428-a98e-dd7675c8ddea\n"
     ]
    },
    {
     "name": "stderr",
     "output_type": "stream",
     "text": [
      " 49%|██████████████████████████████████████▌                                        | 590/1208 [00:20<00:12, 49.15it/s]"
     ]
    },
    {
     "name": "stdout",
     "output_type": "stream",
     "text": [
      "7c66d2fd-68ee-4628-b860-9d7ad25b2a80\n",
      "7c68c343-a7d3-4d26-b330-a5bb97ab8d9c\n",
      "7c870293-2665-4a6b-a4fa-336959051dfc\n",
      "7d041c38-11f2-4186-8a24-29d7d0f5c3cf\n",
      "7d4c2160-317f-48d1-a60a-788ec300b3e8\n",
      "7d4d0646-26b5-46fa-ab25-452d986e887b\n",
      "7d65d296-0f7b-41cc-9073-a547e24326c8\n",
      "7d9c1422-6332-44e9-b134-3ac94f07b0f0\n",
      "7db1373d-5bbf-47e6-ab40-30cba7678745\n",
      "7dcc84ce-e8b4-46c8-9506-7c8ebda5da2f\n",
      "7dfbfeaf-e3b1-4159-8dcd-d7f731280ac8\n",
      "7e25ced3-5caf-47f8-ad0c-42946bd4468b\n",
      "7e837856-3519-4dc0-b357-4cdcfd30b4eb\n",
      "7eae1169-e294-4594-8e03-1366d23ff2d1\n",
      "7eb95580-693f-41b6-9338-174be1430c23\n",
      "7ef90770-6aeb-45eb-9744-49c5247dde30\n",
      "7f528918-27d4-421f-ab57-0cf9c693e697\n",
      "7fd2d254-b062-4f3d-8970-687e73c5a00a\n",
      "7fdc8be8-7579-4a5c-b369-8a07ee0a8b7d\n",
      "8002cb71-0f25-4fa4-a46f-b49e5aeded0c\n",
      "801296d9-3403-426f-859e-5c532858e025\n",
      "80da32ce-8c22-470e-9f35-558c5f7a5df9\n",
      "815bf40c-371a-4d34-aa41-c549c8221881\n"
     ]
    },
    {
     "name": "stderr",
     "output_type": "stream",
     "text": [
      " 51%|████████████████████████████████████████▏                                      | 614/1208 [00:20<00:07, 75.82it/s]"
     ]
    },
    {
     "name": "stdout",
     "output_type": "stream",
     "text": [
      "8190ec37-9a5e-419f-89ed-fbfb079370db\n",
      "81a2748d-51c9-4439-995d-f747871d6544\n",
      "81af1442-d835-46bf-b80b-a898dba3da1b\n",
      "81c3c8f0-d5a9-4dda-afd5-e86f6afd9424\n",
      "81edcae1-65bf-4752-b0e4-494376b71e49\n",
      "81fed4a1-9d48-4938-90c9-c8bf3f5e6b1f\n",
      "820bbfea-3dae-46fc-b61a-3d0ed2ea01c2\n",
      "8271d0d8-9985-43eb-94b3-c702adca139f\n",
      "833b1d3e-d389-4d0f-8638-6aca5b89f917\n",
      "834a30bb-26bf-4e60-9ea1-3250b926892e\n",
      "83d4e1fe-da84-4175-a9e2-8efc18782dcf\n",
      "83ec1cb9-1714-4bf1-81f6-115fde84564d\n",
      "83ec8923-6232-40d7-ba1f-a1b8bf7cb66c\n",
      "84041bf9-dace-4066-9fe0-52170d08f826\n",
      "8490c623-3d88-4532-baf5-0d266a45b16f\n",
      "84c88143-940d-4b62-bbd2-7acc4cadcb6b\n",
      "84d7545e-c3a8-4b1f-9a39-36aab78c8699\n",
      "84ee2ea3-9edd-4672-a1b3-f09c607d833a\n",
      "85546330-4efd-43e2-87aa-d53a30220bfc\n",
      "85a4d82e-cfb7-4983-b272-626c9e8c7583\n",
      "861c3e06-aada-47a0-99ae-94fbc2772cc0\n",
      "86495bbf-687b-429c-b9d3-6c2681ade7e2\n",
      "867f30da-2568-4480-9968-cece78c61c64\n",
      "8757be1e-b832-407a-8e95-62abae485b24\n",
      "877d5e7f-19b6-40e7-81bd-c92f25e72503\n"
     ]
    },
    {
     "name": "stderr",
     "output_type": "stream",
     "text": [
      " 53%|█████████████████████████████████████████▊                                     | 640/1208 [00:21<00:05, 97.32it/s]"
     ]
    },
    {
     "name": "stdout",
     "output_type": "stream",
     "text": [
      "87d6343b-70dd-4cdd-939f-d3ac0ca2e700\n",
      "882b91b7-5906-4091-bad4-688d4375eeb5\n",
      "883b726a-f61c-4382-9f1b-2fff302beba6\n",
      "883d9731-a04d-4f84-83c9-d3bef954759d\n",
      "8855c685-5a8c-4967-a356-942ed89e3471\n",
      "8939e14b-fcdf-48b1-acb9-6514a2fc2fc0\n",
      "89b276cc-cc8f-4378-a877-e01aff333373\n",
      "89b3d781-2f81-4d23-bed4-84da064df7f3\n",
      "89f10192-d3dd-4996-a571-4c851dbdc983\n",
      "8a4aadac-cf5c-4a79-b875-271b3fbfd230\n",
      "8a7deb24-d2b4-4acf-86c4-3aadd39157fa\n",
      "8ab5c462-045e-4b59-b53a-9b2bc3ed2487\n",
      "8ad7ba46-5db8-4ba9-b3e0-3cac52f7efc3\n",
      "8b494b40-cab5-49d3-893d-c805000fbe88\n",
      "8b89b3fc-95ef-4f2e-b94b-0291dbffe0f4\n",
      "8bd71314-e38a-4670-bb25-5cd6c9acb595\n",
      "8be185e7-2a1a-441c-a5c7-b50a9eb926cb\n",
      "8cc6fe77-5f2f-4670-b4ac-1b49550241a8\n",
      "8cca114a-ed05-4b87-95b7-fae02487f08c\n",
      "8d02117d-6c71-4e47-b50a-6cc8d5eb1d55\n",
      "8d56197c-21d7-4cb6-92df-80637efd129b\n",
      "8d5d5c22-2f75-4fe1-9ea3-03a3c7b92ea9\n",
      "8d989997-038c-4924-b2d3-d02629a7cdf5\n",
      "8dace03a-10c4-4d59-bcd9-a2c314c5df33\n",
      "8e078333-8fa0-45be-a46e-fa05708cb365\n"
     ]
    },
    {
     "name": "stderr",
     "output_type": "stream",
     "text": [
      " 55%|██████████████████████████████████████████▉                                   | 665/1208 [00:21<00:05, 107.08it/s]"
     ]
    },
    {
     "name": "stdout",
     "output_type": "stream",
     "text": [
      "8e0dfc1f-e3eb-4a3f-a1c4-249bdfbfaa27\n",
      "8e4bdd0d-1c72-4836-ae3e-05e2e50e4983\n",
      "8e69098c-fae0-47a3-8833-c2bfdfb1a416\n",
      "8e72e20e-e714-4db6-a1da-c05a409257d4\n",
      "8eeb378e-90f0-47ea-ac1c-2a201eb8d090\n",
      "8f84a2c9-ca38-4405-a488-12fcd101278b\n",
      "8f96ee1f-4ef7-4279-a610-316319bedcf9\n",
      "90171428-f208-428a-b40e-f57ee3bea457\n",
      "90246988-0d6d-4bf8-8a76-94107de4121e\n",
      "907650b5-edae-471d-bc54-a825be3d3fac\n",
      "90a82250-1f68-48c9-9af9-15f18bf8c974\n",
      "9106a6bb-1352-411f-ac26-0d6fe48c16a8\n",
      "913099c5-8085-4908-bf4b-1f098bbfcf66\n",
      "9147a21d-0de2-4c04-88da-b788311696ac\n",
      "9174f910-3859-4839-8e30-2c3b25269322\n",
      "91827f1a-9b04-4ef0-972c-12e90e60c516\n",
      "91e93160-eb8d-4de0-b6bc-b98ec33d1663\n",
      "9258fe22-6406-4d00-b6f0-3f9492925405\n",
      "92e4fd7b-79ef-49c2-a52b-9ef13dd720ef\n",
      "933e7e07-fc3d-42eb-be0c-6b1623ee60fa\n",
      "939ad732-d7c5-4339-b087-4335b49d6a3c\n",
      "93a306b8-594a-4c7f-8b4a-127fb6ad8f1a\n",
      "93b47b14-7f78-4b31-8897-d63a81fdab01\n",
      "93f40356-5676-45d3-8e83-8028708c93ba\n",
      "93f7e207-0d8e-47f8-8258-09a0e03dbdd6\n",
      "947348fe-4c70-468e-8009-3c14daeca69b\n"
     ]
    },
    {
     "name": "stderr",
     "output_type": "stream",
     "text": [
      "\r",
      " 56%|███████████████████████████████████████████▊                                  | 678/1208 [00:21<00:04, 112.49it/s]"
     ]
    },
    {
     "name": "stdout",
     "output_type": "stream",
     "text": [
      "948c94ad-395c-41f4-9a68-8a1dcb76888c\n",
      "94b5a9a1-1c88-4400-aca4-3d56f543fc4a\n",
      "94d9fa50-d3e4-4eaf-acfc-92e7f2ed9ea5\n",
      "95bea542-6cd0-41c5-82c5-509af8c3b505\n",
      "95d5e689-c1d1-4ae8-a659-cc20c62a99f0\n",
      "95fea6d8-413f-421e-b331-5d51c31df150\n",
      "9615ff33-b3fc-4d1e-9c05-0b8e3ef936df\n",
      "96596a68-8c95-43f3-b74e-e9506c235144\n",
      "9691c57a-ccf8-47f9-a8e9-9a324974585b\n",
      "97eff653-3908-4e66-931f-eab36bc336c8\n",
      "98175327-da9e-4e0c-8912-ee68490a4672\n",
      "9842445c-5899-4189-9f2e-3a3a179fdad3\n",
      "984caf56-f400-4a29-be97-a4d6b9d1468d\n",
      "985627c9-7b85-40de-a106-eb9cc47b47cb\n",
      "98976666-9125-47fe-9601-43c41e58dfb4\n"
     ]
    },
    {
     "name": "stderr",
     "output_type": "stream",
     "text": [
      "\r",
      " 57%|█████████████████████████████████████████████                                  | 690/1208 [00:22<00:22, 23.34it/s]"
     ]
    },
    {
     "name": "stdout",
     "output_type": "stream",
     "text": [
      "989d86a1-6d76-4089-85cf-2f2ca0a8456c\n",
      "98c25ffe-c329-420a-bc22-b082f565eac9\n",
      "98efca97-37d2-4459-aca6-375ecc0c4539\n",
      "997eabd9-55bf-4683-83c4-4cee4673a4ef\n",
      "99a21c5c-f5a7-4c07-9cb6-5dda2d388f48\n",
      "99b13257-b9d9-422f-8262-802da0bdc510\n",
      "99d6a7e5-128e-4455-841d-8fbd1663905e\n",
      "99e979d4-ee97-4d7f-9da6-00bead40db4d\n",
      "9a1cd456-310c-47b6-a1f8-0fbd8e33d1fd\n"
     ]
    },
    {
     "name": "stderr",
     "output_type": "stream",
     "text": [
      "\r",
      " 58%|█████████████████████████████████████████████▋                                 | 699/1208 [00:23<00:19, 26.33it/s]"
     ]
    },
    {
     "name": "stdout",
     "output_type": "stream",
     "text": [
      "9a25f103-1683-47d1-8b07-ac20fe0b3ee9\n",
      "9acf303a-fcba-4e52-be3e-8d061aa5e72a\n",
      "9af1ee02-87fd-42bc-963e-fa9ac3eb45bb\n",
      "9af4b8ae-c912-41fd-b4c0-34864c75360f\n",
      "9b3fd401-dab0-440f-8498-eb3cc9ffa970\n",
      "9b410534-3b70-4a88-9f93-205cf4e55a05\n"
     ]
    },
    {
     "name": "stderr",
     "output_type": "stream",
     "text": [
      "\r",
      " 59%|██████████████████████████████████████████████▏                                | 707/1208 [00:23<00:19, 25.31it/s]"
     ]
    },
    {
     "name": "stdout",
     "output_type": "stream",
     "text": [
      "9bd40bc6-4949-42d3-b38f-d60422932f65\n",
      "9c48fdf4-621d-4f40-bcd7-6a28cd530de7\n",
      "9c4cb048-d64a-4b7f-84ff-ca28a8084fc7\n",
      "9c5f48c0-0544-4c0c-92b4-59b7d7b7814c\n",
      "9ca20b10-e2fd-4bd2-93ef-78298f763ed5\n",
      "9cdee92c-6267-4188-a41e-125bc0abb9ae\n"
     ]
    },
    {
     "name": "stderr",
     "output_type": "stream",
     "text": [
      "\r",
      " 59%|██████████████████████████████████████████████▋                                | 713/1208 [00:23<00:20, 24.02it/s]"
     ]
    },
    {
     "name": "stdout",
     "output_type": "stream",
     "text": [
      "9d155086-acf5-4c86-a9e1-94b587c46e87\n",
      "9d819c89-4ea9-4e75-9b03-da87fa6c6f4d\n",
      "9dc6ed5d-6698-48cf-aab3-fd156673729c\n",
      "9e0e1928-d19a-4100-b093-0b962ac09e05\n"
     ]
    },
    {
     "name": "stderr",
     "output_type": "stream",
     "text": [
      "\r",
      " 59%|██████████████████████████████████████████████▉                                | 718/1208 [00:25<00:59,  8.28it/s]"
     ]
    },
    {
     "name": "stdout",
     "output_type": "stream",
     "text": [
      "9e1b0217-0926-4fd1-bb9e-a815c05deb59\n",
      "9e5437c6-b0d3-473b-b7c3-8f5afeb90c7a\n",
      "9e74feb8-017d-4d53-8896-9ebda4327dd1\n",
      "9e793460-d94c-47ac-b3a7-0d6ad86357da\n",
      "9e82c996-2cfa-418d-9482-8ee23e9d0a5d\n",
      "9eb66577-7857-43dc-a879-8f2c9d7f780f\n"
     ]
    },
    {
     "name": "stderr",
     "output_type": "stream",
     "text": [
      " 60%|███████████████████████████████████████████████▍                               | 726/1208 [00:26<00:45, 10.69it/s]"
     ]
    },
    {
     "name": "stdout",
     "output_type": "stream",
     "text": [
      "9ebd623d-5534-4dd9-bff8-cdedf322db35\n",
      "9ec1dcec-87c2-4aca-8e6b-0db3cd05509c\n",
      "9ecf2006-8d49-4ae8-a14b-ed8b3b14ee7c\n",
      "9edba799-e169-46cd-b100-c9f8fc7a8c7d\n",
      "9f33e0ea-065b-4703-9df9-15829b891860\n"
     ]
    },
    {
     "name": "stderr",
     "output_type": "stream",
     "text": [
      "\r",
      " 61%|███████████████████████████████████████████████▊                               | 732/1208 [00:26<00:35, 13.49it/s]"
     ]
    },
    {
     "name": "stdout",
     "output_type": "stream",
     "text": [
      "9f38055f-4fe6-47fd-a6dd-c0743db4eccf\n",
      "9f4bc3b4-abb0-4bcb-baa8-ec9f25e2b9c6\n",
      "9f959520-e15e-45c2-bc29-ef3c19154d1c\n",
      "9fbf38ab-44b9-4096-a818-603017a4300e\n",
      "9fe8bdc8-847d-434e-93e5-ae14ff3b45e1\n",
      "a054a8e2-55f2-4508-97df-207f76b89be2\n",
      "a065c50b-341d-4803-b4b0-0fe8f04fdbb5\n",
      "a0785022-e82b-4878-b9d4-19cb7b75213f\n",
      "a0b277cb-20bc-4921-a6bd-5ccd5b91d14f\n",
      "a0e2ef53-d39b-40cf-b8b6-4b148ac339ec\n"
     ]
    },
    {
     "name": "stderr",
     "output_type": "stream",
     "text": [
      "\r",
      " 61%|████████████████████████████████████████████████▎                              | 738/1208 [00:26<00:27, 16.92it/s]"
     ]
    },
    {
     "name": "stdout",
     "output_type": "stream",
     "text": [
      "a0eedcb9-b85c-4612-b945-7e8227f53c35\n",
      "a0eeeb10-d0cb-48d9-8c22-2c3a3c908d00\n",
      "a11ed7d0-12f6-468f-abad-5cba7d968123\n",
      "a15e0fa8-2620-4f66-896e-175115c9dc3d\n",
      "a1669b59-fe09-4fe6-ba9f-06bec6725502\n",
      "a18f122f-3a3e-4478-8ac4-91b83e050e65\n"
     ]
    },
    {
     "name": "stderr",
     "output_type": "stream",
     "text": [
      " 62%|████████████████████████████████████████████████▊                              | 747/1208 [00:26<00:21, 21.03it/s]"
     ]
    },
    {
     "name": "stdout",
     "output_type": "stream",
     "text": [
      "a1c140f9-75d7-42a3-b767-4c01a118892b\n",
      "a1ff36df-71df-4e6e-a65f-ced9a2b381c3\n",
      "a20d0b4b-6e2e-4507-bc22-f321dedc4ed9\n",
      "a23f5539-bfe6-4885-9a0e-dba972475ea9\n",
      "a2754679-68b0-40f4-be01-bafad5ac1261\n",
      "a27858ef-6533-413e-bc75-cc54690261a2\n",
      "a27b451d-44a6-4740-861a-9e7e99915563\n",
      "a2a20600-f851-4db7-90f9-6f7be027c8b5\n",
      "a2ccbf70-e444-49a9-8b7e-9797a05220d8\n"
     ]
    },
    {
     "name": "stderr",
     "output_type": "stream",
     "text": [
      "\r",
      " 62%|█████████████████████████████████████████████████▏                             | 753/1208 [00:27<00:17, 26.56it/s]"
     ]
    },
    {
     "name": "stdout",
     "output_type": "stream",
     "text": [
      "a2d07312-2f97-40d2-8b09-7f2aca7b16fb\n",
      "a2de1248-7bc0-44dc-b508-70a357eedd68\n",
      "a2fc0093-8645-43c7-bdee-ec8ca9484815\n",
      "a302a6fa-f635-4ade-b72b-b6f3c2a34ec9\n",
      "a30da226-b452-408a-a556-bfae4d521464\n",
      "a3ada657-de00-44db-b1e2-54ba17e39983\n"
     ]
    },
    {
     "name": "stderr",
     "output_type": "stream",
     "text": [
      "\r",
      " 63%|█████████████████████████████████████████████████▌                             | 757/1208 [00:28<00:45,  9.89it/s]"
     ]
    },
    {
     "name": "stdout",
     "output_type": "stream",
     "text": [
      "a3c0a876-be12-4ede-8aed-18b32a64401b\n",
      "a4409217-be11-4478-90a5-b406057d154d\n",
      "a4851ed0-1499-4eae-9157-dcd34773254f\n"
     ]
    },
    {
     "name": "stderr",
     "output_type": "stream",
     "text": [
      " 63%|█████████████████████████████████████████████████▉                             | 763/1208 [00:29<00:52,  8.53it/s]"
     ]
    },
    {
     "name": "stdout",
     "output_type": "stream",
     "text": [
      "a4d7a7e1-5ae1-486d-b6ee-c9af1476ccad\n",
      "a4fbb9f2-9b75-4fdc-877d-2feaafac25b3\n",
      "a51d6c18-f9e8-4714-9dbb-38e1577445f2\n",
      "a588091c-5e4c-4e61-914d-e96f3ee3e505\n",
      "a5c3b3f8-7ceb-4573-a400-a76b9479af46\n",
      "a5e05ba8-0c19-41e3-92d5-10e42a03b85e\n",
      "a6391703-0820-4913-a7cd-e843ff0d84ba\n"
     ]
    },
    {
     "name": "stderr",
     "output_type": "stream",
     "text": [
      " 64%|██████████████████████████████████████████████████▍                            | 771/1208 [00:29<00:34, 12.84it/s]"
     ]
    },
    {
     "name": "stdout",
     "output_type": "stream",
     "text": [
      "a63ce82f-f3d1-4818-9035-d3d230e5f686\n",
      "a63fa2c7-3ec8-4bb7-bde6-a39e09d2f806\n",
      "a6526894-e290-482d-ac43-f1df34864817\n",
      "a6aa3b72-2970-4c78-b655-ea8dfe6e018c\n"
     ]
    },
    {
     "name": "stderr",
     "output_type": "stream",
     "text": [
      "\r",
      " 64%|██████████████████████████████████████████████████▊                            | 777/1208 [00:29<00:25, 16.85it/s]"
     ]
    },
    {
     "name": "stdout",
     "output_type": "stream",
     "text": [
      "a6ba808f-ec60-42a5-ad91-7b32412ab708\n",
      "a6d85204-24b8-4b23-a8b1-c3e8b93f9f22\n",
      "a6f8a029-44ee-4fe3-b807-38d137347729\n",
      "a6fe423a-5204-4378-bcfa-d6d298a3e9aa\n",
      "a72cd558-b7ac-4bf2-a344-2ce6c73a354e\n",
      "a74b6d6a-7e04-40ac-9292-d62f13f7ded3\n"
     ]
    },
    {
     "name": "stderr",
     "output_type": "stream",
     "text": [
      "\r",
      " 65%|███████████████████████████████████████████████████                            | 781/1208 [00:29<00:23, 18.33it/s]"
     ]
    },
    {
     "name": "stdout",
     "output_type": "stream",
     "text": [
      "a7688988-2bcc-4458-83d3-5e482da5f87b\n",
      "a777e78c-ad1f-4380-9ab2-b4f9f32b2d78\n",
      "a7b6894d-eeea-4ed5-bc0e-785d6c6da8df\n",
      "a7c3c52f-3b40-4c92-a212-df9462cf25d8\n",
      "a7c91b63-b97c-4f4b-8d34-7ad2b08d7a17\n",
      "a7f1bbb1-6058-4642-bd66-cfb90dce762e\n",
      "a824b499-3736-4581-bbdc-be1b3b4cf756\n"
     ]
    },
    {
     "name": "stderr",
     "output_type": "stream",
     "text": [
      "\r",
      " 65%|███████████████████████████████████████████████████▎                           | 785/1208 [00:30<00:22, 18.59it/s]"
     ]
    },
    {
     "name": "stdout",
     "output_type": "stream",
     "text": [
      "a85cd1ae-0c94-4387-8305-84ab8d96d137\n",
      "a86e0647-ae41-4b75-9d45-dd58f5ea65f5\n",
      "a88a48b6-f85c-45c1-b42f-79716c8463f1\n",
      "a89cace5-c818-4f23-a432-052b3433b81e\n"
     ]
    },
    {
     "name": "stderr",
     "output_type": "stream",
     "text": [
      "\r",
      " 65%|███████████████████████████████████████████████████▌                           | 788/1208 [00:30<00:22, 18.77it/s]"
     ]
    },
    {
     "name": "stdout",
     "output_type": "stream",
     "text": [
      "a8cb75ba-3f2f-40d8-8bc7-c79ebd1b9603\n",
      "a9159b11-ba49-4885-902e-00c8d5095b98\n",
      "a93c35ba-1690-4358-8837-669bcd850bb7\n",
      "a9daf82a-a46d-4296-bd72-2c374ed0a193\n",
      "a9feccda-18f2-405e-9aa1-409fa1f49fe4\n",
      "aa2dfa24-2dc3-4279-a232-f84780ace190\n"
     ]
    },
    {
     "name": "stderr",
     "output_type": "stream",
     "text": [
      " 66%|████████████████████████████████████████████████████▏                          | 798/1208 [00:30<00:17, 23.37it/s]"
     ]
    },
    {
     "name": "stdout",
     "output_type": "stream",
     "text": [
      "aa3ad405-828e-4986-8251-20fd981f34d3\n",
      "aa4a023b-55bd-4259-b15d-7086a9b491e0\n",
      "aaade430-4c49-4038-97b7-f8cdd937db57\n",
      "aabca37c-f9ef-4415-aab6-3246caa348e9\n",
      "ab27173b-6e30-4957-bd68-29194328fd39\n",
      "ab59c9e4-3e50-48b9-874d-060d317410cc\n",
      "abb2f9d6-26fa-4328-983c-959ef6717c05\n",
      "abf4cf2a-4532-4772-9f0f-9e123cc1713d\n"
     ]
    },
    {
     "name": "stderr",
     "output_type": "stream",
     "text": [
      "\r",
      " 67%|████████████████████████████████████████████████████▌                          | 804/1208 [00:30<00:15, 26.32it/s]"
     ]
    },
    {
     "name": "stdout",
     "output_type": "stream",
     "text": [
      "ac3358f1-ef9a-4ccc-b66c-da5e47e352e0\n",
      "ac4d6507-d710-497b-ad7c-e0dd75c1d06d\n",
      "ac8df764-c8d8-4312-916d-70bfb37574b4\n",
      "acb16781-11ad-4327-874a-5c9c35dcb085\n",
      "acdc6e12-73d9-44ba-be8c-2a56aaffef4f\n",
      "ad36bd67-594b-4f63-93e3-886af0bc618e\n",
      "ad8731b7-0dae-4983-9dc6-dec31767d761\n",
      "adff132d-3af0-4cef-942c-58fc09729bee\n",
      "adff6e1d-ba9d-4c7b-a8fe-1ec458eaeeb8\n"
     ]
    },
    {
     "name": "stderr",
     "output_type": "stream",
     "text": [
      " 68%|█████████████████████████████████████████████████████▍                         | 817/1208 [00:31<00:13, 29.93it/s]"
     ]
    },
    {
     "name": "stdout",
     "output_type": "stream",
     "text": [
      "ae17a099-18b5-4a42-a901-850ea056423e\n",
      "ae779806-6d01-4dc6-89df-294c368db6bc\n",
      "af2e63a3-9fde-46aa-a867-81c5c259d1dc\n",
      "afa470d9-c74c-41cd-b4dc-7bf93fde8263\n",
      "afbb264e-ff60-443a-83f5-49d09be1b835\n",
      "afd39466-aafa-4d81-9520-483727418723\n"
     ]
    },
    {
     "name": "stderr",
     "output_type": "stream",
     "text": [
      "\r",
      " 68%|██████████████████████████████████████████████████████                         | 827/1208 [00:31<00:08, 42.85it/s]"
     ]
    },
    {
     "name": "stdout",
     "output_type": "stream",
     "text": [
      "affa429c-0315-4c18-a002-13bb3ecab259\n",
      "b02f6804-1697-4a5e-9be7-61931903ab55\n",
      "b10ea12f-cd36-4f2c-994a-67d1665269ab\n",
      "b1100ae1-0ac8-4fc2-b0ff-8819f7fbe724\n",
      "b1145408-feae-4637-b4cf-3e70b99cc62d\n",
      "b12ae3b1-613c-4c0e-9163-3c5cc314abf5\n",
      "b197093e-2928-46a4-8e35-fa5ea7ea6dac\n",
      "b2103776-9b32-4160-b4f0-0692deda19dc\n",
      "b21f6c6e-4b45-407a-b4c7-034a115f3ee4\n",
      "b234b6ea-b54d-470c-8461-ba7f4a024796\n",
      "b2e34f5f-904e-4473-9dc7-c6bc1ce12640\n",
      "b2f05937-b965-4c4b-b86e-f50e95d9d691\n",
      "b3058064-d817-47dd-a8c4-cdb1f62374f8\n",
      "b318889c-3c60-477c-b8f6-d18cb01a59df\n",
      "b338766f-19b9-4874-bcc5-ae22b3c533e6\n",
      "b34e65f6-c32e-42f1-a437-4a037c75a231\n",
      "b3606d0e-6fe5-478a-bb4b-64d7c4889d86\n",
      "b4261fa5-876d-48ea-b6da-ec7ca5b48fe2\n",
      "b426ef1d-4a59-4f90-b593-50226af60a60\n",
      "b4bde4e8-f48b-4ae2-be01-86d8c91d0af9\n",
      "b4c52960-bbee-439e-83dc-f89ddaade71b\n"
     ]
    },
    {
     "name": "stderr",
     "output_type": "stream",
     "text": [
      " 70%|███████████████████████████████████████████████████████▍                       | 847/1208 [00:31<00:05, 62.25it/s]"
     ]
    },
    {
     "name": "stdout",
     "output_type": "stream",
     "text": [
      "b4d22412-a495-43a9-bec0-73a2322f8dad\n",
      "b4dc3088-3fe2-4688-be24-70664a64e022\n",
      "b4e5e08d-6427-46f3-aca8-a4df165a151d\n",
      "b4f3b2a4-f4b9-48de-ac5d-0e681b77be27\n",
      "b5143aae-6e98-4dc6-b546-980cb472de67\n",
      "b523daee-317b-461d-bdc1-07b4add4d488\n",
      "b5246b58-6f40-4c9e-8024-f49b0ed6bdbd\n",
      "b5513d5b-46fc-4f44-a616-791087fbd608\n",
      "b59dc3a0-3d54-4e3b-a485-33b3e43966de\n",
      "b5acf759-1115-42f0-a753-656736192528\n",
      "b600b38d-225b-46a5-b6f8-b607430f6a10\n",
      "b618e87e-6059-496f-b0f6-e158f676a1fb\n",
      "b62d47f9-2ff5-4902-abdc-b3610acfc7ba\n",
      "b634137b-bc8b-4e88-b0e3-b536ad6e7e18\n",
      "b6364a57-72a9-43f3-8d02-9f53a992dc95\n",
      "b6573be3-9e04-49c3-9f48-6a145d065363\n",
      "b666fcc2-d0b2-441e-bc5a-c660345eeb5d\n"
     ]
    },
    {
     "name": "stderr",
     "output_type": "stream",
     "text": [
      " 72%|████████████████████████████████████████████████████████▋                      | 866/1208 [00:31<00:04, 74.93it/s]"
     ]
    },
    {
     "name": "stdout",
     "output_type": "stream",
     "text": [
      "b687c30d-cf15-445c-b3f6-5aca86584708\n",
      "b701b5c5-b922-4315-b12a-aac4ec65ee8b\n",
      "b78b88f0-154a-4b54-8aaf-85d37a42a0f9\n",
      "b78ba2c8-ecb3-45b2-9cda-2c8088fa95d1\n",
      "b7a0d235-2217-43b4-aeff-cde4ccaf6789\n",
      "b7d0ae11-a393-4aec-8f68-6ba07147f78a\n",
      "b7f1a1eb-c150-4456-9c47-e7db8a5cb77a\n",
      "b809b407-7b69-4334-873d-d6c49135f04a\n",
      "b8339d7b-85ec-48d0-83e8-c8f831070459\n",
      "b834cbf7-ff97-49d9-9561-566c9343735c\n",
      "b8410821-a42b-47d0-8bcf-c2fc82e4e2d5\n",
      "b85fc640-de49-4f7e-afc0-978ff020f2e2\n",
      "b87fb62d-2c36-4f68-aba9-37fcd7d46eef\n",
      "b88fe674-fb9a-41d4-b100-cb1c86440d44\n",
      "b8a4d467-c40c-4ebf-91dd-1c19d0f2a7ae\n"
     ]
    },
    {
     "name": "stderr",
     "output_type": "stream",
     "text": [
      "\r",
      " 72%|█████████████████████████████████████████████████████████▏                     | 875/1208 [00:32<00:06, 49.43it/s]"
     ]
    },
    {
     "name": "stdout",
     "output_type": "stream",
     "text": [
      "b8dd6125-5027-47e2-a283-14e199274c80\n",
      "b901c906-91be-48c4-88ec-2c527544a258\n",
      "b91b1641-ee06-44d8-94cc-24cdb583cc37\n",
      "b95ceeeb-8870-4492-9037-2091ff268c5a\n",
      "b9c6db13-ca3a-4937-8ecf-e537047ed858\n",
      "b9ccf7ca-953f-4832-9575-5e70b2a8c224\n",
      "b9d65ef3-1adc-4479-abee-2e422f5a613a\n",
      "b9de8b1a-f96a-4eb5-bc05-84ad43a054f3\n"
     ]
    },
    {
     "name": "stderr",
     "output_type": "stream",
     "text": [
      "\r",
      " 73%|█████████████████████████████████████████████████████████▋                     | 882/1208 [00:32<00:08, 38.16it/s]"
     ]
    },
    {
     "name": "stdout",
     "output_type": "stream",
     "text": [
      "baa87bf8-786c-444c-81e8-9fa0a41d8149\n",
      "bb137718-20ba-457d-8ffe-4f9420ecaab6\n",
      "bb2042c5-35e1-43cc-8171-7de81b764361\n",
      "bb337c84-f727-42a5-9c3d-934323a16c6a\n",
      "bb3ae957-0f6d-4615-bfe5-24fbca50b459\n",
      "bb795ddf-ce72-42d5-9006-124db4d5cf1c\n",
      "bbaa004f-05dc-4cb8-8768-e148085bb0f9\n"
     ]
    },
    {
     "name": "stderr",
     "output_type": "stream",
     "text": [
      "\r",
      " 74%|██████████████████████████████████████████████████████████                     | 888/1208 [00:32<00:09, 35.53it/s]"
     ]
    },
    {
     "name": "stdout",
     "output_type": "stream",
     "text": [
      "bbe65c18-8a56-4dfe-875c-94e124a84125\n",
      "bbecf1a8-a728-4c83-87f8-4dfbac0a1e03\n",
      "bbedfcbe-9528-4ba9-9d86-4ebba7589ac5\n",
      "bbf687b5-c6f9-4821-b2e5-a25df1acba47\n"
     ]
    },
    {
     "name": "stderr",
     "output_type": "stream",
     "text": [
      "\r",
      " 74%|██████████████████████████████████████████████████████████▍                    | 893/1208 [00:32<00:10, 30.20it/s]"
     ]
    },
    {
     "name": "stdout",
     "output_type": "stream",
     "text": [
      "bc1a58fd-736b-4812-a051-2c376cff50b7\n",
      "bc377041-e098-45c4-9651-2b1ea90d1d7e\n",
      "bc832bde-d3ea-4a8e-be90-7a3329dcc314\n",
      "bca27923-b270-45df-a0bf-3e1a7d135b2c\n",
      "bcaefb02-682a-41b9-acc7-e6cc010f5b30\n",
      "bcb447c9-5d37-414f-a513-d7076b04a532\n",
      "bd432159-5956-457c-bdeb-1b5e702ba513\n",
      "bd7937db-fca2-44d0-8538-460110210927\n"
     ]
    },
    {
     "name": "stderr",
     "output_type": "stream",
     "text": [
      " 75%|██████████████████████████████████████████████████████████▉                    | 901/1208 [00:33<00:18, 16.89it/s]"
     ]
    },
    {
     "name": "stdout",
     "output_type": "stream",
     "text": [
      "bd856928-96ee-4fc4-a377-f2fc4e84448b\n",
      "bdb5d571-27bc-4a42-ae45-aa5a9af40a81\n",
      "be5bb7d0-7c3f-4bb9-8bb4-f8bc8d875943\n",
      "be6fe358-dee1-4dcf-9b0d-5d8612aba577\n"
     ]
    },
    {
     "name": "stderr",
     "output_type": "stream",
     "text": [
      "\r",
      " 75%|███████████████████████████████████████████████████████████▏                   | 905/1208 [00:33<00:16, 18.57it/s]"
     ]
    },
    {
     "name": "stdout",
     "output_type": "stream",
     "text": [
      "be779f52-0bfa-4c01-a16f-b7f0bc92ed7c\n",
      "befe6182-266b-4f8a-ac82-3a4154f05f60\n",
      "bf002a25-6535-4621-be19-56d468be5413\n",
      "bf20d04d-ff8a-4910-91d7-94054c267d1b\n",
      "bfc61c48-685d-470b-86b1-e4c7eb85c4fd\n",
      "bfe65b11-8aff-46aa-908b-1e989d25fdc4\n"
     ]
    },
    {
     "name": "stderr",
     "output_type": "stream",
     "text": [
      " 76%|███████████████████████████████████████████████████████████▉                   | 916/1208 [00:34<00:14, 20.70it/s]"
     ]
    },
    {
     "name": "stdout",
     "output_type": "stream",
     "text": [
      "bfefa21c-11e1-4dab-ac5d-8ff6f046d65f\n",
      "c03d9b87-e19b-402b-ad86-b30d6e8aeb59\n",
      "c0c3041f-78cd-46de-8e36-0a7dad0c04c4\n",
      "c10b125d-10c2-474a-9c6a-5249935c638e\n",
      "c118ff18-f9f2-4617-bddb-dc4091fb8f5f\n",
      "c1423156-82b3-4dd3-8e74-08eb7ed8e1d6\n",
      "c147584d-4c61-412a-bdaf-b02b22c18708\n",
      "c17523c5-90a0-4a6b-9b33-2b4a6cf58d36\n",
      "c186dcd1-af61-455f-9619-1fdd8c881b06\n",
      "c22f7031-9cf8-48ce-b03b-1b12d0db4951\n",
      "c244166d-12ca-445f-9ed9-a13d9caa412f\n",
      "c2ec116f-f091-422c-926c-70b548a8f6ef\n",
      "c3042130-a6e2-458f-9fde-bb012f68f5f2\n"
     ]
    },
    {
     "name": "stderr",
     "output_type": "stream",
     "text": [
      " 76%|████████████████████████████████████████████████████████████▍                  | 924/1208 [00:34<00:13, 20.88it/s]"
     ]
    },
    {
     "name": "stdout",
     "output_type": "stream",
     "text": [
      "c3209548-7f7c-4afd-b47c-b42a72b1ebf7\n",
      "c3215597-a032-46be-9058-d6de1e5191d7\n",
      "c32b8bb8-c89d-4ae9-9c77-5b9356ca35a1\n",
      "c35ee701-fde2-46b5-b178-1fe3f1ea7da2\n",
      "c3ae7090-fc68-41b4-85a1-8d9bce9825a7\n",
      "c3b07675-9d02-477c-91fe-f0737867049b\n",
      "c415532c-4cce-4580-9fcd-623c172a1abd\n",
      "c442e2d6-aaf9-417a-9905-4737a1115f33\n"
     ]
    },
    {
     "name": "stderr",
     "output_type": "stream",
     "text": [
      "\r",
      " 77%|████████████████████████████████████████████████████████████▊                  | 930/1208 [00:35<00:11, 23.44it/s]"
     ]
    },
    {
     "name": "stdout",
     "output_type": "stream",
     "text": [
      "c4494d4f-732f-431a-8a9d-62403f0b74fe\n",
      "c4c7ed75-dbdf-4bb6-b6ba-718903cf7264\n",
      "c4d34e35-4db2-41de-ba77-1a94aa9ef788\n",
      "c5084fb8-2b62-464c-8a77-1a07ea653266\n",
      "c52f8cc8-afd7-441c-9f1f-18b6e16d79cf\n",
      "c53fd511-31bd-4901-baac-3b44891f6744\n",
      "c54fcef1-0c51-4426-9a93-15ec5f2bf58a\n"
     ]
    },
    {
     "name": "stderr",
     "output_type": "stream",
     "text": [
      " 78%|█████████████████████████████████████████████████████████████▌                 | 941/1208 [00:35<00:10, 26.63it/s]"
     ]
    },
    {
     "name": "stdout",
     "output_type": "stream",
     "text": [
      "c5acd0ad-b0f2-478d-b0ad-5aa733aa7b32\n",
      "c5db0fc0-b96c-496e-90b4-f9fb1b85b28e\n",
      "c63f190a-e860-44fc-a2db-7980e1c80519\n",
      "c649e1cb-4029-4433-b231-d67d68f7391a\n",
      "c6530038-6d4e-49e1-8427-d1d3acc9fa21\n",
      "c6575e75-c8ce-4766-841f-1137b9e0956c\n",
      "c66a3e52-0f3f-4c81-bab9-0303499549f7\n",
      "c66cb6b2-1480-446a-a9d2-b8032a3de0d7\n",
      "c680004e-6ee2-43d7-877c-edc9b5ebeecc\n",
      "c691c8ef-d3c7-47b6-a941-f6a1089f21a9\n",
      "c6ab535c-30e5-4b6b-8273-1ec8d78cdd13\n",
      "c6d97845-8ad2-4ab7-b385-66613628df5b\n",
      "c7045ab6-230e-4c1e-a8e0-f624d41a00d9\n",
      "c742ee2c-6814-46cd-af56-ae87bb9972f4\n",
      "c776eb78-3323-4571-b39f-7ffc73ae63ce\n"
     ]
    },
    {
     "name": "stderr",
     "output_type": "stream",
     "text": [
      " 79%|██████████████████████████████████████████████████████████████▊                | 960/1208 [00:35<00:05, 43.37it/s]"
     ]
    },
    {
     "name": "stdout",
     "output_type": "stream",
     "text": [
      "c7a2d648-47cb-4b39-afa4-1b7fcfe51934\n",
      "c7c1b873-0548-4a73-9618-f60912e164df\n",
      "c7ec51d5-9f45-4209-8357-39e9a984a733\n",
      "c84edeb4-311c-4e82-88f9-ae0505b3ad13\n",
      "c890ee00-daa5-4b20-9cd5-930748ecc4e0\n",
      "c8af0297-ce1f-40ea-bf44-9256dcdae4e9\n",
      "c8fd1336-dd0a-4f97-abbf-be2c18b91e02\n",
      "c94827ce-d619-4705-a68a-df63a2c95ffa\n",
      "c9499a06-fb31-4552-a9e2-fb4ebb440859\n",
      "c94a5851-b846-4fde-8c89-05bec3a8ac53\n",
      "c956e531-6805-4fe1-b61c-8b96a9815a77\n",
      "c9ad92d4-b408-4506-916e-def47b2e6ed0\n",
      "ca16a5ad-b106-4e84-8a43-178710e854ba\n",
      "ca5e6a15-ba65-48ea-8913-2d986e71bf3a\n",
      "ca677c3c-083f-4d54-9dec-39f79f6a17d8\n",
      "ca734448-0d52-42fa-b41c-17b2939e58ae\n",
      "ca9626bc-21a4-46f4-ba94-e7ee7a4cf735\n",
      "caeb2d62-1166-43f0-8eac-5b8fc48f02eb\n",
      "cb08956d-dd6a-4e13-817b-40a0a93068f1\n",
      "cb2fac19-90b0-48b4-bdc5-7dbbd58756d1\n"
     ]
    },
    {
     "name": "stderr",
     "output_type": "stream",
     "text": [
      " 82%|████████████████████████████████████████████████████████████████▋              | 990/1208 [00:36<00:03, 71.30it/s]"
     ]
    },
    {
     "name": "stdout",
     "output_type": "stream",
     "text": [
      "cbb58718-6319-48db-b84b-78ac9b12ff89\n",
      "cbde7f7e-2458-4dda-9db2-3d5ccf950ced\n",
      "cbec07ed-69d3-40e7-8b04-b3bd6680885b\n",
      "cc275c45-7511-4070-84af-10b8ffebda53\n",
      "cc882eae-a341-4783-bd19-8bdedf798538\n",
      "cc94eabb-a3dc-4cfc-9fff-55c76b5b4a71\n",
      "ccb4b13d-ab20-4222-892f-5adf70249aaa\n",
      "cd2774a0-dab2-4d68-aae9-7568b9f3d2a6\n",
      "cdb086a8-2bf8-4436-b1ef-96cdd801f247\n",
      "cecbf663-0751-4e7f-b298-770c88afc2c1\n",
      "cf90d82f-2814-4fb7-a3ff-a86b7c5efca7\n",
      "cfab01d3-0616-4efb-9290-11f0fd8bf5a3\n",
      "cfe6086f-eb0b-4cb0-a430-8cd7de6556e2\n",
      "d0347b49-8f98-4632-a384-1a4f57ac6374\n",
      "d09eed76-e09b-4d90-b8f0-5a801beae41c\n",
      "d0d3ae45-b434-4869-a518-427320ebe62d\n",
      "d1144956-5a0c-4bd2-b67d-8498c82d6a12\n",
      "d12c5f45-6b20-46d6-a66f-c5a4683c25b3\n",
      "d1617cf7-eb56-42ee-85af-66c4748753c0\n",
      "d1924af6-7512-4ccc-9c6b-adbbaa8db41f\n"
     ]
    },
    {
     "name": "stderr",
     "output_type": "stream",
     "text": [
      "\r",
      " 83%|████████████████████████████████████████████████████████████████▋             | 1001/1208 [00:36<00:02, 78.61it/s]"
     ]
    },
    {
     "name": "stdout",
     "output_type": "stream",
     "text": [
      "d1b48634-9ad5-46e8-b816-42d1d97c93cd\n",
      "d31dd2c0-ae8e-4499-86bb-7cabb6e438b9\n",
      "d32022fa-e492-4b31-a776-9435cfdef6d6\n",
      "d3283f5b-3b3a-40ea-800b-79960ca851cb\n",
      "d33bc9fc-3444-4f26-8082-307f9fccc52b\n",
      "d3b79739-aea2-4804-8c7a-183b7ed07de3\n",
      "d3dcdf92-9328-4796-adf4-918646877ba1\n",
      "d3ed519e-2152-4e30-838d-a3ea23be512f\n",
      "d47cd049-d78b-4ba3-a7d4-399be4dd1dde\n",
      "d4fef0c5-6597-48b6-97e9-32ed504488e6\n",
      "d5009906-bce1-4353-90b4-f4c79362f4cf\n",
      "d532e31c-10ce-4313-9a36-bd5e01230254\n",
      "d57b3894-c912-47e8-b00a-e1a2a7aba644\n",
      "d615b706-8f50-4d96-8de5-6858897528d0\n",
      "d6352a03-ef81-421d-915e-226499555d20\n",
      "d64cd75a-df26-44d5-ac25-69061a4e4d57\n",
      "d67398c5-8b0e-463f-a04e-8583c820786c\n",
      "d67655e6-0a80-4a86-b552-1f5e85788377\n",
      "d67fb447-4dd7-4a82-a305-2b70927b69bb\n"
     ]
    },
    {
     "name": "stderr",
     "output_type": "stream",
     "text": [
      " 84%|█████████████████████████████████████████████████████████████████▊            | 1019/1208 [00:36<00:02, 82.52it/s]"
     ]
    },
    {
     "name": "stdout",
     "output_type": "stream",
     "text": [
      "d6942996-5664-4370-ad87-2bdcbd49ac16\n",
      "d7581cb0-7a12-471d-a3d8-68dcea362213\n",
      "d75933ed-d26e-4d1f-bda3-96bc0d77fb36\n",
      "d79b4e90-c45d-4f5d-a498-49c3e323c291\n",
      "d7c7eb2c-2acd-4f86-8a5a-09ab3dd02d16\n",
      "d82c657e-5678-41da-9a6e-3ad29430b759\n",
      "d8632217-ec33-4d0a-98e6-427824c58869\n",
      "d8f7e159-b7e3-49e4-86e8-aed8c5fbcd97\n",
      "d9345456-b76d-46cc-b81e-46d4a0a7b652\n",
      "d997337e-e4a8-4ef0-b8ba-975e6c43b62c\n",
      "d9c9479e-f1ea-4d6e-861f-843ff9a90d19\n",
      "da111ca5-520f-4ea8-97ad-ae5fce58ee91\n",
      "da49db57-0c2f-4213-b322-c88c19fb9296\n",
      "dacf7e3f-1d8c-42a0-8539-3abe3971c956\n",
      "daea4860-a296-4f6d-acef-996ab0882676\n",
      "db0a1123-0b35-48d7-8337-3b1ebd6af0cc\n"
     ]
    },
    {
     "name": "stderr",
     "output_type": "stream",
     "text": [
      "\r",
      " 85%|██████████████████████████████████████████████████████████████████▍           | 1028/1208 [00:36<00:02, 62.41it/s]"
     ]
    },
    {
     "name": "stdout",
     "output_type": "stream",
     "text": [
      "db249e5a-4142-432c-8288-bacd10d7273d\n",
      "db3f4098-02e4-45a3-a7af-5dda37ac1526\n",
      "db7c5ec1-fefe-4e9d-83c1-da8fb982f1e2\n",
      "db871d17-28fd-4ceb-b421-e4e4afa0a7a0\n",
      "dbdfad64-110c-421f-a1c7-f68fd9e82d67\n",
      "dc3bdfe9-1565-4cda-9c4e-0979846dab60\n"
     ]
    },
    {
     "name": "stderr",
     "output_type": "stream",
     "text": [
      "\r",
      " 86%|██████████████████████████████████████████████████████████████████▉           | 1036/1208 [00:36<00:03, 43.13it/s]"
     ]
    },
    {
     "name": "stdout",
     "output_type": "stream",
     "text": [
      "dc4270fb-e5c2-414f-96e9-6769ba1d77e4\n",
      "dc6ac71b-2616-431e-bfd5-4c38139e4ddd\n",
      "dca685a8-a609-45d8-93d7-da1e4165b9bd\n",
      "dcb21739-3c36-459d-b3cc-1be5871d6fe7\n",
      "dcc1a193-7b74-44f8-ad8d-813751d8fa6b\n",
      "dce55b59-c6c3-4693-aa75-6b348c8f52cd\n",
      "dcf7a19a-ec3d-44ef-8d7c-33b1e91fb9af\n",
      "dd090806-e4ac-4a78-b2ee-55a30626369c\n",
      "dd60b6a7-c545-45b9-8250-d1633aa1ac75\n",
      "dd6f047e-af73-43df-9c46-354534fc20e0\n"
     ]
    },
    {
     "name": "stderr",
     "output_type": "stream",
     "text": [
      "\r",
      " 86%|███████████████████████████████████████████████████████████████████▎          | 1042/1208 [00:38<00:10, 15.63it/s]"
     ]
    },
    {
     "name": "stdout",
     "output_type": "stream",
     "text": [
      "dd7142e4-2d86-4170-a41f-e825743e8907\n",
      "dd944a6b-c1d3-4f9f-bbdc-3709707984f7\n",
      "de00f9a5-aa8b-4679-8ec6-85528a942d6f\n",
      "de0321fa-6f7d-4dd1-b96b-186701c3b1d9\n",
      "de2b8835-552c-4f01-98b7-67bc4910062e\n",
      "de5d19b7-e670-4ac7-843b-7ce7bcebdf45\n",
      "de6d3020-9347-473b-9146-8909627790f6\n"
     ]
    },
    {
     "name": "stderr",
     "output_type": "stream",
     "text": [
      " 87%|███████████████████████████████████████████████████████████████████▉          | 1053/1208 [00:38<00:07, 21.45it/s]"
     ]
    },
    {
     "name": "stdout",
     "output_type": "stream",
     "text": [
      "de81bf7a-7a56-437f-a068-4d9c3e01134c\n",
      "deaa1931-5f97-45bf-8c00-be6ddeb37b9a\n",
      "dec61ae1-5037-4c3a-8952-15371becca7d\n",
      "dedbb10c-43f1-45fb-bb40-3ce2fb874015\n",
      "deeaa5b3-3895-4aec-a2ce-ed6404862cdf\n",
      "df3d98b9-3dd7-4107-8d4a-ae1b7f247793\n",
      "df49578a-60d4-4a3b-9ee0-79d9d59bc72a\n",
      "dfac6c92-8f0f-429a-8caf-9b7732bf78da\n",
      "dfc026a9-079f-4f45-8666-e0ccba5bb437\n",
      "e02edd82-c424-4dee-98a7-575640655d9b\n",
      "e0e6b676-c39c-4542-8adf-de257a8e92e2\n"
     ]
    },
    {
     "name": "stderr",
     "output_type": "stream",
     "text": [
      "\r",
      " 88%|████████████████████████████████████████████████████████████████████▍         | 1059/1208 [00:38<00:08, 17.31it/s]"
     ]
    },
    {
     "name": "stdout",
     "output_type": "stream",
     "text": [
      "e0ef520d-7b65-485d-9888-e6859f189f70\n",
      "e0ff3476-226f-4125-b182-8e524d5503dd\n",
      "e11515b4-9527-4c23-a0ba-43719bacca0d\n",
      "e13f2327-fbf4-4d84-a8c1-09cb1e449c8c\n"
     ]
    },
    {
     "name": "stderr",
     "output_type": "stream",
     "text": [
      " 89%|█████████████████████████████████████████████████████████████████████▏        | 1071/1208 [00:39<00:05, 23.98it/s]"
     ]
    },
    {
     "name": "stdout",
     "output_type": "stream",
     "text": [
      "e16c0dab-780d-4035-872e-1bb91e49f9d2\n",
      "e1937e32-85d5-4cd8-bb4a-b9cf8ee7ceeb\n",
      "e234ce8b-4ec4-4d93-9068-d7854d77ddf4\n",
      "e2e68cb3-0588-40bb-95b4-356f9cacffc3\n",
      "e36cb882-c6d0-4467-812e-d18c169a9a47\n",
      "e3a4b3e7-9500-4b6c-a402-b6d3f45e714b\n",
      "e3ade58d-086c-47fa-9120-76beacb45395\n",
      "e3c1442a-717f-41dd-bf97-81e1233ac9fa\n",
      "e3e9c2de-0a24-4c7e-8a69-3d3093d5bdab\n",
      "e3ea07d7-884a-412e-874a-40fd6b856736\n"
     ]
    },
    {
     "name": "stderr",
     "output_type": "stream",
     "text": [
      " 89%|█████████████████████████████████████████████████████████████████████▋        | 1079/1208 [00:39<00:05, 25.27it/s]"
     ]
    },
    {
     "name": "stdout",
     "output_type": "stream",
     "text": [
      "e40000b4-1b26-42ce-909d-4715e04f0a6e\n",
      "e474a20b-2769-48f1-a520-4f6ef5a0dbf5\n",
      "e4827c85-311a-4df1-89c2-99dad0c3558c\n",
      "e4eea7ea-8989-46a9-9c98-25a178146b28\n",
      "e5731221-814c-4894-a44e-e46b71460fa4\n",
      "e597f7ce-46c6-4dce-9063-50a2703fdd45\n"
     ]
    },
    {
     "name": "stderr",
     "output_type": "stream",
     "text": [
      "\r",
      " 90%|██████████████████████████████████████████████████████████████████████        | 1085/1208 [00:39<00:04, 29.25it/s]"
     ]
    },
    {
     "name": "stdout",
     "output_type": "stream",
     "text": [
      "e5fd5949-4cd0-4cb6-837a-02c26a5eb87a\n",
      "e61e6af2-7f8b-47b0-bbe7-acb2ed0299ab\n",
      "e63e1607-f344-43d6-a0d8-e10cf2e5054a\n",
      "e640ae51-cbf1-4a84-b7cf-d38b17f59c2f\n",
      "e683144c-0465-43a2-86b1-3cf52599d5e0\n",
      "e6d7c5e1-43fc-4712-86d5-aa70252b978f\n",
      "e726dac6-f962-449c-acff-4dd56847b685\n",
      "e79bd81b-f878-4bee-9be2-d91a722c031e\n",
      "e8058bed-c362-4e1c-85dc-62f80f32938f\n",
      "e80bad38-66d0-473e-85dd-92142dba37e6\n"
     ]
    },
    {
     "name": "stderr",
     "output_type": "stream",
     "text": [
      " 90%|██████████████████████████████████████████████████████████████████████▌       | 1093/1208 [00:40<00:04, 26.29it/s]"
     ]
    },
    {
     "name": "stdout",
     "output_type": "stream",
     "text": [
      "e81bf478-27ff-458c-ac30-9e1f8480bc5c\n",
      "e871f52c-77a6-4813-80d4-95bd97985f1a\n",
      "e94a811d-3145-4313-ba42-2d5ed283179f\n",
      "e98baeb2-aa58-4cce-8c61-66685dd2b239\n"
     ]
    },
    {
     "name": "stderr",
     "output_type": "stream",
     "text": [
      "\r",
      " 91%|██████████████████████████████████████████████████████████████████████▊       | 1096/1208 [00:40<00:04, 25.11it/s]"
     ]
    },
    {
     "name": "stdout",
     "output_type": "stream",
     "text": [
      "e98ea067-82b5-4a0d-87bf-b4bbdc10ddab\n",
      "e9916e11-9be6-4dec-9df6-2e7d1a8e1735\n",
      "e9e78ff8-831b-46e9-9785-3eee9acbfcd8\n",
      "ea6b012a-3425-4bfc-a61d-88563aa2a264\n",
      "eaf4b781-b3aa-41ce-8c5e-287979b4e15a\n",
      "eb0173a3-7e5e-4f53-8124-03d9d6317844\n",
      "eb5f4f2f-2275-4a80-84a5-78a1eaf4ce4d\n",
      "eb6e8684-b84e-483d-b835-f59286d2516b\n",
      "eb77e4a9-acb0-4d83-8055-2c5fcaa54b45\n"
     ]
    },
    {
     "name": "stderr",
     "output_type": "stream",
     "text": [
      " 92%|███████████████████████████████████████████████████████████████████████▌      | 1108/1208 [00:40<00:03, 29.98it/s]"
     ]
    },
    {
     "name": "stdout",
     "output_type": "stream",
     "text": [
      "eb86033f-4f1c-4e8c-ae84-e8e4c7e08626\n",
      "eba73bff-fbe1-436d-9a5f-0a61331a0ea2\n",
      "ebfd9f67-138e-49f0-9cef-a0352069eedb\n",
      "ec301f62-1302-4407-96f9-fcfe45c150ae\n",
      "ec60ab26-3343-4c5f-9667-cdae999c7d86\n",
      "ecd68ba2-48af-4866-826a-7cd1c147c055\n",
      "ed0bee2f-05e0-4392-8357-19750cec577c\n",
      "ed0d8763-e734-4506-b61b-53fc32a8d8c9\n"
     ]
    },
    {
     "name": "stderr",
     "output_type": "stream",
     "text": [
      "\r",
      " 92%|███████████████████████████████████████████████████████████████████████▊      | 1113/1208 [00:40<00:03, 29.30it/s]"
     ]
    },
    {
     "name": "stdout",
     "output_type": "stream",
     "text": [
      "edcb4d77-a4d3-465d-9b59-eb3087766b1c\n",
      "edd09b2e-2673-4405-8ac0-e476e003e96a\n",
      "edd3862f-04e1-49cf-97dd-ca566d17e71a\n",
      "ee57e743-a876-4f69-9fe5-bf5d01b44689\n",
      "eeac81a5-9202-4965-b7de-35b12910cdf6\n",
      "eeb06e39-482b-443d-8cf6-b9b5c763df78\n"
     ]
    },
    {
     "name": "stderr",
     "output_type": "stream",
     "text": [
      " 93%|████████████████████████████████████████████████████████████████████████▍     | 1121/1208 [00:41<00:03, 27.50it/s]"
     ]
    },
    {
     "name": "stdout",
     "output_type": "stream",
     "text": [
      "eed298b3-35f2-4127-88ad-0c4a9062207b\n",
      "eef2ac0b-42de-4bc3-a3c3-d5fcd597fbe4\n",
      "ef1419e0-3a3a-458a-b3b2-7efddac50404\n",
      "ef1a9020-5e45-450d-a237-165114308592\n",
      "ef815e3a-02a6-4cf8-9262-45bc74c50b00\n",
      "ef83ed4c-2724-4d5f-8abe-1a18d25cea35\n",
      "ef8fcfa4-8466-4186-8c69-f5f4904eb489\n",
      "effd6334-516f-4d48-9f3c-5272a99780fb\n"
     ]
    },
    {
     "name": "stderr",
     "output_type": "stream",
     "text": [
      "\r",
      " 93%|████████████████████████████████████████████████████████████████████████▋     | 1125/1208 [00:41<00:03, 26.94it/s]"
     ]
    },
    {
     "name": "stdout",
     "output_type": "stream",
     "text": [
      "f01f6659-2114-4801-9d28-1f411432a589\n",
      "f05ffdca-dc3a-47bd-a231-2a0d9bd1d50e\n",
      "f06ba705-5509-479b-8067-127ffb37c5b6\n",
      "f0713bee-2a71-4ced-b953-4041ea99496a\n",
      "f07174a5-f799-4286-ac43-5b0f5c5777ac\n",
      "f0804a5e-e7f5-4cf2-a5df-b65e66502bf1\n",
      "f09acb0c-b270-4e91-99f8-410adfa7f34a\n"
     ]
    },
    {
     "name": "stderr",
     "output_type": "stream",
     "text": [
      " 94%|█████████████████████████████████████████████████████████████████████████▍    | 1137/1208 [00:41<00:02, 30.20it/s]"
     ]
    },
    {
     "name": "stdout",
     "output_type": "stream",
     "text": [
      "f0fe292d-85ae-4c3a-a676-037dde2594e6\n",
      "f11d05e4-538a-4024-8711-b08a4ce3c540\n",
      "f1872d08-f8a6-4b21-aa29-f56bbf607883\n",
      "f1cda808-69a9-4d10-ba0a-6607c98e362d\n",
      "f1de7c7e-e7d3-45ae-a66c-58538bf6cac1\n",
      "f1f9df6d-c4cb-4b42-9ca2-8fb47b1b0e91\n",
      "f1faab5f-3033-45ea-9673-8b816fea5ce8\n"
     ]
    },
    {
     "name": "stderr",
     "output_type": "stream",
     "text": [
      "\r",
      " 94%|█████████████████████████████████████████████████████████████████████████▋    | 1141/1208 [00:42<00:07,  8.86it/s]"
     ]
    },
    {
     "name": "stdout",
     "output_type": "stream",
     "text": [
      "f20a4fcf-ea8e-4c14-883d-d26a9e08ce25\n",
      "f232eec3-02c0-43f9-bf32-3e60245397e2\n",
      "f234a2de-f3c8-4521-a306-8cfdf52dd597\n",
      "f23ae29e-1bda-4784-b10c-d736757d39b8\n",
      "f24c8fe0-a534-44cf-9995-b2b314d945ba\n",
      "f2574be3-81c6-4fc3-8a40-0230d1264f52\n"
     ]
    },
    {
     "name": "stderr",
     "output_type": "stream",
     "text": [
      " 95%|██████████████████████████████████████████████████████████████████████████    | 1147/1208 [00:43<00:05, 10.90it/s]"
     ]
    },
    {
     "name": "stdout",
     "output_type": "stream",
     "text": [
      "f25a2ac8-cb6e-4e05-a0cd-cc00ac47718a\n",
      "f274b784-b995-4a7e-a2c2-6cc31c24c4b4\n",
      "f28e6d66-af71-40c1-b30c-da71d7230a3f\n",
      "f2a8a483-b254-43aa-817f-7d525adb8911\n",
      "f329e01b-fbd3-4fb5-9738-a7ff4c8622b8\n",
      "f32b21ae-5ca7-490b-bc40-6db9396d933c\n",
      "f39e2289-fedd-4d12-9e64-ffdafb89247e\n",
      "f3bd0fcc-647d-4ca0-8c43-a16bd6ea3878\n",
      "f3d84be2-8af0-4d62-9f72-23d3dc08cbbe\n"
     ]
    },
    {
     "name": "stderr",
     "output_type": "stream",
     "text": [
      " 96%|██████████████████████████████████████████████████████████████████████████▊   | 1159/1208 [00:43<00:02, 18.49it/s]"
     ]
    },
    {
     "name": "stdout",
     "output_type": "stream",
     "text": [
      "f4722a74-35e7-42bd-8ef6-dfff04b9cd22\n",
      "f48bf825-13c4-42fc-8dd8-10cc4ae6b202\n",
      "f4a27dfd-4c52-459f-96b5-ee6b452a3395\n",
      "f4c00b8c-d675-4255-8277-ca65bd757f51\n",
      "f4c2b43f-a2e7-4746-8034-0b34aebba8ee\n",
      "f5419bc0-4415-41b6-b832-5326cfcc534b\n",
      "f5869ba8-6253-426b-93f3-82af59a86144\n",
      "f5c395f1-f94c-440d-8221-cc656e52c0b1\n",
      "f5c51193-8a27-4ef3-83ad-771395d63caf\n"
     ]
    },
    {
     "name": "stderr",
     "output_type": "stream",
     "text": [
      " 97%|███████████████████████████████████████████████████████████████████████████▍  | 1168/1208 [00:43<00:01, 24.08it/s]"
     ]
    },
    {
     "name": "stdout",
     "output_type": "stream",
     "text": [
      "f5eb7c5e-bd77-4638-ba9f-58d42f87476b\n",
      "f62d4fb6-df7c-446c-94a8-d5aede0b1e0c\n",
      "f632981c-1330-4078-8a12-691beb2dab02\n",
      "f65a1633-9935-4984-a285-a60d30aa1707\n",
      "f68ae8e9-e760-4106-88e0-4bdef2785f06\n",
      "f6ab936d-924b-4038-aa47-71b07c26b4e2\n"
     ]
    },
    {
     "name": "stderr",
     "output_type": "stream",
     "text": [
      "\r",
      " 98%|████████████████████████████████████████████████████████████████████████████▍ | 1184/1208 [00:44<00:00, 48.12it/s]"
     ]
    },
    {
     "name": "stdout",
     "output_type": "stream",
     "text": [
      "f6f8a69a-3fd2-4684-ac77-3e83ea0fb36d\n",
      "f7231477-f2c1-439a-9c8b-204de07686a4\n",
      "f77d7469-d083-4c2d-a4ea-5a9ff162e3e2\n",
      "f7a4334a-4332-4de8-b39b-22da907976f2\n",
      "f7cced00-9b41-45ec-9fdf-fb9e1a74da90\n",
      "f81806a8-5883-446c-be78-f0145b12dbdd\n",
      "f8242b97-b8d5-48b5-b808-0b0f75a5de97\n",
      "f8a8b148-60e4-4a5c-ae19-941b19ec0846\n",
      "f8b14fc4-dd6b-4ad0-a96d-c62845f48681\n",
      "f8b6a868-60e9-4569-ae69-638a0c39834d\n",
      "f91670db-be74-474c-bd72-68120aed4756\n",
      "f939782b-f5a2-40a3-9c22-6c6d7e18edc3\n",
      "f97c7c87-5e27-45ea-9f93-3285d74091de\n",
      "fa1f9f89-cecb-4972-842c-d14c632f89a9\n",
      "fa4f8d1a-cb3a-4722-a566-6c7072f30606\n",
      "fac4b0e2-6b52-4c0e-b762-4fa65d552856\n",
      "faead1c7-bb2c-4adf-bfce-9ff36cd2cf6a\n",
      "fb05b297-180a-4171-b633-09d5616d7534\n",
      "fbb1b44c-d75a-4550-a6c0-0eb62b96bfce\n",
      "fbc1f360-4382-48bb-a32e-3f5f2f9dbe57\n",
      "fbcb2ef0-3c97-4d7a-8b96-0147c73f3941\n",
      "fc15659f-6264-4dd5-ab17-43d89fb297b9\n",
      "fc8df086-39e0-43f8-b0c7-2d23a349539b\n",
      "fcc2b245-f47f-447f-8527-275b0005677c\n",
      "fcdf6632-c03f-49a8-9fb3-42e87c99b9d0\n",
      "fd1302e2-3cd2-4a1a-9c13-00f810a9c41b\n",
      "fd1c4c7a-24bc-43f2-b84f-fee182207aee\n",
      "fde0fd54-49cc-42e1-90c6-6b612cd062d8\n",
      "fe00fa09-d3c8-485b-9d0f-3cce556c9edd\n"
     ]
    },
    {
     "name": "stderr",
     "output_type": "stream",
     "text": [
      "\r",
      " 99%|█████████████████████████████████████████████████████████████████████████████▎| 1198/1208 [00:44<00:00, 66.42it/s]"
     ]
    },
    {
     "name": "stdout",
     "output_type": "stream",
     "text": [
      "fe0c5e48-f65e-488c-9c3c-1ea7c7835c0c\n",
      "fe1ee954-ba71-47b3-954a-d20ab940cd7b\n",
      "fe436c09-b680-4f4c-8faf-aa10a55a335b\n",
      "fe691faa-3bc7-475e-b558-aa8fe7b795bc\n",
      "fe851c88-692d-4199-87e0-d19d9c4eb591\n",
      "fed6ba05-36a5-45dc-a4e1-9baa7de2c622\n"
     ]
    },
    {
     "name": "stderr",
     "output_type": "stream",
     "text": [
      "100%|██████████████████████████████████████████████████████████████████████████████| 1208/1208 [00:44<00:00, 27.04it/s]\n"
     ]
    },
    {
     "name": "stdout",
     "output_type": "stream",
     "text": [
      "ff1b23d0-3cef-459b-b81f-39bfcdb6526f\n",
      "ff37dd9b-2e3c-444d-9d29-6db186cfa2fb\n",
      "ff3b9d4d-373c-48ef-a75a-d23e2c2ade87\n",
      "ffb7be9a-65df-4f0b-99ae-cfd34e81cd34\n",
      "ffd59802-46c6-4b58-80fe-e534e39781a7\n"
     ]
    },
    {
     "name": "stderr",
     "output_type": "stream",
     "text": [
      "  1%|▊                                                                              | 13/1208 [00:00<00:09, 125.74it/s]"
     ]
    },
    {
     "name": "stdout",
     "output_type": "stream",
     "text": [
      "002f20ad-2ace-499c-9335-c9080bc3e6b5\n",
      "003a89b0-a095-417a-8dd6-f408339bbc68\n",
      "003d1cdc-0aec-430b-90e0-f4d82135b1ac\n",
      "005e60b6-77b8-458c-b57c-bfe0c7e7df78\n",
      "00a02700-2ea2-4590-9e15-ffc9160fd3de\n",
      "00c8364b-8c85-4502-bcfe-64736fe76815\n",
      "00d04a90-80e5-4bce-9511-1b64eabb7a47\n",
      "0154dd8e-72f8-4d78-a4dd-93e139577bd1\n",
      "01b38a56-13eb-447b-89ee-fc21cb40dcc1\n",
      "01b99da8-b66b-464b-a7ee-1cadab8db18b\n",
      "027ab174-e47a-44f8-b85b-372449eeb7d8\n",
      "02ea7aa8-c142-4a3d-939f-e77689741341\n",
      "02fb5e19-6f94-4787-bb78-e550a29a3cbd\n",
      "030f3421-ed3f-4bf1-8f27-4d02590bffbc\n",
      "03359d4d-69cb-4146-8286-ca7399366f97\n",
      "034c8d57-04d5-4786-93a4-6ae8fde2c258\n",
      "035f6c4b-0897-46ab-9c3b-5f3b0feff043\n",
      "036404d1-b9fc-497b-bbe1-f4d9c5ac3ce0\n",
      "036e008f-07a1-4e92-899d-1822dc390ccb\n",
      "03b9d6ad-39ca-4097-a98b-77f02b3c00a7\n",
      "03c8da48-04b9-4520-b674-44a0ecd35688\n",
      "03cbfcf2-8da6-462c-b30d-16d63357371f\n",
      "040112be-3c8d-49aa-93f1-522f94a592ff\n",
      "04018590-4e66-4cb9-ad2d-83570f1b29ae\n",
      "0403835d-43f4-4a97-abfc-b2ff915f6d7b\n",
      "04628a94-b674-469b-aff6-b476b70df87d\n",
      "04a567df-5463-4043-81f1-d726223c19a9\n"
     ]
    },
    {
     "name": "stderr",
     "output_type": "stream",
     "text": [
      "\r",
      "  2%|█▊                                                                              | 27/1208 [00:00<00:14, 79.03it/s]"
     ]
    },
    {
     "name": "stdout",
     "output_type": "stream",
     "text": [
      "04c07425-57c7-415c-a0bc-36857bbd4049\n",
      "04d21589-b777-43c2-86b5-038cbf8c3a4e\n",
      "04de27ff-0d36-4da3-a829-e93851d76981\n",
      "04de3a31-fc09-40be-9c2c-9830c57f809d\n",
      "04fb49a2-07b8-4cdf-b6f7-df5c3688e5f8\n",
      "0546d843-d778-4aca-b8b5-bfe23d7c87da\n",
      "05717db9-f1ef-4101-a9f7-7a007e83b1c9\n",
      "05804cf0-f854-4099-97c2-df287f7c8a8c\n"
     ]
    },
    {
     "name": "stderr",
     "output_type": "stream",
     "text": [
      "\r",
      "  3%|██▍                                                                             | 36/1208 [00:00<00:23, 49.86it/s]"
     ]
    },
    {
     "name": "stdout",
     "output_type": "stream",
     "text": [
      "05ac7b2a-6a77-4464-926b-8570f7c01693\n",
      "06401963-8b02-46c5-ab2a-3d70bd01623f\n",
      "064b84fe-bd21-4c27-b682-0a832272eac4\n",
      "065af549-320a-4862-b92a-8ef750d7b5fb\n",
      "06a3effb-996c-4767-afd2-6aa3b697cb4e\n",
      "06cd484f-e864-4fee-8819-688b45eed98e\n",
      "06df7bbe-60d4-4f7c-ba4a-5a42ac4be91b\n"
     ]
    },
    {
     "name": "stderr",
     "output_type": "stream",
     "text": [
      "  4%|███▏                                                                            | 48/1208 [00:01<00:31, 36.86it/s]"
     ]
    },
    {
     "name": "stdout",
     "output_type": "stream",
     "text": [
      "071901eb-4c3f-404b-a747-3d0b9d0a5158\n",
      "07346d2e-a6e6-4dc0-95f1-9f7d8d7e3f66\n",
      "073c10c9-5749-44b5-b08b-1be556a960f0\n",
      "07a80340-f65e-4f58-9317-94bb6ebd5a28\n",
      "07a96126-482e-4beb-b42a-0cb59e505372\n",
      "07d15855-eb9b-46a9-b894-7cfe4d097826\n",
      "082e1f81-4f49-44ad-b5bb-9dfc155b2ed8\n",
      "087f2c9c-188d-43cc-a94c-0eb8f10ac092\n",
      "089c9744-f906-41d8-908d-1e37919a8658\n",
      "08f5a524-0554-49c2-83a8-ae9a6d51e8fd\n"
     ]
    },
    {
     "name": "stderr",
     "output_type": "stream",
     "text": [
      "\r",
      "  4%|███▌                                                                            | 54/1208 [00:01<00:29, 38.68it/s]"
     ]
    },
    {
     "name": "stdout",
     "output_type": "stream",
     "text": [
      "0901f9d1-be4f-4c19-8e83-dd724dded9f5\n",
      "0906111b-bac7-4541-a6dc-da435c0724a8\n",
      "093a831a-bf71-4333-bc06-942ae70cb164\n",
      "09bcedaa-e007-4692-a13f-ab02c3f872c4\n",
      "09ecf7be-28e2-4531-b9e2-07e01c44097d\n",
      "0a747cb3-c720-4572-a661-ab5670a5c42e\n"
     ]
    },
    {
     "name": "stderr",
     "output_type": "stream",
     "text": [
      "  5%|████▏                                                                           | 64/1208 [00:01<00:31, 35.87it/s]"
     ]
    },
    {
     "name": "stdout",
     "output_type": "stream",
     "text": [
      "0a7bfa8a-ee52-4f7a-b9c5-2919ecfa93ef\n",
      "0ab56f9a-846d-49e2-a617-c6cc477fdfad\n",
      "0ac747cd-ff32-49bf-bc1a-3e9b7702ce9c\n",
      "0b04ec46-5119-4cda-8c35-c4e5b6f0eed0\n",
      "0b923ab7-ebff-4079-a4bb-af7da89f374e\n",
      "0ca25c88-457f-4f03-bbc1-98fb6663f1d1\n",
      "0ceb4539-5c4c-487d-9826-452a88b5d537\n",
      "0d095f3a-9243-472b-90b4-0ce8309e778c\n",
      "0d098413-6911-4535-b70a-3c3effd8cf49\n",
      "0d2aba33-6920-4001-bd54-59fe0bf9f50e\n"
     ]
    },
    {
     "name": "stderr",
     "output_type": "stream",
     "text": [
      "  6%|████▉                                                                           | 74/1208 [00:01<00:34, 32.54it/s]"
     ]
    },
    {
     "name": "stdout",
     "output_type": "stream",
     "text": [
      "0d3c2521-da55-4df5-bf06-56b3bd4fb2fc\n",
      "0d7bf56f-3b5a-40bd-971c-2ca33dd89b2c\n",
      "0da07970-3146-479c-8a07-f61ed32814a9\n",
      "0dcbf2c9-f959-4703-a72b-f6a81e66c2ea\n",
      "0dcca702-a4ef-4fb3-a940-9c0c140b21c7\n",
      "0ed416f9-7c20-4829-9016-559e4009568e\n"
     ]
    },
    {
     "name": "stderr",
     "output_type": "stream",
     "text": [
      "\r",
      "  6%|█████▏                                                                          | 78/1208 [00:01<00:35, 31.83it/s]"
     ]
    },
    {
     "name": "stdout",
     "output_type": "stream",
     "text": [
      "0f0c949e-018a-4f3f-ab02-3704f49c7754\n",
      "0f26699f-a776-4424-b092-27da9a1d12e2\n",
      "0f2a6cda-afec-437b-8803-8d3176b072c1\n",
      "0f735cca-051c-4048-a1fa-cb36f389e12f\n",
      "0fa5b35d-6c44-4207-b6f8-d5b355086b5f\n",
      "0fcd1ebe-ee4a-40a0-b787-29cee18bfa1b\n",
      "1012abf2-cb05-4337-86c5-513ec4ca904d\n",
      "105af41b-13cc-4ad1-8a1f-8bc4d47cdd94\n"
     ]
    },
    {
     "name": "stderr",
     "output_type": "stream",
     "text": [
      "  7%|█████▋                                                                          | 86/1208 [00:02<00:39, 28.70it/s]"
     ]
    },
    {
     "name": "stdout",
     "output_type": "stream",
     "text": [
      "10891eed-b0f2-4dd0-90cb-da185f6761b2\n",
      "109fbb82-bc3c-41ac-984d-e2da86202873\n",
      "10be6380-cbbb-4886-8b9e-ff56b1710576\n",
      "11b72c7b-5c52-44b7-adb7-21eacc25e441\n",
      "11e517bf-943b-4928-929a-e9f72c097880\n",
      "12269960-075f-40ca-9630-49ea2ce78294\n",
      "13099edb-35d9-438f-b093-2cf2ebf9d255\n"
     ]
    },
    {
     "name": "stderr",
     "output_type": "stream",
     "text": [
      "  8%|██████▏                                                                         | 94/1208 [00:02<00:38, 28.69it/s]"
     ]
    },
    {
     "name": "stdout",
     "output_type": "stream",
     "text": [
      "1315c2a4-0794-4dfa-a709-e2451723d2b6\n",
      "1345dc89-a3d9-4b71-8a75-b3bff01ba518\n",
      "137d540f-d71e-47e8-bd9b-6cd0a6433c33\n",
      "1380f9b4-bf54-4492-90c3-743c7aa8898b\n",
      "13bab3c3-3f79-44d9-a287-0ae6d71eff31\n",
      "14005767-9296-4b48-8a9d-bbe9b2040005\n",
      "143f5959-5b6d-4f95-bcee-9e110450fc22\n",
      "1493d140-c9d5-4c3a-9caf-3eafb290a49b\n",
      "14b68d86-ac7f-419d-b4a5-6b0b1d9aaa18\n",
      "14efbfc8-39f6-4599-9994-a8cc95605b9c\n",
      "1519257c-e3e5-4474-908f-8665b3cf1258\n",
      "151f3af5-5e6e-4bcd-9389-4974fc68813e\n",
      "1574565f-f45b-4160-947e-25ce1a81aaca\n",
      "157ac97a-396e-4f6c-94c6-72a4d06ccc5f\n",
      "161978c3-3a05-47a5-9fee-be7d25693eae\n",
      "16244280-6c74-47d3-b544-9fd6831a6bf9\n"
     ]
    },
    {
     "name": "stderr",
     "output_type": "stream",
     "text": [
      " 10%|████████▏                                                                      | 126/1208 [00:02<00:13, 81.34it/s]"
     ]
    },
    {
     "name": "stdout",
     "output_type": "stream",
     "text": [
      "169d541c-daed-468e-8b41-0f1abccdf319\n",
      "16a51468-9f93-45df-9ae2-5a74c25c5a4b\n",
      "16ec6e1f-5020-40b3-ba26-51c340d03ee7\n",
      "177a3141-fa93-426a-9b52-7da71547ce44\n",
      "177f883a-f0f1-4b8e-b598-2ca4bab27381\n",
      "17c06a23-bb77-49cb-9ffb-fbfc75fcc715\n",
      "17ef5841-bd19-4610-ba47-7d321231847b\n",
      "184b376b-03cb-4c2d-af51-fc1a62196293\n",
      "1863da5f-c595-4541-a8f4-21fe78678168\n",
      "187f92b2-71ed-484a-9bd3-599ca0d2636f\n",
      "1893e0c5-88e9-4644-bd59-3e47bc53a88c\n",
      "18dbe7c4-89d2-42a6-a969-1e951ab313b1\n",
      "191071ab-6515-428c-9f05-8e4309542b75\n",
      "191f87a4-6f2d-49e7-bba0-08e3aa78ddaf\n",
      "19370afd-f897-47d8-bfae-c0d257bbf795\n",
      "194aec70-41a5-4ac3-b22f-0b6eda91f730\n",
      "1976cd04-d24f-457c-b423-7e4cdb05de9e\n",
      "19979a60-df80-4111-bf69-81a7e9c4dd0b\n",
      "1a27ebe9-93a1-4898-af69-f276057d4012\n",
      "1a332b2c-9d49-4ff2-810c-5633d2314527\n",
      "1a48cbc1-5423-47e5-8ca5-2ab4f83a05a5\n",
      "1b369bcf-ced4-4ae2-9196-2664bd2b1738\n",
      "1b7f47fc-26cd-4273-b848-88a7cbfd9f85\n",
      "1c406ce1-023b-47fc-a2cd-5ea2e255de65\n",
      "1c87b997-a8e6-48ca-bf40-19b9a7fd6a96\n",
      "1c90231b-2830-42d9-884e-7301edb16933\n",
      "1d4cdf2e-79a0-41e9-aabe-e437a190dfc4\n",
      "1d4f06e1-9c9b-487e-84cd-e7e50cc754da\n",
      "1d9d4dac-66f9-4c87-b714-d723d5b15fa9\n",
      "1dd3e6dd-343f-4cc9-b0ed-e4d27fb36f0a\n",
      "1e86933d-6a5a-4a3c-a0f2-ca22afd767b3\n",
      "1e978dfa-d339-4025-809d-09cee76728ed\n",
      "1ecb0405-a6e9-4485-819e-2fbbf2b718aa\n"
     ]
    },
    {
     "name": "stderr",
     "output_type": "stream",
     "text": [
      "\r",
      " 12%|█████████▏                                                                     | 140/1208 [00:02<00:11, 95.99it/s]"
     ]
    },
    {
     "name": "stdout",
     "output_type": "stream",
     "text": [
      "1f337b61-1b0d-4539-91f9-73d4a0798a4a\n",
      "1f8edb2a-40bc-4beb-aa6b-884d2473df0f\n",
      "1f8f08ea-b5b3-4f68-94d4-3cc071b7dce8\n",
      "1fdf99d1-a494-4174-bcd7-efbe457ab899\n",
      "1fe1e118-adb8-4b10-a41e-1e5814e8f067\n",
      "205306da-0ed8-475a-ace6-f2f81d4be88a\n",
      "20d4f65e-6c63-433a-935c-d568d577967b\n",
      "2102e5d1-8bec-4ab6-ab35-2705485da1f8\n",
      "21417261-475a-456f-b03f-57ac85a6e106\n",
      "214f1d15-a081-476e-992d-6c3a77f03d59\n"
     ]
    },
    {
     "name": "stderr",
     "output_type": "stream",
     "text": [
      "\r",
      " 12%|█████████▉                                                                     | 151/1208 [00:03<00:14, 71.70it/s]"
     ]
    },
    {
     "name": "stdout",
     "output_type": "stream",
     "text": [
      "2165fe38-b474-467d-be11-d1d728085efd\n",
      "216f9d43-6869-4ba1-9106-4f5ea6aac223\n",
      "2196389c-45ec-46b5-bc6c-1f4a33df7f7c\n",
      "21a50e4c-b750-46b5-801f-5429ede7dea9\n",
      "21c2a8aa-407c-4569-8212-96fcafa84138\n",
      "21cc498b-8cb2-42ed-8f80-bfa27b86ef11\n",
      "21ea4841-8998-4c04-b345-bc99cd8ecee6\n",
      "21f001d6-f568-4ea4-82da-fab54c77c419\n"
     ]
    },
    {
     "name": "stderr",
     "output_type": "stream",
     "text": [
      "\r",
      " 13%|██████████▍                                                                    | 160/1208 [00:03<00:20, 50.23it/s]"
     ]
    },
    {
     "name": "stdout",
     "output_type": "stream",
     "text": [
      "2240b991-48f6-4c59-9b62-5a8b5e541fae\n",
      "22516db4-8687-4051-90c4-2bb1ca3204a5\n",
      "22a464ef-c3da-4d56-b37e-e22e95d945e7\n",
      "22cbf509-c9bf-46ec-bfce-f079c6b76c8c\n",
      "2374ae5b-c2df-4db5-afea-c54180aa22e3\n",
      "239f17eb-a2e2-47e9-82e3-fa0d9a70fb9f\n",
      "24115f58-a7d6-4022-a95a-86b515a78d3e\n",
      "24418314-f7a4-49fc-a03e-ec597ca6796e\n"
     ]
    },
    {
     "name": "stderr",
     "output_type": "stream",
     "text": [
      "\r",
      " 14%|██████████▉                                                                    | 167/1208 [00:03<00:24, 41.64it/s]"
     ]
    },
    {
     "name": "stdout",
     "output_type": "stream",
     "text": [
      "244ac6fa-8a92-4214-9cf4-ae0811d9ec7e\n",
      "24879caf-a327-464c-9cd9-e0f3d9161079\n",
      "25132962-ff5d-4737-995f-c54d8490539b\n",
      "2518f6e4-29cc-4ae4-a914-b215a4c56099\n",
      "252071ac-e9f2-41d2-abbb-87ef01b8a997\n",
      "2559636b-f01a-4414-93da-210c3b12d153\n"
     ]
    },
    {
     "name": "stderr",
     "output_type": "stream",
     "text": [
      "\r",
      " 14%|███████████▎                                                                   | 173/1208 [00:03<00:26, 38.47it/s]"
     ]
    },
    {
     "name": "stdout",
     "output_type": "stream",
     "text": [
      "255d5f0c-87fc-4337-bb51-07c440df4f1b\n",
      "2596eb32-1323-41e9-8c0f-64819abcfc73\n",
      "259da25f-40f3-4d37-bca9-a9c807af1547\n",
      "25c6cfb1-01d0-4864-87f9-02b7593683c7\n",
      "25cfca07-2101-484f-b312-a927395f2651\n",
      "25ddc1ca-d368-4fff-b1ad-1dbf1e7c97aa\n",
      "261562a8-ffd8-4e0e-919b-22e267000b74\n",
      "266180ed-77a3-4284-8292-50a49fc47fce\n"
     ]
    },
    {
     "name": "stderr",
     "output_type": "stream",
     "text": [
      "\r",
      " 15%|███████████▋                                                                   | 178/1208 [00:04<00:32, 31.79it/s]"
     ]
    },
    {
     "name": "stdout",
     "output_type": "stream",
     "text": [
      "26799d2b-a289-4eff-9218-0aad77e05e41\n",
      "27388ff2-4000-4c9a-a2e3-addc448a5f92\n",
      "27cdd837-e40f-491e-8adb-61e493189832\n",
      "27fab82c-5bf0-426f-aeb9-47da829b6629\n"
     ]
    },
    {
     "name": "stderr",
     "output_type": "stream",
     "text": [
      " 15%|████████████▏                                                                  | 186/1208 [00:04<00:35, 28.91it/s]"
     ]
    },
    {
     "name": "stdout",
     "output_type": "stream",
     "text": [
      "289ef1b7-02d5-42e9-a401-687688181306\n",
      "28bd16ba-2bcf-46af-b889-41b78d2a50c0\n",
      "28c96a4a-4549-4761-99e4-ace4ea7e7ac9\n",
      "29539cb0-1c52-46b2-9302-552f8349dc71\n",
      "29648565-fe28-4517-ba72-68df0c82c9c5\n",
      "29861cf9-9a1e-4733-8309-4bd10706b4a3\n"
     ]
    },
    {
     "name": "stderr",
     "output_type": "stream",
     "text": [
      "\r",
      " 16%|████████████▍                                                                  | 190/1208 [00:04<00:37, 27.45it/s]"
     ]
    },
    {
     "name": "stdout",
     "output_type": "stream",
     "text": [
      "29d40b60-cde1-45b5-b403-692437a77ac1\n",
      "29d4b75f-d400-4702-a9ac-e5a4ed1a1db1\n",
      "29dc8176-dfe1-40e0-8247-2dc3c530057e\n",
      "2a02cec2-a09b-483a-ad38-14359a763fa4\n"
     ]
    },
    {
     "name": "stderr",
     "output_type": "stream",
     "text": [
      "\r",
      " 16%|████████████▋                                                                  | 194/1208 [00:05<01:36, 10.52it/s]"
     ]
    },
    {
     "name": "stdout",
     "output_type": "stream",
     "text": [
      "2a6370b0-08f1-4c11-a639-265d4419c9a3\n",
      "2a91387a-d30f-418d-ac3a-f7cfa6836261\n",
      "2ac343e4-c889-47c1-8fe2-461b626def76\n",
      "2ae3e6e6-7482-4ab8-ad73-b530b5c2ee3b\n",
      "2aeb7b85-7df9-4a63-8d37-2eecaaa190e7\n"
     ]
    },
    {
     "name": "stderr",
     "output_type": "stream",
     "text": [
      " 17%|█████████████▎                                                                 | 204/1208 [00:06<01:02, 16.06it/s]"
     ]
    },
    {
     "name": "stdout",
     "output_type": "stream",
     "text": [
      "2afe2750-c963-46f9-a1ad-9260e80679ca\n",
      "2b128a1a-95ed-408b-b9f8-8795cc814d80\n",
      "2b369d75-9c55-43e0-b352-d981aea544e3\n",
      "2bd15b6e-fe2d-49f3-b394-940d024d1f91\n",
      "2bd26501-2fbc-4c1a-bef0-4ad57e02b4d0\n",
      "2bed2796-75a9-4d93-bb2d-e3ccbe1a5cbe\n",
      "2c1eaf87-3fd3-4803-92b8-23bab40bf28c\n",
      "2c4d72f1-71a6-4bf1-b5d9-8023c7bbec74\n",
      "2cc3c4ad-670f-41b6-8910-0704cbc192ef\n",
      "2d0f600d-f94e-4907-b712-52fb37d9ed52\n",
      "2d2e81f3-e329-4765-9ba1-2c95f12dc9f3\n"
     ]
    },
    {
     "name": "stderr",
     "output_type": "stream",
     "text": [
      "\r",
      " 18%|█████████████▊                                                                 | 212/1208 [00:06<00:46, 21.38it/s]"
     ]
    },
    {
     "name": "stdout",
     "output_type": "stream",
     "text": [
      "2d857091-efcd-41c0-ba3f-226de90445c4\n",
      "2dbf6f69-e020-4948-9e49-4b33edb7cebd\n",
      "2e8d6a43-0110-4bf4-8e70-20567e513b81\n",
      "2f3ebec8-ef64-420d-9aa0-c2fcadc27d74\n",
      "2f6224be-50d0-4e85-94ef-88315df561b6\n",
      "2f68686f-1fe8-46e7-ad92-a08e3523ea79\n",
      "2f9f400d-2d67-4118-aaa1-9094bc4b0e47\n",
      "2fdbd9bc-bbaf-44c2-b40c-d193709639fa\n",
      "3003252a-2d2e-4687-ad30-9c38d68f1394\n",
      "3006096f-ceeb-42be-b69e-785179d7438b\n",
      "30167dc1-f739-4036-b5c4-5fad435c2c67\n",
      "3061aac0-cda3-47d1-8c48-6293e9ffdf36\n"
     ]
    },
    {
     "name": "stderr",
     "output_type": "stream",
     "text": [
      " 19%|██████████████▉                                                                | 228/1208 [00:06<00:33, 29.29it/s]"
     ]
    },
    {
     "name": "stdout",
     "output_type": "stream",
     "text": [
      "3090a362-1f3d-49e9-a76e-ce76ff9c2276\n",
      "30948737-0d0d-4b68-b9ab-50577e0fe026\n",
      "30ad83f1-a9b3-4a07-aea6-6c06b71e9ace\n",
      "3130f950-8345-4315-9711-92f7af3f5c14\n",
      "313ed8d9-3c00-4415-9de0-0eda07c60ad9\n",
      "31435107-c77d-42f8-a619-75cba6a5161b\n",
      "31653d0f-c4e6-4e12-8005-518c2de34687\n",
      "318de807-7232-4ab1-843e-a901547c0125\n"
     ]
    },
    {
     "name": "stderr",
     "output_type": "stream",
     "text": [
      "\r",
      " 19%|███████████████▏                                                               | 232/1208 [00:06<00:34, 28.04it/s]"
     ]
    },
    {
     "name": "stdout",
     "output_type": "stream",
     "text": [
      "319c9c52-f316-49f3-baad-4444ab19f85b\n",
      "31af9c31-7868-44a6-8eb4-82ce118af425\n",
      "31c749e8-18d1-4105-b7e6-8319cceddae0\n",
      "32700bc7-7a86-49d3-aded-ccaaed4ddc5c\n",
      "32a1ea24-b6b7-4253-ad3e-bdf99c2c9b9d\n",
      "33068c1a-48f7-470b-8e49-e2f0888042e9\n",
      "3317d733-ec0d-45e6-b631-40457392f343\n",
      "334bf865-e3fb-4200-bd53-d9ff5808ed9f\n"
     ]
    },
    {
     "name": "stderr",
     "output_type": "stream",
     "text": [
      "\r",
      " 20%|███████████████▍                                                               | 237/1208 [00:07<00:34, 28.45it/s]"
     ]
    },
    {
     "name": "stdout",
     "output_type": "stream",
     "text": [
      "33bdb7b5-ad5b-4a73-bbc2-3350f8c2ac0c\n",
      "340a1727-0df7-4e6f-9c0e-9c5deddbfca2\n",
      "345cb914-7583-49df-96e3-3cf19c2ba8f1\n",
      "34a70114-d3e3-4351-b8db-f6caab17e743\n",
      "34df8890-272d-423a-ae78-ff8d068d3306\n",
      "34e024a5-5698-42d4-972f-fee234b4bd64\n"
     ]
    },
    {
     "name": "stderr",
     "output_type": "stream",
     "text": [
      " 20%|████████████████                                                               | 246/1208 [00:07<00:33, 28.48it/s]"
     ]
    },
    {
     "name": "stdout",
     "output_type": "stream",
     "text": [
      "3612aa3b-2906-44a6-9c80-6144511a35ce\n",
      "361a3578-4cbb-422b-9e3c-b5e61395b12e\n",
      "36569710-a574-40be-ad42-897a6e74a128\n",
      "367663b2-5d09-4020-ab0a-c2200e7a1c8c\n",
      "370277f8-436b-4103-8210-b4feb5ab95ea\n",
      "3722d213-f2a9-46d5-aa76-9183b443e455\n",
      "3768c577-4e5e-4d70-8c4d-93d8aacd5baa\n",
      "37a94c0f-e5d4-46fc-b4f8-994d477995fd\n"
     ]
    },
    {
     "name": "stderr",
     "output_type": "stream",
     "text": [
      "\r",
      " 21%|████████████████▍                                                              | 252/1208 [00:07<00:31, 30.22it/s]"
     ]
    },
    {
     "name": "stdout",
     "output_type": "stream",
     "text": [
      "37e072a6-000d-4773-8d9f-d66b60ace668\n",
      "3850f2a5-ab62-49d3-8135-68d60baa676b\n",
      "3859deaf-6ae1-49a3-9051-898d0f0d7de6\n",
      "3892b776-f49a-4368-b0fa-7e855e76ccec\n",
      "38c69905-8a4f-451a-8d0a-b855dc88dd16\n",
      "38d1b930-dd97-4248-9160-e9389a1a8dd7\n"
     ]
    },
    {
     "name": "stderr",
     "output_type": "stream",
     "text": [
      " 22%|█████████████████▏                                                             | 262/1208 [00:07<00:30, 31.12it/s]"
     ]
    },
    {
     "name": "stdout",
     "output_type": "stream",
     "text": [
      "390ad256-e1ed-476a-9f14-2dc34e0da632\n",
      "3911fcd2-4e26-4ad9-aaf0-d1c5bf41defc\n",
      "393df10a-5d64-476b-88f5-14ac56d6ed60\n",
      "397f37bc-a3a4-4257-9430-c8fc5716f8b1\n",
      "39cc33be-d752-40fe-b7a8-2e69a3517205\n",
      "3a8f468f-f9de-46a8-a7c8-f2be239fa207\n",
      "3abbc4d3-1d7e-40c9-9963-33732da7cc50\n",
      "3af90874-59f3-4f0c-a7e6-cc889e80c605\n",
      "3b13e20f-ec0d-44ec-b2f4-eaebfa09150e\n",
      "3b4440f7-a69b-4042-a9d0-d6958abcdf4e\n",
      "3b55c42f-ad59-422f-ba99-4f4f4ca9cb2e\n"
     ]
    },
    {
     "name": "stderr",
     "output_type": "stream",
     "text": [
      "\r",
      " 22%|█████████████████▌                                                             | 268/1208 [00:08<00:29, 32.38it/s]"
     ]
    },
    {
     "name": "stdout",
     "output_type": "stream",
     "text": [
      "3b5a8060-dec6-4a83-b7f2-b604e4e69dfc\n",
      "3b601a1b-26d8-4873-afcf-fdd1b1e0010c\n",
      "3cdcb09b-6a8c-43ca-b1d0-c1a289202f65\n",
      "3d1429ed-4619-41f7-8ff3-d698ad28034c\n",
      "3d1b889e-bb4a-4ee6-b899-974ee7d956a7\n",
      "3d302619-473d-4c5b-af43-8833ff94233f\n",
      "3d32a988-449d-4d58-b71f-abbfdc3f2fbc\n"
     ]
    },
    {
     "name": "stderr",
     "output_type": "stream",
     "text": [
      " 23%|██████████████████▎                                                            | 280/1208 [00:08<00:27, 33.87it/s]"
     ]
    },
    {
     "name": "stdout",
     "output_type": "stream",
     "text": [
      "3d4d7ba7-6c7c-4ddd-b282-31fb5d80edb5\n",
      "3d8fb5bf-3315-48fb-8ab1-802eafd550bc\n",
      "3dad6483-ac30-4d2b-b045-9f24fe6ff75e\n",
      "3dcd4f1b-ce43-4a34-b1ed-076bb42963b1\n",
      "3de03fa2-3ad3-43fc-8435-b2a80bdd7550\n",
      "3e33ee12-ef02-4287-8318-7ad3b284a617\n",
      "3e36698f-8c09-4c8b-8948-737310bf97e5\n",
      "3e753a44-3264-438c-8389-a7822e4a84cc\n",
      "3e764461-22ee-44d3-925d-cd658ff7d154\n",
      "3eba916c-998b-40a7-993c-7ed916c2a04c\n"
     ]
    },
    {
     "name": "stderr",
     "output_type": "stream",
     "text": [
      "\r",
      " 24%|██████████████████▋                                                            | 286/1208 [00:08<00:26, 34.71it/s]"
     ]
    },
    {
     "name": "stdout",
     "output_type": "stream",
     "text": [
      "3f106606-9a21-40d5-b849-273866fe0f49\n",
      "3f26fbbc-deb1-494f-b71c-c7cb3d4819fb\n",
      "3f390b82-8859-4c27-bbfe-d1b242477f63\n",
      "3f8c5ae1-b9fd-464b-8e91-98143ddd8d29\n",
      "3fa1a4e3-c80d-49da-8f7b-a1abb0424f48\n",
      "3ff98212-7c2a-46cd-afb7-34a2479bed07\n"
     ]
    },
    {
     "name": "stderr",
     "output_type": "stream",
     "text": [
      " 24%|███████████████████▏                                                           | 294/1208 [00:08<00:31, 28.75it/s]"
     ]
    },
    {
     "name": "stdout",
     "output_type": "stream",
     "text": [
      "4063945d-03fc-4ce3-a04c-17435dce8f91\n",
      "406e05f0-4444-414c-bb40-f4cb08e75ac9\n",
      "412c9fa5-fcf4-402b-b1e4-3271f775058e\n",
      "415409ac-97b3-4cd9-b203-11ef00662352\n",
      "4184a235-d209-4151-86e9-6c77e7938dab\n",
      "419309ef-da3f-4424-93cf-01ff4c52b017\n",
      "41ebf9a1-24dc-454e-8bf8-508218f5ee57\n",
      "4257342d-6d77-4671-a84b-1f0c36ccb367\n"
     ]
    },
    {
     "name": "stderr",
     "output_type": "stream",
     "text": [
      "\r",
      " 25%|███████████████████▌                                                           | 300/1208 [00:09<00:29, 30.71it/s]"
     ]
    },
    {
     "name": "stdout",
     "output_type": "stream",
     "text": [
      "4272cbd7-5b0a-4bf7-b690-dee1c128f07b\n",
      "42845335-4ab2-4963-806d-0985d1382a31\n",
      "42e87148-a015-4148-923a-fb83016f64e7\n",
      "43072c64-4c08-47cd-ae8a-b74d31f80008\n",
      "43158031-a335-4533-9c20-48bebba90123\n",
      "434523fd-d4d9-4961-a7c2-d71d6ae68e13\n"
     ]
    },
    {
     "name": "stderr",
     "output_type": "stream",
     "text": [
      " 26%|████████████████████▎                                                          | 310/1208 [00:09<00:27, 32.09it/s]"
     ]
    },
    {
     "name": "stdout",
     "output_type": "stream",
     "text": [
      "4372709c-f356-4906-be17-415384d916e8\n",
      "43bc935a-f655-45e1-a64d-fcb8b78267a6\n",
      "4411fea2-d785-4eeb-80c6-c739ab6114c4\n",
      "441d7843-b20b-4c10-84e3-e6d32621e880\n",
      "445d0db9-e830-4ceb-a845-b23d819e6097\n",
      "44b4a765-104e-4182-8871-e933c83c91ef\n",
      "452482bc-24a3-413e-ba03-fad4c9d61f3c\n",
      "452ab003-ced5-40cb-82d1-5495d9e068b1\n",
      "45651e76-4bd0-45e5-895b-edec65f51987\n",
      "458cb2e9-5a7f-437c-ac5d-a56f98a3efdf\n"
     ]
    },
    {
     "name": "stderr",
     "output_type": "stream",
     "text": [
      "\r",
      " 26%|████████████████████▋                                                          | 316/1208 [00:09<00:27, 32.49it/s]"
     ]
    },
    {
     "name": "stdout",
     "output_type": "stream",
     "text": [
      "45902b63-be9a-49ae-9ede-3a8015671bc4\n",
      "45ac9409-5537-44ed-90cd-5c8a1ae0e1e0\n",
      "45f18ac0-f097-4b20-a99d-8837cf488822\n",
      "461a3ed6-039f-4a70-97cf-c474ecf51ccd\n",
      "464055b6-3351-4636-a919-8be9840fb850\n",
      "468c261d-f5d8-423f-883e-48af2bbbc5d1\n",
      "46a03374-64c7-49ac-81c9-c3d62542bbf3\n",
      "46a2d369-4bea-4405-ac78-91bbe130b9a7\n"
     ]
    },
    {
     "name": "stderr",
     "output_type": "stream",
     "text": [
      " 27%|█████████████████████▍                                                         | 327/1208 [00:09<00:27, 31.65it/s]"
     ]
    },
    {
     "name": "stdout",
     "output_type": "stream",
     "text": [
      "46f5bd4f-8bea-48d1-a1da-4dea28e3b814\n",
      "471f75c6-bd5d-4c20-bcc1-258e836f4d69\n",
      "4736f545-1f1f-4d77-9241-d69cbf4dae35\n",
      "4748ba2b-6771-41d9-93a5-af9ccd559261\n",
      "4767bfcc-fe87-4962-8c40-6ce8d9363cdf\n",
      "477e541c-0519-4542-9b13-8ee7922644d3\n",
      "4811fdf2-d7e8-475e-a840-45dda5282bf3\n",
      "4823c1fe-a7f9-4b92-959f-0d9be09cd14b\n"
     ]
    },
    {
     "name": "stderr",
     "output_type": "stream",
     "text": [
      " 28%|█████████████████████▉                                                         | 336/1208 [00:10<00:28, 30.79it/s]"
     ]
    },
    {
     "name": "stdout",
     "output_type": "stream",
     "text": [
      "4849866a-73a2-4fcf-a407-2d0a25a09a89\n",
      "4876c9d0-b386-48fb-84e8-91bf87529161\n",
      "48e2f0bd-2164-40c3-af43-1f2708359978\n",
      "4903d9c7-de88-426a-b42d-a7e797e5ebcd\n",
      "49288109-80e9-4ec8-96d1-26a0166b8883\n",
      "4935818a-7e7a-4f44-a3b6-b361d1abfe16\n",
      "49b03a6e-6b26-4a96-a061-e05647a02138\n",
      "49c4dbd3-6269-4d4c-9648-a2146c57bab1\n",
      "49efc89d-9cba-44f7-8257-7f911b73f68a\n",
      "4a0a05e1-11ad-4bfc-bfa3-adf3b9bd0b56\n"
     ]
    },
    {
     "name": "stderr",
     "output_type": "stream",
     "text": [
      "\r",
      " 28%|██████████████████████▎                                                        | 342/1208 [00:10<00:25, 33.42it/s]"
     ]
    },
    {
     "name": "stdout",
     "output_type": "stream",
     "text": [
      "4a49841f-216c-4815-8140-b8762c4f6603\n",
      "4a717a39-80f8-4b75-a25e-c46d65d7dcd5\n",
      "4aad9589-6b32-4522-bcd7-ca04687a02ca\n",
      "4ab47131-c2ac-461f-b95c-ac19ce24edbd\n",
      "4adcaa26-aa1f-47b5-bdf0-18c9f814f576\n",
      "4b346035-b8c0-46ca-8fdb-a01b1421ee4a\n",
      "4b3a49bc-8536-4760-9553-440a6f64db37\n",
      "4c13e22e-dfd1-4fa1-b373-be9d0c272c0f\n"
     ]
    },
    {
     "name": "stderr",
     "output_type": "stream",
     "text": [
      "\r",
      " 29%|██████████████████████▊                                                        | 348/1208 [00:10<00:25, 33.70it/s]"
     ]
    },
    {
     "name": "stdout",
     "output_type": "stream",
     "text": [
      "4c460388-e0c1-4970-8527-c9e5b42bea49\n"
     ]
    },
    {
     "name": "stderr",
     "output_type": "stream",
     "text": [
      "\r",
      " 29%|███████████████████████                                                        | 352/1208 [00:11<00:53, 15.99it/s]"
     ]
    },
    {
     "name": "stdout",
     "output_type": "stream",
     "text": [
      "4c7d2382-a962-4237-a053-955eea3decd8\n",
      "4cccfcf0-cac9-46f0-870c-0eabfdc781ba\n",
      "4ce5a070-9ede-4bb1-9ca2-1bae5746776b\n",
      "4d0a1598-e4dd-45c4-8a90-dd7c780fe1da\n",
      "4d88e2d2-5aad-410c-9bbc-702ee9496995\n",
      "4d8a4ce8-0f9c-4f21-8844-4cf0e5514bbf\n",
      "4e2873dd-651e-4ecc-ac70-7335cf21a469\n"
     ]
    },
    {
     "name": "stderr",
     "output_type": "stream",
     "text": [
      "\r",
      " 30%|███████████████████████▎                                                       | 357/1208 [00:11<00:48, 17.68it/s]"
     ]
    },
    {
     "name": "stdout",
     "output_type": "stream",
     "text": [
      "4e43fc22-dc08-4cde-b3ce-ce8a4f377c47\n",
      "4f62b14e-c6f4-4155-8f50-881558f83fae\n"
     ]
    },
    {
     "name": "stderr",
     "output_type": "stream",
     "text": [
      " 30%|███████████████████████▊                                                       | 364/1208 [00:11<00:41, 20.21it/s]"
     ]
    },
    {
     "name": "stdout",
     "output_type": "stream",
     "text": [
      "4fac16e1-8e62-499b-a66b-c4c890372914\n",
      "4fb83278-adc5-4424-9f45-b6d0db2955b6\n",
      "4fc9a597-aaa8-43b0-ad1c-2eabbe442e84\n",
      "505355c9-23bf-4f90-8ebc-6a7ef50964d0\n",
      "50715879-2300-4dba-8f4a-3314ff8cfcce\n",
      "5077f87d-a19f-494c-b911-14ccb03bd230\n",
      "50d52637-f5e0-4d0d-aaee-4a29f044cf74\n",
      "50d7c6c9-3230-48fe-947c-7dcfd0aad710\n",
      "50d9fc90-8642-4bb6-91a7-0069a7e37392\n",
      "50f2f514-6c8e-4c79-b3b3-0be56dd0b78b\n"
     ]
    },
    {
     "name": "stderr",
     "output_type": "stream",
     "text": [
      "\r",
      " 31%|████████████████████████▏                                                      | 370/1208 [00:11<00:34, 24.30it/s]"
     ]
    },
    {
     "name": "stdout",
     "output_type": "stream",
     "text": [
      "5107dcb7-164f-4e10-bbff-822b39b76efc\n",
      "516bf1d5-5d00-4985-926c-3993e9bc3ff5\n",
      "51e86aa9-caa0-4297-94e8-34a57d7f7e36\n",
      "521a26aa-0a31-4c07-b4d0-fac08eb08344\n",
      "52767904-4cdc-4821-ba68-8cd0c28f9023\n",
      "530761d4-1931-44cd-b220-d60db0e228f9\n",
      "533c47c9-02a6-419b-961b-81797f022f6c\n",
      "5397d8e2-bb09-42e7-9861-65ffad0fe94e\n",
      "53afd70c-08a7-4b9a-b137-7003b2ecbeab\n",
      "540a5fee-175b-4b92-bf62-1ea9b59c86c6\n",
      "5487faad-24a7-46b6-92d8-479d3a8d229f\n",
      "550cf4ce-b641-44a3-8487-3e16d4049187\n",
      "555c6ea2-c76c-4e71-af57-855d940c2b37\n",
      "55836297-fc8e-4e00-9767-0d12b86e4604\n",
      "55f8c052-8e49-4423-a4c4-365fc6afb6e1\n",
      "56077789-8580-41b4-89d6-deea227e5c60\n",
      "565513be-2c20-4ee3-94f3-093869515d3d\n",
      "56551792-4aa1-4301-9f8f-8bfebcd20050\n"
     ]
    },
    {
     "name": "stderr",
     "output_type": "stream",
     "text": [
      " 33%|██████████████████████████▏                                                    | 401/1208 [00:12<00:11, 67.78it/s]"
     ]
    },
    {
     "name": "stdout",
     "output_type": "stream",
     "text": [
      "56a57a8d-c9b9-432a-a3b0-32a09355806c\n",
      "56adbb1e-96a8-40a5-a5a2-243c97ea889b\n",
      "56fbae44-4677-47f8-9c3a-22dac043c115\n",
      "5721e41b-90ef-4851-8587-8dc71227ef90\n",
      "57e1879e-4294-45e7-9c1b-627e8cca0271\n",
      "580210c2-a8ed-4720-b71c-a77945968abc\n",
      "58065a0c-d4c5-40fd-bcdc-037f61788482\n",
      "582e4b8b-404e-4b30-9df3-66f2afb3cdb3\n",
      "5836500a-221e-40ca-a8be-caaa37f7d300\n",
      "584d62ed-4329-45dd-94ce-e929d8b2bb74\n",
      "58594235-0d32-4a4e-91cd-4c800eaaaa73\n",
      "587e5464-d70b-4279-8562-010279f6efbd\n",
      "5893e081-04f2-4e33-9851-bed5f0e4d333\n",
      "58ced55c-bf0d-4204-b6b2-4f8992d92779\n",
      "58d75854-be99-484e-89f0-4ab208fe07e0\n",
      "58f7e1da-3478-48f4-958c-e9b1cb8696aa\n",
      "592c941a-aa54-4971-b499-dc47356f80a3\n",
      "5939f341-a886-4f63-ae87-2219d000a1d4\n",
      "59542a24-b409-4c95-8608-d9691a741526\n",
      "5955289d-19e5-45ef-a012-c8ea08ef45e2\n",
      "597bbff8-6592-41cf-8946-e59b0d1f289a\n",
      "59daa25e-85d6-42f2-8f39-cc9f9d5d252e\n",
      "59dc7da9-35d1-421e-a61b-1e9637bfbfa1\n",
      "59f5699f-885f-4004-b783-a60060144e43\n",
      "5a043d69-f435-46d4-8691-395c1602a76a\n",
      "5a0628af-4c0a-4ba6-a935-4ec94c9c700e\n",
      "5a105b89-c592-4d78-b208-7db6c6572752\n",
      "5a386082-397f-4524-a6f9-c2b8efe5014d\n",
      "5a539312-6cfa-43e6-8d5d-db883f343ad9\n",
      "5a631871-2fc7-4a68-9c39-f3b9a0bf4a04\n"
     ]
    },
    {
     "name": "stderr",
     "output_type": "stream",
     "text": [
      " 35%|███████████████████████████▉                                                   | 427/1208 [00:12<00:09, 86.75it/s]"
     ]
    },
    {
     "name": "stdout",
     "output_type": "stream",
     "text": [
      "5bf91ff9-80df-49c0-9c3e-599357d95530\n",
      "5c037ffc-f515-48b3-b231-c110fbd2b8ca\n",
      "5c5b7965-1a44-44b8-aa43-660823e61821\n",
      "5c68070c-3391-4db6-8c01-94175105dbea\n",
      "5c99cd97-39f6-4809-9528-9d380cc16b16\n",
      "5cac6ddf-c8c6-45de-bce0-a1db64b14fb5\n",
      "5ccca8ee-abea-458a-a891-bedd31c3ddc3\n",
      "5d1418d3-1559-4725-ad4a-9afb6eaecdfd\n",
      "5dec0204-af81-44ef-a942-8a173669c123\n",
      "5dec94a3-e3ca-4a58-9702-88e5a83ef612\n",
      "5e042380-6ef2-496f-8231-0ca550fbfa71\n",
      "5e17f8e6-fd8d-426c-b444-1515d14f04b7\n",
      "5e2cea49-0823-49d1-83cf-8fd1559cdd93\n",
      "5e4f7425-11e6-4f9e-be2d-5a27deb9d1b4\n",
      "5e974892-0ebe-4037-8427-ea8616d6d3b8\n",
      "5f17d2fb-22fa-4aa6-9dad-6a1d50c03815\n",
      "5f2b32bd-fdca-4d6f-b13a-ee9f83626c8d\n"
     ]
    },
    {
     "name": "stderr",
     "output_type": "stream",
     "text": [
      " 37%|█████████████████████████████▎                                                 | 448/1208 [00:12<00:09, 83.91it/s]"
     ]
    },
    {
     "name": "stdout",
     "output_type": "stream",
     "text": [
      "5f300fd1-7eec-41ac-bbd1-0f4a943c757c\n",
      "5f491efd-a21c-4a80-aaba-70b8876238ac\n",
      "5f66d20c-fbfe-44ec-a01b-8a09da24807e\n",
      "5f742392-278d-461c-a848-08def2c28878\n",
      "5f783f43-0090-4f8a-bd75-9562f4aa2dd5\n",
      "5ff7c0c8-d208-4e7d-958d-ca3c2260ff39\n",
      "6013bff0-dc4b-4bde-9409-0f6139c3495c\n",
      "612bdd3c-da43-4321-a76b-c73c614928d1\n",
      "6144887d-a1c1-46db-91a1-f7ff5bf8c8a5\n",
      "61575482-91e1-4db9-83c7-687b7ddbbfc4\n",
      "61cd8c7d-394d-42d3-9ed4-e09559110bed\n",
      "61dfc937-a428-44b4-94fb-d682bdb8dff0\n",
      "6231d81d-9e84-4a5a-8cb8-47c6a37a0176\n",
      "6274fe0d-0d71-40be-b61b-f0bd5b5df1e2\n",
      "627d6331-7bb9-4d1a-b20d-e6541af4d0f9\n",
      "6294153c-6db3-4f2b-a8ff-9c087225e737\n",
      "6303f964-98ef-47c6-bb2d-283aa393f918\n",
      "63055d1b-5221-4c80-8b39-37ac069a1b5c\n"
     ]
    },
    {
     "name": "stderr",
     "output_type": "stream",
     "text": [
      "\r",
      " 38%|█████████████████████████████▉                                                 | 458/1208 [00:12<00:08, 86.22it/s]"
     ]
    },
    {
     "name": "stdout",
     "output_type": "stream",
     "text": [
      "631340cc-cedf-4bca-a3d8-a0731a5482b4\n",
      "6315a55b-fed1-4355-88fa-8594538acf18\n",
      "6347dd6a-cfdf-4cb5-bc50-cff5403cfecb\n",
      "637957ef-df75-4a7b-86d5-9f6e9c042ca2\n",
      "6382976c-ee87-4916-b798-4ef1373b2df0\n",
      "6388e241-09a2-4fbe-a712-07d8fe714c51\n",
      "63d36d2c-43a9-49ac-9504-028b4968c860\n",
      "63ed5931-d93e-4f9b-a6f3-152713cb560e\n",
      "640c4a52-3742-4f57-aee3-9e3dc0887622\n",
      "64113b22-03b1-4ab8-89ab-b2f32154fbbd\n",
      "645cd195-af50-409f-8da9-6e7c7f18ea09\n",
      "6473ddb6-ad56-48a2-81e8-c7cb45f06825\n",
      "64a678d4-9048-4491-90c7-1924f38be19a\n",
      "64b0e49a-0e48-447d-8872-c1dd255e7a21\n",
      "65054b19-5c6a-4870-99a9-eef994721d3a\n"
     ]
    },
    {
     "name": "stderr",
     "output_type": "stream",
     "text": [
      "\r",
      " 39%|██████████████████████████████▌                                                | 468/1208 [00:13<00:16, 45.34it/s]"
     ]
    },
    {
     "name": "stdout",
     "output_type": "stream",
     "text": [
      "65e3d6a6-012c-4b40-9a42-83078eb85e31\n",
      "65e865f3-acfb-4d01-a75f-ff5a535ffa6a\n",
      "65e8b0cd-05d1-4c8d-8efd-24bf71df3167\n",
      "66183740-e1e5-43c9-8539-a87028bb3621\n",
      "664c570b-4822-413c-9724-11b1d91fac44\n",
      "66557580-fd38-4d4b-80d8-88611ecc78c6\n",
      "666601e7-608d-4d19-999f-8fc6ab373a55\n",
      "6695a204-e39c-4418-b904-3f080fdbe7e8\n",
      "672e4ecf-a56b-462e-b83b-76f4efaa6634\n",
      "674b0fd3-f247-4b7f-97f7-3e6c57c9ba9e\n"
     ]
    },
    {
     "name": "stderr",
     "output_type": "stream",
     "text": [
      "\r",
      " 39%|███████████████████████████████▏                                               | 476/1208 [00:13<00:16, 43.25it/s]"
     ]
    },
    {
     "name": "stdout",
     "output_type": "stream",
     "text": [
      "67582df6-bf13-4c83-a531-1214692b70de\n",
      "6795acae-e84d-4e97-b9a1-b4f4f0a72cfd\n",
      "679ae89f-4a02-4301-862e-1d844cc66cbf\n",
      "67a4fb91-6f38-4ca2-8f20-6b2f5f1b29a7\n",
      "67abb826-9b70-4459-8764-da76ecf35bfe\n",
      "67acd5bc-4658-4c6e-a9b9-cd8ea3a03418\n"
     ]
    },
    {
     "name": "stderr",
     "output_type": "stream",
     "text": [
      " 40%|███████████████████████████████▉                                               | 488/1208 [00:14<00:39, 18.26it/s]"
     ]
    },
    {
     "name": "stdout",
     "output_type": "stream",
     "text": [
      "67f5ca94-d84e-490e-bf0d-4ffba7bdbe30\n",
      "68442532-9cd2-4b42-9d4f-ddf8c13bb38c\n",
      "686ed568-d5f8-475e-81ad-edab9dd473a0\n",
      "68e69cfb-1a07-48d2-8abe-46b46fe264ed\n",
      "68f34a9c-f73d-4238-8f55-4b05a8a2154c\n",
      "694222bb-cddf-469a-9526-f873c6fba58e\n"
     ]
    },
    {
     "name": "stderr",
     "output_type": "stream",
     "text": [
      "\r",
      " 41%|████████████████████████████████▎                                              | 494/1208 [00:14<00:34, 20.58it/s]"
     ]
    },
    {
     "name": "stdout",
     "output_type": "stream",
     "text": [
      "69565501-6e77-4f40-bd80-caa3dda34d8b\n",
      "69569ecf-cfa1-4ddd-9342-b22c23387fdb\n",
      "697bdbc0-6e31-4e48-ac74-ba4ab5760d32\n",
      "69b5b3de-ec64-4e5d-bcc2-44f495e06e76\n",
      "6ab870ba-b24b-49a9-9570-8eafe63aa74e\n",
      "6ad3efc9-4392-4cee-98a5-186564a96373\n",
      "6afb3717-f197-4668-929a-4fab389ae6e8\n",
      "6afd8203-d61a-4e9b-a4cf-dcb53a16b57c\n",
      "6b14c855-8561-417c-97a4-63fa552842fd\n",
      "6b2ff7ca-c5b3-415c-9481-7b14efc6d7ef\n"
     ]
    },
    {
     "name": "stderr",
     "output_type": "stream",
     "text": [
      "\r",
      " 41%|████████████████████████████████▋                                              | 499/1208 [00:15<00:33, 21.04it/s]"
     ]
    },
    {
     "name": "stdout",
     "output_type": "stream",
     "text": [
      "6b473806-e936-4b19-98cf-a2b94cac35ff\n",
      "6b4c79f5-b194-4586-be9f-e339c5af4188\n",
      "6b5ed184-cb15-4d54-93bb-9a3ca00184a1\n",
      "6b8048ed-ebd7-4789-ba87-c1ba94801481\n"
     ]
    },
    {
     "name": "stderr",
     "output_type": "stream",
     "text": [
      "\r",
      " 42%|████████████████████████████████▉                                              | 504/1208 [00:15<00:32, 21.90it/s]"
     ]
    },
    {
     "name": "stdout",
     "output_type": "stream",
     "text": [
      "6ba5d0b8-cdc7-4266-9d78-db76faa312e9\n",
      "6bb4892c-27a9-4642-aba1-4b73f38f757c\n",
      "6bc7b53c-5a98-48ef-a9de-59a476707ea4\n",
      "6bfe6a90-8a69-4171-8e7f-42dc9417c6d9\n",
      "6c20abb2-c4bb-4de0-8774-03f4d30ce93d\n",
      "6c3f81d7-5670-46bd-9eaa-9b426413abb7\n"
     ]
    },
    {
     "name": "stderr",
     "output_type": "stream",
     "text": [
      "\r",
      " 42%|█████████████████████████████████▎                                             | 510/1208 [00:15<00:28, 24.38it/s]"
     ]
    },
    {
     "name": "stdout",
     "output_type": "stream",
     "text": [
      "6c7095cd-ab6b-4f53-bd94-905d0cc95840\n",
      "6d05ed67-43e2-43af-9d57-70c7a6eeef5e\n",
      "6d91d1f0-636b-4f5a-a526-7c17fc857190\n",
      "6dfafdf1-f588-4e80-8cf8-0126e1bf7af9\n",
      "6e39fb0a-aa41-4b16-b783-7589e97bf289\n",
      "6e7ed596-1b76-4998-8147-a846d53d91c5\n",
      "6e86206f-dafe-4c28-bacc-7b83b2d40f0c\n",
      "6f4ffe7b-395f-41ea-ad61-df5e0cbd531c\n",
      "6f67a66b-56ec-4c36-ae7c-f250d3b86a23\n",
      "6fa2b30f-9b89-46ac-9b79-c0bc105d4271\n"
     ]
    },
    {
     "name": "stderr",
     "output_type": "stream",
     "text": [
      " 43%|██████████████████████████████████▏                                            | 523/1208 [00:15<00:21, 32.31it/s]"
     ]
    },
    {
     "name": "stdout",
     "output_type": "stream",
     "text": [
      "6fb707b1-5c07-479f-8385-5404bf5747b0\n",
      "6fd30823-3b77-40c9-ba5d-e1eda9660674\n",
      "701206c5-aaac-4b99-9cc0-4a6854359457\n",
      "7029feb3-9ffe-46e4-9883-6a9df84f7b62\n",
      "7094c11a-1e62-4f98-894e-d17d138a88e9\n",
      "70a95e58-ba60-4c1f-adcd-49c198dc2ba0\n",
      "711f6b3f-cd63-46d1-834a-bc8e9aa9b43e\n",
      "71204a6d-814e-44b6-9cee-7b979f478021\n"
     ]
    },
    {
     "name": "stderr",
     "output_type": "stream",
     "text": [
      " 44%|██████████████████████████████████▊                                            | 532/1208 [00:16<00:21, 31.97it/s]"
     ]
    },
    {
     "name": "stdout",
     "output_type": "stream",
     "text": [
      "715761a2-745e-4743-9849-956a034ad3c4\n",
      "716273ea-19c4-49af-8604-df587b295eca\n",
      "71881a39-a30c-40c7-8c4a-9f64c93e79d9\n",
      "71925778-a26e-483e-a07c-f3aaf740122a\n",
      "71bbdc58-11af-41f2-9a93-3fe9257c5cf3\n",
      "71cf2467-77d3-4fac-ac6e-1d8767717c34\n",
      "72029aca-f0bc-477f-b790-f345f86228ce\n",
      "72088c26-d2dd-4906-b791-b8947fc7fbe4\n",
      "72105bb0-8e39-48be-b7f7-5b32f047b99e\n",
      "724e0c34-32cd-41f1-ae37-586038bc67ab\n"
     ]
    },
    {
     "name": "stderr",
     "output_type": "stream",
     "text": [
      " 45%|███████████████████████████████████▏                                           | 539/1208 [00:16<00:38, 17.44it/s]"
     ]
    },
    {
     "name": "stdout",
     "output_type": "stream",
     "text": [
      "72732579-a812-4496-b2dd-ea1556924337\n",
      "729733ff-a349-4a96-b636-ccabe7d7e167\n",
      "729a38d6-66db-48e5-a00d-7d90d224290f\n",
      "73dd09d3-2bff-4b5e-b996-9da0b8b54a8f\n",
      "74261741-4d6e-4dba-8ad4-4fbdf919c30f\n",
      "749df49e-5212-49ea-9e88-7d66f258f1df\n"
     ]
    },
    {
     "name": "stderr",
     "output_type": "stream",
     "text": [
      " 45%|███████████████████████████████████▊                                           | 548/1208 [00:17<00:29, 22.42it/s]"
     ]
    },
    {
     "name": "stdout",
     "output_type": "stream",
     "text": [
      "7521ec48-57b5-48a8-a5d6-8280ad5da19c\n",
      "75579b27-8191-4044-859b-268be969c42b\n",
      "755e5bf8-e8e1-492b-a32f-f7d87cccaa40\n",
      "75660b56-51c2-45a9-9c15-e18d12a3af8c\n",
      "75c243e2-610d-4d5a-bc5a-4c53d99d9ae9\n",
      "76021d69-8919-4688-95ef-7418eff620cc\n",
      "7624ac36-1cf9-42fb-844d-376078309553\n",
      "7625dfc4-858a-4c8e-907c-8943d665e9a7\n",
      "766d5547-8dd2-4c8d-b78e-3007f83932e8\n",
      "76a8a5f5-1328-4539-a131-baf877f40cf3\n"
     ]
    },
    {
     "name": "stderr",
     "output_type": "stream",
     "text": [
      "\r",
      " 46%|████████████████████████████████████                                           | 552/1208 [00:18<01:14,  8.83it/s]"
     ]
    },
    {
     "name": "stdout",
     "output_type": "stream",
     "text": [
      "76b24246-8571-4e7b-8815-b185414a2c51\n"
     ]
    },
    {
     "name": "stderr",
     "output_type": "stream",
     "text": [
      "\r",
      " 46%|████████████████████████████████████▎                                          | 555/1208 [00:18<01:25,  7.64it/s]"
     ]
    },
    {
     "name": "stdout",
     "output_type": "stream",
     "text": [
      "76dbce7f-dc3e-4a29-b1fe-ab9dce583080\n",
      "770b8ca4-8377-479b-9ad5-5455ec3b44f8\n",
      "77e76e62-2c71-4b52-9b21-0d1bcde9f9bf\n",
      "781d4bea-c6a9-4b36-ae10-ba9e328c87fe\n",
      "783ae4ad-6a35-4b3c-b19f-754974b67b2d\n",
      "787abd97-dd37-4212-8b43-61696eb3abc0\n",
      "78a5d1c3-44dd-44bc-ad5b-5e25bdcc4fae\n"
     ]
    },
    {
     "name": "stderr",
     "output_type": "stream",
     "text": [
      " 47%|████████████████████████████████████▊                                          | 563/1208 [00:19<00:56, 11.49it/s]"
     ]
    },
    {
     "name": "stdout",
     "output_type": "stream",
     "text": [
      "78ac1e98-7062-4e27-8d58-25c392cae889\n",
      "78c35732-7e31-4153-842e-55ab1cd656f6\n",
      "7942691b-6376-4c75-ae8a-ddf65454dcb2\n",
      "795d0331-da56-4d45-a58a-54803408ffd9\n",
      "79806898-0214-44bd-ba2c-b570e911be62\n",
      "79b3a64f-2fb9-46e0-85d4-2bdd59c2075e\n",
      "79d7a014-21ff-40f1-9ac4-a69839390654\n"
     ]
    },
    {
     "name": "stderr",
     "output_type": "stream",
     "text": [
      "\r",
      " 47%|█████████████████████████████████████▏                                         | 568/1208 [00:19<00:43, 14.66it/s]"
     ]
    },
    {
     "name": "stdout",
     "output_type": "stream",
     "text": [
      "79f2fbab-169d-4062-820d-3dfd12f062c8\n",
      "79f63258-24ce-4e69-a5cb-8529635a89a9\n",
      "7aae78ce-ac97-478d-983c-c0ec290171df\n",
      "7abc0d26-dd66-4ef4-8c4e-4a661e589a7f\n",
      "7ba9db7e-9d3f-413c-b672-2bba5fb5b415\n"
     ]
    },
    {
     "name": "stderr",
     "output_type": "stream",
     "text": [
      "\r",
      " 47%|█████████████████████████████████████▍                                         | 572/1208 [00:19<00:38, 16.45it/s]"
     ]
    },
    {
     "name": "stdout",
     "output_type": "stream",
     "text": [
      "7bcd3735-3134-46d1-8ca2-d4379f2d51c0\n",
      "7bde7de1-889b-4218-b0e1-e2c04f6a7986\n",
      "7beee655-6156-43b8-b185-dbae0eaf7f45\n",
      "7c1cd7c7-7452-4428-a98e-dd7675c8ddea\n",
      "7c66d2fd-68ee-4628-b860-9d7ad25b2a80\n",
      "7c68c343-a7d3-4d26-b330-a5bb97ab8d9c\n"
     ]
    },
    {
     "name": "stderr",
     "output_type": "stream",
     "text": [
      " 49%|██████████████████████████████████████▌                                        | 590/1208 [00:19<00:18, 33.64it/s]"
     ]
    },
    {
     "name": "stdout",
     "output_type": "stream",
     "text": [
      "7c870293-2665-4a6b-a4fa-336959051dfc\n",
      "7d041c38-11f2-4186-8a24-29d7d0f5c3cf\n",
      "7d4c2160-317f-48d1-a60a-788ec300b3e8\n",
      "7d4d0646-26b5-46fa-ab25-452d986e887b\n",
      "7d65d296-0f7b-41cc-9073-a547e24326c8\n",
      "7d9c1422-6332-44e9-b134-3ac94f07b0f0\n",
      "7db1373d-5bbf-47e6-ab40-30cba7678745\n",
      "7dcc84ce-e8b4-46c8-9506-7c8ebda5da2f\n",
      "7dfbfeaf-e3b1-4159-8dcd-d7f731280ac8\n",
      "7e25ced3-5caf-47f8-ad0c-42946bd4468b\n",
      "7e837856-3519-4dc0-b357-4cdcfd30b4eb\n",
      "7eae1169-e294-4594-8e03-1366d23ff2d1\n",
      "7eb95580-693f-41b6-9338-174be1430c23\n",
      "7ef90770-6aeb-45eb-9744-49c5247dde30\n",
      "7f528918-27d4-421f-ab57-0cf9c693e697\n",
      "7fd2d254-b062-4f3d-8970-687e73c5a00a\n",
      "7fdc8be8-7579-4a5c-b369-8a07ee0a8b7d\n",
      "8002cb71-0f25-4fa4-a46f-b49e5aeded0c\n",
      "801296d9-3403-426f-859e-5c532858e025\n"
     ]
    },
    {
     "name": "stderr",
     "output_type": "stream",
     "text": [
      " 50%|███████████████████████████████████████▍                                       | 603/1208 [00:20<00:15, 38.95it/s]"
     ]
    },
    {
     "name": "stdout",
     "output_type": "stream",
     "text": [
      "80da32ce-8c22-470e-9f35-558c5f7a5df9\n",
      "815bf40c-371a-4d34-aa41-c549c8221881\n",
      "8190ec37-9a5e-419f-89ed-fbfb079370db\n",
      "81a2748d-51c9-4439-995d-f747871d6544\n",
      "81af1442-d835-46bf-b80b-a898dba3da1b\n",
      "81c3c8f0-d5a9-4dda-afd5-e86f6afd9424\n",
      "81edcae1-65bf-4752-b0e4-494376b71e49\n",
      "81fed4a1-9d48-4938-90c9-c8bf3f5e6b1f\n",
      "820bbfea-3dae-46fc-b61a-3d0ed2ea01c2\n"
     ]
    },
    {
     "name": "stderr",
     "output_type": "stream",
     "text": [
      " 51%|████████████████████████████████████████                                       | 613/1208 [00:20<00:25, 23.64it/s]"
     ]
    },
    {
     "name": "stdout",
     "output_type": "stream",
     "text": [
      "8271d0d8-9985-43eb-94b3-c702adca139f\n",
      "833b1d3e-d389-4d0f-8638-6aca5b89f917\n",
      "834a30bb-26bf-4e60-9ea1-3250b926892e\n",
      "83d4e1fe-da84-4175-a9e2-8efc18782dcf\n",
      "83ec1cb9-1714-4bf1-81f6-115fde84564d\n",
      "83ec8923-6232-40d7-ba1f-a1b8bf7cb66c\n",
      "84041bf9-dace-4066-9fe0-52170d08f826\n",
      "8490c623-3d88-4532-baf5-0d266a45b16f\n",
      "84c88143-940d-4b62-bbd2-7acc4cadcb6b\n",
      "84d7545e-c3a8-4b1f-9a39-36aab78c8699\n",
      "84ee2ea3-9edd-4672-a1b3-f09c607d833a\n",
      "85546330-4efd-43e2-87aa-d53a30220bfc\n"
     ]
    },
    {
     "name": "stderr",
     "output_type": "stream",
     "text": [
      " 52%|████████████████████████████████████████▊                                      | 624/1208 [00:21<00:20, 27.82it/s]"
     ]
    },
    {
     "name": "stdout",
     "output_type": "stream",
     "text": [
      "85a4d82e-cfb7-4983-b272-626c9e8c7583\n",
      "861c3e06-aada-47a0-99ae-94fbc2772cc0\n",
      "86495bbf-687b-429c-b9d3-6c2681ade7e2\n",
      "867f30da-2568-4480-9968-cece78c61c64\n",
      "8757be1e-b832-407a-8e95-62abae485b24\n",
      "877d5e7f-19b6-40e7-81bd-c92f25e72503\n",
      "87d6343b-70dd-4cdd-939f-d3ac0ca2e700\n",
      "882b91b7-5906-4091-bad4-688d4375eeb5\n"
     ]
    },
    {
     "name": "stderr",
     "output_type": "stream",
     "text": [
      "\r",
      " 52%|█████████████████████████████████████████▏                                     | 630/1208 [00:21<00:19, 29.58it/s]"
     ]
    },
    {
     "name": "stdout",
     "output_type": "stream",
     "text": [
      "883b726a-f61c-4382-9f1b-2fff302beba6\n",
      "883d9731-a04d-4f84-83c9-d3bef954759d\n",
      "8855c685-5a8c-4967-a356-942ed89e3471\n",
      "8939e14b-fcdf-48b1-acb9-6514a2fc2fc0\n",
      "89b276cc-cc8f-4378-a877-e01aff333373\n",
      "89b3d781-2f81-4d23-bed4-84da064df7f3\n",
      "89f10192-d3dd-4996-a571-4c851dbdc983\n",
      "8a4aadac-cf5c-4a79-b875-271b3fbfd230\n",
      "8a7deb24-d2b4-4acf-86c4-3aadd39157fa\n"
     ]
    },
    {
     "name": "stderr",
     "output_type": "stream",
     "text": [
      "\r",
      " 53%|█████████████████████████████████████████▌                                     | 636/1208 [00:21<00:18, 30.58it/s]"
     ]
    },
    {
     "name": "stdout",
     "output_type": "stream",
     "text": [
      "8ab5c462-045e-4b59-b53a-9b2bc3ed2487\n",
      "8ad7ba46-5db8-4ba9-b3e0-3cac52f7efc3\n",
      "8b494b40-cab5-49d3-893d-c805000fbe88\n",
      "8b89b3fc-95ef-4f2e-b94b-0291dbffe0f4\n",
      "8bd71314-e38a-4670-bb25-5cd6c9acb595\n"
     ]
    },
    {
     "name": "stderr",
     "output_type": "stream",
     "text": [
      "\r",
      " 53%|█████████████████████████████████████████▊                                     | 640/1208 [00:21<00:19, 28.91it/s]"
     ]
    },
    {
     "name": "stdout",
     "output_type": "stream",
     "text": [
      "8be185e7-2a1a-441c-a5c7-b50a9eb926cb\n",
      "8cc6fe77-5f2f-4670-b4ac-1b49550241a8\n"
     ]
    },
    {
     "name": "stderr",
     "output_type": "stream",
     "text": [
      " 54%|██████████████████████████████████████████▎                                    | 647/1208 [00:22<00:31, 17.92it/s]"
     ]
    },
    {
     "name": "stdout",
     "output_type": "stream",
     "text": [
      "8cca114a-ed05-4b87-95b7-fae02487f08c\n",
      "8d02117d-6c71-4e47-b50a-6cc8d5eb1d55\n",
      "8d56197c-21d7-4cb6-92df-80637efd129b\n",
      "8d5d5c22-2f75-4fe1-9ea3-03a3c7b92ea9\n",
      "8d989997-038c-4924-b2d3-d02629a7cdf5\n",
      "8dace03a-10c4-4d59-bcd9-a2c314c5df33\n",
      "8e078333-8fa0-45be-a46e-fa05708cb365\n",
      "8e0dfc1f-e3eb-4a3f-a1c4-249bdfbfaa27\n"
     ]
    },
    {
     "name": "stderr",
     "output_type": "stream",
     "text": [
      " 54%|██████████████████████████████████████████▉                                    | 656/1208 [00:22<00:23, 23.25it/s]"
     ]
    },
    {
     "name": "stdout",
     "output_type": "stream",
     "text": [
      "8e4bdd0d-1c72-4836-ae3e-05e2e50e4983\n",
      "8e69098c-fae0-47a3-8833-c2bfdfb1a416\n",
      "8e72e20e-e714-4db6-a1da-c05a409257d4\n",
      "8eeb378e-90f0-47ea-ac1c-2a201eb8d090\n",
      "8f84a2c9-ca38-4405-a488-12fcd101278b\n",
      "8f96ee1f-4ef7-4279-a610-316319bedcf9\n",
      "90171428-f208-428a-b40e-f57ee3bea457\n",
      "90246988-0d6d-4bf8-8a76-94107de4121e\n",
      "907650b5-edae-471d-bc54-a825be3d3fac\n",
      "90a82250-1f68-48c9-9af9-15f18bf8c974\n"
     ]
    },
    {
     "name": "stderr",
     "output_type": "stream",
     "text": [
      " 55%|███████████████████████████████████████████▌                                   | 666/1208 [00:23<00:20, 26.94it/s]"
     ]
    },
    {
     "name": "stdout",
     "output_type": "stream",
     "text": [
      "9106a6bb-1352-411f-ac26-0d6fe48c16a8\n",
      "913099c5-8085-4908-bf4b-1f098bbfcf66\n",
      "9147a21d-0de2-4c04-88da-b788311696ac\n",
      "9174f910-3859-4839-8e30-2c3b25269322\n",
      "91827f1a-9b04-4ef0-972c-12e90e60c516\n",
      "91e93160-eb8d-4de0-b6bc-b98ec33d1663\n",
      "9258fe22-6406-4d00-b6f0-3f9492925405\n",
      "92e4fd7b-79ef-49c2-a52b-9ef13dd720ef\n",
      "933e7e07-fc3d-42eb-be0c-6b1623ee60fa\n",
      "939ad732-d7c5-4339-b087-4335b49d6a3c\n"
     ]
    },
    {
     "name": "stderr",
     "output_type": "stream",
     "text": [
      "\r",
      " 56%|███████████████████████████████████████████▉                                   | 672/1208 [00:23<00:17, 29.83it/s]"
     ]
    },
    {
     "name": "stdout",
     "output_type": "stream",
     "text": [
      "93a306b8-594a-4c7f-8b4a-127fb6ad8f1a\n",
      "93b47b14-7f78-4b31-8897-d63a81fdab01\n",
      "93f40356-5676-45d3-8e83-8028708c93ba\n",
      "93f7e207-0d8e-47f8-8258-09a0e03dbdd6\n",
      "947348fe-4c70-468e-8009-3c14daeca69b\n",
      "948c94ad-395c-41f4-9a68-8a1dcb76888c\n",
      "94b5a9a1-1c88-4400-aca4-3d56f543fc4a\n",
      "94d9fa50-d3e4-4eaf-acfc-92e7f2ed9ea5\n"
     ]
    },
    {
     "name": "stderr",
     "output_type": "stream",
     "text": [
      " 57%|████████████████████████████████████████████▋                                  | 684/1208 [00:23<00:15, 33.98it/s]"
     ]
    },
    {
     "name": "stdout",
     "output_type": "stream",
     "text": [
      "95bea542-6cd0-41c5-82c5-509af8c3b505\n",
      "95d5e689-c1d1-4ae8-a659-cc20c62a99f0\n",
      "95fea6d8-413f-421e-b331-5d51c31df150\n",
      "9615ff33-b3fc-4d1e-9c05-0b8e3ef936df\n",
      "96596a68-8c95-43f3-b74e-e9506c235144\n",
      "9691c57a-ccf8-47f9-a8e9-9a324974585b\n",
      "97eff653-3908-4e66-931f-eab36bc336c8\n",
      "98175327-da9e-4e0c-8912-ee68490a4672\n",
      "9842445c-5899-4189-9f2e-3a3a179fdad3\n",
      "984caf56-f400-4a29-be97-a4d6b9d1468d\n",
      "985627c9-7b85-40de-a106-eb9cc47b47cb\n"
     ]
    },
    {
     "name": "stderr",
     "output_type": "stream",
     "text": [
      " 59%|██████████████████████████████████████████████▏                                | 707/1208 [00:23<00:07, 64.23it/s]"
     ]
    },
    {
     "name": "stdout",
     "output_type": "stream",
     "text": [
      "98976666-9125-47fe-9601-43c41e58dfb4\n",
      "989d86a1-6d76-4089-85cf-2f2ca0a8456c\n",
      "98c25ffe-c329-420a-bc22-b082f565eac9\n",
      "98efca97-37d2-4459-aca6-375ecc0c4539\n",
      "997eabd9-55bf-4683-83c4-4cee4673a4ef\n",
      "99a21c5c-f5a7-4c07-9cb6-5dda2d388f48\n",
      "99b13257-b9d9-422f-8262-802da0bdc510\n",
      "99d6a7e5-128e-4455-841d-8fbd1663905e\n",
      "99e979d4-ee97-4d7f-9da6-00bead40db4d\n",
      "9a1cd456-310c-47b6-a1f8-0fbd8e33d1fd\n",
      "9a25f103-1683-47d1-8b07-ac20fe0b3ee9\n",
      "9acf303a-fcba-4e52-be3e-8d061aa5e72a\n",
      "9af1ee02-87fd-42bc-963e-fa9ac3eb45bb\n",
      "9af4b8ae-c912-41fd-b4c0-34864c75360f\n",
      "9b3fd401-dab0-440f-8498-eb3cc9ffa970\n",
      "9b410534-3b70-4a88-9f93-205cf4e55a05\n",
      "9bd40bc6-4949-42d3-b38f-d60422932f65\n",
      "9c48fdf4-621d-4f40-bcd7-6a28cd530de7\n",
      "9c4cb048-d64a-4b7f-84ff-ca28a8084fc7\n",
      "9c5f48c0-0544-4c0c-92b4-59b7d7b7814c\n",
      "9ca20b10-e2fd-4bd2-93ef-78298f763ed5\n",
      "9cdee92c-6267-4188-a41e-125bc0abb9ae\n",
      "9d155086-acf5-4c86-a9e1-94b587c46e87\n",
      "9d819c89-4ea9-4e75-9b03-da87fa6c6f4d\n",
      "9dc6ed5d-6698-48cf-aab3-fd156673729c\n",
      "9e0e1928-d19a-4100-b093-0b962ac09e05\n",
      "9e1b0217-0926-4fd1-bb9e-a815c05deb59\n",
      "9e5437c6-b0d3-473b-b7c3-8f5afeb90c7a\n",
      "9e74feb8-017d-4d53-8896-9ebda4327dd1\n",
      "9e793460-d94c-47ac-b3a7-0d6ad86357da\n",
      "9e82c996-2cfa-418d-9482-8ee23e9d0a5d\n",
      "9eb66577-7857-43dc-a879-8f2c9d7f780f\n",
      "9ebd623d-5534-4dd9-bff8-cdedf322db35\n",
      "9ec1dcec-87c2-4aca-8e6b-0db3cd05509c\n",
      "9ecf2006-8d49-4ae8-a14b-ed8b3b14ee7c\n"
     ]
    },
    {
     "name": "stderr",
     "output_type": "stream",
     "text": [
      " 62%|███████████████████████████████████████████████▉                              | 743/1208 [00:23<00:04, 110.31it/s]"
     ]
    },
    {
     "name": "stdout",
     "output_type": "stream",
     "text": [
      "9edba799-e169-46cd-b100-c9f8fc7a8c7d\n",
      "9f33e0ea-065b-4703-9df9-15829b891860\n",
      "9f38055f-4fe6-47fd-a6dd-c0743db4eccf\n",
      "9f4bc3b4-abb0-4bcb-baa8-ec9f25e2b9c6\n",
      "9f959520-e15e-45c2-bc29-ef3c19154d1c\n",
      "9fbf38ab-44b9-4096-a818-603017a4300e\n",
      "9fe8bdc8-847d-434e-93e5-ae14ff3b45e1\n",
      "a054a8e2-55f2-4508-97df-207f76b89be2\n",
      "a065c50b-341d-4803-b4b0-0fe8f04fdbb5\n",
      "a0785022-e82b-4878-b9d4-19cb7b75213f\n",
      "a0b277cb-20bc-4921-a6bd-5ccd5b91d14f\n",
      "a0e2ef53-d39b-40cf-b8b6-4b148ac339ec\n",
      "a0eedcb9-b85c-4612-b945-7e8227f53c35\n",
      "a0eeeb10-d0cb-48d9-8c22-2c3a3c908d00\n",
      "a11ed7d0-12f6-468f-abad-5cba7d968123\n",
      "a15e0fa8-2620-4f66-896e-175115c9dc3d\n",
      "a1669b59-fe09-4fe6-ba9f-06bec6725502\n",
      "a18f122f-3a3e-4478-8ac4-91b83e050e65\n",
      "a1c140f9-75d7-42a3-b767-4c01a118892b\n",
      "a1ff36df-71df-4e6e-a65f-ced9a2b381c3\n",
      "a20d0b4b-6e2e-4507-bc22-f321dedc4ed9\n",
      "a23f5539-bfe6-4885-9a0e-dba972475ea9\n",
      "a2754679-68b0-40f4-be01-bafad5ac1261\n",
      "a27858ef-6533-413e-bc75-cc54690261a2\n",
      "a27b451d-44a6-4740-861a-9e7e99915563\n",
      "a2a20600-f851-4db7-90f9-6f7be027c8b5\n",
      "a2ccbf70-e444-49a9-8b7e-9797a05220d8\n",
      "a2d07312-2f97-40d2-8b09-7f2aca7b16fb\n",
      "a2de1248-7bc0-44dc-b508-70a357eedd68\n",
      "a2fc0093-8645-43c7-bdee-ec8ca9484815\n",
      "a302a6fa-f635-4ade-b72b-b6f3c2a34ec9\n",
      "a30da226-b452-408a-a556-bfae4d521464\n",
      "a3ada657-de00-44db-b1e2-54ba17e39983\n"
     ]
    },
    {
     "name": "stderr",
     "output_type": "stream",
     "text": [
      "\r",
      " 63%|█████████████████████████████████████████████████▌                             | 757/1208 [00:25<00:15, 28.72it/s]"
     ]
    },
    {
     "name": "stdout",
     "output_type": "stream",
     "text": [
      "a3c0a876-be12-4ede-8aed-18b32a64401b\n",
      "a4409217-be11-4478-90a5-b406057d154d\n",
      "a4851ed0-1499-4eae-9157-dcd34773254f\n",
      "a4d7a7e1-5ae1-486d-b6ee-c9af1476ccad\n",
      "a4fbb9f2-9b75-4fdc-877d-2feaafac25b3\n",
      "a51d6c18-f9e8-4714-9dbb-38e1577445f2\n",
      "a588091c-5e4c-4e61-914d-e96f3ee3e505\n"
     ]
    },
    {
     "name": "stderr",
     "output_type": "stream",
     "text": [
      "\r",
      " 63%|██████████████████████████████████████████████████▏                            | 767/1208 [00:25<00:14, 30.62it/s]"
     ]
    },
    {
     "name": "stdout",
     "output_type": "stream",
     "text": [
      "a5c3b3f8-7ceb-4573-a400-a76b9479af46\n",
      "a5e05ba8-0c19-41e3-92d5-10e42a03b85e\n",
      "a6391703-0820-4913-a7cd-e843ff0d84ba\n",
      "a63ce82f-f3d1-4818-9035-d3d230e5f686\n",
      "a63fa2c7-3ec8-4bb7-bde6-a39e09d2f806\n",
      "a6526894-e290-482d-ac43-f1df34864817\n",
      "a6aa3b72-2970-4c78-b655-ea8dfe6e018c\n",
      "a6ba808f-ec60-42a5-ad91-7b32412ab708\n",
      "a6d85204-24b8-4b23-a8b1-c3e8b93f9f22\n",
      "a6f8a029-44ee-4fe3-b807-38d137347729\n"
     ]
    },
    {
     "name": "stderr",
     "output_type": "stream",
     "text": [
      "\r",
      " 64%|██████████████████████████████████████████████████▋                            | 775/1208 [00:25<00:14, 30.20it/s]"
     ]
    },
    {
     "name": "stdout",
     "output_type": "stream",
     "text": [
      "a6fe423a-5204-4378-bcfa-d6d298a3e9aa\n",
      "a72cd558-b7ac-4bf2-a344-2ce6c73a354e\n",
      "a74b6d6a-7e04-40ac-9292-d62f13f7ded3\n",
      "a7688988-2bcc-4458-83d3-5e482da5f87b\n",
      "a777e78c-ad1f-4380-9ab2-b4f9f32b2d78\n",
      "a7b6894d-eeea-4ed5-bc0e-785d6c6da8df\n",
      "a7c3c52f-3b40-4c92-a212-df9462cf25d8\n",
      "a7c91b63-b97c-4f4b-8d34-7ad2b08d7a17\n"
     ]
    },
    {
     "name": "stderr",
     "output_type": "stream",
     "text": [
      " 65%|███████████████████████████████████████████████████▍                           | 787/1208 [00:26<00:18, 22.23it/s]"
     ]
    },
    {
     "name": "stdout",
     "output_type": "stream",
     "text": [
      "a7f1bbb1-6058-4642-bd66-cfb90dce762e\n",
      "a824b499-3736-4581-bbdc-be1b3b4cf756\n",
      "a85cd1ae-0c94-4387-8305-84ab8d96d137\n",
      "a86e0647-ae41-4b75-9d45-dd58f5ea65f5\n",
      "a88a48b6-f85c-45c1-b42f-79716c8463f1\n",
      "a89cace5-c818-4f23-a432-052b3433b81e\n"
     ]
    },
    {
     "name": "stderr",
     "output_type": "stream",
     "text": [
      "\r",
      " 66%|███████████████████████████████████████████████████▊                           | 792/1208 [00:26<00:18, 22.95it/s]"
     ]
    },
    {
     "name": "stdout",
     "output_type": "stream",
     "text": [
      "a8cb75ba-3f2f-40d8-8bc7-c79ebd1b9603\n",
      "a9159b11-ba49-4885-902e-00c8d5095b98\n",
      "a93c35ba-1690-4358-8837-669bcd850bb7\n",
      "a9daf82a-a46d-4296-bd72-2c374ed0a193\n",
      "a9feccda-18f2-405e-9aa1-409fa1f49fe4\n",
      "aa2dfa24-2dc3-4279-a232-f84780ace190\n"
     ]
    },
    {
     "name": "stderr",
     "output_type": "stream",
     "text": [
      "\r",
      " 66%|████████████████████████████████████████████████████                           | 796/1208 [00:27<00:17, 23.57it/s]"
     ]
    },
    {
     "name": "stdout",
     "output_type": "stream",
     "text": [
      "aa3ad405-828e-4986-8251-20fd981f34d3\n",
      "aa4a023b-55bd-4259-b15d-7086a9b491e0\n",
      "aaade430-4c49-4038-97b7-f8cdd937db57\n",
      "aabca37c-f9ef-4415-aab6-3246caa348e9\n",
      "ab27173b-6e30-4957-bd68-29194328fd39\n",
      "ab59c9e4-3e50-48b9-874d-060d317410cc\n"
     ]
    },
    {
     "name": "stderr",
     "output_type": "stream",
     "text": [
      " 67%|████████████████████████████████████████████████████▌                          | 804/1208 [00:27<00:17, 23.21it/s]"
     ]
    },
    {
     "name": "stdout",
     "output_type": "stream",
     "text": [
      "abb2f9d6-26fa-4328-983c-959ef6717c05\n",
      "abf4cf2a-4532-4772-9f0f-9e123cc1713d\n",
      "ac3358f1-ef9a-4ccc-b66c-da5e47e352e0\n",
      "ac4d6507-d710-497b-ad7c-e0dd75c1d06d\n",
      "ac8df764-c8d8-4312-916d-70bfb37574b4\n",
      "acb16781-11ad-4327-874a-5c9c35dcb085\n",
      "acdc6e12-73d9-44ba-be8c-2a56aaffef4f\n"
     ]
    },
    {
     "name": "stderr",
     "output_type": "stream",
     "text": [
      "\r",
      " 67%|████████████████████████████████████████████████████▊                          | 808/1208 [00:27<00:16, 23.68it/s]"
     ]
    },
    {
     "name": "stdout",
     "output_type": "stream",
     "text": [
      "ad36bd67-594b-4f63-93e3-886af0bc618e\n",
      "ad8731b7-0dae-4983-9dc6-dec31767d761\n",
      "adff132d-3af0-4cef-942c-58fc09729bee\n",
      "adff6e1d-ba9d-4c7b-a8fe-1ec458eaeeb8\n",
      "ae17a099-18b5-4a42-a901-850ea056423e\n"
     ]
    },
    {
     "name": "stderr",
     "output_type": "stream",
     "text": [
      " 68%|█████████████████████████████████████████████████████▎                         | 816/1208 [00:27<00:15, 24.80it/s]"
     ]
    },
    {
     "name": "stdout",
     "output_type": "stream",
     "text": [
      "ae779806-6d01-4dc6-89df-294c368db6bc\n",
      "af2e63a3-9fde-46aa-a867-81c5c259d1dc\n",
      "afa470d9-c74c-41cd-b4dc-7bf93fde8263\n",
      "afbb264e-ff60-443a-83f5-49d09be1b835\n",
      "afd39466-aafa-4d81-9520-483727418723\n",
      "affa429c-0315-4c18-a002-13bb3ecab259\n",
      "b02f6804-1697-4a5e-9be7-61931903ab55\n",
      "b10ea12f-cd36-4f2c-994a-67d1665269ab\n"
     ]
    },
    {
     "name": "stderr",
     "output_type": "stream",
     "text": [
      "\r",
      " 68%|█████████████████████████████████████████████████████▊                         | 822/1208 [00:28<00:14, 27.39it/s]"
     ]
    },
    {
     "name": "stdout",
     "output_type": "stream",
     "text": [
      "b1100ae1-0ac8-4fc2-b0ff-8819f7fbe724\n",
      "b1145408-feae-4637-b4cf-3e70b99cc62d\n",
      "b12ae3b1-613c-4c0e-9163-3c5cc314abf5\n",
      "b197093e-2928-46a4-8e35-fa5ea7ea6dac\n",
      "b2103776-9b32-4160-b4f0-0692deda19dc\n",
      "b21f6c6e-4b45-407a-b4c7-034a115f3ee4\n"
     ]
    },
    {
     "name": "stderr",
     "output_type": "stream",
     "text": [
      " 69%|██████████████████████████████████████████████████████▍                        | 832/1208 [00:28<00:13, 28.27it/s]"
     ]
    },
    {
     "name": "stdout",
     "output_type": "stream",
     "text": [
      "b234b6ea-b54d-470c-8461-ba7f4a024796\n",
      "b2e34f5f-904e-4473-9dc7-c6bc1ce12640\n",
      "b2f05937-b965-4c4b-b86e-f50e95d9d691\n",
      "b3058064-d817-47dd-a8c4-cdb1f62374f8\n",
      "b318889c-3c60-477c-b8f6-d18cb01a59df\n",
      "b338766f-19b9-4874-bcc5-ae22b3c533e6\n",
      "b34e65f6-c32e-42f1-a437-4a037c75a231\n"
     ]
    },
    {
     "name": "stderr",
     "output_type": "stream",
     "text": [
      "\r",
      " 69%|██████████████████████████████████████████████████████▌                        | 835/1208 [00:28<00:14, 26.09it/s]"
     ]
    },
    {
     "name": "stdout",
     "output_type": "stream",
     "text": [
      "b3606d0e-6fe5-478a-bb4b-64d7c4889d86\n",
      "b4261fa5-876d-48ea-b6da-ec7ca5b48fe2\n",
      "b426ef1d-4a59-4f90-b593-50226af60a60\n",
      "b4bde4e8-f48b-4ae2-be01-86d8c91d0af9\n",
      "b4c52960-bbee-439e-83dc-f89ddaade71b\n"
     ]
    },
    {
     "name": "stderr",
     "output_type": "stream",
     "text": [
      "\r",
      " 70%|██████████████████████████████████████████████████████▉                        | 840/1208 [00:28<00:14, 26.17it/s]"
     ]
    },
    {
     "name": "stdout",
     "output_type": "stream",
     "text": [
      "b4d22412-a495-43a9-bec0-73a2322f8dad\n",
      "b4dc3088-3fe2-4688-be24-70664a64e022\n",
      "b4e5e08d-6427-46f3-aca8-a4df165a151d\n",
      "b4f3b2a4-f4b9-48de-ac5d-0e681b77be27\n",
      "b5143aae-6e98-4dc6-b546-980cb472de67\n",
      "b523daee-317b-461d-bdc1-07b4add4d488\n"
     ]
    },
    {
     "name": "stderr",
     "output_type": "stream",
     "text": [
      " 72%|████████████████████████████████████████████████████████▌                      | 864/1208 [00:29<00:06, 54.34it/s]"
     ]
    },
    {
     "name": "stdout",
     "output_type": "stream",
     "text": [
      "b5246b58-6f40-4c9e-8024-f49b0ed6bdbd\n",
      "b5513d5b-46fc-4f44-a616-791087fbd608\n",
      "b59dc3a0-3d54-4e3b-a485-33b3e43966de\n",
      "b5acf759-1115-42f0-a753-656736192528\n",
      "b600b38d-225b-46a5-b6f8-b607430f6a10\n",
      "b618e87e-6059-496f-b0f6-e158f676a1fb\n",
      "b62d47f9-2ff5-4902-abdc-b3610acfc7ba\n",
      "b634137b-bc8b-4e88-b0e3-b536ad6e7e18\n",
      "b6364a57-72a9-43f3-8d02-9f53a992dc95\n",
      "b6573be3-9e04-49c3-9f48-6a145d065363\n",
      "b666fcc2-d0b2-441e-bc5a-c660345eeb5d\n",
      "b687c30d-cf15-445c-b3f6-5aca86584708\n",
      "b701b5c5-b922-4315-b12a-aac4ec65ee8b\n",
      "b78b88f0-154a-4b54-8aaf-85d37a42a0f9\n",
      "b78ba2c8-ecb3-45b2-9cda-2c8088fa95d1\n",
      "b7a0d235-2217-43b4-aeff-cde4ccaf6789\n",
      "b7d0ae11-a393-4aec-8f68-6ba07147f78a\n",
      "b7f1a1eb-c150-4456-9c47-e7db8a5cb77a\n",
      "b809b407-7b69-4334-873d-d6c49135f04a\n",
      "b8339d7b-85ec-48d0-83e8-c8f831070459\n"
     ]
    },
    {
     "name": "stderr",
     "output_type": "stream",
     "text": [
      " 73%|█████████████████████████████████████████████████████████▋                     | 883/1208 [00:29<00:04, 70.55it/s]"
     ]
    },
    {
     "name": "stdout",
     "output_type": "stream",
     "text": [
      "b834cbf7-ff97-49d9-9561-566c9343735c\n",
      "b8410821-a42b-47d0-8bcf-c2fc82e4e2d5\n",
      "b85fc640-de49-4f7e-afc0-978ff020f2e2\n",
      "b87fb62d-2c36-4f68-aba9-37fcd7d46eef\n",
      "b88fe674-fb9a-41d4-b100-cb1c86440d44\n",
      "b8a4d467-c40c-4ebf-91dd-1c19d0f2a7ae\n",
      "b8dd6125-5027-47e2-a283-14e199274c80\n",
      "b901c906-91be-48c4-88ec-2c527544a258\n",
      "b91b1641-ee06-44d8-94cc-24cdb583cc37\n",
      "b95ceeeb-8870-4492-9037-2091ff268c5a\n",
      "b9c6db13-ca3a-4937-8ecf-e537047ed858\n",
      "b9ccf7ca-953f-4832-9575-5e70b2a8c224\n",
      "b9d65ef3-1adc-4479-abee-2e422f5a613a\n",
      "b9de8b1a-f96a-4eb5-bc05-84ad43a054f3\n",
      "baa87bf8-786c-444c-81e8-9fa0a41d8149\n",
      "bb137718-20ba-457d-8ffe-4f9420ecaab6\n",
      "bb2042c5-35e1-43cc-8171-7de81b764361\n",
      "bb337c84-f727-42a5-9c3d-934323a16c6a\n",
      "bb3ae957-0f6d-4615-bfe5-24fbca50b459\n"
     ]
    },
    {
     "name": "stderr",
     "output_type": "stream",
     "text": [
      "\r",
      " 74%|██████████████████████████████████████████████████████████▎                    | 892/1208 [00:29<00:05, 61.14it/s]"
     ]
    },
    {
     "name": "stdout",
     "output_type": "stream",
     "text": [
      "bb795ddf-ce72-42d5-9006-124db4d5cf1c\n",
      "bbaa004f-05dc-4cb8-8768-e148085bb0f9\n",
      "bbe65c18-8a56-4dfe-875c-94e124a84125\n",
      "bbecf1a8-a728-4c83-87f8-4dfbac0a1e03\n",
      "bbedfcbe-9528-4ba9-9d86-4ebba7589ac5\n",
      "bbf687b5-c6f9-4821-b2e5-a25df1acba47\n",
      "bc1a58fd-736b-4812-a051-2c376cff50b7\n",
      "bc377041-e098-45c4-9651-2b1ea90d1d7e\n",
      "bc832bde-d3ea-4a8e-be90-7a3329dcc314\n",
      "bca27923-b270-45df-a0bf-3e1a7d135b2c\n",
      "bcaefb02-682a-41b9-acc7-e6cc010f5b30\n",
      "bcb447c9-5d37-414f-a513-d7076b04a532\n",
      "bd432159-5956-457c-bdeb-1b5e702ba513\n",
      "bd7937db-fca2-44d0-8538-460110210927\n"
     ]
    },
    {
     "name": "stderr",
     "output_type": "stream",
     "text": [
      "\r",
      " 74%|██████████████████████████████████████████████████████████▊                    | 899/1208 [00:29<00:07, 39.88it/s]"
     ]
    },
    {
     "name": "stdout",
     "output_type": "stream",
     "text": [
      "bd856928-96ee-4fc4-a377-f2fc4e84448b\n",
      "bdb5d571-27bc-4a42-ae45-aa5a9af40a81\n",
      "be5bb7d0-7c3f-4bb9-8bb4-f8bc8d875943\n",
      "be6fe358-dee1-4dcf-9b0d-5d8612aba577\n",
      "be779f52-0bfa-4c01-a16f-b7f0bc92ed7c\n"
     ]
    },
    {
     "name": "stderr",
     "output_type": "stream",
     "text": [
      "\r",
      " 75%|███████████████████████████████████████████████████████████▏                   | 905/1208 [00:30<00:08, 36.43it/s]"
     ]
    },
    {
     "name": "stdout",
     "output_type": "stream",
     "text": [
      "befe6182-266b-4f8a-ac82-3a4154f05f60\n",
      "bf002a25-6535-4621-be19-56d468be5413\n",
      "bf20d04d-ff8a-4910-91d7-94054c267d1b\n",
      "bfc61c48-685d-470b-86b1-e4c7eb85c4fd\n",
      "bfe65b11-8aff-46aa-908b-1e989d25fdc4\n",
      "bfefa21c-11e1-4dab-ac5d-8ff6f046d65f\n",
      "c03d9b87-e19b-402b-ad86-b30d6e8aeb59\n",
      "c0c3041f-78cd-46de-8e36-0a7dad0c04c4\n"
     ]
    },
    {
     "name": "stderr",
     "output_type": "stream",
     "text": [
      " 76%|███████████████████████████████████████████████████████████▊                   | 915/1208 [00:30<00:08, 34.68it/s]"
     ]
    },
    {
     "name": "stdout",
     "output_type": "stream",
     "text": [
      "c10b125d-10c2-474a-9c6a-5249935c638e\n",
      "c118ff18-f9f2-4617-bddb-dc4091fb8f5f\n",
      "c1423156-82b3-4dd3-8e74-08eb7ed8e1d6\n",
      "c147584d-4c61-412a-bdaf-b02b22c18708\n",
      "c17523c5-90a0-4a6b-9b33-2b4a6cf58d36\n",
      "c186dcd1-af61-455f-9619-1fdd8c881b06\n",
      "c22f7031-9cf8-48ce-b03b-1b12d0db4951\n",
      "c244166d-12ca-445f-9ed9-a13d9caa412f\n"
     ]
    },
    {
     "name": "stderr",
     "output_type": "stream",
     "text": [
      " 76%|████████████████████████████████████████████████████████████▎                  | 923/1208 [00:30<00:09, 30.06it/s]"
     ]
    },
    {
     "name": "stdout",
     "output_type": "stream",
     "text": [
      "c2ec116f-f091-422c-926c-70b548a8f6ef\n",
      "c3042130-a6e2-458f-9fde-bb012f68f5f2\n",
      "c3209548-7f7c-4afd-b47c-b42a72b1ebf7\n",
      "c3215597-a032-46be-9058-d6de1e5191d7\n",
      "c32b8bb8-c89d-4ae9-9c77-5b9356ca35a1\n",
      "c35ee701-fde2-46b5-b178-1fe3f1ea7da2\n",
      "c3ae7090-fc68-41b4-85a1-8d9bce9825a7\n"
     ]
    },
    {
     "name": "stderr",
     "output_type": "stream",
     "text": [
      "\r",
      " 77%|████████████████████████████████████████████████████████████▌                  | 927/1208 [00:30<00:09, 29.12it/s]"
     ]
    },
    {
     "name": "stdout",
     "output_type": "stream",
     "text": [
      "c3b07675-9d02-477c-91fe-f0737867049b\n",
      "c415532c-4cce-4580-9fcd-623c172a1abd\n",
      "c442e2d6-aaf9-417a-9905-4737a1115f33\n",
      "c4494d4f-732f-431a-8a9d-62403f0b74fe\n",
      "c4c7ed75-dbdf-4bb6-b6ba-718903cf7264\n"
     ]
    },
    {
     "name": "stderr",
     "output_type": "stream",
     "text": [
      " 77%|█████████████████████████████████████████████████████████████                  | 934/1208 [00:31<00:10, 25.95it/s]"
     ]
    },
    {
     "name": "stdout",
     "output_type": "stream",
     "text": [
      "c4d34e35-4db2-41de-ba77-1a94aa9ef788\n",
      "c5084fb8-2b62-464c-8a77-1a07ea653266\n",
      "c52f8cc8-afd7-441c-9f1f-18b6e16d79cf\n",
      "c53fd511-31bd-4901-baac-3b44891f6744\n",
      "c54fcef1-0c51-4426-9a93-15ec5f2bf58a\n",
      "c5acd0ad-b0f2-478d-b0ad-5aa733aa7b32\n",
      "c5db0fc0-b96c-496e-90b4-f9fb1b85b28e\n",
      "c63f190a-e860-44fc-a2db-7980e1c80519\n",
      "c649e1cb-4029-4433-b231-d67d68f7391a\n"
     ]
    },
    {
     "name": "stderr",
     "output_type": "stream",
     "text": [
      "\r",
      " 78%|█████████████████████████████████████████████████████████████▍                 | 940/1208 [00:31<00:09, 27.88it/s]"
     ]
    },
    {
     "name": "stdout",
     "output_type": "stream",
     "text": [
      "c6530038-6d4e-49e1-8427-d1d3acc9fa21\n",
      "c6575e75-c8ce-4766-841f-1137b9e0956c\n",
      "c66a3e52-0f3f-4c81-bab9-0303499549f7\n",
      "c66cb6b2-1480-446a-a9d2-b8032a3de0d7\n",
      "c680004e-6ee2-43d7-877c-edc9b5ebeecc\n"
     ]
    },
    {
     "name": "stderr",
     "output_type": "stream",
     "text": [
      " 78%|█████████████████████████████████████████████████████████████▉                 | 948/1208 [00:31<00:09, 27.04it/s]"
     ]
    },
    {
     "name": "stdout",
     "output_type": "stream",
     "text": [
      "c691c8ef-d3c7-47b6-a941-f6a1089f21a9\n",
      "c6ab535c-30e5-4b6b-8273-1ec8d78cdd13\n",
      "c6d97845-8ad2-4ab7-b385-66613628df5b\n",
      "c7045ab6-230e-4c1e-a8e0-f624d41a00d9\n",
      "c742ee2c-6814-46cd-af56-ae87bb9972f4\n",
      "c776eb78-3323-4571-b39f-7ffc73ae63ce\n",
      "c7a2d648-47cb-4b39-afa4-1b7fcfe51934\n",
      "c7c1b873-0548-4a73-9618-f60912e164df\n"
     ]
    },
    {
     "name": "stderr",
     "output_type": "stream",
     "text": [
      " 81%|███████████████████████████████████████████████████████████████▊               | 976/1208 [00:32<00:03, 63.80it/s]"
     ]
    },
    {
     "name": "stdout",
     "output_type": "stream",
     "text": [
      "c7ec51d5-9f45-4209-8357-39e9a984a733\n",
      "c84edeb4-311c-4e82-88f9-ae0505b3ad13\n",
      "c890ee00-daa5-4b20-9cd5-930748ecc4e0\n",
      "c8af0297-ce1f-40ea-bf44-9256dcdae4e9\n",
      "c8fd1336-dd0a-4f97-abbf-be2c18b91e02\n",
      "c94827ce-d619-4705-a68a-df63a2c95ffa\n",
      "c9499a06-fb31-4552-a9e2-fb4ebb440859\n",
      "c94a5851-b846-4fde-8c89-05bec3a8ac53\n",
      "c956e531-6805-4fe1-b61c-8b96a9815a77\n",
      "c9ad92d4-b408-4506-916e-def47b2e6ed0\n",
      "ca16a5ad-b106-4e84-8a43-178710e854ba\n",
      "ca5e6a15-ba65-48ea-8913-2d986e71bf3a\n",
      "ca677c3c-083f-4d54-9dec-39f79f6a17d8\n",
      "ca734448-0d52-42fa-b41c-17b2939e58ae\n",
      "ca9626bc-21a4-46f4-ba94-e7ee7a4cf735\n",
      "caeb2d62-1166-43f0-8eac-5b8fc48f02eb\n",
      "cb08956d-dd6a-4e13-817b-40a0a93068f1\n",
      "cb2fac19-90b0-48b4-bdc5-7dbbd58756d1\n",
      "cbb58718-6319-48db-b84b-78ac9b12ff89\n",
      "cbde7f7e-2458-4dda-9db2-3d5ccf950ced\n",
      "cbec07ed-69d3-40e7-8b04-b3bd6680885b\n",
      "cc275c45-7511-4070-84af-10b8ffebda53\n",
      "cc882eae-a341-4783-bd19-8bdedf798538\n",
      "cc94eabb-a3dc-4cfc-9fff-55c76b5b4a71\n"
     ]
    },
    {
     "name": "stderr",
     "output_type": "stream",
     "text": [
      "\r",
      " 82%|████████████████████████████████████████████████████████████████▌              | 987/1208 [00:32<00:02, 75.36it/s]"
     ]
    },
    {
     "name": "stdout",
     "output_type": "stream",
     "text": [
      "ccb4b13d-ab20-4222-892f-5adf70249aaa\n",
      "cd2774a0-dab2-4d68-aae9-7568b9f3d2a6\n",
      "cdb086a8-2bf8-4436-b1ef-96cdd801f247\n",
      "cecbf663-0751-4e7f-b298-770c88afc2c1\n",
      "cf90d82f-2814-4fb7-a3ff-a86b7c5efca7\n",
      "cfab01d3-0616-4efb-9290-11f0fd8bf5a3\n",
      "cfe6086f-eb0b-4cb0-a430-8cd7de6556e2\n",
      "d0347b49-8f98-4632-a384-1a4f57ac6374\n",
      "d09eed76-e09b-4d90-b8f0-5a801beae41c\n",
      "d0d3ae45-b434-4869-a518-427320ebe62d\n",
      "d1144956-5a0c-4bd2-b67d-8498c82d6a12\n",
      "d12c5f45-6b20-46d6-a66f-c5a4683c25b3\n",
      "d1617cf7-eb56-42ee-85af-66c4748753c0\n",
      "d1924af6-7512-4ccc-9c6b-adbbaa8db41f\n",
      "d1b48634-9ad5-46e8-b816-42d1d97c93cd\n",
      "d31dd2c0-ae8e-4499-86bb-7cabb6e438b9\n",
      "d32022fa-e492-4b31-a776-9435cfdef6d6\n"
     ]
    },
    {
     "name": "stderr",
     "output_type": "stream",
     "text": [
      " 83%|█████████████████████████████████████████████████████████████████             | 1008/1208 [00:32<00:02, 75.38it/s]"
     ]
    },
    {
     "name": "stdout",
     "output_type": "stream",
     "text": [
      "d3283f5b-3b3a-40ea-800b-79960ca851cb\n",
      "d33bc9fc-3444-4f26-8082-307f9fccc52b\n",
      "d3b79739-aea2-4804-8c7a-183b7ed07de3\n",
      "d3dcdf92-9328-4796-adf4-918646877ba1\n",
      "d3ed519e-2152-4e30-838d-a3ea23be512f\n",
      "d47cd049-d78b-4ba3-a7d4-399be4dd1dde\n",
      "d4fef0c5-6597-48b6-97e9-32ed504488e6\n",
      "d5009906-bce1-4353-90b4-f4c79362f4cf\n",
      "d532e31c-10ce-4313-9a36-bd5e01230254\n",
      "d57b3894-c912-47e8-b00a-e1a2a7aba644\n",
      "d615b706-8f50-4d96-8de5-6858897528d0\n",
      "d6352a03-ef81-421d-915e-226499555d20\n",
      "d64cd75a-df26-44d5-ac25-69061a4e4d57\n",
      "d67398c5-8b0e-463f-a04e-8583c820786c\n",
      "d67655e6-0a80-4a86-b552-1f5e85788377\n",
      "d67fb447-4dd7-4a82-a305-2b70927b69bb\n",
      "d6942996-5664-4370-ad87-2bdcbd49ac16\n",
      "d7581cb0-7a12-471d-a3d8-68dcea362213\n",
      "d75933ed-d26e-4d1f-bda3-96bc0d77fb36\n",
      "d79b4e90-c45d-4f5d-a498-49c3e323c291\n",
      "d7c7eb2c-2acd-4f86-8a5a-09ab3dd02d16\n",
      "d82c657e-5678-41da-9a6e-3ad29430b759\n",
      "d8632217-ec33-4d0a-98e6-427824c58869\n"
     ]
    },
    {
     "name": "stderr",
     "output_type": "stream",
     "text": [
      " 85%|██████████████████████████████████████████████████████████████████▏           | 1026/1208 [00:32<00:02, 76.84it/s]"
     ]
    },
    {
     "name": "stdout",
     "output_type": "stream",
     "text": [
      "d8f7e159-b7e3-49e4-86e8-aed8c5fbcd97\n",
      "d9345456-b76d-46cc-b81e-46d4a0a7b652\n",
      "d997337e-e4a8-4ef0-b8ba-975e6c43b62c\n",
      "d9c9479e-f1ea-4d6e-861f-843ff9a90d19\n",
      "da111ca5-520f-4ea8-97ad-ae5fce58ee91\n",
      "da49db57-0c2f-4213-b322-c88c19fb9296\n",
      "dacf7e3f-1d8c-42a0-8539-3abe3971c956\n",
      "daea4860-a296-4f6d-acef-996ab0882676\n",
      "db0a1123-0b35-48d7-8337-3b1ebd6af0cc\n",
      "db249e5a-4142-432c-8288-bacd10d7273d\n",
      "db3f4098-02e4-45a3-a7af-5dda37ac1526\n",
      "db7c5ec1-fefe-4e9d-83c1-da8fb982f1e2\n",
      "db871d17-28fd-4ceb-b421-e4e4afa0a7a0\n",
      "dbdfad64-110c-421f-a1c7-f68fd9e82d67\n",
      "dc3bdfe9-1565-4cda-9c4e-0979846dab60\n",
      "dc4270fb-e5c2-414f-96e9-6769ba1d77e4\n",
      "dc6ac71b-2616-431e-bfd5-4c38139e4ddd\n"
     ]
    },
    {
     "name": "stderr",
     "output_type": "stream",
     "text": [
      "\r",
      " 86%|██████████████████████████████████████████████████████████████████▊           | 1035/1208 [00:32<00:02, 74.57it/s]"
     ]
    },
    {
     "name": "stdout",
     "output_type": "stream",
     "text": [
      "dca685a8-a609-45d8-93d7-da1e4165b9bd\n",
      "dcb21739-3c36-459d-b3cc-1be5871d6fe7\n",
      "dcc1a193-7b74-44f8-ad8d-813751d8fa6b\n",
      "dce55b59-c6c3-4693-aa75-6b348c8f52cd\n",
      "dcf7a19a-ec3d-44ef-8d7c-33b1e91fb9af\n",
      "dd090806-e4ac-4a78-b2ee-55a30626369c\n",
      "dd60b6a7-c545-45b9-8250-d1633aa1ac75\n",
      "dd6f047e-af73-43df-9c46-354534fc20e0\n",
      "dd7142e4-2d86-4170-a41f-e825743e8907\n",
      "dd944a6b-c1d3-4f9f-bbdc-3709707984f7\n"
     ]
    },
    {
     "name": "stderr",
     "output_type": "stream",
     "text": [
      "\r",
      " 86%|███████████████████████████████████████████████████████████████████▎          | 1043/1208 [00:32<00:02, 63.65it/s]"
     ]
    },
    {
     "name": "stdout",
     "output_type": "stream",
     "text": [
      "de00f9a5-aa8b-4679-8ec6-85528a942d6f\n",
      "de0321fa-6f7d-4dd1-b96b-186701c3b1d9\n",
      "de2b8835-552c-4f01-98b7-67bc4910062e\n",
      "de5d19b7-e670-4ac7-843b-7ce7bcebdf45\n",
      "de6d3020-9347-473b-9146-8909627790f6\n",
      "de81bf7a-7a56-437f-a068-4d9c3e01134c\n"
     ]
    },
    {
     "name": "stderr",
     "output_type": "stream",
     "text": [
      " 88%|████████████████████████████████████████████████████████████████████▎         | 1058/1208 [00:33<00:03, 38.31it/s]"
     ]
    },
    {
     "name": "stdout",
     "output_type": "stream",
     "text": [
      "deaa1931-5f97-45bf-8c00-be6ddeb37b9a\n",
      "dec61ae1-5037-4c3a-8952-15371becca7d\n",
      "dedbb10c-43f1-45fb-bb40-3ce2fb874015\n",
      "deeaa5b3-3895-4aec-a2ce-ed6404862cdf\n",
      "df3d98b9-3dd7-4107-8d4a-ae1b7f247793\n",
      "df49578a-60d4-4a3b-9ee0-79d9d59bc72a\n",
      "dfac6c92-8f0f-429a-8caf-9b7732bf78da\n",
      "dfc026a9-079f-4f45-8666-e0ccba5bb437\n",
      "e02edd82-c424-4dee-98a7-575640655d9b\n",
      "e0e6b676-c39c-4542-8adf-de257a8e92e2\n",
      "e0ef520d-7b65-485d-9888-e6859f189f70\n",
      "e0ff3476-226f-4125-b182-8e524d5503dd\n",
      "e11515b4-9527-4c23-a0ba-43719bacca0d\n"
     ]
    },
    {
     "name": "stderr",
     "output_type": "stream",
     "text": [
      "\r",
      " 88%|████████████████████████████████████████████████████████████████████▋         | 1064/1208 [00:34<00:08, 16.92it/s]"
     ]
    },
    {
     "name": "stdout",
     "output_type": "stream",
     "text": [
      "e13f2327-fbf4-4d84-a8c1-09cb1e449c8c\n",
      "e16c0dab-780d-4035-872e-1bb91e49f9d2\n",
      "e1937e32-85d5-4cd8-bb4a-b9cf8ee7ceeb\n",
      "e234ce8b-4ec4-4d93-9068-d7854d77ddf4\n",
      "e2e68cb3-0588-40bb-95b4-356f9cacffc3\n",
      "e36cb882-c6d0-4467-812e-d18c169a9a47\n"
     ]
    },
    {
     "name": "stderr",
     "output_type": "stream",
     "text": [
      " 89%|█████████████████████████████████████████████████████████████████████▎        | 1074/1208 [00:34<00:06, 20.20it/s]"
     ]
    },
    {
     "name": "stdout",
     "output_type": "stream",
     "text": [
      "e3a4b3e7-9500-4b6c-a402-b6d3f45e714b\n",
      "e3ade58d-086c-47fa-9120-76beacb45395\n",
      "e3c1442a-717f-41dd-bf97-81e1233ac9fa\n",
      "e3e9c2de-0a24-4c7e-8a69-3d3093d5bdab\n",
      "e3ea07d7-884a-412e-874a-40fd6b856736\n",
      "e40000b4-1b26-42ce-909d-4715e04f0a6e\n",
      "e474a20b-2769-48f1-a520-4f6ef5a0dbf5\n",
      "e4827c85-311a-4df1-89c2-99dad0c3558c\n",
      "e4eea7ea-8989-46a9-9c98-25a178146b28\n"
     ]
    },
    {
     "name": "stderr",
     "output_type": "stream",
     "text": [
      "\r",
      " 89%|█████████████████████████████████████████████████████████████████████▋        | 1080/1208 [00:35<00:05, 21.66it/s]"
     ]
    },
    {
     "name": "stdout",
     "output_type": "stream",
     "text": [
      "e5731221-814c-4894-a44e-e46b71460fa4\n",
      "e597f7ce-46c6-4dce-9063-50a2703fdd45\n",
      "e5fd5949-4cd0-4cb6-837a-02c26a5eb87a\n",
      "e61e6af2-7f8b-47b0-bbe7-acb2ed0299ab\n",
      "e63e1607-f344-43d6-a0d8-e10cf2e5054a\n",
      "e640ae51-cbf1-4a84-b7cf-d38b17f59c2f\n",
      "e683144c-0465-43a2-86b1-3cf52599d5e0\n",
      "e6d7c5e1-43fc-4712-86d5-aa70252b978f\n",
      "e726dac6-f962-449c-acff-4dd56847b685\n"
     ]
    },
    {
     "name": "stderr",
     "output_type": "stream",
     "text": [
      " 90%|██████████████████████████████████████████████████████████████████████▍       | 1091/1208 [00:35<00:04, 25.09it/s]"
     ]
    },
    {
     "name": "stdout",
     "output_type": "stream",
     "text": [
      "e79bd81b-f878-4bee-9be2-d91a722c031e\n",
      "e8058bed-c362-4e1c-85dc-62f80f32938f\n",
      "e80bad38-66d0-473e-85dd-92142dba37e6\n",
      "e81bf478-27ff-458c-ac30-9e1f8480bc5c\n",
      "e871f52c-77a6-4813-80d4-95bd97985f1a\n",
      "e94a811d-3145-4313-ba42-2d5ed283179f\n",
      "e98baeb2-aa58-4cce-8c61-66685dd2b239\n"
     ]
    },
    {
     "name": "stderr",
     "output_type": "stream",
     "text": [
      " 91%|██████████████████████████████████████████████████████████████████████▉       | 1099/1208 [00:35<00:04, 25.18it/s]"
     ]
    },
    {
     "name": "stdout",
     "output_type": "stream",
     "text": [
      "e98ea067-82b5-4a0d-87bf-b4bbdc10ddab\n",
      "e9916e11-9be6-4dec-9df6-2e7d1a8e1735\n",
      "e9e78ff8-831b-46e9-9785-3eee9acbfcd8\n",
      "ea6b012a-3425-4bfc-a61d-88563aa2a264\n",
      "eaf4b781-b3aa-41ce-8c5e-287979b4e15a\n",
      "eb0173a3-7e5e-4f53-8124-03d9d6317844\n"
     ]
    },
    {
     "name": "stderr",
     "output_type": "stream",
     "text": [
      "\r",
      " 91%|███████████████████████████████████████████████████████████████████████▏      | 1103/1208 [00:36<00:04, 24.87it/s]"
     ]
    },
    {
     "name": "stdout",
     "output_type": "stream",
     "text": [
      "eb5f4f2f-2275-4a80-84a5-78a1eaf4ce4d\n",
      "eb6e8684-b84e-483d-b835-f59286d2516b\n",
      "eb77e4a9-acb0-4d83-8055-2c5fcaa54b45\n",
      "eb86033f-4f1c-4e8c-ae84-e8e4c7e08626\n",
      "eba73bff-fbe1-436d-9a5f-0a61331a0ea2\n",
      "ebfd9f67-138e-49f0-9cef-a0352069eedb\n"
     ]
    },
    {
     "name": "stderr",
     "output_type": "stream",
     "text": [
      "\r",
      " 92%|███████████████████████████████████████████████████████████████████████▌      | 1109/1208 [00:36<00:03, 27.81it/s]"
     ]
    },
    {
     "name": "stdout",
     "output_type": "stream",
     "text": [
      "ec301f62-1302-4407-96f9-fcfe45c150ae\n",
      "ec60ab26-3343-4c5f-9667-cdae999c7d86\n",
      "ecd68ba2-48af-4866-826a-7cd1c147c055\n",
      "ed0bee2f-05e0-4392-8357-19750cec577c\n",
      "ed0d8763-e734-4506-b61b-53fc32a8d8c9\n",
      "edcb4d77-a4d3-465d-9b59-eb3087766b1c\n",
      "edd09b2e-2673-4405-8ac0-e476e003e96a\n",
      "edd3862f-04e1-49cf-97dd-ca566d17e71a\n"
     ]
    },
    {
     "name": "stderr",
     "output_type": "stream",
     "text": [
      " 93%|████████████████████████████████████████████████████████████████████████▏     | 1118/1208 [00:36<00:03, 28.20it/s]"
     ]
    },
    {
     "name": "stdout",
     "output_type": "stream",
     "text": [
      "ee57e743-a876-4f69-9fe5-bf5d01b44689\n",
      "eeac81a5-9202-4965-b7de-35b12910cdf6\n",
      "eeb06e39-482b-443d-8cf6-b9b5c763df78\n",
      "eed298b3-35f2-4127-88ad-0c4a9062207b\n",
      "eef2ac0b-42de-4bc3-a3c3-d5fcd597fbe4\n",
      "ef1419e0-3a3a-458a-b3b2-7efddac50404\n",
      "ef1a9020-5e45-450d-a237-165114308592\n"
     ]
    },
    {
     "name": "stderr",
     "output_type": "stream",
     "text": [
      "\r",
      " 93%|████████████████████████████████████████████████████████████████████████▍     | 1122/1208 [00:36<00:03, 27.27it/s]"
     ]
    },
    {
     "name": "stdout",
     "output_type": "stream",
     "text": [
      "ef815e3a-02a6-4cf8-9262-45bc74c50b00\n",
      "ef83ed4c-2724-4d5f-8abe-1a18d25cea35\n",
      "ef8fcfa4-8466-4186-8c69-f5f4904eb489\n",
      "effd6334-516f-4d48-9f3c-5272a99780fb\n",
      "f01f6659-2114-4801-9d28-1f411432a589\n",
      "f05ffdca-dc3a-47bd-a231-2a0d9bd1d50e\n",
      "f06ba705-5509-479b-8067-127ffb37c5b6\n",
      "f0713bee-2a71-4ced-b953-4041ea99496a\n"
     ]
    },
    {
     "name": "stderr",
     "output_type": "stream",
     "text": [
      " 94%|█████████████████████████████████████████████████████████████████████████     | 1132/1208 [00:36<00:02, 28.33it/s]"
     ]
    },
    {
     "name": "stdout",
     "output_type": "stream",
     "text": [
      "f07174a5-f799-4286-ac43-5b0f5c5777ac\n",
      "f0804a5e-e7f5-4cf2-a5df-b65e66502bf1\n",
      "f09acb0c-b270-4e91-99f8-410adfa7f34a\n",
      "f0fe292d-85ae-4c3a-a676-037dde2594e6\n",
      "f11d05e4-538a-4024-8711-b08a4ce3c540\n",
      "f1872d08-f8a6-4b21-aa29-f56bbf607883\n",
      "f1cda808-69a9-4d10-ba0a-6607c98e362d\n",
      "f1de7c7e-e7d3-45ae-a66c-58538bf6cac1\n"
     ]
    },
    {
     "name": "stderr",
     "output_type": "stream",
     "text": [
      " 94%|█████████████████████████████████████████████████████████████████████████▌    | 1140/1208 [00:37<00:02, 26.23it/s]"
     ]
    },
    {
     "name": "stdout",
     "output_type": "stream",
     "text": [
      "f1f9df6d-c4cb-4b42-9ca2-8fb47b1b0e91\n",
      "f1faab5f-3033-45ea-9673-8b816fea5ce8\n",
      "f20a4fcf-ea8e-4c14-883d-d26a9e08ce25\n",
      "f232eec3-02c0-43f9-bf32-3e60245397e2\n",
      "f234a2de-f3c8-4521-a306-8cfdf52dd597\n",
      "f23ae29e-1bda-4784-b10c-d736757d39b8\n"
     ]
    },
    {
     "name": "stderr",
     "output_type": "stream",
     "text": [
      "\r",
      " 95%|█████████████████████████████████████████████████████████████████████████▊    | 1143/1208 [00:37<00:02, 24.26it/s]"
     ]
    },
    {
     "name": "stdout",
     "output_type": "stream",
     "text": [
      "f24c8fe0-a534-44cf-9995-b2b314d945ba\n",
      "f2574be3-81c6-4fc3-8a40-0230d1264f52\n",
      "f25a2ac8-cb6e-4e05-a0cd-cc00ac47718a\n",
      "f274b784-b995-4a7e-a2c2-6cc31c24c4b4\n"
     ]
    },
    {
     "name": "stderr",
     "output_type": "stream",
     "text": [
      " 95%|██████████████████████████████████████████████████████████████████████████▏   | 1149/1208 [00:37<00:02, 22.06it/s]"
     ]
    },
    {
     "name": "stdout",
     "output_type": "stream",
     "text": [
      "f28e6d66-af71-40c1-b30c-da71d7230a3f\n",
      "f2a8a483-b254-43aa-817f-7d525adb8911\n",
      "f329e01b-fbd3-4fb5-9738-a7ff4c8622b8\n",
      "f32b21ae-5ca7-490b-bc40-6db9396d933c\n",
      "f39e2289-fedd-4d12-9e64-ffdafb89247e\n",
      "f3bd0fcc-647d-4ca0-8c43-a16bd6ea3878\n"
     ]
    },
    {
     "name": "stderr",
     "output_type": "stream",
     "text": [
      " 96%|██████████████████████████████████████████████████████████████████████████▌   | 1155/1208 [00:38<00:02, 19.86it/s]"
     ]
    },
    {
     "name": "stdout",
     "output_type": "stream",
     "text": [
      "f3d84be2-8af0-4d62-9f72-23d3dc08cbbe\n",
      "f4722a74-35e7-42bd-8ef6-dfff04b9cd22\n",
      "f48bf825-13c4-42fc-8dd8-10cc4ae6b202\n",
      "f4a27dfd-4c52-459f-96b5-ee6b452a3395\n",
      "f4c00b8c-d675-4255-8277-ca65bd757f51\n"
     ]
    },
    {
     "name": "stderr",
     "output_type": "stream",
     "text": [
      "\r",
      " 96%|██████████████████████████████████████████████████████████████████████████▊   | 1158/1208 [00:38<00:02, 19.61it/s]"
     ]
    },
    {
     "name": "stdout",
     "output_type": "stream",
     "text": [
      "f4c2b43f-a2e7-4746-8034-0b34aebba8ee\n",
      "f5419bc0-4415-41b6-b832-5326cfcc534b\n",
      "f5869ba8-6253-426b-93f3-82af59a86144\n",
      "f5c395f1-f94c-440d-8221-cc656e52c0b1\n",
      "f5c51193-8a27-4ef3-83ad-771395d63caf\n"
     ]
    },
    {
     "name": "stderr",
     "output_type": "stream",
     "text": [
      " 96%|███████████████████████████████████████████████████████████████████████████▏  | 1165/1208 [00:38<00:02, 19.80it/s]"
     ]
    },
    {
     "name": "stdout",
     "output_type": "stream",
     "text": [
      "f5eb7c5e-bd77-4638-ba9f-58d42f87476b\n",
      "f62d4fb6-df7c-446c-94a8-d5aede0b1e0c\n",
      "f632981c-1330-4078-8a12-691beb2dab02\n",
      "f65a1633-9935-4984-a285-a60d30aa1707\n"
     ]
    },
    {
     "name": "stderr",
     "output_type": "stream",
     "text": [
      "\r",
      " 97%|███████████████████████████████████████████████████████████████████████████▍  | 1168/1208 [00:38<00:02, 19.49it/s]"
     ]
    },
    {
     "name": "stdout",
     "output_type": "stream",
     "text": [
      "f68ae8e9-e760-4106-88e0-4bdef2785f06\n",
      "f6ab936d-924b-4038-aa47-71b07c26b4e2\n",
      "f6f8a69a-3fd2-4684-ac77-3e83ea0fb36d\n",
      "f7231477-f2c1-439a-9c8b-204de07686a4\n",
      "f77d7469-d083-4c2d-a4ea-5a9ff162e3e2\n",
      "f7a4334a-4332-4de8-b39b-22da907976f2\n"
     ]
    },
    {
     "name": "stderr",
     "output_type": "stream",
     "text": [
      " 97%|███████████████████████████████████████████████████████████████████████████▉  | 1176/1208 [00:39<00:01, 22.28it/s]"
     ]
    },
    {
     "name": "stdout",
     "output_type": "stream",
     "text": [
      "f7cced00-9b41-45ec-9fdf-fb9e1a74da90\n",
      "f81806a8-5883-446c-be78-f0145b12dbdd\n",
      "f8242b97-b8d5-48b5-b808-0b0f75a5de97\n",
      "f8a8b148-60e4-4a5c-ae19-941b19ec0846\n",
      "f8b14fc4-dd6b-4ad0-a96d-c62845f48681\n",
      "f8b6a868-60e9-4569-ae69-638a0c39834d\n",
      "f91670db-be74-474c-bd72-68120aed4756\n",
      "f939782b-f5a2-40a3-9c22-6c6d7e18edc3\n",
      "f97c7c87-5e27-45ea-9f93-3285d74091de\n"
     ]
    },
    {
     "name": "stderr",
     "output_type": "stream",
     "text": [
      "\r",
      " 98%|████████████████████████████████████████████████████████████████████████████▎ | 1182/1208 [00:39<00:01, 25.33it/s]"
     ]
    },
    {
     "name": "stdout",
     "output_type": "stream",
     "text": [
      "fa1f9f89-cecb-4972-842c-d14c632f89a9\n",
      "fa4f8d1a-cb3a-4722-a566-6c7072f30606\n",
      "fac4b0e2-6b52-4c0e-b762-4fa65d552856\n",
      "faead1c7-bb2c-4adf-bfce-9ff36cd2cf6a\n",
      "fb05b297-180a-4171-b633-09d5616d7534\n"
     ]
    },
    {
     "name": "stderr",
     "output_type": "stream",
     "text": [
      " 99%|████████████████████████████████████████████████████████████████████████████▊ | 1190/1208 [00:39<00:00, 26.18it/s]"
     ]
    },
    {
     "name": "stdout",
     "output_type": "stream",
     "text": [
      "fbb1b44c-d75a-4550-a6c0-0eb62b96bfce\n",
      "fbc1f360-4382-48bb-a32e-3f5f2f9dbe57\n",
      "fbcb2ef0-3c97-4d7a-8b96-0147c73f3941\n",
      "fc15659f-6264-4dd5-ab17-43d89fb297b9\n",
      "fc8df086-39e0-43f8-b0c7-2d23a349539b\n",
      "fcc2b245-f47f-447f-8527-275b0005677c\n",
      "fcdf6632-c03f-49a8-9fb3-42e87c99b9d0\n",
      "fd1302e2-3cd2-4a1a-9c13-00f810a9c41b\n"
     ]
    },
    {
     "name": "stderr",
     "output_type": "stream",
     "text": [
      " 99%|█████████████████████████████████████████████████████████████████████████████▍| 1200/1208 [00:39<00:00, 29.50it/s]"
     ]
    },
    {
     "name": "stdout",
     "output_type": "stream",
     "text": [
      "fd1c4c7a-24bc-43f2-b84f-fee182207aee\n",
      "fde0fd54-49cc-42e1-90c6-6b612cd062d8\n",
      "fe00fa09-d3c8-485b-9d0f-3cce556c9edd\n",
      "fe0c5e48-f65e-488c-9c3c-1ea7c7835c0c\n",
      "fe1ee954-ba71-47b3-954a-d20ab940cd7b\n",
      "fe436c09-b680-4f4c-8faf-aa10a55a335b\n",
      "fe691faa-3bc7-475e-b558-aa8fe7b795bc\n",
      "fe851c88-692d-4199-87e0-d19d9c4eb591\n",
      "fed6ba05-36a5-45dc-a4e1-9baa7de2c622\n"
     ]
    },
    {
     "name": "stderr",
     "output_type": "stream",
     "text": [
      "100%|██████████████████████████████████████████████████████████████████████████████| 1208/1208 [00:39<00:00, 30.20it/s]\n"
     ]
    },
    {
     "name": "stdout",
     "output_type": "stream",
     "text": [
      "ff1b23d0-3cef-459b-b81f-39bfcdb6526f\n",
      "ff37dd9b-2e3c-444d-9d29-6db186cfa2fb\n",
      "ff3b9d4d-373c-48ef-a75a-d23e2c2ade87\n",
      "ffb7be9a-65df-4f0b-99ae-cfd34e81cd34\n",
      "ffd59802-46c6-4b58-80fe-e534e39781a7\n"
     ]
    },
    {
     "name": "stderr",
     "output_type": "stream",
     "text": [
      "  1%|▌                                                                                | 8/1208 [00:00<00:15, 78.55it/s]"
     ]
    },
    {
     "name": "stdout",
     "output_type": "stream",
     "text": [
      "002f20ad-2ace-499c-9335-c9080bc3e6b5\n",
      "003a89b0-a095-417a-8dd6-f408339bbc68\n",
      "003d1cdc-0aec-430b-90e0-f4d82135b1ac\n",
      "005e60b6-77b8-458c-b57c-bfe0c7e7df78\n",
      "00a02700-2ea2-4590-9e15-ffc9160fd3de\n",
      "00c8364b-8c85-4502-bcfe-64736fe76815\n",
      "00d04a90-80e5-4bce-9511-1b64eabb7a47\n",
      "0154dd8e-72f8-4d78-a4dd-93e139577bd1\n",
      "01b38a56-13eb-447b-89ee-fc21cb40dcc1\n"
     ]
    },
    {
     "name": "stderr",
     "output_type": "stream",
     "text": [
      "\r",
      "  2%|█▎                                                                              | 20/1208 [00:00<00:12, 98.18it/s]"
     ]
    },
    {
     "name": "stdout",
     "output_type": "stream",
     "text": [
      "01b99da8-b66b-464b-a7ee-1cadab8db18b\n",
      "027ab174-e47a-44f8-b85b-372449eeb7d8\n",
      "02ea7aa8-c142-4a3d-939f-e77689741341\n",
      "02fb5e19-6f94-4787-bb78-e550a29a3cbd\n",
      "030f3421-ed3f-4bf1-8f27-4d02590bffbc\n",
      "03359d4d-69cb-4146-8286-ca7399366f97\n",
      "034c8d57-04d5-4786-93a4-6ae8fde2c258\n",
      "035f6c4b-0897-46ab-9c3b-5f3b0feff043\n",
      "036404d1-b9fc-497b-bbe1-f4d9c5ac3ce0\n",
      "036e008f-07a1-4e92-899d-1822dc390ccb\n",
      "03b9d6ad-39ca-4097-a98b-77f02b3c00a7\n",
      "03c8da48-04b9-4520-b674-44a0ecd35688\n",
      "03cbfcf2-8da6-462c-b30d-16d63357371f\n",
      "040112be-3c8d-49aa-93f1-522f94a592ff\n",
      "04018590-4e66-4cb9-ad2d-83570f1b29ae\n",
      "0403835d-43f4-4a97-abfc-b2ff915f6d7b\n",
      "04628a94-b674-469b-aff6-b476b70df87d\n",
      "04a567df-5463-4043-81f1-d726223c19a9\n",
      "04c07425-57c7-415c-a0bc-36857bbd4049\n",
      "04d21589-b777-43c2-86b5-038cbf8c3a4e\n",
      "04de27ff-0d36-4da3-a829-e93851d76981\n"
     ]
    },
    {
     "name": "stderr",
     "output_type": "stream",
     "text": [
      "\r",
      "  2%|█▉                                                                              | 30/1208 [00:00<00:16, 73.07it/s]"
     ]
    },
    {
     "name": "stdout",
     "output_type": "stream",
     "text": [
      "04de3a31-fc09-40be-9c2c-9830c57f809d\n",
      "04fb49a2-07b8-4cdf-b6f7-df5c3688e5f8\n",
      "0546d843-d778-4aca-b8b5-bfe23d7c87da\n",
      "05717db9-f1ef-4101-a9f7-7a007e83b1c9\n",
      "05804cf0-f854-4099-97c2-df287f7c8a8c\n"
     ]
    },
    {
     "name": "stderr",
     "output_type": "stream",
     "text": [
      "\r",
      "  3%|██▌                                                                             | 38/1208 [00:00<00:27, 42.39it/s]"
     ]
    },
    {
     "name": "stdout",
     "output_type": "stream",
     "text": [
      "05ac7b2a-6a77-4464-926b-8570f7c01693\n",
      "06401963-8b02-46c5-ab2a-3d70bd01623f\n",
      "064b84fe-bd21-4c27-b682-0a832272eac4\n",
      "065af549-320a-4862-b92a-8ef750d7b5fb\n",
      "06a3effb-996c-4767-afd2-6aa3b697cb4e\n"
     ]
    },
    {
     "name": "stderr",
     "output_type": "stream",
     "text": [
      "\r",
      "  4%|██▉                                                                             | 44/1208 [00:01<00:36, 32.08it/s]"
     ]
    },
    {
     "name": "stdout",
     "output_type": "stream",
     "text": [
      "06cd484f-e864-4fee-8819-688b45eed98e\n",
      "06df7bbe-60d4-4f7c-ba4a-5a42ac4be91b\n",
      "071901eb-4c3f-404b-a747-3d0b9d0a5158\n",
      "07346d2e-a6e6-4dc0-95f1-9f7d8d7e3f66\n",
      "073c10c9-5749-44b5-b08b-1be556a960f0\n",
      "07a80340-f65e-4f58-9317-94bb6ebd5a28\n",
      "07a96126-482e-4beb-b42a-0cb59e505372\n"
     ]
    },
    {
     "name": "stderr",
     "output_type": "stream",
     "text": [
      "\r",
      "  4%|███▏                                                                            | 49/1208 [00:01<00:36, 32.15it/s]"
     ]
    },
    {
     "name": "stdout",
     "output_type": "stream",
     "text": [
      "07d15855-eb9b-46a9-b894-7cfe4d097826\n",
      "082e1f81-4f49-44ad-b5bb-9dfc155b2ed8\n",
      "087f2c9c-188d-43cc-a94c-0eb8f10ac092\n",
      "089c9744-f906-41d8-908d-1e37919a8658\n",
      "08f5a524-0554-49c2-83a8-ae9a6d51e8fd\n"
     ]
    },
    {
     "name": "stderr",
     "output_type": "stream",
     "text": [
      "  5%|████▎                                                                           | 65/1208 [00:01<00:24, 46.37it/s]"
     ]
    },
    {
     "name": "stdout",
     "output_type": "stream",
     "text": [
      "0901f9d1-be4f-4c19-8e83-dd724dded9f5\n",
      "0906111b-bac7-4541-a6dc-da435c0724a8\n",
      "093a831a-bf71-4333-bc06-942ae70cb164\n",
      "09bcedaa-e007-4692-a13f-ab02c3f872c4\n",
      "09ecf7be-28e2-4531-b9e2-07e01c44097d\n",
      "0a747cb3-c720-4572-a661-ab5670a5c42e\n",
      "0a7bfa8a-ee52-4f7a-b9c5-2919ecfa93ef\n",
      "0ab56f9a-846d-49e2-a617-c6cc477fdfad\n",
      "0ac747cd-ff32-49bf-bc1a-3e9b7702ce9c\n",
      "0b04ec46-5119-4cda-8c35-c4e5b6f0eed0\n",
      "0b923ab7-ebff-4079-a4bb-af7da89f374e\n",
      "0ca25c88-457f-4f03-bbc1-98fb6663f1d1\n",
      "0ceb4539-5c4c-487d-9826-452a88b5d537\n",
      "0d095f3a-9243-472b-90b4-0ce8309e778c\n",
      "0d098413-6911-4535-b70a-3c3effd8cf49\n",
      "0d2aba33-6920-4001-bd54-59fe0bf9f50e\n",
      "0d3c2521-da55-4df5-bf06-56b3bd4fb2fc\n",
      "0d7bf56f-3b5a-40bd-971c-2ca33dd89b2c\n",
      "0da07970-3146-479c-8a07-f61ed32814a9\n",
      "0dcbf2c9-f959-4703-a72b-f6a81e66c2ea\n",
      "0dcca702-a4ef-4fb3-a940-9c0c140b21c7\n"
     ]
    },
    {
     "name": "stderr",
     "output_type": "stream",
     "text": [
      "  7%|█████▋                                                                          | 86/1208 [00:01<00:16, 67.90it/s]"
     ]
    },
    {
     "name": "stdout",
     "output_type": "stream",
     "text": [
      "0ed416f9-7c20-4829-9016-559e4009568e\n",
      "0f0c949e-018a-4f3f-ab02-3704f49c7754\n",
      "0f26699f-a776-4424-b092-27da9a1d12e2\n",
      "0f2a6cda-afec-437b-8803-8d3176b072c1\n",
      "0f735cca-051c-4048-a1fa-cb36f389e12f\n",
      "0fa5b35d-6c44-4207-b6f8-d5b355086b5f\n",
      "0fcd1ebe-ee4a-40a0-b787-29cee18bfa1b\n",
      "1012abf2-cb05-4337-86c5-513ec4ca904d\n",
      "105af41b-13cc-4ad1-8a1f-8bc4d47cdd94\n",
      "10891eed-b0f2-4dd0-90cb-da185f6761b2\n",
      "109fbb82-bc3c-41ac-984d-e2da86202873\n",
      "10be6380-cbbb-4886-8b9e-ff56b1710576\n",
      "11b72c7b-5c52-44b7-adb7-21eacc25e441\n",
      "11e517bf-943b-4928-929a-e9f72c097880\n",
      "12269960-075f-40ca-9630-49ea2ce78294\n",
      "13099edb-35d9-438f-b093-2cf2ebf9d255\n",
      "1315c2a4-0794-4dfa-a709-e2451723d2b6\n",
      "1345dc89-a3d9-4b71-8a75-b3bff01ba518\n",
      "137d540f-d71e-47e8-bd9b-6cd0a6433c33\n",
      "1380f9b4-bf54-4492-90c3-743c7aa8898b\n",
      "13bab3c3-3f79-44d9-a287-0ae6d71eff31\n",
      "14005767-9296-4b48-8a9d-bbe9b2040005\n"
     ]
    },
    {
     "name": "stderr",
     "output_type": "stream",
     "text": [
      "  9%|███████▎                                                                       | 112/1208 [00:01<00:12, 90.82it/s]"
     ]
    },
    {
     "name": "stdout",
     "output_type": "stream",
     "text": [
      "143f5959-5b6d-4f95-bcee-9e110450fc22\n",
      "1493d140-c9d5-4c3a-9caf-3eafb290a49b\n",
      "14b68d86-ac7f-419d-b4a5-6b0b1d9aaa18\n",
      "14efbfc8-39f6-4599-9994-a8cc95605b9c\n",
      "1519257c-e3e5-4474-908f-8665b3cf1258\n",
      "151f3af5-5e6e-4bcd-9389-4974fc68813e\n",
      "1574565f-f45b-4160-947e-25ce1a81aaca\n",
      "157ac97a-396e-4f6c-94c6-72a4d06ccc5f\n",
      "161978c3-3a05-47a5-9fee-be7d25693eae\n",
      "16244280-6c74-47d3-b544-9fd6831a6bf9\n",
      "169d541c-daed-468e-8b41-0f1abccdf319\n",
      "16a51468-9f93-45df-9ae2-5a74c25c5a4b\n",
      "16ec6e1f-5020-40b3-ba26-51c340d03ee7\n",
      "177a3141-fa93-426a-9b52-7da71547ce44\n",
      "177f883a-f0f1-4b8e-b598-2ca4bab27381\n",
      "17c06a23-bb77-49cb-9ffb-fbfc75fcc715\n",
      "17ef5841-bd19-4610-ba47-7d321231847b\n",
      "184b376b-03cb-4c2d-af51-fc1a62196293\n",
      "1863da5f-c595-4541-a8f4-21fe78678168\n",
      "187f92b2-71ed-484a-9bd3-599ca0d2636f\n",
      "1893e0c5-88e9-4644-bd59-3e47bc53a88c\n",
      "18dbe7c4-89d2-42a6-a969-1e951ab313b1\n"
     ]
    },
    {
     "name": "stderr",
     "output_type": "stream",
     "text": [
      "\r",
      " 10%|████████                                                                       | 123/1208 [00:02<00:11, 95.47it/s]"
     ]
    },
    {
     "name": "stdout",
     "output_type": "stream",
     "text": [
      "191071ab-6515-428c-9f05-8e4309542b75\n",
      "191f87a4-6f2d-49e7-bba0-08e3aa78ddaf\n",
      "19370afd-f897-47d8-bfae-c0d257bbf795\n",
      "194aec70-41a5-4ac3-b22f-0b6eda91f730\n",
      "1976cd04-d24f-457c-b423-7e4cdb05de9e\n",
      "19979a60-df80-4111-bf69-81a7e9c4dd0b\n",
      "1a27ebe9-93a1-4898-af69-f276057d4012\n",
      "1a332b2c-9d49-4ff2-810c-5633d2314527\n",
      "1a48cbc1-5423-47e5-8ca5-2ab4f83a05a5\n",
      "1b369bcf-ced4-4ae2-9196-2664bd2b1738\n",
      "1b7f47fc-26cd-4273-b848-88a7cbfd9f85\n",
      "1c406ce1-023b-47fc-a2cd-5ea2e255de65\n"
     ]
    },
    {
     "name": "stderr",
     "output_type": "stream",
     "text": [
      "\r",
      " 11%|████████▊                                                                      | 134/1208 [00:02<00:17, 62.77it/s]"
     ]
    },
    {
     "name": "stdout",
     "output_type": "stream",
     "text": [
      "1c87b997-a8e6-48ca-bf40-19b9a7fd6a96\n",
      "1c90231b-2830-42d9-884e-7301edb16933\n",
      "1d4cdf2e-79a0-41e9-aabe-e437a190dfc4\n",
      "1d4f06e1-9c9b-487e-84cd-e7e50cc754da\n",
      "1d9d4dac-66f9-4c87-b714-d723d5b15fa9\n",
      "1dd3e6dd-343f-4cc9-b0ed-e4d27fb36f0a\n",
      "1e86933d-6a5a-4a3c-a0f2-ca22afd767b3\n",
      "1e978dfa-d339-4025-809d-09cee76728ed\n",
      "1ecb0405-a6e9-4485-819e-2fbbf2b718aa\n",
      "1f337b61-1b0d-4539-91f9-73d4a0798a4a\n",
      "1f8edb2a-40bc-4beb-aa6b-884d2473df0f\n",
      "1f8f08ea-b5b3-4f68-94d4-3cc071b7dce8\n",
      "1fdf99d1-a494-4174-bcd7-efbe457ab899\n"
     ]
    },
    {
     "name": "stderr",
     "output_type": "stream",
     "text": [
      "\r",
      " 12%|█████████▎                                                                     | 143/1208 [00:02<00:23, 46.27it/s]"
     ]
    },
    {
     "name": "stdout",
     "output_type": "stream",
     "text": [
      "1fe1e118-adb8-4b10-a41e-1e5814e8f067\n",
      "205306da-0ed8-475a-ace6-f2f81d4be88a\n"
     ]
    },
    {
     "name": "stderr",
     "output_type": "stream",
     "text": [
      "\r",
      " 12%|█████████▊                                                                     | 150/1208 [00:03<00:44, 23.63it/s]"
     ]
    },
    {
     "name": "stdout",
     "output_type": "stream",
     "text": [
      "20d4f65e-6c63-433a-935c-d568d577967b\n",
      "2102e5d1-8bec-4ab6-ab35-2705485da1f8\n",
      "21417261-475a-456f-b03f-57ac85a6e106\n",
      "214f1d15-a081-476e-992d-6c3a77f03d59\n",
      "2165fe38-b474-467d-be11-d1d728085efd\n",
      "216f9d43-6869-4ba1-9106-4f5ea6aac223\n",
      "2196389c-45ec-46b5-bc6c-1f4a33df7f7c\n",
      "21a50e4c-b750-46b5-801f-5429ede7dea9\n",
      "21c2a8aa-407c-4569-8212-96fcafa84138\n",
      "21cc498b-8cb2-42ed-8f80-bfa27b86ef11\n",
      "21ea4841-8998-4c04-b345-bc99cd8ecee6\n",
      "21f001d6-f568-4ea4-82da-fab54c77c419\n"
     ]
    },
    {
     "name": "stderr",
     "output_type": "stream",
     "text": [
      " 13%|██████████▌                                                                    | 162/1208 [00:03<00:36, 28.92it/s]"
     ]
    },
    {
     "name": "stdout",
     "output_type": "stream",
     "text": [
      "2240b991-48f6-4c59-9b62-5a8b5e541fae\n",
      "22516db4-8687-4051-90c4-2bb1ca3204a5\n",
      "22a464ef-c3da-4d56-b37e-e22e95d945e7\n",
      "22cbf509-c9bf-46ec-bfce-f079c6b76c8c\n",
      "2374ae5b-c2df-4db5-afea-c54180aa22e3\n",
      "239f17eb-a2e2-47e9-82e3-fa0d9a70fb9f\n",
      "24115f58-a7d6-4022-a95a-86b515a78d3e\n",
      "24418314-f7a4-49fc-a03e-ec597ca6796e\n",
      "244ac6fa-8a92-4214-9cf4-ae0811d9ec7e\n",
      "24879caf-a327-464c-9cd9-e0f3d9161079\n",
      "25132962-ff5d-4737-995f-c54d8490539b\n"
     ]
    },
    {
     "name": "stderr",
     "output_type": "stream",
     "text": [
      " 14%|███████████▏                                                                   | 172/1208 [00:04<00:33, 30.78it/s]"
     ]
    },
    {
     "name": "stdout",
     "output_type": "stream",
     "text": [
      "2518f6e4-29cc-4ae4-a914-b215a4c56099\n",
      "252071ac-e9f2-41d2-abbb-87ef01b8a997\n",
      "2559636b-f01a-4414-93da-210c3b12d153\n",
      "255d5f0c-87fc-4337-bb51-07c440df4f1b\n",
      "2596eb32-1323-41e9-8c0f-64819abcfc73\n",
      "259da25f-40f3-4d37-bca9-a9c807af1547\n",
      "25c6cfb1-01d0-4864-87f9-02b7593683c7\n",
      "25cfca07-2101-484f-b312-a927395f2651\n",
      "25ddc1ca-d368-4fff-b1ad-1dbf1e7c97aa\n"
     ]
    },
    {
     "name": "stderr",
     "output_type": "stream",
     "text": [
      "\r",
      " 15%|███████████▌                                                                   | 176/1208 [00:04<00:32, 31.95it/s]"
     ]
    },
    {
     "name": "stdout",
     "output_type": "stream",
     "text": [
      "261562a8-ffd8-4e0e-919b-22e267000b74\n",
      "266180ed-77a3-4284-8292-50a49fc47fce\n",
      "26799d2b-a289-4eff-9218-0aad77e05e41\n",
      "27388ff2-4000-4c9a-a2e3-addc448a5f92\n"
     ]
    },
    {
     "name": "stderr",
     "output_type": "stream",
     "text": [
      " 15%|████████████                                                                   | 184/1208 [00:05<01:16, 13.40it/s]"
     ]
    },
    {
     "name": "stdout",
     "output_type": "stream",
     "text": [
      "27cdd837-e40f-491e-8adb-61e493189832\n",
      "27fab82c-5bf0-426f-aeb9-47da829b6629\n",
      "289ef1b7-02d5-42e9-a401-687688181306\n",
      "28bd16ba-2bcf-46af-b889-41b78d2a50c0\n",
      "28c96a4a-4549-4761-99e4-ace4ea7e7ac9\n",
      "29539cb0-1c52-46b2-9302-552f8349dc71\n",
      "29648565-fe28-4517-ba72-68df0c82c9c5\n",
      "29861cf9-9a1e-4733-8309-4bd10706b4a3\n",
      "29d40b60-cde1-45b5-b403-692437a77ac1\n",
      "29d4b75f-d400-4702-a9ac-e5a4ed1a1db1\n"
     ]
    },
    {
     "name": "stderr",
     "output_type": "stream",
     "text": [
      " 16%|████████████▋                                                                  | 194/1208 [00:05<00:54, 18.57it/s]"
     ]
    },
    {
     "name": "stdout",
     "output_type": "stream",
     "text": [
      "29dc8176-dfe1-40e0-8247-2dc3c530057e\n",
      "2a02cec2-a09b-483a-ad38-14359a763fa4\n",
      "2a6370b0-08f1-4c11-a639-265d4419c9a3\n",
      "2a91387a-d30f-418d-ac3a-f7cfa6836261\n",
      "2ac343e4-c889-47c1-8fe2-461b626def76\n",
      "2ae3e6e6-7482-4ab8-ad73-b530b5c2ee3b\n",
      "2aeb7b85-7df9-4a63-8d37-2eecaaa190e7\n",
      "2afe2750-c963-46f9-a1ad-9260e80679ca\n"
     ]
    },
    {
     "name": "stderr",
     "output_type": "stream",
     "text": [
      " 17%|█████████████▎                                                                 | 204/1208 [00:06<00:44, 22.45it/s]"
     ]
    },
    {
     "name": "stdout",
     "output_type": "stream",
     "text": [
      "2b128a1a-95ed-408b-b9f8-8795cc814d80\n",
      "2b369d75-9c55-43e0-b352-d981aea544e3\n",
      "2bd15b6e-fe2d-49f3-b394-940d024d1f91\n",
      "2bd26501-2fbc-4c1a-bef0-4ad57e02b4d0\n",
      "2bed2796-75a9-4d93-bb2d-e3ccbe1a5cbe\n",
      "2c1eaf87-3fd3-4803-92b8-23bab40bf28c\n"
     ]
    },
    {
     "name": "stderr",
     "output_type": "stream",
     "text": [
      "\r",
      " 17%|█████████████▋                                                                 | 210/1208 [00:06<00:38, 25.80it/s]"
     ]
    },
    {
     "name": "stdout",
     "output_type": "stream",
     "text": [
      "2c4d72f1-71a6-4bf1-b5d9-8023c7bbec74\n",
      "2cc3c4ad-670f-41b6-8910-0704cbc192ef\n",
      "2d0f600d-f94e-4907-b712-52fb37d9ed52\n",
      "2d2e81f3-e329-4765-9ba1-2c95f12dc9f3\n",
      "2d857091-efcd-41c0-ba3f-226de90445c4\n",
      "2dbf6f69-e020-4948-9e49-4b33edb7cebd\n",
      "2e8d6a43-0110-4bf4-8e70-20567e513b81\n",
      "2f3ebec8-ef64-420d-9aa0-c2fcadc27d74\n",
      "2f6224be-50d0-4e85-94ef-88315df561b6\n"
     ]
    },
    {
     "name": "stderr",
     "output_type": "stream",
     "text": [
      "\r",
      " 18%|█████████████▉                                                                 | 214/1208 [00:06<00:37, 26.17it/s]"
     ]
    },
    {
     "name": "stdout",
     "output_type": "stream",
     "text": [
      "2f68686f-1fe8-46e7-ad92-a08e3523ea79\n",
      "2f9f400d-2d67-4118-aaa1-9094bc4b0e47\n",
      "2fdbd9bc-bbaf-44c2-b40c-d193709639fa\n",
      "3003252a-2d2e-4687-ad30-9c38d68f1394\n",
      "3006096f-ceeb-42be-b69e-785179d7438b\n",
      "30167dc1-f739-4036-b5c4-5fad435c2c67\n",
      "3061aac0-cda3-47d1-8c48-6293e9ffdf36\n"
     ]
    },
    {
     "name": "stderr",
     "output_type": "stream",
     "text": [
      " 19%|██████████████▋                                                                | 224/1208 [00:06<00:34, 28.30it/s]"
     ]
    },
    {
     "name": "stdout",
     "output_type": "stream",
     "text": [
      "3090a362-1f3d-49e9-a76e-ce76ff9c2276\n",
      "30948737-0d0d-4b68-b9ab-50577e0fe026\n",
      "30ad83f1-a9b3-4a07-aea6-6c06b71e9ace\n",
      "3130f950-8345-4315-9711-92f7af3f5c14\n",
      "313ed8d9-3c00-4415-9de0-0eda07c60ad9\n",
      "31435107-c77d-42f8-a619-75cba6a5161b\n",
      "31653d0f-c4e6-4e12-8005-518c2de34687\n",
      "318de807-7232-4ab1-843e-a901547c0125\n"
     ]
    },
    {
     "name": "stderr",
     "output_type": "stream",
     "text": [
      " 19%|███████████████▏                                                               | 232/1208 [00:07<00:36, 26.83it/s]"
     ]
    },
    {
     "name": "stdout",
     "output_type": "stream",
     "text": [
      "319c9c52-f316-49f3-baad-4444ab19f85b\n",
      "31af9c31-7868-44a6-8eb4-82ce118af425\n",
      "31c749e8-18d1-4105-b7e6-8319cceddae0\n",
      "32700bc7-7a86-49d3-aded-ccaaed4ddc5c\n",
      "32a1ea24-b6b7-4253-ad3e-bdf99c2c9b9d\n",
      "33068c1a-48f7-470b-8e49-e2f0888042e9\n",
      "3317d733-ec0d-45e6-b631-40457392f343\n"
     ]
    },
    {
     "name": "stderr",
     "output_type": "stream",
     "text": [
      "\r",
      " 20%|███████████████▍                                                               | 236/1208 [00:07<00:36, 26.42it/s]"
     ]
    },
    {
     "name": "stdout",
     "output_type": "stream",
     "text": [
      "334bf865-e3fb-4200-bd53-d9ff5808ed9f\n",
      "33bdb7b5-ad5b-4a73-bbc2-3350f8c2ac0c\n",
      "340a1727-0df7-4e6f-9c0e-9c5deddbfca2\n"
     ]
    },
    {
     "name": "stderr",
     "output_type": "stream",
     "text": [
      " 20%|███████████████▊                                                               | 242/1208 [00:07<00:44, 21.70it/s]"
     ]
    },
    {
     "name": "stdout",
     "output_type": "stream",
     "text": [
      "345cb914-7583-49df-96e3-3cf19c2ba8f1\n",
      "34a70114-d3e3-4351-b8db-f6caab17e743\n",
      "34df8890-272d-423a-ae78-ff8d068d3306\n",
      "34e024a5-5698-42d4-972f-fee234b4bd64\n",
      "3612aa3b-2906-44a6-9c80-6144511a35ce\n"
     ]
    },
    {
     "name": "stderr",
     "output_type": "stream",
     "text": [
      "\r",
      " 20%|████████████████                                                               | 246/1208 [00:07<00:43, 22.37it/s]"
     ]
    },
    {
     "name": "stdout",
     "output_type": "stream",
     "text": [
      "361a3578-4cbb-422b-9e3c-b5e61395b12e\n",
      "36569710-a574-40be-ad42-897a6e74a128\n",
      "367663b2-5d09-4020-ab0a-c2200e7a1c8c\n",
      "370277f8-436b-4103-8210-b4feb5ab95ea\n"
     ]
    },
    {
     "name": "stderr",
     "output_type": "stream",
     "text": [
      " 21%|████████████████▍                                                              | 251/1208 [00:08<01:02, 15.24it/s]"
     ]
    },
    {
     "name": "stdout",
     "output_type": "stream",
     "text": [
      "3722d213-f2a9-46d5-aa76-9183b443e455\n",
      "3768c577-4e5e-4d70-8c4d-93d8aacd5baa\n",
      "37a94c0f-e5d4-46fc-b4f8-994d477995fd\n",
      "37e072a6-000d-4773-8d9f-d66b60ace668\n",
      "3850f2a5-ab62-49d3-8135-68d60baa676b\n"
     ]
    },
    {
     "name": "stderr",
     "output_type": "stream",
     "text": [
      "\r",
      " 21%|████████████████▌                                                              | 254/1208 [00:08<00:59, 16.14it/s]"
     ]
    },
    {
     "name": "stdout",
     "output_type": "stream",
     "text": [
      "3859deaf-6ae1-49a3-9051-898d0f0d7de6\n",
      "3892b776-f49a-4368-b0fa-7e855e76ccec\n",
      "38c69905-8a4f-451a-8d0a-b855dc88dd16\n",
      "38d1b930-dd97-4248-9160-e9389a1a8dd7\n",
      "390ad256-e1ed-476a-9f14-2dc34e0da632\n",
      "3911fcd2-4e26-4ad9-aaf0-d1c5bf41defc\n",
      "393df10a-5d64-476b-88f5-14ac56d6ed60\n",
      "397f37bc-a3a4-4257-9430-c8fc5716f8b1\n"
     ]
    },
    {
     "name": "stderr",
     "output_type": "stream",
     "text": [
      " 22%|█████████████████▎                                                             | 264/1208 [00:08<00:41, 22.69it/s]"
     ]
    },
    {
     "name": "stdout",
     "output_type": "stream",
     "text": [
      "39cc33be-d752-40fe-b7a8-2e69a3517205\n",
      "3a8f468f-f9de-46a8-a7c8-f2be239fa207\n",
      "3abbc4d3-1d7e-40c9-9963-33732da7cc50\n",
      "3af90874-59f3-4f0c-a7e6-cc889e80c605\n",
      "3b13e20f-ec0d-44ec-b2f4-eaebfa09150e\n",
      "3b4440f7-a69b-4042-a9d0-d6958abcdf4e\n",
      "3b55c42f-ad59-422f-ba99-4f4f4ca9cb2e\n",
      "3b5a8060-dec6-4a83-b7f2-b604e4e69dfc\n",
      "3b601a1b-26d8-4873-afcf-fdd1b1e0010c\n"
     ]
    },
    {
     "name": "stderr",
     "output_type": "stream",
     "text": [
      "\r",
      " 23%|█████████████████▊                                                             | 272/1208 [00:08<00:31, 29.87it/s]"
     ]
    },
    {
     "name": "stdout",
     "output_type": "stream",
     "text": [
      "3cdcb09b-6a8c-43ca-b1d0-c1a289202f65\n",
      "3d1429ed-4619-41f7-8ff3-d698ad28034c\n",
      "3d1b889e-bb4a-4ee6-b899-974ee7d956a7\n",
      "3d302619-473d-4c5b-af43-8833ff94233f\n",
      "3d32a988-449d-4d58-b71f-abbfdc3f2fbc\n",
      "3d4d7ba7-6c7c-4ddd-b282-31fb5d80edb5\n",
      "3d8fb5bf-3315-48fb-8ab1-802eafd550bc\n",
      "3dad6483-ac30-4d2b-b045-9f24fe6ff75e\n"
     ]
    },
    {
     "name": "stderr",
     "output_type": "stream",
     "text": [
      " 23%|██████████████████▍                                                            | 282/1208 [00:09<00:30, 30.17it/s]"
     ]
    },
    {
     "name": "stdout",
     "output_type": "stream",
     "text": [
      "3dcd4f1b-ce43-4a34-b1ed-076bb42963b1\n",
      "3de03fa2-3ad3-43fc-8435-b2a80bdd7550\n",
      "3e33ee12-ef02-4287-8318-7ad3b284a617\n",
      "3e36698f-8c09-4c8b-8948-737310bf97e5\n",
      "3e753a44-3264-438c-8389-a7822e4a84cc\n",
      "3e764461-22ee-44d3-925d-cd658ff7d154\n",
      "3eba916c-998b-40a7-993c-7ed916c2a04c\n",
      "3f106606-9a21-40d5-b849-273866fe0f49\n",
      "3f26fbbc-deb1-494f-b71c-c7cb3d4819fb\n",
      "3f390b82-8859-4c27-bbfe-d1b242477f63\n"
     ]
    },
    {
     "name": "stderr",
     "output_type": "stream",
     "text": [
      "\r",
      " 24%|██████████████████▉                                                            | 290/1208 [00:09<00:25, 35.89it/s]"
     ]
    },
    {
     "name": "stdout",
     "output_type": "stream",
     "text": [
      "3f8c5ae1-b9fd-464b-8e91-98143ddd8d29\n",
      "3fa1a4e3-c80d-49da-8f7b-a1abb0424f48\n",
      "3ff98212-7c2a-46cd-afb7-34a2479bed07\n",
      "4063945d-03fc-4ce3-a04c-17435dce8f91\n",
      "406e05f0-4444-414c-bb40-f4cb08e75ac9\n",
      "412c9fa5-fcf4-402b-b1e4-3271f775058e\n",
      "415409ac-97b3-4cd9-b203-11ef00662352\n",
      "4184a235-d209-4151-86e9-6c77e7938dab\n"
     ]
    },
    {
     "name": "stderr",
     "output_type": "stream",
     "text": [
      " 25%|███████████████████▌                                                           | 299/1208 [00:09<00:28, 31.55it/s]"
     ]
    },
    {
     "name": "stdout",
     "output_type": "stream",
     "text": [
      "419309ef-da3f-4424-93cf-01ff4c52b017\n",
      "41ebf9a1-24dc-454e-8bf8-508218f5ee57\n",
      "4257342d-6d77-4671-a84b-1f0c36ccb367\n",
      "4272cbd7-5b0a-4bf7-b690-dee1c128f07b\n",
      "42845335-4ab2-4963-806d-0985d1382a31\n",
      "42e87148-a015-4148-923a-fb83016f64e7\n",
      "43072c64-4c08-47cd-ae8a-b74d31f80008\n"
     ]
    },
    {
     "name": "stderr",
     "output_type": "stream",
     "text": [
      " 25%|████████████████████                                                           | 306/1208 [00:10<00:55, 16.19it/s]"
     ]
    },
    {
     "name": "stdout",
     "output_type": "stream",
     "text": [
      "43158031-a335-4533-9c20-48bebba90123\n",
      "434523fd-d4d9-4961-a7c2-d71d6ae68e13\n",
      "4372709c-f356-4906-be17-415384d916e8\n",
      "43bc935a-f655-45e1-a64d-fcb8b78267a6\n",
      "4411fea2-d785-4eeb-80c6-c739ab6114c4\n",
      "441d7843-b20b-4c10-84e3-e6d32621e880\n",
      "445d0db9-e830-4ceb-a845-b23d819e6097\n",
      "44b4a765-104e-4182-8871-e933c83c91ef\n",
      "452482bc-24a3-413e-ba03-fad4c9d61f3c\n",
      "452ab003-ced5-40cb-82d1-5495d9e068b1\n"
     ]
    },
    {
     "name": "stderr",
     "output_type": "stream",
     "text": [
      " 26%|████████████████████▉                                                          | 320/1208 [00:10<00:33, 26.78it/s]"
     ]
    },
    {
     "name": "stdout",
     "output_type": "stream",
     "text": [
      "45651e76-4bd0-45e5-895b-edec65f51987\n",
      "458cb2e9-5a7f-437c-ac5d-a56f98a3efdf\n",
      "45902b63-be9a-49ae-9ede-3a8015671bc4\n",
      "45ac9409-5537-44ed-90cd-5c8a1ae0e1e0\n",
      "45f18ac0-f097-4b20-a99d-8837cf488822\n",
      "461a3ed6-039f-4a70-97cf-c474ecf51ccd\n",
      "464055b6-3351-4636-a919-8be9840fb850\n",
      "468c261d-f5d8-423f-883e-48af2bbbc5d1\n"
     ]
    },
    {
     "name": "stderr",
     "output_type": "stream",
     "text": [
      "\r",
      " 27%|█████████████████████▏                                                         | 324/1208 [00:10<00:33, 26.76it/s]"
     ]
    },
    {
     "name": "stdout",
     "output_type": "stream",
     "text": [
      "46a03374-64c7-49ac-81c9-c3d62542bbf3\n",
      "46a2d369-4bea-4405-ac78-91bbe130b9a7\n",
      "46f5bd4f-8bea-48d1-a1da-4dea28e3b814\n",
      "471f75c6-bd5d-4c20-bcc1-258e836f4d69\n",
      "4736f545-1f1f-4d77-9241-d69cbf4dae35\n",
      "4748ba2b-6771-41d9-93a5-af9ccd559261\n",
      "4767bfcc-fe87-4962-8c40-6ce8d9363cdf\n",
      "477e541c-0519-4542-9b13-8ee7922644d3\n",
      "4811fdf2-d7e8-475e-a840-45dda5282bf3\n",
      "4823c1fe-a7f9-4b92-959f-0d9be09cd14b\n"
     ]
    },
    {
     "name": "stderr",
     "output_type": "stream",
     "text": [
      "\r",
      " 27%|█████████████████████▋                                                         | 332/1208 [00:11<00:26, 32.80it/s]"
     ]
    },
    {
     "name": "stdout",
     "output_type": "stream",
     "text": [
      "4849866a-73a2-4fcf-a407-2d0a25a09a89\n",
      "4876c9d0-b386-48fb-84e8-91bf87529161\n",
      "48e2f0bd-2164-40c3-af43-1f2708359978\n",
      "4903d9c7-de88-426a-b42d-a7e797e5ebcd\n"
     ]
    },
    {
     "name": "stderr",
     "output_type": "stream",
     "text": [
      "\r",
      " 28%|█████████████████████▉                                                         | 336/1208 [00:12<01:18, 11.15it/s]"
     ]
    },
    {
     "name": "stdout",
     "output_type": "stream",
     "text": [
      "49288109-80e9-4ec8-96d1-26a0166b8883\n",
      "4935818a-7e7a-4f44-a3b6-b361d1abfe16\n",
      "49b03a6e-6b26-4a96-a061-e05647a02138\n",
      "49c4dbd3-6269-4d4c-9648-a2146c57bab1\n",
      "49efc89d-9cba-44f7-8257-7f911b73f68a\n",
      "4a0a05e1-11ad-4bfc-bfa3-adf3b9bd0b56\n"
     ]
    },
    {
     "name": "stderr",
     "output_type": "stream",
     "text": [
      " 29%|██████████████████████▋                                                        | 346/1208 [00:12<00:52, 16.45it/s]"
     ]
    },
    {
     "name": "stdout",
     "output_type": "stream",
     "text": [
      "4a49841f-216c-4815-8140-b8762c4f6603\n",
      "4a717a39-80f8-4b75-a25e-c46d65d7dcd5\n",
      "4aad9589-6b32-4522-bcd7-ca04687a02ca\n",
      "4ab47131-c2ac-461f-b95c-ac19ce24edbd\n",
      "4adcaa26-aa1f-47b5-bdf0-18c9f814f576\n",
      "4b346035-b8c0-46ca-8fdb-a01b1421ee4a\n",
      "4b3a49bc-8536-4760-9553-440a6f64db37\n",
      "4c13e22e-dfd1-4fa1-b373-be9d0c272c0f\n"
     ]
    },
    {
     "name": "stderr",
     "output_type": "stream",
     "text": [
      " 29%|███████████████████████▏                                                       | 354/1208 [00:12<00:43, 19.41it/s]"
     ]
    },
    {
     "name": "stdout",
     "output_type": "stream",
     "text": [
      "4c460388-e0c1-4970-8527-c9e5b42bea49\n",
      "4c7d2382-a962-4237-a053-955eea3decd8\n",
      "4cccfcf0-cac9-46f0-870c-0eabfdc781ba\n",
      "4ce5a070-9ede-4bb1-9ca2-1bae5746776b\n",
      "4d0a1598-e4dd-45c4-8a90-dd7c780fe1da\n",
      "4d88e2d2-5aad-410c-9bbc-702ee9496995\n",
      "4d8a4ce8-0f9c-4f21-8844-4cf0e5514bbf\n",
      "4e2873dd-651e-4ecc-ac70-7335cf21a469\n",
      "4e43fc22-dc08-4cde-b3ce-ce8a4f377c47\n"
     ]
    },
    {
     "name": "stderr",
     "output_type": "stream",
     "text": [
      " 31%|████████████████████████▏                                                      | 370/1208 [00:13<00:22, 36.95it/s]"
     ]
    },
    {
     "name": "stdout",
     "output_type": "stream",
     "text": [
      "4f62b14e-c6f4-4155-8f50-881558f83fae\n",
      "4fac16e1-8e62-499b-a66b-c4c890372914\n",
      "4fb83278-adc5-4424-9f45-b6d0db2955b6\n",
      "4fc9a597-aaa8-43b0-ad1c-2eabbe442e84\n",
      "505355c9-23bf-4f90-8ebc-6a7ef50964d0\n",
      "50715879-2300-4dba-8f4a-3314ff8cfcce\n",
      "5077f87d-a19f-494c-b911-14ccb03bd230\n",
      "50d52637-f5e0-4d0d-aaee-4a29f044cf74\n",
      "50d7c6c9-3230-48fe-947c-7dcfd0aad710\n",
      "50d9fc90-8642-4bb6-91a7-0069a7e37392\n",
      "50f2f514-6c8e-4c79-b3b3-0be56dd0b78b\n",
      "5107dcb7-164f-4e10-bbff-822b39b76efc\n",
      "516bf1d5-5d00-4985-926c-3993e9bc3ff5\n",
      "51e86aa9-caa0-4297-94e8-34a57d7f7e36\n",
      "521a26aa-0a31-4c07-b4d0-fac08eb08344\n",
      "52767904-4cdc-4821-ba68-8cd0c28f9023\n",
      "530761d4-1931-44cd-b220-d60db0e228f9\n",
      "533c47c9-02a6-419b-961b-81797f022f6c\n",
      "5397d8e2-bb09-42e7-9861-65ffad0fe94e\n",
      "53afd70c-08a7-4b9a-b137-7003b2ecbeab\n",
      "540a5fee-175b-4b92-bf62-1ea9b59c86c6\n",
      "5487faad-24a7-46b6-92d8-479d3a8d229f\n",
      "550cf4ce-b641-44a3-8487-3e16d4049187\n",
      "555c6ea2-c76c-4e71-af57-855d940c2b37\n",
      "55836297-fc8e-4e00-9767-0d12b86e4604\n",
      "55f8c052-8e49-4423-a4c4-365fc6afb6e1\n"
     ]
    },
    {
     "name": "stderr",
     "output_type": "stream",
     "text": [
      " 33%|█████████████████████████▊                                                     | 395/1208 [00:13<00:12, 67.04it/s]"
     ]
    },
    {
     "name": "stdout",
     "output_type": "stream",
     "text": [
      "56077789-8580-41b4-89d6-deea227e5c60\n",
      "565513be-2c20-4ee3-94f3-093869515d3d\n",
      "56551792-4aa1-4301-9f8f-8bfebcd20050\n",
      "56a57a8d-c9b9-432a-a3b0-32a09355806c\n",
      "56adbb1e-96a8-40a5-a5a2-243c97ea889b\n",
      "56fbae44-4677-47f8-9c3a-22dac043c115\n",
      "5721e41b-90ef-4851-8587-8dc71227ef90\n",
      "57e1879e-4294-45e7-9c1b-627e8cca0271\n",
      "580210c2-a8ed-4720-b71c-a77945968abc\n",
      "58065a0c-d4c5-40fd-bcdc-037f61788482\n",
      "582e4b8b-404e-4b30-9df3-66f2afb3cdb3\n",
      "5836500a-221e-40ca-a8be-caaa37f7d300\n",
      "584d62ed-4329-45dd-94ce-e929d8b2bb74\n",
      "58594235-0d32-4a4e-91cd-4c800eaaaa73\n",
      "587e5464-d70b-4279-8562-010279f6efbd\n",
      "5893e081-04f2-4e33-9851-bed5f0e4d333\n",
      "58ced55c-bf0d-4204-b6b2-4f8992d92779\n",
      "58d75854-be99-484e-89f0-4ab208fe07e0\n",
      "58f7e1da-3478-48f4-958c-e9b1cb8696aa\n",
      "592c941a-aa54-4971-b499-dc47356f80a3\n",
      "5939f341-a886-4f63-ae87-2219d000a1d4\n",
      "59542a24-b409-4c95-8608-d9691a741526\n",
      "5955289d-19e5-45ef-a012-c8ea08ef45e2\n"
     ]
    },
    {
     "name": "stderr",
     "output_type": "stream",
     "text": [
      " 35%|███████████████████████████▍                                                   | 420/1208 [00:13<00:08, 89.91it/s]"
     ]
    },
    {
     "name": "stdout",
     "output_type": "stream",
     "text": [
      "597bbff8-6592-41cf-8946-e59b0d1f289a\n",
      "59daa25e-85d6-42f2-8f39-cc9f9d5d252e\n",
      "59dc7da9-35d1-421e-a61b-1e9637bfbfa1\n",
      "59f5699f-885f-4004-b783-a60060144e43\n",
      "5a043d69-f435-46d4-8691-395c1602a76a\n",
      "5a0628af-4c0a-4ba6-a935-4ec94c9c700e\n",
      "5a105b89-c592-4d78-b208-7db6c6572752\n",
      "5a386082-397f-4524-a6f9-c2b8efe5014d\n",
      "5a539312-6cfa-43e6-8d5d-db883f343ad9\n",
      "5a631871-2fc7-4a68-9c39-f3b9a0bf4a04\n",
      "5bf91ff9-80df-49c0-9c3e-599357d95530\n",
      "5c037ffc-f515-48b3-b231-c110fbd2b8ca\n",
      "5c5b7965-1a44-44b8-aa43-660823e61821\n",
      "5c68070c-3391-4db6-8c01-94175105dbea\n",
      "5c99cd97-39f6-4809-9528-9d380cc16b16\n",
      "5cac6ddf-c8c6-45de-bce0-a1db64b14fb5\n",
      "5ccca8ee-abea-458a-a891-bedd31c3ddc3\n",
      "5d1418d3-1559-4725-ad4a-9afb6eaecdfd\n",
      "5dec0204-af81-44ef-a942-8a173669c123\n",
      "5dec94a3-e3ca-4a58-9702-88e5a83ef612\n",
      "5e042380-6ef2-496f-8231-0ca550fbfa71\n",
      "5e17f8e6-fd8d-426c-b444-1515d14f04b7\n",
      "5e2cea49-0823-49d1-83cf-8fd1559cdd93\n",
      "5e4f7425-11e6-4f9e-be2d-5a27deb9d1b4\n",
      "5e974892-0ebe-4037-8427-ea8616d6d3b8\n",
      "5f17d2fb-22fa-4aa6-9dad-6a1d50c03815\n"
     ]
    },
    {
     "name": "stderr",
     "output_type": "stream",
     "text": [
      " 37%|████████████████████████████▋                                                 | 444/1208 [00:13<00:07, 101.28it/s]"
     ]
    },
    {
     "name": "stdout",
     "output_type": "stream",
     "text": [
      "5f2b32bd-fdca-4d6f-b13a-ee9f83626c8d\n",
      "5f300fd1-7eec-41ac-bbd1-0f4a943c757c\n",
      "5f491efd-a21c-4a80-aaba-70b8876238ac\n",
      "5f66d20c-fbfe-44ec-a01b-8a09da24807e\n",
      "5f742392-278d-461c-a848-08def2c28878\n",
      "5f783f43-0090-4f8a-bd75-9562f4aa2dd5\n",
      "5ff7c0c8-d208-4e7d-958d-ca3c2260ff39\n",
      "6013bff0-dc4b-4bde-9409-0f6139c3495c\n",
      "612bdd3c-da43-4321-a76b-c73c614928d1\n",
      "6144887d-a1c1-46db-91a1-f7ff5bf8c8a5\n",
      "61575482-91e1-4db9-83c7-687b7ddbbfc4\n",
      "61cd8c7d-394d-42d3-9ed4-e09559110bed\n",
      "61dfc937-a428-44b4-94fb-d682bdb8dff0\n",
      "6231d81d-9e84-4a5a-8cb8-47c6a37a0176\n",
      "6274fe0d-0d71-40be-b61b-f0bd5b5df1e2\n",
      "627d6331-7bb9-4d1a-b20d-e6541af4d0f9\n",
      "6294153c-6db3-4f2b-a8ff-9c087225e737\n",
      "6303f964-98ef-47c6-bb2d-283aa393f918\n",
      "63055d1b-5221-4c80-8b39-37ac069a1b5c\n",
      "631340cc-cedf-4bca-a3d8-a0731a5482b4\n",
      "6315a55b-fed1-4355-88fa-8594538acf18\n",
      "6347dd6a-cfdf-4cb5-bc50-cff5403cfecb\n",
      "637957ef-df75-4a7b-86d5-9f6e9c042ca2\n"
     ]
    },
    {
     "name": "stderr",
     "output_type": "stream",
     "text": [
      "\r",
      " 38%|█████████████████████████████▍                                                | 455/1208 [00:13<00:07, 101.17it/s]"
     ]
    },
    {
     "name": "stdout",
     "output_type": "stream",
     "text": [
      "6382976c-ee87-4916-b798-4ef1373b2df0\n",
      "6388e241-09a2-4fbe-a712-07d8fe714c51\n",
      "63d36d2c-43a9-49ac-9504-028b4968c860\n",
      "63ed5931-d93e-4f9b-a6f3-152713cb560e\n",
      "640c4a52-3742-4f57-aee3-9e3dc0887622\n",
      "64113b22-03b1-4ab8-89ab-b2f32154fbbd\n",
      "645cd195-af50-409f-8da9-6e7c7f18ea09\n",
      "6473ddb6-ad56-48a2-81e8-c7cb45f06825\n"
     ]
    },
    {
     "name": "stderr",
     "output_type": "stream",
     "text": [
      "\r",
      " 39%|██████████████████████████████▍                                                | 466/1208 [00:14<00:10, 68.88it/s]"
     ]
    },
    {
     "name": "stdout",
     "output_type": "stream",
     "text": [
      "64a678d4-9048-4491-90c7-1924f38be19a\n",
      "64b0e49a-0e48-447d-8872-c1dd255e7a21\n",
      "65054b19-5c6a-4870-99a9-eef994721d3a\n",
      "65e3d6a6-012c-4b40-9a42-83078eb85e31\n",
      "65e865f3-acfb-4d01-a75f-ff5a535ffa6a\n",
      "65e8b0cd-05d1-4c8d-8efd-24bf71df3167\n"
     ]
    },
    {
     "name": "stderr",
     "output_type": "stream",
     "text": [
      "\r",
      " 39%|███████████████████████████████                                                | 475/1208 [00:14<00:14, 51.01it/s]"
     ]
    },
    {
     "name": "stdout",
     "output_type": "stream",
     "text": [
      "66183740-e1e5-43c9-8539-a87028bb3621\n",
      "664c570b-4822-413c-9724-11b1d91fac44\n",
      "66557580-fd38-4d4b-80d8-88611ecc78c6\n",
      "666601e7-608d-4d19-999f-8fc6ab373a55\n",
      "6695a204-e39c-4418-b904-3f080fdbe7e8\n",
      "672e4ecf-a56b-462e-b83b-76f4efaa6634\n",
      "674b0fd3-f247-4b7f-97f7-3e6c57c9ba9e\n",
      "67582df6-bf13-4c83-a531-1214692b70de\n",
      "6795acae-e84d-4e97-b9a1-b4f4f0a72cfd\n"
     ]
    },
    {
     "name": "stderr",
     "output_type": "stream",
     "text": [
      "\r",
      " 40%|███████████████████████████████▌                                               | 482/1208 [00:14<00:15, 47.42it/s]"
     ]
    },
    {
     "name": "stdout",
     "output_type": "stream",
     "text": [
      "679ae89f-4a02-4301-862e-1d844cc66cbf\n",
      "67a4fb91-6f38-4ca2-8f20-6b2f5f1b29a7\n",
      "67abb826-9b70-4459-8764-da76ecf35bfe\n",
      "67acd5bc-4658-4c6e-a9b9-cd8ea3a03418\n",
      "67f5ca94-d84e-490e-bf0d-4ffba7bdbe30\n",
      "68442532-9cd2-4b42-9d4f-ddf8c13bb38c\n",
      "686ed568-d5f8-475e-81ad-edab9dd473a0\n"
     ]
    },
    {
     "name": "stderr",
     "output_type": "stream",
     "text": [
      "\r",
      " 40%|███████████████████████████████▉                                               | 488/1208 [00:14<00:15, 45.78it/s]"
     ]
    },
    {
     "name": "stdout",
     "output_type": "stream",
     "text": [
      "68e69cfb-1a07-48d2-8abe-46b46fe264ed\n",
      "68f34a9c-f73d-4238-8f55-4b05a8a2154c\n",
      "694222bb-cddf-469a-9526-f873c6fba58e\n",
      "69565501-6e77-4f40-bd80-caa3dda34d8b\n",
      "69569ecf-cfa1-4ddd-9342-b22c23387fdb\n"
     ]
    },
    {
     "name": "stderr",
     "output_type": "stream",
     "text": [
      "\r",
      " 41%|████████████████████████████████▎                                              | 494/1208 [00:17<01:10, 10.18it/s]"
     ]
    },
    {
     "name": "stdout",
     "output_type": "stream",
     "text": [
      "697bdbc0-6e31-4e48-ac74-ba4ab5760d32\n",
      "69b5b3de-ec64-4e5d-bcc2-44f495e06e76\n",
      "6ab870ba-b24b-49a9-9570-8eafe63aa74e\n",
      "6ad3efc9-4392-4cee-98a5-186564a96373\n",
      "6afb3717-f197-4668-929a-4fab389ae6e8\n",
      "6afd8203-d61a-4e9b-a4cf-dcb53a16b57c\n",
      "6b14c855-8561-417c-97a4-63fa552842fd\n",
      "6b2ff7ca-c5b3-415c-9481-7b14efc6d7ef\n"
     ]
    },
    {
     "name": "stderr",
     "output_type": "stream",
     "text": [
      "\r",
      " 41%|████████████████████████████████▋                                              | 499/1208 [00:17<00:59, 11.87it/s]"
     ]
    },
    {
     "name": "stdout",
     "output_type": "stream",
     "text": [
      "6b473806-e936-4b19-98cf-a2b94cac35ff\n",
      "6b4c79f5-b194-4586-be9f-e339c5af4188\n",
      "6b5ed184-cb15-4d54-93bb-9a3ca00184a1\n",
      "6b8048ed-ebd7-4789-ba87-c1ba94801481\n",
      "6ba5d0b8-cdc7-4266-9d78-db76faa312e9\n",
      "6bb4892c-27a9-4642-aba1-4b73f38f757c\n",
      "6bc7b53c-5a98-48ef-a9de-59a476707ea4\n"
     ]
    },
    {
     "name": "stderr",
     "output_type": "stream",
     "text": [
      " 42%|█████████████████████████████████▎                                             | 509/1208 [00:17<00:43, 15.94it/s]"
     ]
    },
    {
     "name": "stdout",
     "output_type": "stream",
     "text": [
      "6bfe6a90-8a69-4171-8e7f-42dc9417c6d9\n",
      "6c20abb2-c4bb-4de0-8774-03f4d30ce93d\n",
      "6c3f81d7-5670-46bd-9eaa-9b426413abb7\n",
      "6c7095cd-ab6b-4f53-bd94-905d0cc95840\n",
      "6d05ed67-43e2-43af-9d57-70c7a6eeef5e\n",
      "6d91d1f0-636b-4f5a-a526-7c17fc857190\n"
     ]
    },
    {
     "name": "stderr",
     "output_type": "stream",
     "text": [
      " 43%|█████████████████████████████████▋                                             | 516/1208 [00:18<00:49, 13.95it/s]"
     ]
    },
    {
     "name": "stdout",
     "output_type": "stream",
     "text": [
      "6dfafdf1-f588-4e80-8cf8-0126e1bf7af9\n",
      "6e39fb0a-aa41-4b16-b783-7589e97bf289\n",
      "6e7ed596-1b76-4998-8147-a846d53d91c5\n",
      "6e86206f-dafe-4c28-bacc-7b83b2d40f0c\n",
      "6f4ffe7b-395f-41ea-ad61-df5e0cbd531c\n",
      "6f67a66b-56ec-4c36-ae7c-f250d3b86a23\n",
      "6fa2b30f-9b89-46ac-9b79-c0bc105d4271\n",
      "6fb707b1-5c07-479f-8385-5404bf5747b0\n",
      "6fd30823-3b77-40c9-ba5d-e1eda9660674\n",
      "701206c5-aaac-4b99-9cc0-4a6854359457\n"
     ]
    },
    {
     "name": "stderr",
     "output_type": "stream",
     "text": [
      "\r",
      " 43%|██████████████████████████████████                                             | 521/1208 [00:18<00:40, 16.93it/s]"
     ]
    },
    {
     "name": "stdout",
     "output_type": "stream",
     "text": [
      "7029feb3-9ffe-46e4-9883-6a9df84f7b62\n"
     ]
    },
    {
     "name": "stderr",
     "output_type": "stream",
     "text": [
      " 44%|██████████████████████████████████▍                                            | 526/1208 [00:19<01:26,  7.89it/s]"
     ]
    },
    {
     "name": "stdout",
     "output_type": "stream",
     "text": [
      "7094c11a-1e62-4f98-894e-d17d138a88e9\n",
      "70a95e58-ba60-4c1f-adcd-49c198dc2ba0\n",
      "711f6b3f-cd63-46d1-834a-bc8e9aa9b43e\n",
      "71204a6d-814e-44b6-9cee-7b979f478021\n",
      "715761a2-745e-4743-9849-956a034ad3c4\n",
      "716273ea-19c4-49af-8604-df587b295eca\n"
     ]
    },
    {
     "name": "stderr",
     "output_type": "stream",
     "text": [
      "\r",
      " 44%|██████████████████████████████████▌                                            | 529/1208 [00:19<01:13,  9.25it/s]"
     ]
    },
    {
     "name": "stdout",
     "output_type": "stream",
     "text": [
      "71881a39-a30c-40c7-8c4a-9f64c93e79d9\n",
      "71925778-a26e-483e-a07c-f3aaf740122a\n",
      "71bbdc58-11af-41f2-9a93-3fe9257c5cf3\n",
      "71cf2467-77d3-4fac-ac6e-1d8767717c34\n",
      "72029aca-f0bc-477f-b790-f345f86228ce\n",
      "72088c26-d2dd-4906-b791-b8947fc7fbe4\n"
     ]
    },
    {
     "name": "stderr",
     "output_type": "stream",
     "text": [
      "\r",
      " 44%|██████████████████████████████████▉                                            | 535/1208 [00:20<00:49, 13.58it/s]"
     ]
    },
    {
     "name": "stdout",
     "output_type": "stream",
     "text": [
      "72105bb0-8e39-48be-b7f7-5b32f047b99e\n",
      "724e0c34-32cd-41f1-ae37-586038bc67ab\n",
      "72732579-a812-4496-b2dd-ea1556924337\n",
      "729733ff-a349-4a96-b636-ccabe7d7e167\n",
      "729a38d6-66db-48e5-a00d-7d90d224290f\n",
      "73dd09d3-2bff-4b5e-b996-9da0b8b54a8f\n",
      "74261741-4d6e-4dba-8ad4-4fbdf919c30f\n"
     ]
    },
    {
     "name": "stderr",
     "output_type": "stream",
     "text": [
      " 45%|███████████████████████████████████▋                                           | 545/1208 [00:20<00:34, 19.41it/s]"
     ]
    },
    {
     "name": "stdout",
     "output_type": "stream",
     "text": [
      "749df49e-5212-49ea-9e88-7d66f258f1df\n",
      "7521ec48-57b5-48a8-a5d6-8280ad5da19c\n",
      "75579b27-8191-4044-859b-268be969c42b\n",
      "755e5bf8-e8e1-492b-a32f-f7d87cccaa40\n",
      "75660b56-51c2-45a9-9c15-e18d12a3af8c\n",
      "75c243e2-610d-4d5a-bc5a-4c53d99d9ae9\n",
      "76021d69-8919-4688-95ef-7418eff620cc\n",
      "7624ac36-1cf9-42fb-844d-376078309553\n"
     ]
    },
    {
     "name": "stderr",
     "output_type": "stream",
     "text": [
      " 47%|█████████████████████████████████████▏                                         | 568/1208 [00:20<00:13, 49.07it/s]"
     ]
    },
    {
     "name": "stdout",
     "output_type": "stream",
     "text": [
      "7625dfc4-858a-4c8e-907c-8943d665e9a7\n",
      "766d5547-8dd2-4c8d-b78e-3007f83932e8\n",
      "76a8a5f5-1328-4539-a131-baf877f40cf3\n",
      "76b24246-8571-4e7b-8815-b185414a2c51\n",
      "76dbce7f-dc3e-4a29-b1fe-ab9dce583080\n",
      "770b8ca4-8377-479b-9ad5-5455ec3b44f8\n",
      "77e76e62-2c71-4b52-9b21-0d1bcde9f9bf\n",
      "781d4bea-c6a9-4b36-ae10-ba9e328c87fe\n",
      "783ae4ad-6a35-4b3c-b19f-754974b67b2d\n",
      "787abd97-dd37-4212-8b43-61696eb3abc0\n",
      "78a5d1c3-44dd-44bc-ad5b-5e25bdcc4fae\n",
      "78ac1e98-7062-4e27-8d58-25c392cae889\n",
      "78c35732-7e31-4153-842e-55ab1cd656f6\n",
      "7942691b-6376-4c75-ae8a-ddf65454dcb2\n",
      "795d0331-da56-4d45-a58a-54803408ffd9\n",
      "79806898-0214-44bd-ba2c-b570e911be62\n",
      "79b3a64f-2fb9-46e0-85d4-2bdd59c2075e\n",
      "79d7a014-21ff-40f1-9ac4-a69839390654\n",
      "79f2fbab-169d-4062-820d-3dfd12f062c8\n",
      "79f63258-24ce-4e69-a5cb-8529635a89a9\n",
      "7aae78ce-ac97-478d-983c-c0ec290171df\n",
      "7abc0d26-dd66-4ef4-8c4e-4a661e589a7f\n",
      "7ba9db7e-9d3f-413c-b672-2bba5fb5b415\n",
      "7bcd3735-3134-46d1-8ca2-d4379f2d51c0\n",
      "7bde7de1-889b-4218-b0e1-e2c04f6a7986\n",
      "7beee655-6156-43b8-b185-dbae0eaf7f45\n",
      "7c1cd7c7-7452-4428-a98e-dd7675c8ddea\n",
      "7c66d2fd-68ee-4628-b860-9d7ad25b2a80\n",
      "7c68c343-a7d3-4d26-b330-a5bb97ab8d9c\n",
      "7c870293-2665-4a6b-a4fa-336959051dfc\n",
      "7d041c38-11f2-4186-8a24-29d7d0f5c3cf\n",
      "7d4c2160-317f-48d1-a60a-788ec300b3e8\n",
      "7d4d0646-26b5-46fa-ab25-452d986e887b\n",
      "7d65d296-0f7b-41cc-9073-a547e24326c8\n",
      "7d9c1422-6332-44e9-b134-3ac94f07b0f0\n",
      "7db1373d-5bbf-47e6-ab40-30cba7678745\n"
     ]
    },
    {
     "name": "stderr",
     "output_type": "stream",
     "text": [
      " 49%|██████████████████████████████████████▉                                        | 595/1208 [00:20<00:08, 75.78it/s]"
     ]
    },
    {
     "name": "stdout",
     "output_type": "stream",
     "text": [
      "7dcc84ce-e8b4-46c8-9506-7c8ebda5da2f\n",
      "7dfbfeaf-e3b1-4159-8dcd-d7f731280ac8\n",
      "7e25ced3-5caf-47f8-ad0c-42946bd4468b\n",
      "7e837856-3519-4dc0-b357-4cdcfd30b4eb\n",
      "7eae1169-e294-4594-8e03-1366d23ff2d1\n",
      "7eb95580-693f-41b6-9338-174be1430c23\n",
      "7ef90770-6aeb-45eb-9744-49c5247dde30\n",
      "7f528918-27d4-421f-ab57-0cf9c693e697\n",
      "7fd2d254-b062-4f3d-8970-687e73c5a00a\n",
      "7fdc8be8-7579-4a5c-b369-8a07ee0a8b7d\n",
      "8002cb71-0f25-4fa4-a46f-b49e5aeded0c\n",
      "801296d9-3403-426f-859e-5c532858e025\n",
      "80da32ce-8c22-470e-9f35-558c5f7a5df9\n",
      "815bf40c-371a-4d34-aa41-c549c8221881\n",
      "8190ec37-9a5e-419f-89ed-fbfb079370db\n",
      "81a2748d-51c9-4439-995d-f747871d6544\n",
      "81af1442-d835-46bf-b80b-a898dba3da1b\n",
      "81c3c8f0-d5a9-4dda-afd5-e86f6afd9424\n"
     ]
    },
    {
     "name": "stderr",
     "output_type": "stream",
     "text": [
      " 51%|████████████████████████████████████████▏                                      | 615/1208 [00:21<00:07, 78.43it/s]"
     ]
    },
    {
     "name": "stdout",
     "output_type": "stream",
     "text": [
      "81edcae1-65bf-4752-b0e4-494376b71e49\n",
      "81fed4a1-9d48-4938-90c9-c8bf3f5e6b1f\n",
      "820bbfea-3dae-46fc-b61a-3d0ed2ea01c2\n",
      "8271d0d8-9985-43eb-94b3-c702adca139f\n",
      "833b1d3e-d389-4d0f-8638-6aca5b89f917\n",
      "834a30bb-26bf-4e60-9ea1-3250b926892e\n",
      "83d4e1fe-da84-4175-a9e2-8efc18782dcf\n",
      "83ec1cb9-1714-4bf1-81f6-115fde84564d\n",
      "83ec8923-6232-40d7-ba1f-a1b8bf7cb66c\n",
      "84041bf9-dace-4066-9fe0-52170d08f826\n",
      "8490c623-3d88-4532-baf5-0d266a45b16f\n",
      "84c88143-940d-4b62-bbd2-7acc4cadcb6b\n",
      "84d7545e-c3a8-4b1f-9a39-36aab78c8699\n",
      "84ee2ea3-9edd-4672-a1b3-f09c607d833a\n",
      "85546330-4efd-43e2-87aa-d53a30220bfc\n",
      "85a4d82e-cfb7-4983-b272-626c9e8c7583\n",
      "861c3e06-aada-47a0-99ae-94fbc2772cc0\n",
      "86495bbf-687b-429c-b9d3-6c2681ade7e2\n"
     ]
    },
    {
     "name": "stderr",
     "output_type": "stream",
     "text": [
      " 53%|█████████████████████████████████████████▌                                     | 636/1208 [00:21<00:06, 84.97it/s]"
     ]
    },
    {
     "name": "stdout",
     "output_type": "stream",
     "text": [
      "867f30da-2568-4480-9968-cece78c61c64\n",
      "8757be1e-b832-407a-8e95-62abae485b24\n",
      "877d5e7f-19b6-40e7-81bd-c92f25e72503\n",
      "87d6343b-70dd-4cdd-939f-d3ac0ca2e700\n",
      "882b91b7-5906-4091-bad4-688d4375eeb5\n",
      "883b726a-f61c-4382-9f1b-2fff302beba6\n",
      "883d9731-a04d-4f84-83c9-d3bef954759d\n",
      "8855c685-5a8c-4967-a356-942ed89e3471\n",
      "8939e14b-fcdf-48b1-acb9-6514a2fc2fc0\n",
      "89b276cc-cc8f-4378-a877-e01aff333373\n",
      "89b3d781-2f81-4d23-bed4-84da064df7f3\n",
      "89f10192-d3dd-4996-a571-4c851dbdc983\n",
      "8a4aadac-cf5c-4a79-b875-271b3fbfd230\n",
      "8a7deb24-d2b4-4acf-86c4-3aadd39157fa\n",
      "8ab5c462-045e-4b59-b53a-9b2bc3ed2487\n",
      "8ad7ba46-5db8-4ba9-b3e0-3cac52f7efc3\n",
      "8b494b40-cab5-49d3-893d-c805000fbe88\n",
      "8b89b3fc-95ef-4f2e-b94b-0291dbffe0f4\n"
     ]
    },
    {
     "name": "stderr",
     "output_type": "stream",
     "text": [
      "\r",
      " 53%|██████████████████████████████████████████▏                                    | 646/1208 [00:21<00:07, 70.61it/s]"
     ]
    },
    {
     "name": "stdout",
     "output_type": "stream",
     "text": [
      "8bd71314-e38a-4670-bb25-5cd6c9acb595\n",
      "8be185e7-2a1a-441c-a5c7-b50a9eb926cb\n",
      "8cc6fe77-5f2f-4670-b4ac-1b49550241a8\n",
      "8cca114a-ed05-4b87-95b7-fae02487f08c\n",
      "8d02117d-6c71-4e47-b50a-6cc8d5eb1d55\n",
      "8d56197c-21d7-4cb6-92df-80637efd129b\n",
      "8d5d5c22-2f75-4fe1-9ea3-03a3c7b92ea9\n",
      "8d989997-038c-4924-b2d3-d02629a7cdf5\n",
      "8dace03a-10c4-4d59-bcd9-a2c314c5df33\n"
     ]
    },
    {
     "name": "stderr",
     "output_type": "stream",
     "text": [
      "\r",
      " 54%|██████████████████████████████████████████▊                                    | 654/1208 [00:21<00:08, 62.16it/s]"
     ]
    },
    {
     "name": "stdout",
     "output_type": "stream",
     "text": [
      "8e078333-8fa0-45be-a46e-fa05708cb365\n",
      "8e0dfc1f-e3eb-4a3f-a1c4-249bdfbfaa27\n",
      "8e4bdd0d-1c72-4836-ae3e-05e2e50e4983\n",
      "8e69098c-fae0-47a3-8833-c2bfdfb1a416\n",
      "8e72e20e-e714-4db6-a1da-c05a409257d4\n",
      "8eeb378e-90f0-47ea-ac1c-2a201eb8d090\n",
      "8f84a2c9-ca38-4405-a488-12fcd101278b\n",
      "8f96ee1f-4ef7-4279-a610-316319bedcf9\n",
      "90171428-f208-428a-b40e-f57ee3bea457\n",
      "90246988-0d6d-4bf8-8a76-94107de4121e\n"
     ]
    },
    {
     "name": "stderr",
     "output_type": "stream",
     "text": [
      "\r",
      " 55%|███████████████████████████████████████████▏                                   | 661/1208 [00:22<00:11, 46.15it/s]"
     ]
    },
    {
     "name": "stdout",
     "output_type": "stream",
     "text": [
      "907650b5-edae-471d-bc54-a825be3d3fac\n",
      "90a82250-1f68-48c9-9af9-15f18bf8c974\n",
      "9106a6bb-1352-411f-ac26-0d6fe48c16a8\n",
      "913099c5-8085-4908-bf4b-1f098bbfcf66\n",
      "9147a21d-0de2-4c04-88da-b788311696ac\n",
      "9174f910-3859-4839-8e30-2c3b25269322\n",
      "91827f1a-9b04-4ef0-972c-12e90e60c516\n",
      "91e93160-eb8d-4de0-b6bc-b98ec33d1663\n"
     ]
    },
    {
     "name": "stderr",
     "output_type": "stream",
     "text": [
      " 56%|████████████████████████████████████████████                                   | 673/1208 [00:22<00:12, 44.57it/s]"
     ]
    },
    {
     "name": "stdout",
     "output_type": "stream",
     "text": [
      "9258fe22-6406-4d00-b6f0-3f9492925405\n",
      "92e4fd7b-79ef-49c2-a52b-9ef13dd720ef\n",
      "933e7e07-fc3d-42eb-be0c-6b1623ee60fa\n",
      "939ad732-d7c5-4339-b087-4335b49d6a3c\n",
      "93a306b8-594a-4c7f-8b4a-127fb6ad8f1a\n",
      "93b47b14-7f78-4b31-8897-d63a81fdab01\n",
      "93f40356-5676-45d3-8e83-8028708c93ba\n",
      "93f7e207-0d8e-47f8-8258-09a0e03dbdd6\n"
     ]
    },
    {
     "name": "stderr",
     "output_type": "stream",
     "text": [
      "\r",
      " 56%|████████████████████████████████████████████▎                                  | 678/1208 [00:22<00:16, 32.39it/s]"
     ]
    },
    {
     "name": "stdout",
     "output_type": "stream",
     "text": [
      "947348fe-4c70-468e-8009-3c14daeca69b\n",
      "948c94ad-395c-41f4-9a68-8a1dcb76888c\n",
      "94b5a9a1-1c88-4400-aca4-3d56f543fc4a\n",
      "94d9fa50-d3e4-4eaf-acfc-92e7f2ed9ea5\n",
      "95bea542-6cd0-41c5-82c5-509af8c3b505\n",
      "95d5e689-c1d1-4ae8-a659-cc20c62a99f0\n",
      "95fea6d8-413f-421e-b331-5d51c31df150\n"
     ]
    },
    {
     "name": "stderr",
     "output_type": "stream",
     "text": [
      " 57%|████████████████████████████████████████████▉                                  | 688/1208 [00:22<00:16, 31.32it/s]"
     ]
    },
    {
     "name": "stdout",
     "output_type": "stream",
     "text": [
      "9615ff33-b3fc-4d1e-9c05-0b8e3ef936df\n",
      "96596a68-8c95-43f3-b74e-e9506c235144\n",
      "9691c57a-ccf8-47f9-a8e9-9a324974585b\n",
      "97eff653-3908-4e66-931f-eab36bc336c8\n",
      "98175327-da9e-4e0c-8912-ee68490a4672\n",
      "9842445c-5899-4189-9f2e-3a3a179fdad3\n",
      "984caf56-f400-4a29-be97-a4d6b9d1468d\n"
     ]
    },
    {
     "name": "stderr",
     "output_type": "stream",
     "text": [
      "\r",
      " 57%|█████████████████████████████████████████████▍                                 | 694/1208 [00:23<00:15, 32.71it/s]"
     ]
    },
    {
     "name": "stdout",
     "output_type": "stream",
     "text": [
      "985627c9-7b85-40de-a106-eb9cc47b47cb\n",
      "98976666-9125-47fe-9601-43c41e58dfb4\n",
      "989d86a1-6d76-4089-85cf-2f2ca0a8456c\n",
      "98c25ffe-c329-420a-bc22-b082f565eac9\n",
      "98efca97-37d2-4459-aca6-375ecc0c4539\n",
      "997eabd9-55bf-4683-83c4-4cee4673a4ef\n",
      "99a21c5c-f5a7-4c07-9cb6-5dda2d388f48\n",
      "99b13257-b9d9-422f-8262-802da0bdc510\n",
      "99d6a7e5-128e-4455-841d-8fbd1663905e\n",
      "99e979d4-ee97-4d7f-9da6-00bead40db4d\n",
      "9a1cd456-310c-47b6-a1f8-0fbd8e33d1fd\n"
     ]
    },
    {
     "name": "stderr",
     "output_type": "stream",
     "text": [
      " 58%|██████████████████████████████████████████████                                 | 705/1208 [00:23<00:14, 34.40it/s]"
     ]
    },
    {
     "name": "stdout",
     "output_type": "stream",
     "text": [
      "9a25f103-1683-47d1-8b07-ac20fe0b3ee9\n",
      "9acf303a-fcba-4e52-be3e-8d061aa5e72a\n",
      "9af1ee02-87fd-42bc-963e-fa9ac3eb45bb\n",
      "9af4b8ae-c912-41fd-b4c0-34864c75360f\n",
      "9b3fd401-dab0-440f-8498-eb3cc9ffa970\n",
      "9b410534-3b70-4a88-9f93-205cf4e55a05\n",
      "9bd40bc6-4949-42d3-b38f-d60422932f65\n",
      "9c48fdf4-621d-4f40-bcd7-6a28cd530de7\n",
      "9c4cb048-d64a-4b7f-84ff-ca28a8084fc7\n",
      "9c5f48c0-0544-4c0c-92b4-59b7d7b7814c\n",
      "9ca20b10-e2fd-4bd2-93ef-78298f763ed5\n"
     ]
    },
    {
     "name": "stderr",
     "output_type": "stream",
     "text": [
      "\r",
      " 59%|██████████████████████████████████████████████▍                                | 711/1208 [00:23<00:13, 35.97it/s]"
     ]
    },
    {
     "name": "stdout",
     "output_type": "stream",
     "text": [
      "9cdee92c-6267-4188-a41e-125bc0abb9ae\n",
      "9d155086-acf5-4c86-a9e1-94b587c46e87\n",
      "9d819c89-4ea9-4e75-9b03-da87fa6c6f4d\n",
      "9dc6ed5d-6698-48cf-aab3-fd156673729c\n",
      "9e0e1928-d19a-4100-b093-0b962ac09e05\n",
      "9e1b0217-0926-4fd1-bb9e-a815c05deb59\n",
      "9e5437c6-b0d3-473b-b7c3-8f5afeb90c7a\n"
     ]
    },
    {
     "name": "stderr",
     "output_type": "stream",
     "text": [
      " 60%|███████████████████████████████████████████████▎                               | 723/1208 [00:23<00:13, 35.87it/s]"
     ]
    },
    {
     "name": "stdout",
     "output_type": "stream",
     "text": [
      "9e74feb8-017d-4d53-8896-9ebda4327dd1\n",
      "9e793460-d94c-47ac-b3a7-0d6ad86357da\n",
      "9e82c996-2cfa-418d-9482-8ee23e9d0a5d\n",
      "9eb66577-7857-43dc-a879-8f2c9d7f780f\n",
      "9ebd623d-5534-4dd9-bff8-cdedf322db35\n",
      "9ec1dcec-87c2-4aca-8e6b-0db3cd05509c\n",
      "9ecf2006-8d49-4ae8-a14b-ed8b3b14ee7c\n",
      "9edba799-e169-46cd-b100-c9f8fc7a8c7d\n",
      "9f33e0ea-065b-4703-9df9-15829b891860\n",
      "9f38055f-4fe6-47fd-a6dd-c0743db4eccf\n"
     ]
    },
    {
     "name": "stderr",
     "output_type": "stream",
     "text": [
      "\r",
      " 60%|███████████████████████████████████████████████▌                               | 728/1208 [00:24<00:13, 35.09it/s]"
     ]
    },
    {
     "name": "stdout",
     "output_type": "stream",
     "text": [
      "9f4bc3b4-abb0-4bcb-baa8-ec9f25e2b9c6\n",
      "9f959520-e15e-45c2-bc29-ef3c19154d1c\n",
      "9fbf38ab-44b9-4096-a818-603017a4300e\n",
      "9fe8bdc8-847d-434e-93e5-ae14ff3b45e1\n",
      "a054a8e2-55f2-4508-97df-207f76b89be2\n",
      "a065c50b-341d-4803-b4b0-0fe8f04fdbb5\n",
      "a0785022-e82b-4878-b9d4-19cb7b75213f\n"
     ]
    },
    {
     "name": "stderr",
     "output_type": "stream",
     "text": [
      " 61%|████████████████████████████████████████████████▍                              | 740/1208 [00:24<00:12, 37.54it/s]"
     ]
    },
    {
     "name": "stdout",
     "output_type": "stream",
     "text": [
      "a0b277cb-20bc-4921-a6bd-5ccd5b91d14f\n",
      "a0e2ef53-d39b-40cf-b8b6-4b148ac339ec\n",
      "a0eedcb9-b85c-4612-b945-7e8227f53c35\n",
      "a0eeeb10-d0cb-48d9-8c22-2c3a3c908d00\n",
      "a11ed7d0-12f6-468f-abad-5cba7d968123\n",
      "a15e0fa8-2620-4f66-896e-175115c9dc3d\n",
      "a1669b59-fe09-4fe6-ba9f-06bec6725502\n",
      "a18f122f-3a3e-4478-8ac4-91b83e050e65\n",
      "a1c140f9-75d7-42a3-b767-4c01a118892b\n",
      "a1ff36df-71df-4e6e-a65f-ced9a2b381c3\n",
      "a20d0b4b-6e2e-4507-bc22-f321dedc4ed9\n",
      "a23f5539-bfe6-4885-9a0e-dba972475ea9\n"
     ]
    },
    {
     "name": "stderr",
     "output_type": "stream",
     "text": [
      " 62%|█████████████████████████████████████████████████                              | 750/1208 [00:24<00:13, 34.21it/s]"
     ]
    },
    {
     "name": "stdout",
     "output_type": "stream",
     "text": [
      "a2754679-68b0-40f4-be01-bafad5ac1261\n",
      "a27858ef-6533-413e-bc75-cc54690261a2\n",
      "a27b451d-44a6-4740-861a-9e7e99915563\n",
      "a2a20600-f851-4db7-90f9-6f7be027c8b5\n",
      "a2ccbf70-e444-49a9-8b7e-9797a05220d8\n",
      "a2d07312-2f97-40d2-8b09-7f2aca7b16fb\n",
      "a2de1248-7bc0-44dc-b508-70a357eedd68\n",
      "a2fc0093-8645-43c7-bdee-ec8ca9484815\n",
      "a302a6fa-f635-4ade-b72b-b6f3c2a34ec9\n",
      "a30da226-b452-408a-a556-bfae4d521464\n",
      "a3ada657-de00-44db-b1e2-54ba17e39983\n",
      "a3c0a876-be12-4ede-8aed-18b32a64401b\n",
      "a4409217-be11-4478-90a5-b406057d154d\n"
     ]
    },
    {
     "name": "stderr",
     "output_type": "stream",
     "text": [
      " 64%|██████████████████████████████████████████████████▊                            | 777/1208 [00:24<00:05, 72.11it/s]"
     ]
    },
    {
     "name": "stdout",
     "output_type": "stream",
     "text": [
      "a4851ed0-1499-4eae-9157-dcd34773254f\n",
      "a4d7a7e1-5ae1-486d-b6ee-c9af1476ccad\n",
      "a4fbb9f2-9b75-4fdc-877d-2feaafac25b3\n",
      "a51d6c18-f9e8-4714-9dbb-38e1577445f2\n",
      "a588091c-5e4c-4e61-914d-e96f3ee3e505\n",
      "a5c3b3f8-7ceb-4573-a400-a76b9479af46\n",
      "a5e05ba8-0c19-41e3-92d5-10e42a03b85e\n",
      "a6391703-0820-4913-a7cd-e843ff0d84ba\n",
      "a63ce82f-f3d1-4818-9035-d3d230e5f686\n",
      "a63fa2c7-3ec8-4bb7-bde6-a39e09d2f806\n",
      "a6526894-e290-482d-ac43-f1df34864817\n",
      "a6aa3b72-2970-4c78-b655-ea8dfe6e018c\n",
      "a6ba808f-ec60-42a5-ad91-7b32412ab708\n",
      "a6d85204-24b8-4b23-a8b1-c3e8b93f9f22\n",
      "a6f8a029-44ee-4fe3-b807-38d137347729\n",
      "a6fe423a-5204-4378-bcfa-d6d298a3e9aa\n",
      "a72cd558-b7ac-4bf2-a344-2ce6c73a354e\n",
      "a74b6d6a-7e04-40ac-9292-d62f13f7ded3\n",
      "a7688988-2bcc-4458-83d3-5e482da5f87b\n",
      "a777e78c-ad1f-4380-9ab2-b4f9f32b2d78\n",
      "a7b6894d-eeea-4ed5-bc0e-785d6c6da8df\n",
      "a7c3c52f-3b40-4c92-a212-df9462cf25d8\n",
      "a7c91b63-b97c-4f4b-8d34-7ad2b08d7a17\n",
      "a7f1bbb1-6058-4642-bd66-cfb90dce762e\n",
      "a824b499-3736-4581-bbdc-be1b3b4cf756\n",
      "a85cd1ae-0c94-4387-8305-84ab8d96d137\n",
      "a86e0647-ae41-4b75-9d45-dd58f5ea65f5\n",
      "a88a48b6-f85c-45c1-b42f-79716c8463f1\n"
     ]
    },
    {
     "name": "stderr",
     "output_type": "stream",
     "text": [
      "\r",
      " 65%|███████████████████████████████████████████████████▌                           | 789/1208 [00:24<00:05, 82.15it/s]"
     ]
    },
    {
     "name": "stdout",
     "output_type": "stream",
     "text": [
      "a89cace5-c818-4f23-a432-052b3433b81e\n",
      "a8cb75ba-3f2f-40d8-8bc7-c79ebd1b9603\n",
      "a9159b11-ba49-4885-902e-00c8d5095b98\n",
      "a93c35ba-1690-4358-8837-669bcd850bb7\n",
      "a9daf82a-a46d-4296-bd72-2c374ed0a193\n",
      "a9feccda-18f2-405e-9aa1-409fa1f49fe4\n",
      "aa2dfa24-2dc3-4279-a232-f84780ace190\n"
     ]
    },
    {
     "name": "stderr",
     "output_type": "stream",
     "text": [
      "\r",
      " 66%|████████████████████████████████████████████████████▎                          | 799/1208 [00:25<00:07, 55.03it/s]"
     ]
    },
    {
     "name": "stdout",
     "output_type": "stream",
     "text": [
      "aa3ad405-828e-4986-8251-20fd981f34d3\n",
      "aa4a023b-55bd-4259-b15d-7086a9b491e0\n",
      "aaade430-4c49-4038-97b7-f8cdd937db57\n",
      "aabca37c-f9ef-4415-aab6-3246caa348e9\n",
      "ab27173b-6e30-4957-bd68-29194328fd39\n",
      "ab59c9e4-3e50-48b9-874d-060d317410cc\n",
      "abb2f9d6-26fa-4328-983c-959ef6717c05\n",
      "abf4cf2a-4532-4772-9f0f-9e123cc1713d\n",
      "ac3358f1-ef9a-4ccc-b66c-da5e47e352e0\n",
      "ac4d6507-d710-497b-ad7c-e0dd75c1d06d\n",
      "ac8df764-c8d8-4312-916d-70bfb37574b4\n",
      "acb16781-11ad-4327-874a-5c9c35dcb085\n",
      "acdc6e12-73d9-44ba-be8c-2a56aaffef4f\n"
     ]
    },
    {
     "name": "stderr",
     "output_type": "stream",
     "text": [
      " 67%|█████████████████████████████████████████████████████▎                         | 815/1208 [00:26<00:12, 31.44it/s]"
     ]
    },
    {
     "name": "stdout",
     "output_type": "stream",
     "text": [
      "ad36bd67-594b-4f63-93e3-886af0bc618e\n",
      "ad8731b7-0dae-4983-9dc6-dec31767d761\n",
      "adff132d-3af0-4cef-942c-58fc09729bee\n",
      "adff6e1d-ba9d-4c7b-a8fe-1ec458eaeeb8\n",
      "ae17a099-18b5-4a42-a901-850ea056423e\n",
      "ae779806-6d01-4dc6-89df-294c368db6bc\n",
      "af2e63a3-9fde-46aa-a867-81c5c259d1dc\n",
      "afa470d9-c74c-41cd-b4dc-7bf93fde8263\n",
      "afbb264e-ff60-443a-83f5-49d09be1b835\n",
      "afd39466-aafa-4d81-9520-483727418723\n"
     ]
    },
    {
     "name": "stderr",
     "output_type": "stream",
     "text": [
      "\r",
      " 68%|█████████████████████████████████████████████████████▋                         | 821/1208 [00:26<00:14, 26.50it/s]"
     ]
    },
    {
     "name": "stdout",
     "output_type": "stream",
     "text": [
      "affa429c-0315-4c18-a002-13bb3ecab259\n",
      "b02f6804-1697-4a5e-9be7-61931903ab55\n",
      "b10ea12f-cd36-4f2c-994a-67d1665269ab\n",
      "b1100ae1-0ac8-4fc2-b0ff-8819f7fbe724\n",
      "b1145408-feae-4637-b4cf-3e70b99cc62d\n",
      "b12ae3b1-613c-4c0e-9163-3c5cc314abf5\n",
      "b197093e-2928-46a4-8e35-fa5ea7ea6dac\n",
      "b2103776-9b32-4160-b4f0-0692deda19dc\n"
     ]
    },
    {
     "name": "stderr",
     "output_type": "stream",
     "text": [
      " 69%|██████████████████████████████████████████████████████▎                        | 830/1208 [00:27<00:16, 22.24it/s]"
     ]
    },
    {
     "name": "stdout",
     "output_type": "stream",
     "text": [
      "b21f6c6e-4b45-407a-b4c7-034a115f3ee4\n",
      "b234b6ea-b54d-470c-8461-ba7f4a024796\n",
      "b2e34f5f-904e-4473-9dc7-c6bc1ce12640\n",
      "b2f05937-b965-4c4b-b86e-f50e95d9d691\n",
      "b3058064-d817-47dd-a8c4-cdb1f62374f8\n",
      "b318889c-3c60-477c-b8f6-d18cb01a59df\n",
      "b338766f-19b9-4874-bcc5-ae22b3c533e6\n",
      "b34e65f6-c32e-42f1-a437-4a037c75a231\n"
     ]
    },
    {
     "name": "stderr",
     "output_type": "stream",
     "text": [
      "\r",
      " 69%|██████████████████████████████████████████████████████▌                        | 834/1208 [00:27<00:16, 23.36it/s]"
     ]
    },
    {
     "name": "stdout",
     "output_type": "stream",
     "text": [
      "b3606d0e-6fe5-478a-bb4b-64d7c4889d86\n",
      "b4261fa5-876d-48ea-b6da-ec7ca5b48fe2\n"
     ]
    },
    {
     "name": "stderr",
     "output_type": "stream",
     "text": [
      "\r",
      " 69%|██████████████████████████████████████████████████████▊                        | 838/1208 [00:28<00:44,  8.34it/s]"
     ]
    },
    {
     "name": "stdout",
     "output_type": "stream",
     "text": [
      "b426ef1d-4a59-4f90-b593-50226af60a60\n",
      "b4bde4e8-f48b-4ae2-be01-86d8c91d0af9\n",
      "b4c52960-bbee-439e-83dc-f89ddaade71b\n",
      "b4d22412-a495-43a9-bec0-73a2322f8dad\n",
      "b4dc3088-3fe2-4688-be24-70664a64e022\n",
      "b4e5e08d-6427-46f3-aca8-a4df165a151d\n"
     ]
    },
    {
     "name": "stderr",
     "output_type": "stream",
     "text": [
      " 70%|███████████████████████████████████████████████████████▎                       | 846/1208 [00:29<00:30, 12.02it/s]"
     ]
    },
    {
     "name": "stdout",
     "output_type": "stream",
     "text": [
      "b4f3b2a4-f4b9-48de-ac5d-0e681b77be27\n",
      "b5143aae-6e98-4dc6-b546-980cb472de67\n",
      "b523daee-317b-461d-bdc1-07b4add4d488\n",
      "b5246b58-6f40-4c9e-8024-f49b0ed6bdbd\n",
      "b5513d5b-46fc-4f44-a616-791087fbd608\n",
      "b59dc3a0-3d54-4e3b-a485-33b3e43966de\n",
      "b5acf759-1115-42f0-a753-656736192528\n"
     ]
    },
    {
     "name": "stderr",
     "output_type": "stream",
     "text": [
      "\r",
      " 70%|███████████████████████████████████████████████████████▌                       | 850/1208 [00:29<00:26, 13.77it/s]"
     ]
    },
    {
     "name": "stdout",
     "output_type": "stream",
     "text": [
      "b600b38d-225b-46a5-b6f8-b607430f6a10\n",
      "b618e87e-6059-496f-b0f6-e158f676a1fb\n",
      "b62d47f9-2ff5-4902-abdc-b3610acfc7ba\n",
      "b634137b-bc8b-4e88-b0e3-b536ad6e7e18\n",
      "b6364a57-72a9-43f3-8d02-9f53a992dc95\n"
     ]
    },
    {
     "name": "stderr",
     "output_type": "stream",
     "text": [
      " 71%|████████████████████████████████████████████████████████                       | 857/1208 [00:29<00:20, 16.76it/s]"
     ]
    },
    {
     "name": "stdout",
     "output_type": "stream",
     "text": [
      "b6573be3-9e04-49c3-9f48-6a145d065363\n",
      "b666fcc2-d0b2-441e-bc5a-c660345eeb5d\n",
      "b687c30d-cf15-445c-b3f6-5aca86584708\n",
      "b701b5c5-b922-4315-b12a-aac4ec65ee8b\n",
      "b78b88f0-154a-4b54-8aaf-85d37a42a0f9\n",
      "b78ba2c8-ecb3-45b2-9cda-2c8088fa95d1\n"
     ]
    },
    {
     "name": "stderr",
     "output_type": "stream",
     "text": [
      "\r",
      " 71%|████████████████████████████████████████████████████████▎                      | 861/1208 [00:29<00:19, 17.99it/s]"
     ]
    },
    {
     "name": "stdout",
     "output_type": "stream",
     "text": [
      "b7a0d235-2217-43b4-aeff-cde4ccaf6789\n",
      "b7d0ae11-a393-4aec-8f68-6ba07147f78a\n",
      "b7f1a1eb-c150-4456-9c47-e7db8a5cb77a\n",
      "b809b407-7b69-4334-873d-d6c49135f04a\n",
      "b8339d7b-85ec-48d0-83e8-c8f831070459\n"
     ]
    },
    {
     "name": "stderr",
     "output_type": "stream",
     "text": [
      "\r",
      " 72%|████████████████████████████████████████████████████████▌                      | 865/1208 [00:29<00:17, 19.56it/s]"
     ]
    },
    {
     "name": "stdout",
     "output_type": "stream",
     "text": [
      "b834cbf7-ff97-49d9-9561-566c9343735c\n",
      "b8410821-a42b-47d0-8bcf-c2fc82e4e2d5\n",
      "b85fc640-de49-4f7e-afc0-978ff020f2e2\n",
      "b87fb62d-2c36-4f68-aba9-37fcd7d46eef\n",
      "b88fe674-fb9a-41d4-b100-cb1c86440d44\n"
     ]
    },
    {
     "name": "stderr",
     "output_type": "stream",
     "text": [
      " 72%|█████████████████████████████████████████████████████████                      | 873/1208 [00:30<00:15, 21.97it/s]"
     ]
    },
    {
     "name": "stdout",
     "output_type": "stream",
     "text": [
      "b8a4d467-c40c-4ebf-91dd-1c19d0f2a7ae\n",
      "b8dd6125-5027-47e2-a283-14e199274c80\n",
      "b901c906-91be-48c4-88ec-2c527544a258\n",
      "b91b1641-ee06-44d8-94cc-24cdb583cc37\n",
      "b95ceeeb-8870-4492-9037-2091ff268c5a\n",
      "b9c6db13-ca3a-4937-8ecf-e537047ed858\n"
     ]
    },
    {
     "name": "stderr",
     "output_type": "stream",
     "text": [
      " 74%|██████████████████████████████████████████████████████████▏                    | 890/1208 [00:30<00:06, 45.75it/s]"
     ]
    },
    {
     "name": "stdout",
     "output_type": "stream",
     "text": [
      "b9ccf7ca-953f-4832-9575-5e70b2a8c224\n",
      "b9d65ef3-1adc-4479-abee-2e422f5a613a\n",
      "b9de8b1a-f96a-4eb5-bc05-84ad43a054f3\n",
      "baa87bf8-786c-444c-81e8-9fa0a41d8149\n",
      "bb137718-20ba-457d-8ffe-4f9420ecaab6\n",
      "bb2042c5-35e1-43cc-8171-7de81b764361\n",
      "bb337c84-f727-42a5-9c3d-934323a16c6a\n",
      "bb3ae957-0f6d-4615-bfe5-24fbca50b459\n",
      "bb795ddf-ce72-42d5-9006-124db4d5cf1c\n",
      "bbaa004f-05dc-4cb8-8768-e148085bb0f9\n",
      "bbe65c18-8a56-4dfe-875c-94e124a84125\n",
      "bbecf1a8-a728-4c83-87f8-4dfbac0a1e03\n",
      "bbedfcbe-9528-4ba9-9d86-4ebba7589ac5\n",
      "bbf687b5-c6f9-4821-b2e5-a25df1acba47\n",
      "bc1a58fd-736b-4812-a051-2c376cff50b7\n",
      "bc377041-e098-45c4-9651-2b1ea90d1d7e\n",
      "bc832bde-d3ea-4a8e-be90-7a3329dcc314\n",
      "bca27923-b270-45df-a0bf-3e1a7d135b2c\n",
      "bcaefb02-682a-41b9-acc7-e6cc010f5b30\n",
      "bcb447c9-5d37-414f-a513-d7076b04a532\n",
      "bd432159-5956-457c-bdeb-1b5e702ba513\n"
     ]
    },
    {
     "name": "stderr",
     "output_type": "stream",
     "text": [
      " 76%|███████████████████████████████████████████████████████████▊                   | 914/1208 [00:30<00:03, 76.40it/s]"
     ]
    },
    {
     "name": "stdout",
     "output_type": "stream",
     "text": [
      "bd7937db-fca2-44d0-8538-460110210927\n",
      "bd856928-96ee-4fc4-a377-f2fc4e84448b\n",
      "bdb5d571-27bc-4a42-ae45-aa5a9af40a81\n",
      "be5bb7d0-7c3f-4bb9-8bb4-f8bc8d875943\n",
      "be6fe358-dee1-4dcf-9b0d-5d8612aba577\n",
      "be779f52-0bfa-4c01-a16f-b7f0bc92ed7c\n",
      "befe6182-266b-4f8a-ac82-3a4154f05f60\n",
      "bf002a25-6535-4621-be19-56d468be5413\n",
      "bf20d04d-ff8a-4910-91d7-94054c267d1b\n",
      "bfc61c48-685d-470b-86b1-e4c7eb85c4fd\n",
      "bfe65b11-8aff-46aa-908b-1e989d25fdc4\n",
      "bfefa21c-11e1-4dab-ac5d-8ff6f046d65f\n",
      "c03d9b87-e19b-402b-ad86-b30d6e8aeb59\n",
      "c0c3041f-78cd-46de-8e36-0a7dad0c04c4\n",
      "c10b125d-10c2-474a-9c6a-5249935c638e\n",
      "c118ff18-f9f2-4617-bddb-dc4091fb8f5f\n",
      "c1423156-82b3-4dd3-8e74-08eb7ed8e1d6\n",
      "c147584d-4c61-412a-bdaf-b02b22c18708\n",
      "c17523c5-90a0-4a6b-9b33-2b4a6cf58d36\n",
      "c186dcd1-af61-455f-9619-1fdd8c881b06\n",
      "c22f7031-9cf8-48ce-b03b-1b12d0db4951\n",
      "c244166d-12ca-445f-9ed9-a13d9caa412f\n",
      "c2ec116f-f091-422c-926c-70b548a8f6ef\n",
      "c3042130-a6e2-458f-9fde-bb012f68f5f2\n"
     ]
    },
    {
     "name": "stderr",
     "output_type": "stream",
     "text": [
      " 78%|█████████████████████████████████████████████████████████████▍                 | 939/1208 [00:30<00:02, 96.81it/s]"
     ]
    },
    {
     "name": "stdout",
     "output_type": "stream",
     "text": [
      "c3209548-7f7c-4afd-b47c-b42a72b1ebf7\n",
      "c3215597-a032-46be-9058-d6de1e5191d7\n",
      "c32b8bb8-c89d-4ae9-9c77-5b9356ca35a1\n",
      "c35ee701-fde2-46b5-b178-1fe3f1ea7da2\n",
      "c3ae7090-fc68-41b4-85a1-8d9bce9825a7\n",
      "c3b07675-9d02-477c-91fe-f0737867049b\n",
      "c415532c-4cce-4580-9fcd-623c172a1abd\n",
      "c442e2d6-aaf9-417a-9905-4737a1115f33\n",
      "c4494d4f-732f-431a-8a9d-62403f0b74fe\n",
      "c4c7ed75-dbdf-4bb6-b6ba-718903cf7264\n",
      "c4d34e35-4db2-41de-ba77-1a94aa9ef788\n",
      "c5084fb8-2b62-464c-8a77-1a07ea653266\n",
      "c52f8cc8-afd7-441c-9f1f-18b6e16d79cf\n",
      "c53fd511-31bd-4901-baac-3b44891f6744\n",
      "c54fcef1-0c51-4426-9a93-15ec5f2bf58a\n",
      "c5acd0ad-b0f2-478d-b0ad-5aa733aa7b32\n",
      "c5db0fc0-b96c-496e-90b4-f9fb1b85b28e\n",
      "c63f190a-e860-44fc-a2db-7980e1c80519\n",
      "c649e1cb-4029-4433-b231-d67d68f7391a\n",
      "c6530038-6d4e-49e1-8427-d1d3acc9fa21\n",
      "c6575e75-c8ce-4766-841f-1137b9e0956c\n",
      "c66a3e52-0f3f-4c81-bab9-0303499549f7\n",
      "c66cb6b2-1480-446a-a9d2-b8032a3de0d7\n"
     ]
    },
    {
     "name": "stderr",
     "output_type": "stream",
     "text": [
      " 80%|██████████████████████████████████████████████████████████████▏               | 963/1208 [00:31<00:02, 105.12it/s]"
     ]
    },
    {
     "name": "stdout",
     "output_type": "stream",
     "text": [
      "c680004e-6ee2-43d7-877c-edc9b5ebeecc\n",
      "c691c8ef-d3c7-47b6-a941-f6a1089f21a9\n",
      "c6ab535c-30e5-4b6b-8273-1ec8d78cdd13\n",
      "c6d97845-8ad2-4ab7-b385-66613628df5b\n",
      "c7045ab6-230e-4c1e-a8e0-f624d41a00d9\n",
      "c742ee2c-6814-46cd-af56-ae87bb9972f4\n",
      "c776eb78-3323-4571-b39f-7ffc73ae63ce\n",
      "c7a2d648-47cb-4b39-afa4-1b7fcfe51934\n",
      "c7c1b873-0548-4a73-9618-f60912e164df\n",
      "c7ec51d5-9f45-4209-8357-39e9a984a733\n",
      "c84edeb4-311c-4e82-88f9-ae0505b3ad13\n",
      "c890ee00-daa5-4b20-9cd5-930748ecc4e0\n",
      "c8af0297-ce1f-40ea-bf44-9256dcdae4e9\n",
      "c8fd1336-dd0a-4f97-abbf-be2c18b91e02\n",
      "c94827ce-d619-4705-a68a-df63a2c95ffa\n",
      "c9499a06-fb31-4552-a9e2-fb4ebb440859\n",
      "c94a5851-b846-4fde-8c89-05bec3a8ac53\n",
      "c956e531-6805-4fe1-b61c-8b96a9815a77\n",
      "c9ad92d4-b408-4506-916e-def47b2e6ed0\n",
      "ca16a5ad-b106-4e84-8a43-178710e854ba\n",
      "ca5e6a15-ba65-48ea-8913-2d986e71bf3a\n",
      "ca677c3c-083f-4d54-9dec-39f79f6a17d8\n",
      "ca734448-0d52-42fa-b41c-17b2939e58ae\n",
      "ca9626bc-21a4-46f4-ba94-e7ee7a4cf735\n"
     ]
    },
    {
     "name": "stderr",
     "output_type": "stream",
     "text": [
      " 82%|███████████████████████████████████████████████████████████████▊              | 989/1208 [00:31<00:01, 114.42it/s]"
     ]
    },
    {
     "name": "stdout",
     "output_type": "stream",
     "text": [
      "caeb2d62-1166-43f0-8eac-5b8fc48f02eb\n",
      "cb08956d-dd6a-4e13-817b-40a0a93068f1\n",
      "cb2fac19-90b0-48b4-bdc5-7dbbd58756d1\n",
      "cbb58718-6319-48db-b84b-78ac9b12ff89\n",
      "cbde7f7e-2458-4dda-9db2-3d5ccf950ced\n",
      "cbec07ed-69d3-40e7-8b04-b3bd6680885b\n",
      "cc275c45-7511-4070-84af-10b8ffebda53\n",
      "cc882eae-a341-4783-bd19-8bdedf798538\n",
      "cc94eabb-a3dc-4cfc-9fff-55c76b5b4a71\n",
      "ccb4b13d-ab20-4222-892f-5adf70249aaa\n",
      "cd2774a0-dab2-4d68-aae9-7568b9f3d2a6\n",
      "cdb086a8-2bf8-4436-b1ef-96cdd801f247\n",
      "cecbf663-0751-4e7f-b298-770c88afc2c1\n",
      "cf90d82f-2814-4fb7-a3ff-a86b7c5efca7\n",
      "cfab01d3-0616-4efb-9290-11f0fd8bf5a3\n",
      "cfe6086f-eb0b-4cb0-a430-8cd7de6556e2\n",
      "d0347b49-8f98-4632-a384-1a4f57ac6374\n",
      "d09eed76-e09b-4d90-b8f0-5a801beae41c\n",
      "d0d3ae45-b434-4869-a518-427320ebe62d\n",
      "d1144956-5a0c-4bd2-b67d-8498c82d6a12\n",
      "d12c5f45-6b20-46d6-a66f-c5a4683c25b3\n",
      "d1617cf7-eb56-42ee-85af-66c4748753c0\n",
      "d1924af6-7512-4ccc-9c6b-adbbaa8db41f\n",
      "d1b48634-9ad5-46e8-b816-42d1d97c93cd\n",
      "d31dd2c0-ae8e-4499-86bb-7cabb6e438b9\n",
      "d32022fa-e492-4b31-a776-9435cfdef6d6\n",
      "d3283f5b-3b3a-40ea-800b-79960ca851cb\n",
      "d33bc9fc-3444-4f26-8082-307f9fccc52b\n",
      "d3b79739-aea2-4804-8c7a-183b7ed07de3\n",
      "d3dcdf92-9328-4796-adf4-918646877ba1\n",
      "d3ed519e-2152-4e30-838d-a3ea23be512f\n"
     ]
    },
    {
     "name": "stderr",
     "output_type": "stream",
     "text": [
      "\r",
      " 83%|████████████████████████████████████████████████████████████████▋             | 1001/1208 [00:31<00:03, 66.42it/s]"
     ]
    },
    {
     "name": "stdout",
     "output_type": "stream",
     "text": [
      "d47cd049-d78b-4ba3-a7d4-399be4dd1dde\n",
      "d4fef0c5-6597-48b6-97e9-32ed504488e6\n",
      "d5009906-bce1-4353-90b4-f4c79362f4cf\n",
      "d532e31c-10ce-4313-9a36-bd5e01230254\n",
      "d57b3894-c912-47e8-b00a-e1a2a7aba644\n",
      "d615b706-8f50-4d96-8de5-6858897528d0\n",
      "d6352a03-ef81-421d-915e-226499555d20\n",
      "d64cd75a-df26-44d5-ac25-69061a4e4d57\n",
      "d67398c5-8b0e-463f-a04e-8583c820786c\n"
     ]
    },
    {
     "name": "stderr",
     "output_type": "stream",
     "text": [
      "\r",
      " 84%|█████████████████████████████████████████████████████████████████▎            | 1011/1208 [00:31<00:03, 50.64it/s]"
     ]
    },
    {
     "name": "stdout",
     "output_type": "stream",
     "text": [
      "d67655e6-0a80-4a86-b552-1f5e85788377\n",
      "d67fb447-4dd7-4a82-a305-2b70927b69bb\n",
      "d6942996-5664-4370-ad87-2bdcbd49ac16\n",
      "d7581cb0-7a12-471d-a3d8-68dcea362213\n",
      "d75933ed-d26e-4d1f-bda3-96bc0d77fb36\n",
      "d79b4e90-c45d-4f5d-a498-49c3e323c291\n",
      "d7c7eb2c-2acd-4f86-8a5a-09ab3dd02d16\n",
      "d82c657e-5678-41da-9a6e-3ad29430b759\n",
      "d8632217-ec33-4d0a-98e6-427824c58869\n",
      "d8f7e159-b7e3-49e4-86e8-aed8c5fbcd97\n",
      "d9345456-b76d-46cc-b81e-46d4a0a7b652\n"
     ]
    },
    {
     "name": "stderr",
     "output_type": "stream",
     "text": [
      "\r",
      " 84%|█████████████████████████████████████████████████████████████████▊            | 1019/1208 [00:33<00:12, 15.14it/s]"
     ]
    },
    {
     "name": "stdout",
     "output_type": "stream",
     "text": [
      "d997337e-e4a8-4ef0-b8ba-975e6c43b62c\n",
      "d9c9479e-f1ea-4d6e-861f-843ff9a90d19\n",
      "da111ca5-520f-4ea8-97ad-ae5fce58ee91\n"
     ]
    },
    {
     "name": "stderr",
     "output_type": "stream",
     "text": [
      "\r",
      " 85%|██████████████████████████████████████████████████████████████████▏           | 1025/1208 [00:35<00:21,  8.46it/s]"
     ]
    },
    {
     "name": "stdout",
     "output_type": "stream",
     "text": [
      "da49db57-0c2f-4213-b322-c88c19fb9296\n",
      "dacf7e3f-1d8c-42a0-8539-3abe3971c956\n",
      "daea4860-a296-4f6d-acef-996ab0882676\n",
      "db0a1123-0b35-48d7-8337-3b1ebd6af0cc\n",
      "db249e5a-4142-432c-8288-bacd10d7273d\n",
      "db3f4098-02e4-45a3-a7af-5dda37ac1526\n",
      "db7c5ec1-fefe-4e9d-83c1-da8fb982f1e2\n",
      "db871d17-28fd-4ceb-b421-e4e4afa0a7a0\n"
     ]
    },
    {
     "name": "stderr",
     "output_type": "stream",
     "text": [
      "\r",
      " 85%|██████████████████████████████████████████████████████████████████▌           | 1030/1208 [00:35<00:18,  9.79it/s]"
     ]
    },
    {
     "name": "stdout",
     "output_type": "stream",
     "text": [
      "dbdfad64-110c-421f-a1c7-f68fd9e82d67\n",
      "dc3bdfe9-1565-4cda-9c4e-0979846dab60\n",
      "dc4270fb-e5c2-414f-96e9-6769ba1d77e4\n",
      "dc6ac71b-2616-431e-bfd5-4c38139e4ddd\n",
      "dca685a8-a609-45d8-93d7-da1e4165b9bd\n",
      "dcb21739-3c36-459d-b3cc-1be5871d6fe7\n",
      "dcc1a193-7b74-44f8-ad8d-813751d8fa6b\n"
     ]
    },
    {
     "name": "stderr",
     "output_type": "stream",
     "text": [
      " 86%|███████████████████████████████████████████████████████████████████▏          | 1040/1208 [00:36<00:12, 13.12it/s]"
     ]
    },
    {
     "name": "stdout",
     "output_type": "stream",
     "text": [
      "dce55b59-c6c3-4693-aa75-6b348c8f52cd\n",
      "dcf7a19a-ec3d-44ef-8d7c-33b1e91fb9af\n",
      "dd090806-e4ac-4a78-b2ee-55a30626369c\n",
      "dd60b6a7-c545-45b9-8250-d1633aa1ac75\n",
      "dd6f047e-af73-43df-9c46-354534fc20e0\n"
     ]
    },
    {
     "name": "stderr",
     "output_type": "stream",
     "text": [
      "\r",
      " 86%|███████████████████████████████████████████████████████████████████▍          | 1044/1208 [00:36<00:11, 14.63it/s]"
     ]
    },
    {
     "name": "stdout",
     "output_type": "stream",
     "text": [
      "dd7142e4-2d86-4170-a41f-e825743e8907\n",
      "dd944a6b-c1d3-4f9f-bbdc-3709707984f7\n",
      "de00f9a5-aa8b-4679-8ec6-85528a942d6f\n",
      "de0321fa-6f7d-4dd1-b96b-186701c3b1d9\n"
     ]
    },
    {
     "name": "stderr",
     "output_type": "stream",
     "text": [
      "\r",
      " 87%|███████████████████████████████████████████████████████████████████▌          | 1047/1208 [00:36<00:12, 13.04it/s]"
     ]
    },
    {
     "name": "stdout",
     "output_type": "stream",
     "text": [
      "de2b8835-552c-4f01-98b7-67bc4910062e\n",
      "de5d19b7-e670-4ac7-843b-7ce7bcebdf45\n",
      "de6d3020-9347-473b-9146-8909627790f6\n",
      "de81bf7a-7a56-437f-a068-4d9c3e01134c\n",
      "deaa1931-5f97-45bf-8c00-be6ddeb37b9a\n"
     ]
    },
    {
     "name": "stderr",
     "output_type": "stream",
     "text": [
      " 88%|████████████████████████████████████████████████████████████████████▊         | 1065/1208 [00:36<00:04, 30.71it/s]"
     ]
    },
    {
     "name": "stdout",
     "output_type": "stream",
     "text": [
      "dec61ae1-5037-4c3a-8952-15371becca7d\n",
      "dedbb10c-43f1-45fb-bb40-3ce2fb874015\n",
      "deeaa5b3-3895-4aec-a2ce-ed6404862cdf\n",
      "df3d98b9-3dd7-4107-8d4a-ae1b7f247793\n",
      "df49578a-60d4-4a3b-9ee0-79d9d59bc72a\n",
      "dfac6c92-8f0f-429a-8caf-9b7732bf78da\n",
      "dfc026a9-079f-4f45-8666-e0ccba5bb437\n",
      "e02edd82-c424-4dee-98a7-575640655d9b\n",
      "e0e6b676-c39c-4542-8adf-de257a8e92e2\n",
      "e0ef520d-7b65-485d-9888-e6859f189f70\n",
      "e0ff3476-226f-4125-b182-8e524d5503dd\n",
      "e11515b4-9527-4c23-a0ba-43719bacca0d\n",
      "e13f2327-fbf4-4d84-a8c1-09cb1e449c8c\n",
      "e16c0dab-780d-4035-872e-1bb91e49f9d2\n",
      "e1937e32-85d5-4cd8-bb4a-b9cf8ee7ceeb\n",
      "e234ce8b-4ec4-4d93-9068-d7854d77ddf4\n",
      "e2e68cb3-0588-40bb-95b4-356f9cacffc3\n",
      "e36cb882-c6d0-4467-812e-d18c169a9a47\n",
      "e3a4b3e7-9500-4b6c-a402-b6d3f45e714b\n",
      "e3ade58d-086c-47fa-9120-76beacb45395\n",
      "e3c1442a-717f-41dd-bf97-81e1233ac9fa\n",
      "e3e9c2de-0a24-4c7e-8a69-3d3093d5bdab\n",
      "e3ea07d7-884a-412e-874a-40fd6b856736\n"
     ]
    },
    {
     "name": "stderr",
     "output_type": "stream",
     "text": [
      " 90%|██████████████████████████████████████████████████████████████████████▌       | 1092/1208 [00:37<00:01, 61.81it/s]"
     ]
    },
    {
     "name": "stdout",
     "output_type": "stream",
     "text": [
      "e40000b4-1b26-42ce-909d-4715e04f0a6e\n",
      "e474a20b-2769-48f1-a520-4f6ef5a0dbf5\n",
      "e4827c85-311a-4df1-89c2-99dad0c3558c\n",
      "e4eea7ea-8989-46a9-9c98-25a178146b28\n",
      "e5731221-814c-4894-a44e-e46b71460fa4\n",
      "e597f7ce-46c6-4dce-9063-50a2703fdd45\n",
      "e5fd5949-4cd0-4cb6-837a-02c26a5eb87a\n",
      "e61e6af2-7f8b-47b0-bbe7-acb2ed0299ab\n",
      "e63e1607-f344-43d6-a0d8-e10cf2e5054a\n",
      "e640ae51-cbf1-4a84-b7cf-d38b17f59c2f\n",
      "e683144c-0465-43a2-86b1-3cf52599d5e0\n",
      "e6d7c5e1-43fc-4712-86d5-aa70252b978f\n",
      "e726dac6-f962-449c-acff-4dd56847b685\n",
      "e79bd81b-f878-4bee-9be2-d91a722c031e\n",
      "e8058bed-c362-4e1c-85dc-62f80f32938f\n",
      "e80bad38-66d0-473e-85dd-92142dba37e6\n",
      "e81bf478-27ff-458c-ac30-9e1f8480bc5c\n",
      "e871f52c-77a6-4813-80d4-95bd97985f1a\n",
      "e94a811d-3145-4313-ba42-2d5ed283179f\n",
      "e98baeb2-aa58-4cce-8c61-66685dd2b239\n",
      "e98ea067-82b5-4a0d-87bf-b4bbdc10ddab\n",
      "e9916e11-9be6-4dec-9df6-2e7d1a8e1735\n",
      "e9e78ff8-831b-46e9-9785-3eee9acbfcd8\n",
      "ea6b012a-3425-4bfc-a61d-88563aa2a264\n",
      "eaf4b781-b3aa-41ce-8c5e-287979b4e15a\n",
      "eb0173a3-7e5e-4f53-8124-03d9d6317844\n"
     ]
    },
    {
     "name": "stderr",
     "output_type": "stream",
     "text": [
      " 92%|████████████████████████████████████████████████████████████████████████      | 1117/1208 [00:37<00:01, 83.86it/s]"
     ]
    },
    {
     "name": "stdout",
     "output_type": "stream",
     "text": [
      "eb5f4f2f-2275-4a80-84a5-78a1eaf4ce4d\n",
      "eb6e8684-b84e-483d-b835-f59286d2516b\n",
      "eb77e4a9-acb0-4d83-8055-2c5fcaa54b45\n",
      "eb86033f-4f1c-4e8c-ae84-e8e4c7e08626\n",
      "eba73bff-fbe1-436d-9a5f-0a61331a0ea2\n",
      "ebfd9f67-138e-49f0-9cef-a0352069eedb\n",
      "ec301f62-1302-4407-96f9-fcfe45c150ae\n",
      "ec60ab26-3343-4c5f-9667-cdae999c7d86\n",
      "ecd68ba2-48af-4866-826a-7cd1c147c055\n",
      "ed0bee2f-05e0-4392-8357-19750cec577c\n",
      "ed0d8763-e734-4506-b61b-53fc32a8d8c9\n",
      "edcb4d77-a4d3-465d-9b59-eb3087766b1c\n",
      "edd09b2e-2673-4405-8ac0-e476e003e96a\n",
      "edd3862f-04e1-49cf-97dd-ca566d17e71a\n",
      "ee57e743-a876-4f69-9fe5-bf5d01b44689\n",
      "eeac81a5-9202-4965-b7de-35b12910cdf6\n",
      "eeb06e39-482b-443d-8cf6-b9b5c763df78\n",
      "eed298b3-35f2-4127-88ad-0c4a9062207b\n",
      "eef2ac0b-42de-4bc3-a3c3-d5fcd597fbe4\n",
      "ef1419e0-3a3a-458a-b3b2-7efddac50404\n",
      "ef1a9020-5e45-450d-a237-165114308592\n",
      "ef815e3a-02a6-4cf8-9262-45bc74c50b00\n",
      "ef83ed4c-2724-4d5f-8abe-1a18d25cea35\n",
      "ef8fcfa4-8466-4186-8c69-f5f4904eb489\n",
      "effd6334-516f-4d48-9f3c-5272a99780fb\n",
      "f01f6659-2114-4801-9d28-1f411432a589\n",
      "f05ffdca-dc3a-47bd-a231-2a0d9bd1d50e\n",
      "f06ba705-5509-479b-8067-127ffb37c5b6\n",
      "f0713bee-2a71-4ced-b953-4041ea99496a\n"
     ]
    },
    {
     "name": "stderr",
     "output_type": "stream",
     "text": [
      "\r",
      " 93%|████████████████████████████████████████████████████████████████████████▊     | 1128/1208 [00:37<00:01, 56.09it/s]"
     ]
    },
    {
     "name": "stdout",
     "output_type": "stream",
     "text": [
      "f07174a5-f799-4286-ac43-5b0f5c5777ac\n",
      "f0804a5e-e7f5-4cf2-a5df-b65e66502bf1\n",
      "f09acb0c-b270-4e91-99f8-410adfa7f34a\n",
      "f0fe292d-85ae-4c3a-a676-037dde2594e6\n",
      "f11d05e4-538a-4024-8711-b08a4ce3c540\n",
      "f1872d08-f8a6-4b21-aa29-f56bbf607883\n",
      "f1cda808-69a9-4d10-ba0a-6607c98e362d\n"
     ]
    },
    {
     "name": "stderr",
     "output_type": "stream",
     "text": [
      "\r",
      " 94%|█████████████████████████████████████████████████████████████████████████▍    | 1137/1208 [00:38<00:03, 20.42it/s]"
     ]
    },
    {
     "name": "stdout",
     "output_type": "stream",
     "text": [
      "f1de7c7e-e7d3-45ae-a66c-58538bf6cac1\n",
      "f1f9df6d-c4cb-4b42-9ca2-8fb47b1b0e91\n",
      "f1faab5f-3033-45ea-9673-8b816fea5ce8\n",
      "f20a4fcf-ea8e-4c14-883d-d26a9e08ce25\n",
      "f232eec3-02c0-43f9-bf32-3e60245397e2\n",
      "f234a2de-f3c8-4521-a306-8cfdf52dd597\n",
      "f23ae29e-1bda-4784-b10c-d736757d39b8\n",
      "f24c8fe0-a534-44cf-9995-b2b314d945ba\n",
      "f2574be3-81c6-4fc3-8a40-0230d1264f52\n"
     ]
    },
    {
     "name": "stderr",
     "output_type": "stream",
     "text": [
      " 95%|██████████████████████████████████████████████████████████████████████████▎   | 1150/1208 [00:39<00:02, 23.52it/s]"
     ]
    },
    {
     "name": "stdout",
     "output_type": "stream",
     "text": [
      "f25a2ac8-cb6e-4e05-a0cd-cc00ac47718a\n",
      "f274b784-b995-4a7e-a2c2-6cc31c24c4b4\n",
      "f28e6d66-af71-40c1-b30c-da71d7230a3f\n",
      "f2a8a483-b254-43aa-817f-7d525adb8911\n",
      "f329e01b-fbd3-4fb5-9738-a7ff4c8622b8\n",
      "f32b21ae-5ca7-490b-bc40-6db9396d933c\n",
      "f39e2289-fedd-4d12-9e64-ffdafb89247e\n",
      "f3bd0fcc-647d-4ca0-8c43-a16bd6ea3878\n",
      "f3d84be2-8af0-4d62-9f72-23d3dc08cbbe\n"
     ]
    },
    {
     "name": "stderr",
     "output_type": "stream",
     "text": [
      "\r",
      " 96%|██████████████████████████████████████████████████████████████████████████▌   | 1155/1208 [00:39<00:02, 24.74it/s]"
     ]
    },
    {
     "name": "stdout",
     "output_type": "stream",
     "text": [
      "f4722a74-35e7-42bd-8ef6-dfff04b9cd22\n",
      "f48bf825-13c4-42fc-8dd8-10cc4ae6b202\n",
      "f4a27dfd-4c52-459f-96b5-ee6b452a3395\n",
      "f4c00b8c-d675-4255-8277-ca65bd757f51\n",
      "f4c2b43f-a2e7-4746-8034-0b34aebba8ee\n",
      "f5419bc0-4415-41b6-b832-5326cfcc534b\n",
      "f5869ba8-6253-426b-93f3-82af59a86144\n",
      "f5c395f1-f94c-440d-8221-cc656e52c0b1\n"
     ]
    },
    {
     "name": "stderr",
     "output_type": "stream",
     "text": [
      "\r",
      " 96%|██████████████████████████████████████████████████████████████████████████▉   | 1161/1208 [00:39<00:01, 28.41it/s]"
     ]
    },
    {
     "name": "stdout",
     "output_type": "stream",
     "text": [
      "f5c51193-8a27-4ef3-83ad-771395d63caf\n",
      "f5eb7c5e-bd77-4638-ba9f-58d42f87476b\n",
      "f62d4fb6-df7c-446c-94a8-d5aede0b1e0c\n",
      "f632981c-1330-4078-8a12-691beb2dab02\n"
     ]
    },
    {
     "name": "stderr",
     "output_type": "stream",
     "text": [
      " 97%|███████████████████████████████████████████████████████████████████████████▋  | 1172/1208 [00:40<00:01, 28.02it/s]"
     ]
    },
    {
     "name": "stdout",
     "output_type": "stream",
     "text": [
      "f65a1633-9935-4984-a285-a60d30aa1707\n",
      "f68ae8e9-e760-4106-88e0-4bdef2785f06\n",
      "f6ab936d-924b-4038-aa47-71b07c26b4e2\n",
      "f6f8a69a-3fd2-4684-ac77-3e83ea0fb36d\n",
      "f7231477-f2c1-439a-9c8b-204de07686a4\n",
      "f77d7469-d083-4c2d-a4ea-5a9ff162e3e2\n",
      "f7a4334a-4332-4de8-b39b-22da907976f2\n",
      "f7cced00-9b41-45ec-9fdf-fb9e1a74da90\n",
      "f81806a8-5883-446c-be78-f0145b12dbdd\n",
      "f8242b97-b8d5-48b5-b808-0b0f75a5de97\n"
     ]
    },
    {
     "name": "stderr",
     "output_type": "stream",
     "text": [
      "\r",
      " 97%|███████████████████████████████████████████████████████████████████████████▉  | 1176/1208 [00:40<00:01, 27.48it/s]"
     ]
    },
    {
     "name": "stdout",
     "output_type": "stream",
     "text": [
      "f8a8b148-60e4-4a5c-ae19-941b19ec0846\n",
      "f8b14fc4-dd6b-4ad0-a96d-c62845f48681\n",
      "f8b6a868-60e9-4569-ae69-638a0c39834d\n",
      "f91670db-be74-474c-bd72-68120aed4756\n",
      "f939782b-f5a2-40a3-9c22-6c6d7e18edc3\n"
     ]
    },
    {
     "name": "stderr",
     "output_type": "stream",
     "text": [
      " 98%|████████████████████████████████████████████████████████████████████████████▍ | 1184/1208 [00:40<00:00, 26.19it/s]"
     ]
    },
    {
     "name": "stdout",
     "output_type": "stream",
     "text": [
      "f97c7c87-5e27-45ea-9f93-3285d74091de\n",
      "fa1f9f89-cecb-4972-842c-d14c632f89a9\n",
      "fa4f8d1a-cb3a-4722-a566-6c7072f30606\n",
      "fac4b0e2-6b52-4c0e-b762-4fa65d552856\n",
      "faead1c7-bb2c-4adf-bfce-9ff36cd2cf6a\n",
      "fb05b297-180a-4171-b633-09d5616d7534\n",
      "fbb1b44c-d75a-4550-a6c0-0eb62b96bfce\n"
     ]
    },
    {
     "name": "stderr",
     "output_type": "stream",
     "text": [
      "100%|█████████████████████████████████████████████████████████████████████████████▋| 1204/1208 [00:40<00:00, 47.30it/s]"
     ]
    },
    {
     "name": "stdout",
     "output_type": "stream",
     "text": [
      "fbc1f360-4382-48bb-a32e-3f5f2f9dbe57\n",
      "fbcb2ef0-3c97-4d7a-8b96-0147c73f3941\n",
      "fc15659f-6264-4dd5-ab17-43d89fb297b9\n",
      "fc8df086-39e0-43f8-b0c7-2d23a349539b\n",
      "fcc2b245-f47f-447f-8527-275b0005677c\n",
      "fcdf6632-c03f-49a8-9fb3-42e87c99b9d0\n",
      "fd1302e2-3cd2-4a1a-9c13-00f810a9c41b\n",
      "fd1c4c7a-24bc-43f2-b84f-fee182207aee\n",
      "fde0fd54-49cc-42e1-90c6-6b612cd062d8\n",
      "fe00fa09-d3c8-485b-9d0f-3cce556c9edd\n",
      "fe0c5e48-f65e-488c-9c3c-1ea7c7835c0c\n",
      "fe1ee954-ba71-47b3-954a-d20ab940cd7b\n",
      "fe436c09-b680-4f4c-8faf-aa10a55a335b\n",
      "fe691faa-3bc7-475e-b558-aa8fe7b795bc\n",
      "fe851c88-692d-4199-87e0-d19d9c4eb591\n",
      "fed6ba05-36a5-45dc-a4e1-9baa7de2c622\n",
      "ff1b23d0-3cef-459b-b81f-39bfcdb6526f\n"
     ]
    },
    {
     "name": "stderr",
     "output_type": "stream",
     "text": [
      "\r",
      "100%|██████████████████████████████████████████████████████████████████████████████| 1208/1208 [00:40<00:00, 29.46it/s]"
     ]
    },
    {
     "name": "stdout",
     "output_type": "stream",
     "text": [
      "ff37dd9b-2e3c-444d-9d29-6db186cfa2fb\n",
      "ff3b9d4d-373c-48ef-a75a-d23e2c2ade87\n",
      "ffb7be9a-65df-4f0b-99ae-cfd34e81cd34\n",
      "ffd59802-46c6-4b58-80fe-e534e39781a7\n"
     ]
    },
    {
     "name": "stderr",
     "output_type": "stream",
     "text": [
      "\n"
     ]
    }
   ],
   "source": [
    "source = \"images\"\n",
    "\n",
    "for fold in range(5):\n",
    "    val_index = index[len(index)*fold//5:len(index)*(fold+1)//5]\n",
    "    for name, mini in tqdm(yolov5_df.groupby('name')):\n",
    "        print(name)\n",
    "        if name in val_index:\n",
    "            path2save = 'val/'\n",
    "        else:\n",
    "            path2save = 'train/'\n",
    "        if not os.path.exists('../data/malaria_bbbc_80k/malaria/yolo/fold{}/labels/'.format(fold)+path2save):\n",
    "            os.makedirs('../data/malaria_bbbc_80k/malaria/yolo/fold{}/labels/'.format(fold)+path2save)\n",
    "        with open('../data/malaria_bbbc_80k/malaria/yolo/fold{}/labels/'.format(fold)+path2save+name+\".txt\", 'w+') as f:\n",
    "            row = mini[['label','x_center_yolo', 'y_center_yolo', 'w_yolo', 'h_yolo']].astype(float).values\n",
    "            row = row.astype(str)\n",
    "            for j in range(len(row)):\n",
    "                text = ' '.join(row[j])\n",
    "                f.write(text)\n",
    "                f.write(\"\\n\")\n",
    "        if not os.path.exists('../data/malaria_bbbc_80k/malaria/yolo/fold{}/images/{}'.format(fold,path2save)):\n",
    "            os.makedirs('../data/malaria_bbbc_80k/malaria/yolo/fold{}/images/{}'.format(fold,path2save))\n",
    "        shutil.copy(\"../data/malaria_bbbc_80k/malaria/{}/{}.png\".format(source,name),'../data/malaria_bbbc_80k/malaria/yolo/fold{}/images/{}/{}.png'.format(fold,path2save,name))"
   ]
  },
  {
   "cell_type": "code",
   "execution_count": 38,
   "id": "c804bbe9",
   "metadata": {},
   "outputs": [
    {
     "name": "stderr",
     "output_type": "stream",
     "text": [
      "  4%|███▍                                                                              | 5/120 [00:00<00:02, 45.50it/s]"
     ]
    },
    {
     "name": "stdout",
     "output_type": "stream",
     "text": [
      "010961af-b38c-49de-aca0-e3732d73d414\n",
      "0346611b-ea43-45bd-9f16-c6e8086273d2\n",
      "03be08c8-2cf3-4de6-8ac6-5f7817a6a643\n",
      "06bbcd42-3ba8-4476-8804-8455f56dd928\n",
      "0864c569-2ad7-48ed-b12a-e40aa5b93756\n",
      "087602a2-288b-4a4d-b01a-524f0d799d89\n",
      "0897f682-5301-49fc-a8d5-9df7762040bb\n",
      "0a3b53c7-e7ab-4135-80aa-fd2079d727d6\n",
      "0e0bc36f-6fb2-4763-b0a1-b4c67b2d2d2a\n",
      "15625643-d964-4b14-9839-c126384ae35b\n"
     ]
    },
    {
     "name": "stderr",
     "output_type": "stream",
     "text": [
      " 12%|██████████▏                                                                      | 15/120 [00:00<00:02, 43.68it/s]"
     ]
    },
    {
     "name": "stdout",
     "output_type": "stream",
     "text": [
      "15a5849d-8bc7-4e01-938b-c1f55067787d\n",
      "1b814efc-7bf9-40ae-8e13-49dc2c04732f\n",
      "1e647046-333b-4102-a0c6-4c29405c37b3\n",
      "21116b9d-e6be-483f-8394-e74622b2e182\n",
      "224c80b8-6c55-48cf-b719-96a47d223dc3\n",
      "23e581e7-0fb7-42ff-ba55-a86beefc0619\n",
      "25865b39-56fb-409a-8800-3d368dd264ed\n",
      "291fe50c-2134-4708-bfa4-09b36ffea123\n",
      "294bc238-efdb-4f88-b83b-f41fe5750106\n"
     ]
    },
    {
     "name": "stderr",
     "output_type": "stream",
     "text": [
      " 22%|██████████████████▏                                                              | 27/120 [00:00<00:01, 48.96it/s]"
     ]
    },
    {
     "name": "stdout",
     "output_type": "stream",
     "text": [
      "2c03b3c9-7786-4e1b-ac2b-c98e9f8358f2\n",
      "3147f1e4-6fc4-4eff-a9dd-ddeee5e2de13\n",
      "31c62771-4e90-4038-9abc-d196beda9898\n",
      "34950f4e-fe44-49ec-9d49-14bd4a8ce7c0\n",
      "34f334e6-a163-4af7-a1ed-51a7ef15934a\n",
      "351d6536-3a5c-46eb-a6e4-d71dd999908a\n",
      "37a5a96b-f76e-4607-82fd-f47f7f2903c6\n",
      "37b4142a-2c7d-400d-8f01-4e438845a484\n",
      "37df4ffb-f268-4557-94d6-bf68d005feae\n",
      "3ce76f1d-636a-48b9-b0e3-fc7eb791a169\n",
      "3e03b313-66eb-471f-a97a-7b2bf20dcff5\n",
      "408745a6-79fb-4804-9c24-e2d6673f8f2e\n"
     ]
    },
    {
     "name": "stderr",
     "output_type": "stream",
     "text": [
      "\r",
      " 27%|█████████████████████▌                                                           | 32/120 [00:00<00:02, 39.67it/s]"
     ]
    },
    {
     "name": "stdout",
     "output_type": "stream",
     "text": [
      "41be1bd3-0d31-4881-bf1f-3ccdfa21ff12\n",
      "446734b7-6bc9-4a66-a3a0-49f6aa90db33\n",
      "47112c6b-aaf6-488d-8f3b-f9ed0cce9a95\n"
     ]
    },
    {
     "name": "stderr",
     "output_type": "stream",
     "text": [
      "\r",
      " 31%|████████████████████████▉                                                        | 37/120 [00:01<00:02, 29.94it/s]"
     ]
    },
    {
     "name": "stdout",
     "output_type": "stream",
     "text": [
      "4b3de416-ac61-43eb-80d0-36b81c4baf82\n",
      "4da8f6c5-5f85-4280-92d0-1ba008e8c404\n",
      "4dcd5df9-c56c-471b-8d44-fa4b1ca9a600\n",
      "511b6e13-acd7-4dd3-b1d0-c4aa10a514c7\n",
      "51a42643-256f-463a-bf22-7fd295caead0\n",
      "51c6bc6b-4f37-4ce3-b624-840b27c1584a\n",
      "51f6463c-1622-4c0d-8482-b864e0ed2e74\n",
      "54c88d45-30c3-46f8-8fef-b3e9c07781f2\n",
      "55078c19-bfaf-4988-a779-767e1c6d22f6\n"
     ]
    },
    {
     "name": "stderr",
     "output_type": "stream",
     "text": [
      " 40%|████████████████████████████████▍                                                | 48/120 [00:01<00:01, 37.68it/s]"
     ]
    },
    {
     "name": "stdout",
     "output_type": "stream",
     "text": [
      "5a2447bf-a92b-4a47-a384-4b2ff020ecdc\n",
      "5bfde411-aa51-45d0-8b67-a57c5f1e628b\n",
      "5c399ab9-492c-4bfc-a452-83aba574a3bc\n",
      "6040cf0d-9dd6-4798-9406-1afbbcd24d4c\n",
      "604478c7-1259-441a-8ad0-7059e191c9e4\n",
      "623982a0-1f73-4246-92cb-28f7c219efaf\n",
      "64985a1e-16bb-4016-a01c-c21a5b86e572\n",
      "693da701-2020-404c-866d-b64c12da951d\n",
      "6d9a2241-2cce-42b3-a11d-a3a6b432dd89\n",
      "6e20a860-1f9a-4a74-b167-4c6a79bd8778\n",
      "738b7be5-59b5-4d8c-8769-cbf2385b9fc7\n"
     ]
    },
    {
     "name": "stderr",
     "output_type": "stream",
     "text": [
      " 49%|███████████████████████████████████████▊                                         | 59/120 [00:01<00:01, 43.23it/s]"
     ]
    },
    {
     "name": "stdout",
     "output_type": "stream",
     "text": [
      "74bf1267-d98b-4532-a81d-9d8df63e0f75\n",
      "78ae52cf-8dad-4070-a40e-9af02faec1f0\n",
      "7d16d1e8-4abf-46fc-81bc-d71bd08ed6f2\n",
      "8111cff9-4c04-448e-990b-9d5010f7be56\n",
      "8298aca0-5099-4d45-88ca-ec8ac7922e77\n",
      "8448ac8c-fa7a-475a-9ca2-dc0174f78a39\n",
      "8874ea02-d263-4830-99d1-e1b14230a56b\n",
      "887cc81a-bae3-4360-a115-23ae05ac3a4f\n",
      "8db76867-671a-4488-a7b6-991e4dd2e05f\n"
     ]
    },
    {
     "name": "stderr",
     "output_type": "stream",
     "text": [
      " 59%|███████████████████████████████████████████████▉                                 | 71/120 [00:01<00:01, 47.02it/s]"
     ]
    },
    {
     "name": "stdout",
     "output_type": "stream",
     "text": [
      "8e1e0fd3-52fb-4ebb-82de-67bbd66fcf4d\n",
      "8e22f8cc-b6ef-48cb-a06d-a44cb1fb5f2f\n",
      "91fd0c2e-8e9c-452d-97ab-304b05a049b3\n",
      "96287315-87a1-4045-9e16-119e045bf12a\n",
      "96957ec3-de17-41cf-855b-1388814e5918\n",
      "96afe167-6a2f-4770-aa74-e083fbd5e926\n",
      "9cf0b006-cb5c-47e7-b076-1dcacf1fbfb1\n",
      "9cf3f75a-354c-46f9-8b53-0a9711ac8bee\n",
      "9fd32265-07f2-442b-80b5-35069891d452\n",
      "a1265844-329c-4a49-a37f-e0541b83a50c\n",
      "a3548f89-1cb5-4e67-b460-482df95b10ee\n",
      "a4bd99a0-226a-4044-914b-8073d5890734\n"
     ]
    },
    {
     "name": "stderr",
     "output_type": "stream",
     "text": [
      " 69%|████████████████████████████████████████████████████████                         | 83/120 [00:01<00:00, 49.18it/s]"
     ]
    },
    {
     "name": "stdout",
     "output_type": "stream",
     "text": [
      "a5c8bf78-61e2-492d-bae5-0ffeea81212b\n",
      "a612e0d5-6a95-43cc-96a6-6fbcb8d45ff4\n",
      "a6e72060-5bde-490c-bdd7-7d9cb0fce7fc\n",
      "aa57ec7c-8f35-4990-a790-62efc9df8fe8\n",
      "abb72ce2-4193-4dd3-a34c-61c2ee22ccff\n",
      "b1d312cf-1f52-4955-bf42-58d3664c254a\n",
      "b47c1011-0cc6-400d-9300-1c72f873a6e5\n",
      "b6fe541f-3be2-41a8-8124-757fc1ad875e\n",
      "b9025f55-789d-4acb-9c0a-34e877c95c5c\n",
      "b910c1db-9c66-4207-892f-18a03ecc75bc\n",
      "baab0701-3fd4-4940-8b90-b9c42d95888f\n",
      "bc820fb6-5ba8-4438-affe-e250d2ad5eb0\n",
      "bd4da4f8-8996-47e0-a4e5-a3da5717441e\n",
      "bdfbad30-fa2f-4285-bf02-6064ab6d869c\n"
     ]
    },
    {
     "name": "stderr",
     "output_type": "stream",
     "text": [
      " 78%|███████████████████████████████████████████████████████████████▍                 | 94/120 [00:02<00:00, 34.80it/s]"
     ]
    },
    {
     "name": "stdout",
     "output_type": "stream",
     "text": [
      "bfbf234a-cbc4-4d00-ab7f-9043d1304b41\n",
      "c11081a1-4fd9-4003-8bd9-0727eae62d0a\n",
      "c328260d-bafa-4aaa-9e7a-79bc165d7fdb\n",
      "c3631a04-b757-407b-8e7e-1ed3a6c463d4\n",
      "c6807595-100a-4aa1-a5f6-882a20ca3d32\n",
      "c70894fa-50e8-4eed-a5a8-159a20153a49\n"
     ]
    },
    {
     "name": "stderr",
     "output_type": "stream",
     "text": [
      " 85%|████████████████████████████████████████████████████████████████████            | 102/120 [00:02<00:00, 34.00it/s]"
     ]
    },
    {
     "name": "stdout",
     "output_type": "stream",
     "text": [
      "c736848a-437c-4121-b99f-58f186eb3a1d\n",
      "c8d1b7ec-be9f-4c88-a39b-2c6bf46b2998\n",
      "cc453255-b583-425e-bc3e-284ccf120944\n",
      "cea1cd9b-9b03-407b-ad8d-348155567dab\n",
      "d1394e1a-dedd-4458-a024-044dae2cd69d\n",
      "d9255d7f-1282-442d-b152-73d7388526f9\n",
      "d9ecacb0-14c7-4862-930b-18bb51d5f392\n",
      "da2197c7-7911-4be6-8bb9-164f47fd270a\n",
      "dea9006d-c360-4118-b77b-8bc959fa5f8a\n",
      "deab75c9-00bc-488c-8b20-ff4515d85212\n"
     ]
    },
    {
     "name": "stderr",
     "output_type": "stream",
     "text": [
      " 92%|█████████████████████████████████████████████████████████████████████████▎      | 110/120 [00:02<00:00, 33.61it/s]"
     ]
    },
    {
     "name": "stdout",
     "output_type": "stream",
     "text": [
      "df4fd610-fa16-45ca-b3a3-a25a14e5c4e9\n",
      "e02301ac-68f7-4daf-b2ba-254b917f1cca\n",
      "e26b88c6-5884-4b5c-94d7-ad780379c8ad\n",
      "e6a7743e-4040-40fa-b097-ca6874c469b7\n",
      "e93e617e-ed36-43d9-bd1a-4ffd2fba64e9\n",
      "ebb53337-1d4f-4ab5-9b6d-83a66f48fe2e\n",
      "ebc4056e-d766-43cf-b6b4-5dac79d96e84\n"
     ]
    },
    {
     "name": "stderr",
     "output_type": "stream",
     "text": [
      "100%|████████████████████████████████████████████████████████████████████████████████| 120/120 [00:03<00:00, 39.28it/s]"
     ]
    },
    {
     "name": "stdout",
     "output_type": "stream",
     "text": [
      "edea6ca9-3d52-4b4f-bec3-93799b1c26e3\n",
      "ef55f2ac-5a04-4986-99ab-0d2b5052ab3e\n",
      "efb85f8e-c780-4a19-b6ce-555a154b0d10\n",
      "f070a212-e4e2-4743-804c-80789a36f495\n",
      "f08e873b-9617-42b3-9c7a-55d0e39c2663\n",
      "f0ee03d6-c57b-43a0-8812-359330bdb93a\n",
      "f2b1ae99-8169-42ea-bdb4-3351175e4cb6\n",
      "f8ebe0c8-a90d-4a64-9f6a-f9985e38c340\n"
     ]
    },
    {
     "name": "stderr",
     "output_type": "stream",
     "text": [
      "\n"
     ]
    }
   ],
   "source": [
    "source = \"images\"\n",
    "\n",
    "for name, mini in tqdm(yolov5_df.groupby('name')):\n",
    "    print(name)\n",
    "\n",
    "    path2save = 'test/'\n",
    "    if not os.path.exists('../data/malaria_bbbc_80k/malaria/yolo/labels/'+path2save):\n",
    "        os.makedirs('../data/malaria_bbbc_80k/malaria/yolo/labels/'+path2save)\n",
    "    with open('../data/malaria_bbbc_80k/malaria/yolo/labels/'+path2save+name+\".txt\", 'w+') as f:\n",
    "        row = mini[['label','x_center_yolo', 'y_center_yolo', 'w_yolo', 'h_yolo']].astype(float).values\n",
    "        row = row.astype(str)\n",
    "        for j in range(len(row)):\n",
    "            text = ' '.join(row[j])\n",
    "            f.write(text)\n",
    "            f.write(\"\\n\")\n",
    "    if not os.path.exists('../data/malaria_bbbc_80k/malaria/yolo/images/{}'.format(path2save)):\n",
    "        os.makedirs('../data/malaria_bbbc_80k/malaria/yolo/images/{}'.format(path2save))\n",
    "    shutil.copy(\"../data/malaria_bbbc_80k/malaria/{}/{}.jpg\".format(source,name),'../data/malaria_bbbc_80k/malaria/yolo/images/{}/{}.png'.format(path2save,name))"
   ]
  },
  {
   "cell_type": "markdown",
   "id": "cbe848dc",
   "metadata": {},
   "source": [
    "### Training"
   ]
  },
  {
   "cell_type": "code",
   "execution_count": null,
   "id": "ca066ca4",
   "metadata": {},
   "outputs": [],
   "source": []
  }
 ],
 "metadata": {
  "kernelspec": {
   "display_name": "malaria_detection",
   "language": "python",
   "name": "malaria_detection"
  },
  "language_info": {
   "codemirror_mode": {
    "name": "ipython",
    "version": 3
   },
   "file_extension": ".py",
   "mimetype": "text/x-python",
   "name": "python",
   "nbconvert_exporter": "python",
   "pygments_lexer": "ipython3",
   "version": "3.9.10"
  },
  "toc": {
   "base_numbering": 1,
   "nav_menu": {},
   "number_sections": true,
   "sideBar": true,
   "skip_h1_title": false,
   "title_cell": "Table of Contents",
   "title_sidebar": "Contents",
   "toc_cell": false,
   "toc_position": {},
   "toc_section_display": true,
   "toc_window_display": false
  }
 },
 "nbformat": 4,
 "nbformat_minor": 5
}
